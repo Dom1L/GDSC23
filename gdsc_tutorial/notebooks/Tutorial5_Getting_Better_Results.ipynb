{
    "cells": [
        {
            "cell_type": "markdown",
            "id": "b97b856e-d267-44fa-9666-d4cf436470f6",
            "metadata": {},
            "source": [
                "# Tutorial 5 - Getting better results with SageMaker training jobs"
            ],
            "outputs": []
        },
        {
            "cell_type": "markdown",
            "id": "0ecb3c7b-b471-48a0-a64b-07aee90ccf22",
            "metadata": {},
            "source": [
                "In the last tutorial, we trained and evaluated the first model on a small sample of data. While it is possible to train a model within [Sagemaker Studio](https://www.youtube.com/watch?v=uQc8Itd4UTs&list=PLhr1KZpdzukcOr_6j_zmSrvYnLUtgqsZz) it's better to use a Sagemaker training job instead. Sagemaker training jobs have several advantages over a normal notebook. To name few of them:\n",
                "\n",
                "- provide you with a nice overview of all the training you ran\n",
                "- automatically store the results of a training run (metrics, [logs](https://console.aws.amazon.com/cloudwatch) and models)\n",
                "- do not automatically shut down after a few hours (which we enabled in the notebooks)\n",
                "- allows running multiple training jobs in parallel (if you have sufficient GPUs allocated)\n",
                "\n",
                "In this notebook, we will convert the approach from tutorial 4 into a Sagemaker training job and train our model on the full data set. During the training, the logs are sent to [Cloudwatch](https://console.aws.amazon.com/cloudwatch) - AWS monitoring service. After the training is completed, the model is saved and automatically uploaded to S3. From there we'll retrieve the model and evaluate it.\n",
                "\n",
                "**NOTE: We will NOT need a GPU for this tutorial notebook. Pick a non-GPU instance type to save costs.**"
            ],
            "outputs": []
        },
        {
            "cell_type": "markdown",
            "id": "a30592f3-1c00-45b7-a6a6-66691ddeebff",
            "metadata": {},
            "source": [
                "## Setup\n",
                "\n",
                "First, we need to import required libraries and functions."
            ],
            "outputs": []
        },
        {
            "cell_type": "code",
            "execution_count": 2,
            "id": "60d1e3ca-df58-418e-8b76-770c30dfcefe",
            "metadata": {
                "tags": []
            },
            "outputs": [],
            "source": [
                "import sys                                                                             # Python system library needed to load custom functions\n",
                "import numpy as np                                                                     # for performing calculations on numerical arrays\n",
                "import pandas as pd                                                                    # home of the DataFrame construct, _the_ most important object for Data Science\n",
                "import seaborn as sns                                                                  # additional plotting library\n",
                "import matplotlib.pyplot as plt                                                        # allows creation of insightful plots\n",
                "import os                                                                              # for changing the directory\n",
                "\n",
                "import sagemaker                                                                       # dedicated sagemaker library to execute training jobs\n",
                "import boto3                                                                           # for interacting with S3 buckets\n",
                "\n",
                "from sagemaker.huggingface import HuggingFace                                           # for executing the trainig jobs\n",
                "from sklearn.metrics import precision_recall_fscore_support, accuracy_score             # tools to understand how our model is performing\n",
                "\n",
                "sys.path.append('../src')                                                               # Add the source directory to the PYTHONPATH. This allows to import local functions and modules.\n",
                "from gdsc_utils import create_encrypted_bucket, download_and_extract_model, PROJECT_DIR # functions to create S3 buckets and to help with downloading models. Importing our root directory\n",
                "from gdsc_eval import plot_confusion_matrix                                             # function for creating confusion matrix\n",
                "from config import DEFAULT_BUCKET, DEFAULT_REGION                                       # importing the bucket name that contains data for the challenge and the default region\n",
                "os.chdir(PROJECT_DIR)                                                                   # changing our directory to root"
            ]
        },
        {
            "cell_type": "markdown",
            "id": "0aa3cff6-ab5b-4670-ba36-6b426d5a7c7e",
            "metadata": {
                "tags": []
            },
            "source": [
                "# Running the Training Script\n",
                "\n",
                "The training job will run on a virtual machine (called an instance) in the AWS cloud. An overview of all your training jobs can be found in the [AWS console](https://us-east-1.console.aws.amazon.com/sagemaker/home?region=us-east-1#/jobs) (you may have to change the region) after you logged into your account. You can also navigate directly to *Amazon SageMaker > Training > Training jobs* and click on the name of the latest training job.\n",
                "\n",
                "To start, we need to set the name of our experiment. Keep in mind that every experiment should have a unique name. Since we advise you to use a separate Python script for each training, we'll use the name of the training script as the name of the experiment."
            ],
            "outputs": []
        },
        {
            "cell_type": "code",
            "execution_count": 3,
            "id": "1973311c-bf2b-4e95-9fad-ff0bfb51d342",
            "metadata": {
                "tags": []
            },
            "outputs": [],
            "source": [
                "entry_point = 'baseline_ast_train.py'\n",
                "exp_name = entry_point.split('.')[0].replace('_', '-')  # AWS does not allow . and _ as experiment names\n",
                "exp_name"
            ]
        },
        {
            "cell_type": "markdown",
            "id": "56a4a5fa-e822-44b9-aa47-e8833b514ad8",
            "metadata": {},
            "source": [
                "Next, we need to define the AWS settings for the job."
            ],
            "outputs": []
        },
        {
            "cell_type": "code",
            "execution_count": 4,
            "id": "dc19b0a2-0e01-40d4-be62-89c505fc3073",
            "metadata": {
                "tags": []
            },
            "outputs": [],
            "source": [
                "account_id = boto3.client('sts').get_caller_identity().get('Account')\n",
                "role = sagemaker.get_execution_role()"
            ]
        },
        {
            "cell_type": "markdown",
            "id": "ba884f95-09e4-40e9-af7a-f4c6e81e565e",
            "metadata": {},
            "source": [
                "We will also need to download the data to train a model. Luckily, Sagemaker has built-in functionality for this. \n",
                "Via the ```input_channels``` parameter we can specify multiple S3 locations. The contents are downloaded in the training job and made available under the provided name (dictionary key).\n",
                "In the example below, Sagemaker will download the complete content of the training data bucket, store it on the instance and, save its location in an environment variable called ```SM_CHANNEL_DATA```.<br>\n",
                "You can define up to 20 different channels."
            ],
            "outputs": []
        },
        {
            "cell_type": "markdown",
            "id": "22b0110d-7500-48ce-aad4-c4ee3f70f013",
            "metadata": {},
            "source": [
                "Below is the required structure in our **S3_bucket** that needs to be followed to create the HuggingFace dataset without any issues. The *metadata.csv* file should contain two columns:\n",
                "- file_name - the name of the file,\n",
                "- label - the ground truth label for that file.\n",
                "\n",
                "As we do not have labels for the test set, we only include the *file_name* column in the *metadata.csv* in the test directory.\n",
                "\n",
                "```\n",
                "S3_bucket/\n",
                "    \u00e2\u201d\u201d\u00e2\u201d\u20ac\u00e2\u201d\u20ac data/\n",
                "        |\u00e2\u201d\u20ac\u00e2\u201d\u20ac labels.json\n",
                "        \u00e2\u201d\u201d\u00e2\u201d\u20ac\u00e2\u201d\u20ac train/\n",
                "            |\u00e2\u201d\u20ac\u00e2\u201d\u20ac train_file_1.wav\n",
                "            |\u00e2\u201d\u20ac\u00e2\u201d\u20ac train_file_2.wav\n",
                "            |\u00e2\u201d\u20ac\u00e2\u201d\u20ac ...\n",
                "            |\u00e2\u201d\u20ac\u00e2\u201d\u20ac metadata.csv\n",
                "        \u00e2\u201d\u201d\u00e2\u201d\u20ac\u00e2\u201d\u20ac val/\n",
                "            |\u00e2\u201d\u20ac\u00e2\u201d\u20ac val_file_1.wav\n",
                "            |\u00e2\u201d\u20ac\u00e2\u201d\u20ac val_file_2.wav\n",
                "            |\u00e2\u201d\u20ac\u00e2\u201d\u20ac ...\n",
                "            |\u00e2\u201d\u20ac\u00e2\u201d\u20ac metadata.csv\n",
                "        \u00e2\u201d\u201d\u00e2\u201d\u20ac\u00e2\u201d\u20ac test/\n",
                "            |\u00e2\u201d\u20ac\u00e2\u201d\u20ac test_file_1.wav\n",
                "            |\u00e2\u201d\u20ac\u00e2\u201d\u20ac test_file_2.wav\n",
                "            |\u00e2\u201d\u20ac\u00e2\u201d\u20ac ...\n",
                "            |\u00e2\u201d\u20ac\u00e2\u201d\u20ac metadata.csv\n",
                "```"
            ],
            "outputs": []
        },
        {
            "cell_type": "code",
            "execution_count": 5,
            "id": "75e3e65c-7832-4e5e-9ce1-ebce1600a11c",
            "metadata": {
                "tags": []
            },
            "outputs": [],
            "source": [
                "input_channels = {    \n",
                "    \"data\": f\"s3://{DEFAULT_BUCKET}/data\"    \n",
                "}\n",
                "input_channels"
            ]
        },
        {
            "cell_type": "markdown",
            "id": "da305191-4387-46b6-b9a4-9ac9f9955ab6",
            "metadata": {},
            "source": [
                "We also specify where Sagemaker should store the results of the training job - i.e. the weights of the trained model. You will also see the link at the bottom of the training job overview page. If you already created a specific bucket for that purpose change ```s3_output_location``` variable to this bucket name"
            ],
            "outputs": []
        },
        {
            "cell_type": "code",
            "execution_count": 6,
            "id": "76aa836b-0eac-45fd-a928-f8175567c516",
            "metadata": {
                "tags": []
            },
            "outputs": [],
            "source": [
                "# We need to create our own s3 bucket if it doesn't exist yet:\n",
                "sagemaker_bucket = f\"sagemaker-{DEFAULT_REGION}-{account_id}\"\n",
                "create_encrypted_bucket(sagemaker_bucket)\n",
                "\n",
                "s3_output_location = f\"s3://{sagemaker_bucket}/{exp_name}\"\n",
                "s3_output_location"
            ]
        },
        {
            "cell_type": "markdown",
            "id": "3d88063a-d310-4871-8cf9-7a39abeeca7a",
            "metadata": {},
            "source": [
                "Using the <b>argparse</b> module in our training script, we can define the parameters that will be passed to the script. These parameters can include hyperparameters sent by the user, which are passed as command-line arguments to the script. Please go to the *baseline_ast_train.py* file located in the *src* and inspect the lines from 114 to 130, to see the whole list of possible arguments that you can pass to the script we've prepared."
            ],
            "outputs": []
        },
        {
            "cell_type": "code",
            "execution_count": 8,
            "id": "8de7da21-feda-4c38-9dca-e977f7186839",
            "metadata": {
                "tags": []
            },
            "outputs": [],
            "source": [
                "hyperparameters={\n",
                "    \"epochs\":10,                                                   # number of training epochs\n",
                "    \"patience\":2,                                                  # early stopping - how many epoch without improvement will stop the training\n",
                "    \"train_batch_size\":4,                                          # training batch size\n",
                "    \"model_name\":\"MIT/ast-finetuned-audioset-10-10-0.4593\",        # name of the pretrained model from HuggingFace\n",
                "    \"train_dir\":\"train\",                                           # folder name with training data\n",
                "    \"val_dir\":\"val\",                                               # folder name with validation data\n",
                "    \"test_dir\":\"test\",                                             # folder name with test data\n",
                "    \"train_dataset_mean\":-8.141991150530815,                       # mean value of spectrograms of our resampled data \n",
                "    \"train_dataset_std\":4.095692486358449                          # standard deviation value of spectrograms of our resampled data\n",
                "}"
            ]
        },
        {
            "cell_type": "markdown",
            "id": "3d738979-5f62-46fc-913d-a647080b73fc",
            "metadata": {},
            "source": [
                "Finally, we need to specify which metrics we want Sagemaker to automatically track. For this, we need to set up [regular expressions](https://en.wikipedia.org/wiki/Regular_expression) that will be applied to the logs.\n",
                "The corresponding values will then be stored and made visible in the training job."
            ],
            "outputs": []
        },
        {
            "cell_type": "code",
            "execution_count": 9,
            "id": "fb052cbf-8e3b-4061-a5ea-1ea6ed233edd",
            "metadata": {
                "tags": []
            },
            "outputs": [],
            "source": [
                "metric_definitions=[\n",
                "    {'Name': 'loss', 'Regex': \"'loss': ([0-9]+(.|e\\-)[0-9]+),?\"},\n",
                "    {'Name': 'learning_rate', 'Regex': \"'learning_rate': ([0-9]+(.|e\\-)[0-9]+),?\"},\n",
                "    {'Name': 'eval_loss', 'Regex': \"'eval_loss': ([0-9]+(.|e\\-)[0-9]+),?\"},\n",
                "    {'Name': 'eval_accuracy', 'Regex': \"'eval_accuracy': ([0-9]+(.|e\\-)[0-9]+),?\"},\n",
                "    {'Name': 'eval_f1', 'Regex': \"'eval_f1': ([0-9]+(.|e\\-)[0-9]+),?\"},\n",
                "    {'Name': 'eval_precision', 'Regex': \"'eval_precision': ([0-9]+(.|e\\-)[0-9]+),?\"},\n",
                "    {'Name': 'eval_recall', 'Regex': \"'eval_recall': ([0-9]+(.|e\\-)[0-9]+),?\"},\n",
                "    {'Name': 'epoch', 'Regex': \"'epoch': ([0-9]+(.|e\\-)[0-9]+),?\"}]"
            ]
        },
        {
            "cell_type": "markdown",
            "id": "f798b487-0627-4c34-8192-604b1180021b",
            "metadata": {},
            "source": [
                "After all the necessary preparations, we are now ready to define a *SageMaker Estimator* which handles end-to-end Amazon SageMaker training and deployment tasks. While there are multiple available Estimators in SageMaker, we need to use the one that is compatible with our training script, so in our case, we will use the ```HuggingFace``` estimator.\n",
                "\n",
                "- SageMaker takes care of installing all the necessary libraries for the training job, but if there are any additional modules you want to use in the job, you can define them in ```src/requirements.txt```.\n",
                "- All the steps defined in our entry point will run during the training jobs. Therefore, if you want to change anything in the training process, you should define it in the Python script.\n",
                "- To start the job, we can call ```estimator.fit().``` With this command, the whole content of the src directory will be uploaded to the training instance. Therefore, if you want to use any additional functions, you should define them in src.\n",
                "- Note that interrupting the training job in the notebook won't stop it. If you don't want your job to finish, you have to stop it in the UI. Also, you can run only one job at a time.\n",
                "- When your training job is completed, your model will be stored as a .tar file in S3. The ```s3_output_location``` determines the location, and you can find it in the folder ```<your-training-job>/output```. You can download your model from there and test it locally. If there is no output folder, make sure to check the logs in the AWS console, as your training job may have failed."
            ],
            "outputs": []
        },
        {
            "cell_type": "code",
            "execution_count": 10,
            "id": "cee902e6-d4c3-4d68-a1a6-b4f47021cb1c",
            "metadata": {
                "tags": []
            },
            "outputs": [],
            "source": [
                "image_uri = '954362353459.dkr.ecr.us-east-1.amazonaws.com/sm-training-custom:latest'\n",
                "\n",
                "huggingface_estimator = HuggingFace(\n",
                "    entry_point=entry_point,                # fine-tuning script to use in training job\n",
                "    source_dir=\"./src\",                     # directory where fine-tuning script is stored. This directory will be downloaded to training instance\n",
                "    instance_type=\"ml.g4dn.xlarge\",         # instance type - ml.g4dn.xlarge is a GPU instance so the training will be faster \n",
                "    output_path = s3_output_location,       # outputbucket to store our model after training\n",
                "    instance_count=1,                       # number of instances. We are limited to 1 instance\n",
                "    role=role,                              # IAM role used in training job to acccess AWS resources (S3)\n",
                "    image_uri = image_uri,                  # passing our custom image with the required libraries\n",
                "    py_version=\"py310\",                     # Python version \n",
                "    hyperparameters=hyperparameters,        # hyperparameters to use in training job\n",
                "    metric_definitions = metric_definitions # metrics we want to extract from logs. It will be visible in SageMaker training job UI\n",
                ")"
            ]
        },
        {
            "cell_type": "markdown",
            "id": "fcd4b54a-eae4-4f60-bd0e-6f3a3d9d68e1",
            "metadata": {
                "tags": []
            },
            "source": [
                "After we created the estimator, we will need to call the *fit* method to start the training job. As this might take a while, we can set ```wait=False``` so our notebook will not wait for the training job to finish and we can continue working, but for the sake of the tutorial let's set it to ```True```."
            ],
            "outputs": []
        },
        {
            "cell_type": "code",
            "execution_count": null,
            "id": "ce4bdcc7-ba86-494e-8310-91373b10e4a3",
            "metadata": {
                "tags": []
            },
            "outputs": [],
            "source": [
                "huggingface_estimator.fit(input_channels, wait=True)"
            ]
        },
        {
            "cell_type": "code",
            "execution_count": null,
            "id": "d9677df1-ec12-471c-b953-7ad9c660b618",
            "metadata": {
                "tags": []
            },
            "outputs": [],
            "source": [
                "# save the model location to the filesystem so that we can use it later\n",
                "model_location = f'{s3_output_location}/{huggingface_estimator._hyperparameters[\"sagemaker_job_name\"]}/output/model.tar.gz'\n",
                "print(model_location)"
            ]
        },
        {
            "cell_type": "code",
            "execution_count": null,
            "id": "75a22b14-1bc5-4f97-b05f-b01a9278f2d5",
            "metadata": {
                "tags": []
            },
            "outputs": [],
            "source": [
                "# saving the csv file under the appropriate location. Create the folder if it doesn't exist \n",
                "model_folder_path =f\"models/{huggingface_estimator._hyperparameters['sagemaker_job_name']}\"\n",
                "\n",
                "if not os.path.exists(model_folder_path):\n",
                "    os.makedirs(model_folder_path)\n",
                "    \n",
                "with open(f'{model_folder_path}/model_location.txt', 'w+') as f:\n",
                "    f.write(model_location)"
            ]
        },
        {
            "cell_type": "markdown",
            "id": "f7d4a9cd-4b06-4bb7-8b25-0148a211cdbe",
            "metadata": {},
            "source": [
                "One important question that we haven't answered to far is *How can I see how the training is doing?* After all you need see if there are any issues or if the training is going well.\n",
                "This can be done as follows:\n",
                "\n",
                "1. Go to the AWS Console\n",
                "2. Search for AWS Sagemaker and go to the Service\n",
                "3. On the left panel click on Training -> Training Jobs\n",
                "4. Your training job should the one at the very top. Click it.\n",
                "5. The details page has a link *View logs* in the *Monitor* section (scroll down). Click this to see the logs. \n",
                "\n",
                "The default configuration for this tutorial will train your model for approximately 7 epochs. This should take less than 2 hours and give you an indication if an idea is working or not.\n",
                "Training for longer does not necessary help. **To save time and money we suggest to start with a few epochs and only train models for longer where you are certain that there is a significant benefit.** After all, you only have a limited budget."
            ],
            "outputs": []
        },
        {
            "cell_type": "markdown",
            "id": "ffebf51b-3553-48e4-8f65-f884fd054615",
            "metadata": {},
            "source": [
                "## Key takeaways:\n",
                "\n",
                "- We utilize **SageMaker Training jobs** to train our model, which takes place on a separate virtual machine (instance). The steps outlined in the training script (baseline_ast_train.py) will be executed there. If you wish to alter the training process, modify the training script accordingly (and we'd suggest you to save it under a new name).\n",
                "- You can monitor the job's progress in the [*SageMaker Trainings UI*]('https://us-east-1.console.aws.amazon.com/sagemaker/home?region=us-east-1#/jobs'). In the **Monitoring** section, you can keep track of metrics during the training process.\n",
                "- If you want to stop the training, you must do so in the [*SageMaker Trainings UI*]('https://us-east-1.console.aws.amazon.com/sagemaker/home?region=us-east-1#/jobs'). Stopping the job in the notebook alone will not suffice.\n",
                "- You can alter the input data to use your own S3 bucket if you have created the dataset differently.\n",
                "- Keep in mind that you can experiment with the **hyperparameters** of the model.\n",
                "- Since we employ a GPU instance for the training process, bear in mind that we pay for each second of training. If you do not see any improvement in longer trainings (more epochs), focus on other tasks such as data preprocessing."
            ],
            "outputs": []
        },
        {
            "cell_type": "markdown",
            "id": "7f6c3134-0d58-49d2-8b80-0aaa9c511b32",
            "metadata": {
                "tags": []
            },
            "source": [
                "# A new submission with our newly trained model!\n",
                "\n",
                "After the training job is finished - which should take in our case less than 2 hours! - you can download the results of the training job.\n",
                "\n",
                "*Note: Check the AWS training job console to see the status of your training job*\n",
                "\n",
                "First we need to specify where the results where stored. We stored the model location to the local filesystem, we only need to read it. If that didn't work, make sure to check the Sagemaker Training section in the AWS console. The model location will look similar to this:```s3://sagemaker-us-east-1-192475648101/train/huggingface-pytorch-training-2023-05-05-13-44-42-427/output/model.tar.gz```"
            ],
            "outputs": []
        },
        {
            "cell_type": "code",
            "execution_count": null,
            "id": "44b43838-716c-47cf-823f-a8f40eb36854",
            "metadata": {
                "tags": []
            },
            "outputs": [],
            "source": [
                "# read the model location from the filesystem\n",
                "with open(f'{model_folder_path}/model_location.txt', 'r') as f:\n",
                "    model_location = f.read()"
            ]
        },
        {
            "cell_type": "markdown",
            "id": "07ed3eec-008b-4ce3-8057-b40801d25b37",
            "metadata": {},
            "source": [
                "We prepared a custom function that downloads the results to our local directory. "
            ],
            "outputs": []
        },
        {
            "cell_type": "code",
            "execution_count": null,
            "id": "d4cc86cd-a683-41be-8dd0-8c960d90bcb7",
            "metadata": {
                "tags": []
            },
            "outputs": [],
            "source": [
                "local_model_dir = download_and_extract_model(model_uri=model_location, local_dir='models')\n",
                "local_model_dir"
            ]
        },
        {
            "cell_type": "markdown",
            "id": "5732e186-0d63-4999-97a1-4215208aa31b",
            "metadata": {},
            "source": [
                "To confirm that everything ran correctly, please navigate to the *models* directory. There, you should find the following files:\n",
                "\n",
                "- *checkpoint-###* folders\n",
                "- *prediction_val.csv*\n",
                "- *prediction_test.csv*\n",
                "- *model.tar.gz*\n",
                "\n",
                "The checkpoint folders contain the model's weights, which can be loaded to generate predictions from different epochs. In the training script, we set ```load_best_model_at_end``` to **True**, which ensures that the model is loaded with the best checkpoint based on the validation loss. After loading the checkpoint, we generated predictions for both the validation and test sets, which can be found in the same directory where you extracted the model.\n",
                "\n",
                "With everything set up, let's proceed to loading the test set predictions!"
            ],
            "outputs": []
        },
        {
            "cell_type": "code",
            "execution_count": null,
            "id": "df1cbbaa-4e29-460c-8c96-ea305ec5cc91",
            "metadata": {
                "tags": []
            },
            "outputs": [],
            "source": [
                "test_preds = pd.read_csv(f'{local_model_dir}/prediction_test.csv', index_col = False)\n",
                "test_preds.head()"
            ]
        },
        {
            "cell_type": "markdown",
            "id": "bf337940-786e-411f-8863-ed3e7cb6dd44",
            "metadata": {},
            "source": [
                "You can upload this file to the [GDSC website](https://gdsc.ce.capgemini.com/) what score did you get? Do you see a big difference between this model and the one trained on a small sample of data?\n",
                "\n",
                "Please keep in mind that the submission file must adhere to the following format:\n",
                "\n",
                "- A *file_name* column, indicating the file for which the prediction was generated\n",
                "- A *predicted_class_id* column, containing the predicted ID for that file.\n",
                "\n",
                "**If the submission file deviates from this format, there is a risk of encountering problems when running the evaluation function.**"
            ],
            "outputs": []
        },
        {
            "cell_type": "markdown",
            "id": "c92ab41e-6ecc-4f81-8e84-f856f2426957",
            "metadata": {
                "tags": []
            },
            "source": [
                "# Error analysis on Validation set\n",
                "\n",
                "Error analysis is an essential part of machine learning, as it helps us to identify and diagnose problems that may arise during the training and testing stages of a machine learning model. By analyzing the errors, we can gain insights into the performance of the model, and we can make informed decisions about how to improve its accuracy and effectiveness.\n",
                "\n",
                "There are several reasons why error analysis is necessary in machine learning and how can it help with improving model performance:\n",
                "\n",
                "- Identify the sources of errors: By analyzing the errors, we can identify the sources of errors, such as data quality issues. This helps us to understand where the model is failing and how we can improve it.\n",
                "\n",
                "- Improve model accuracy: Error analysis can help us to fine-tune the model by identifying which features or parameters are causing errors, and adjusting them to improve accuracy.\n",
                "\n",
                "- Evaluate model performance: Error analysis helps us to evaluate the performance of the model against the desired outcome. It also allows us to compare the performance of different models and select the best one for our use case.\n",
                "\n",
                "As we prepared predictions on the validation set we can use them for the error analysis. Let's give it a try! \n",
                "\n",
                "\n",
                "First of all we should load ```prediction_val.csv``` file and inspect it"
            ],
            "outputs": []
        },
        {
            "cell_type": "code",
            "execution_count": null,
            "id": "7d3dff0a-bf49-41b8-8b18-a725fb24e769",
            "metadata": {
                "tags": []
            },
            "outputs": [],
            "source": [
                "val_preds = pd.read_csv(f'{local_model_dir}/prediction_val.csv', index_col = False)\n",
                "val_preds.head()"
            ]
        },
        {
            "cell_type": "markdown",
            "id": "fab4e386-54e1-4b4e-960d-2e63167d1bf1",
            "metadata": {},
            "source": [
                "This dataframe contains two additional columns that will be useful for Error Analysis:\n",
                "\n",
                "- label - the ground truth label\n",
                "- loss - the degree to which the model's prediction differs from the actual class"
            ],
            "outputs": []
        },
        {
            "cell_type": "markdown",
            "id": "f7d029a3-1ff0-4437-8009-3ff6b27feca7",
            "metadata": {},
            "source": [
                "Before looking in depth at the loss values let's use our function imported from the *gdsc_eval.py* module to generate a **Confusion matrix** plot, which will provide greater insight into the model's performance for specific classes. \n",
                "\n",
                "Note from the docstring in the *gdsc_eval.py* that the last argument tells us if we want to normalize the values of the matrix over the true labels, predicted labels, the whole population or just give absolute values. Try to plot the confusion matrix with different normalizations and see if you can understand what do they mean. If you feel like something is not clear - post a comment on the Team's channel and start a conversation!"
            ],
            "outputs": []
        },
        {
            "cell_type": "code",
            "execution_count": null,
            "id": "511bd128-1174-4fb8-b1ed-98dbb360e586",
            "metadata": {
                "tags": []
            },
            "outputs": [],
            "source": [
                "plot_confusion_matrix(val_preds['label'], val_preds['predicted_class_id'], normalize=None)"
            ]
        },
        {
            "cell_type": "markdown",
            "id": "61d442c6-5912-4cf8-af1e-845dd8661820",
            "metadata": {},
            "source": [
                "While the majority of the classes are accurately classified, there are a few that remain misclassified. Additionally, the model appears to have difficulty distinguishing between certain classes, would you be able to identify them? Maybe they are similar to each other?\n",
                "\n",
                "We will now examine the losses for individual predictions. Generally speaking, the model's confidence in a given prediction increases as the loss decreases. Let's see which are the top 10 classes with the highest loss values!"
            ],
            "outputs": []
        },
        {
            "cell_type": "code",
            "execution_count": null,
            "id": "8793df32-4e2f-4301-964d-ec04d0e11a49",
            "metadata": {
                "tags": []
            },
            "outputs": [],
            "source": [
                "# Classes sorted by the highest sum of loss\n",
                "(\n",
                "    val_preds.groupby(\"label\")[[\"loss\"]]\n",
                "    .agg([\"count\", \"mean\", \"sum\"])\n",
                "    .droplevel(level=0, axis=1)  # Get rid of multi-level columns\n",
                "    .sort_values(by=\"sum\", ascending=False)\n",
                "    .reset_index()\n",
                "    .round(2)\n",
                "    .head(10)\n",
                "    .T\n",
                ")"
            ]
        },
        {
            "cell_type": "markdown",
            "id": "91a74d02-7a7b-4172-9312-96c80ec2a559",
            "metadata": {},
            "source": [
                "Since we only have a limited number of examples for certain classes, it might be more meaningful to focus on the average loss value instead. This approach could provide a more accurate representation of the model's performance for those classes with minimal validation examples."
            ],
            "outputs": []
        },
        {
            "cell_type": "code",
            "execution_count": null,
            "id": "f4254a3b-ba73-4100-8cec-4a68986a236c",
            "metadata": {
                "tags": []
            },
            "outputs": [],
            "source": [
                "# Classes sorted by highest mean of loss\n",
                "(\n",
                "    val_preds.groupby(\"label\")[[\"loss\"]]\n",
                "    .agg([\"count\", \"mean\", \"sum\"])\n",
                "    .droplevel(level=0, axis=1)\n",
                "    .sort_values(by=\"mean\", ascending=False)\n",
                "    .reset_index()\n",
                "    .round(2)\n",
                "    .head(10)\n",
                "    .T\n",
                ")"
            ]
        },
        {
            "cell_type": "markdown",
            "id": "b63580a9-248b-40f0-bb4a-a632f4466518",
            "metadata": {},
            "source": [
                "The above tables give us an idea which classes are the most problematic. To investigate this further, we suggest plotting the examples with the highest loss and some of the examples of the class that the files were missclassified with. Try to identify any patterns or issues within the data. It is possible that this could be related to the quality of the data, and further analysis may be required."
            ],
            "outputs": []
        },
        {
            "cell_type": "markdown",
            "id": "c265af1e-6ced-4083-97ca-3cc0bd9bd818",
            "metadata": {
                "jp-MarkdownHeadingCollapsed": true,
                "tags": []
            },
            "source": [
                "## Exercises:\n",
                "\n",
                "- Conduct your own Error Analysis based on the validation dataset predictions. Explore classes with the highest and lowest losses, and visualize spectrograms of these classes using the functions from the 2nd tutorial on EDA. Identify any classes that the model is consistently misclassifying and investigate whether these classes are similar to each other.\n",
                "- Experiment with different hyperparameters during the training process to see how they affect model performance.\n",
                "- Check out the [HuggingFace model Hub]('https://huggingface.co/models?pipeline_tag=audio-classification&sort=downloads'), where you can test out various audio classification models."
            ],
            "outputs": []
        },
        {
            "cell_type": "markdown",
            "id": "ee8964f5-191e-41da-82ed-2fd7a2a8db60",
            "metadata": {
                "jp-MarkdownHeadingCollapsed": true,
                "tags": []
            },
            "source": [
                "# What's next?\n",
                "\n",
                "Phew! That was a long journey! From analyzing the metadata to getting first results. But the work is not yet done - honestly it has just started! You may wonder how to improve the results we have obtained. Well, there are few possibilities:\n",
                "\n",
                "## Different preprocessing\n",
                "\n",
                "Maybe it's worth to go back to the documentation of the [ASTFeatureExtractor](https://huggingface.co/docs/transformers/main/en/model_doc/audio-spectrogram-transformer#transformers.ASTFeatureExtractor). There are some hyperparameters that you can tweak like *max_length* of the file taken as the input.\n",
                "\n",
                "## Data Augmentation\n",
                "\n",
                "In the gdsc docker image provided by us you will find libraries like [torchaudio](https://pytorch.org/audio/stable/index.html) and [librosa](https://librosa.org/doc/main/index.html). Thsoe serve you the purpose of augmenting your dataset with use of various preprocessing steps. Maybe after inspecting the missclassifications you will come up with different methods for tweaking some audio features of the arrays?\n",
                "\n",
                "Just please note that only the torchaudio library works with GPU, librosa will work only with CPU, which will make your training much slower.\n",
                "\n",
                "## Other models\n",
                "\n",
                "The AST model is not the only one out there. Try to inspect other architectures. Maybe one of them will be the winning one! Here are two example sources you can inspect (feel free to find more!):\n",
                "\n",
                "#### Hugging Face Model Hub\n",
                "\n",
                "The [Hugging Face Model Hub](https://huggingface.co/models?pipeline_tag=audio-classification&sort=downloads) has a variety of different models. Try to inspect few of them.  \n",
                "\n",
                "#### Papers with code\n",
                "\n",
                "The Papers with code site offers benchmarks of different models on different datasets. Here is an example of [benchmarking models on AudioSet dataset](https://paperswithcode.com/sota/audio-classification-on-audioset). This may be a bit advanced, but you can try to implement the code found in the repositories for a model that gives high scores."
            ],
            "outputs": []
        }
    ],
    "metadata": {
        "availableInstances": [
            {
                "_defaultOrder": 0,
                "_isFastLaunch": true,
                "category": "General purpose",
                "gpuNum": 0,
                "hideHardwareSpecs": false,
                "memoryGiB": 4,
                "name": "ml.t3.medium",
                "vcpuNum": 2
            },
            {
                "_defaultOrder": 1,
                "_isFastLaunch": false,
                "category": "General purpose",
                "gpuNum": 0,
                "hideHardwareSpecs": false,
                "memoryGiB": 8,
                "name": "ml.t3.large",
                "vcpuNum": 2
            },
            {
                "_defaultOrder": 2,
                "_isFastLaunch": false,
                "category": "General purpose",
                "gpuNum": 0,
                "hideHardwareSpecs": false,
                "memoryGiB": 16,
                "name": "ml.t3.xlarge",
                "vcpuNum": 4
            },
            {
                "_defaultOrder": 3,
                "_isFastLaunch": false,
                "category": "General purpose",
                "gpuNum": 0,
                "hideHardwareSpecs": false,
                "memoryGiB": 32,
                "name": "ml.t3.2xlarge",
                "vcpuNum": 8
            },
            {
                "_defaultOrder": 4,
                "_isFastLaunch": true,
                "category": "General purpose",
                "gpuNum": 0,
                "hideHardwareSpecs": false,
                "memoryGiB": 8,
                "name": "ml.m5.large",
                "vcpuNum": 2
            },
            {
                "_defaultOrder": 5,
                "_isFastLaunch": false,
                "category": "General purpose",
                "gpuNum": 0,
                "hideHardwareSpecs": false,
                "memoryGiB": 16,
                "name": "ml.m5.xlarge",
                "vcpuNum": 4
            },
            {
                "_defaultOrder": 6,
                "_isFastLaunch": false,
                "category": "General purpose",
                "gpuNum": 0,
                "hideHardwareSpecs": false,
                "memoryGiB": 32,
                "name": "ml.m5.2xlarge",
                "vcpuNum": 8
            },
            {
                "_defaultOrder": 7,
                "_isFastLaunch": false,
                "category": "General purpose",
                "gpuNum": 0,
                "hideHardwareSpecs": false,
                "memoryGiB": 64,
                "name": "ml.m5.4xlarge",
                "vcpuNum": 16
            },
            {
                "_defaultOrder": 8,
                "_isFastLaunch": false,
                "category": "General purpose",
                "gpuNum": 0,
                "hideHardwareSpecs": false,
                "memoryGiB": 128,
                "name": "ml.m5.8xlarge",
                "vcpuNum": 32
            },
            {
                "_defaultOrder": 9,
                "_isFastLaunch": false,
                "category": "General purpose",
                "gpuNum": 0,
                "hideHardwareSpecs": false,
                "memoryGiB": 192,
                "name": "ml.m5.12xlarge",
                "vcpuNum": 48
            },
            {
                "_defaultOrder": 10,
                "_isFastLaunch": false,
                "category": "General purpose",
                "gpuNum": 0,
                "hideHardwareSpecs": false,
                "memoryGiB": 256,
                "name": "ml.m5.16xlarge",
                "vcpuNum": 64
            },
            {
                "_defaultOrder": 11,
                "_isFastLaunch": false,
                "category": "General purpose",
                "gpuNum": 0,
                "hideHardwareSpecs": false,
                "memoryGiB": 384,
                "name": "ml.m5.24xlarge",
                "vcpuNum": 96
            },
            {
                "_defaultOrder": 12,
                "_isFastLaunch": false,
                "category": "General purpose",
                "gpuNum": 0,
                "hideHardwareSpecs": false,
                "memoryGiB": 8,
                "name": "ml.m5d.large",
                "vcpuNum": 2
            },
            {
                "_defaultOrder": 13,
                "_isFastLaunch": false,
                "category": "General purpose",
                "gpuNum": 0,
                "hideHardwareSpecs": false,
                "memoryGiB": 16,
                "name": "ml.m5d.xlarge",
                "vcpuNum": 4
            },
            {
                "_defaultOrder": 14,
                "_isFastLaunch": false,
                "category": "General purpose",
                "gpuNum": 0,
                "hideHardwareSpecs": false,
                "memoryGiB": 32,
                "name": "ml.m5d.2xlarge",
                "vcpuNum": 8
            },
            {
                "_defaultOrder": 15,
                "_isFastLaunch": false,
                "category": "General purpose",
                "gpuNum": 0,
                "hideHardwareSpecs": false,
                "memoryGiB": 64,
                "name": "ml.m5d.4xlarge",
                "vcpuNum": 16
            },
            {
                "_defaultOrder": 16,
                "_isFastLaunch": false,
                "category": "General purpose",
                "gpuNum": 0,
                "hideHardwareSpecs": false,
                "memoryGiB": 128,
                "name": "ml.m5d.8xlarge",
                "vcpuNum": 32
            },
            {
                "_defaultOrder": 17,
                "_isFastLaunch": false,
                "category": "General purpose",
                "gpuNum": 0,
                "hideHardwareSpecs": false,
                "memoryGiB": 192,
                "name": "ml.m5d.12xlarge",
                "vcpuNum": 48
            },
            {
                "_defaultOrder": 18,
                "_isFastLaunch": false,
                "category": "General purpose",
                "gpuNum": 0,
                "hideHardwareSpecs": false,
                "memoryGiB": 256,
                "name": "ml.m5d.16xlarge",
                "vcpuNum": 64
            },
            {
                "_defaultOrder": 19,
                "_isFastLaunch": false,
                "category": "General purpose",
                "gpuNum": 0,
                "hideHardwareSpecs": false,
                "memoryGiB": 384,
                "name": "ml.m5d.24xlarge",
                "vcpuNum": 96
            },
            {
                "_defaultOrder": 20,
                "_isFastLaunch": false,
                "category": "General purpose",
                "gpuNum": 0,
                "hideHardwareSpecs": true,
                "memoryGiB": 0,
                "name": "ml.geospatial.interactive",
                "supportedImageNames": [
                    "sagemaker-geospatial-v1-0"
                ],
                "vcpuNum": 0
            },
            {
                "_defaultOrder": 21,
                "_isFastLaunch": true,
                "category": "Compute optimized",
                "gpuNum": 0,
                "hideHardwareSpecs": false,
                "memoryGiB": 4,
                "name": "ml.c5.large",
                "vcpuNum": 2
            },
            {
                "_defaultOrder": 22,
                "_isFastLaunch": false,
                "category": "Compute optimized",
                "gpuNum": 0,
                "hideHardwareSpecs": false,
                "memoryGiB": 8,
                "name": "ml.c5.xlarge",
                "vcpuNum": 4
            },
            {
                "_defaultOrder": 23,
                "_isFastLaunch": false,
                "category": "Compute optimized",
                "gpuNum": 0,
                "hideHardwareSpecs": false,
                "memoryGiB": 16,
                "name": "ml.c5.2xlarge",
                "vcpuNum": 8
            },
            {
                "_defaultOrder": 24,
                "_isFastLaunch": false,
                "category": "Compute optimized",
                "gpuNum": 0,
                "hideHardwareSpecs": false,
                "memoryGiB": 32,
                "name": "ml.c5.4xlarge",
                "vcpuNum": 16
            },
            {
                "_defaultOrder": 25,
                "_isFastLaunch": false,
                "category": "Compute optimized",
                "gpuNum": 0,
                "hideHardwareSpecs": false,
                "memoryGiB": 72,
                "name": "ml.c5.9xlarge",
                "vcpuNum": 36
            },
            {
                "_defaultOrder": 26,
                "_isFastLaunch": false,
                "category": "Compute optimized",
                "gpuNum": 0,
                "hideHardwareSpecs": false,
                "memoryGiB": 96,
                "name": "ml.c5.12xlarge",
                "vcpuNum": 48
            },
            {
                "_defaultOrder": 27,
                "_isFastLaunch": false,
                "category": "Compute optimized",
                "gpuNum": 0,
                "hideHardwareSpecs": false,
                "memoryGiB": 144,
                "name": "ml.c5.18xlarge",
                "vcpuNum": 72
            },
            {
                "_defaultOrder": 28,
                "_isFastLaunch": false,
                "category": "Compute optimized",
                "gpuNum": 0,
                "hideHardwareSpecs": false,
                "memoryGiB": 192,
                "name": "ml.c5.24xlarge",
                "vcpuNum": 96
            },
            {
                "_defaultOrder": 29,
                "_isFastLaunch": true,
                "category": "Accelerated computing",
                "gpuNum": 1,
                "hideHardwareSpecs": false,
                "memoryGiB": 16,
                "name": "ml.g4dn.xlarge",
                "vcpuNum": 4
            },
            {
                "_defaultOrder": 30,
                "_isFastLaunch": false,
                "category": "Accelerated computing",
                "gpuNum": 1,
                "hideHardwareSpecs": false,
                "memoryGiB": 32,
                "name": "ml.g4dn.2xlarge",
                "vcpuNum": 8
            },
            {
                "_defaultOrder": 31,
                "_isFastLaunch": false,
                "category": "Accelerated computing",
                "gpuNum": 1,
                "hideHardwareSpecs": false,
                "memoryGiB": 64,
                "name": "ml.g4dn.4xlarge",
                "vcpuNum": 16
            },
            {
                "_defaultOrder": 32,
                "_isFastLaunch": false,
                "category": "Accelerated computing",
                "gpuNum": 1,
                "hideHardwareSpecs": false,
                "memoryGiB": 128,
                "name": "ml.g4dn.8xlarge",
                "vcpuNum": 32
            },
            {
                "_defaultOrder": 33,
                "_isFastLaunch": false,
                "category": "Accelerated computing",
                "gpuNum": 4,
                "hideHardwareSpecs": false,
                "memoryGiB": 192,
                "name": "ml.g4dn.12xlarge",
                "vcpuNum": 48
            },
            {
                "_defaultOrder": 34,
                "_isFastLaunch": false,
                "category": "Accelerated computing",
                "gpuNum": 1,
                "hideHardwareSpecs": false,
                "memoryGiB": 256,
                "name": "ml.g4dn.16xlarge",
                "vcpuNum": 64
            },
            {
                "_defaultOrder": 35,
                "_isFastLaunch": false,
                "category": "Accelerated computing",
                "gpuNum": 1,
                "hideHardwareSpecs": false,
                "memoryGiB": 61,
                "name": "ml.p3.2xlarge",
                "vcpuNum": 8
            },
            {
                "_defaultOrder": 36,
                "_isFastLaunch": false,
                "category": "Accelerated computing",
                "gpuNum": 4,
                "hideHardwareSpecs": false,
                "memoryGiB": 244,
                "name": "ml.p3.8xlarge",
                "vcpuNum": 32
            },
            {
                "_defaultOrder": 37,
                "_isFastLaunch": false,
                "category": "Accelerated computing",
                "gpuNum": 8,
                "hideHardwareSpecs": false,
                "memoryGiB": 488,
                "name": "ml.p3.16xlarge",
                "vcpuNum": 64
            },
            {
                "_defaultOrder": 38,
                "_isFastLaunch": false,
                "category": "Accelerated computing",
                "gpuNum": 8,
                "hideHardwareSpecs": false,
                "memoryGiB": 768,
                "name": "ml.p3dn.24xlarge",
                "vcpuNum": 96
            },
            {
                "_defaultOrder": 39,
                "_isFastLaunch": false,
                "category": "Memory Optimized",
                "gpuNum": 0,
                "hideHardwareSpecs": false,
                "memoryGiB": 16,
                "name": "ml.r5.large",
                "vcpuNum": 2
            },
            {
                "_defaultOrder": 40,
                "_isFastLaunch": false,
                "category": "Memory Optimized",
                "gpuNum": 0,
                "hideHardwareSpecs": false,
                "memoryGiB": 32,
                "name": "ml.r5.xlarge",
                "vcpuNum": 4
            },
            {
                "_defaultOrder": 41,
                "_isFastLaunch": false,
                "category": "Memory Optimized",
                "gpuNum": 0,
                "hideHardwareSpecs": false,
                "memoryGiB": 64,
                "name": "ml.r5.2xlarge",
                "vcpuNum": 8
            },
            {
                "_defaultOrder": 42,
                "_isFastLaunch": false,
                "category": "Memory Optimized",
                "gpuNum": 0,
                "hideHardwareSpecs": false,
                "memoryGiB": 128,
                "name": "ml.r5.4xlarge",
                "vcpuNum": 16
            },
            {
                "_defaultOrder": 43,
                "_isFastLaunch": false,
                "category": "Memory Optimized",
                "gpuNum": 0,
                "hideHardwareSpecs": false,
                "memoryGiB": 256,
                "name": "ml.r5.8xlarge",
                "vcpuNum": 32
            },
            {
                "_defaultOrder": 44,
                "_isFastLaunch": false,
                "category": "Memory Optimized",
                "gpuNum": 0,
                "hideHardwareSpecs": false,
                "memoryGiB": 384,
                "name": "ml.r5.12xlarge",
                "vcpuNum": 48
            },
            {
                "_defaultOrder": 45,
                "_isFastLaunch": false,
                "category": "Memory Optimized",
                "gpuNum": 0,
                "hideHardwareSpecs": false,
                "memoryGiB": 512,
                "name": "ml.r5.16xlarge",
                "vcpuNum": 64
            },
            {
                "_defaultOrder": 46,
                "_isFastLaunch": false,
                "category": "Memory Optimized",
                "gpuNum": 0,
                "hideHardwareSpecs": false,
                "memoryGiB": 768,
                "name": "ml.r5.24xlarge",
                "vcpuNum": 96
            },
            {
                "_defaultOrder": 47,
                "_isFastLaunch": false,
                "category": "Accelerated computing",
                "gpuNum": 1,
                "hideHardwareSpecs": false,
                "memoryGiB": 16,
                "name": "ml.g5.xlarge",
                "vcpuNum": 4
            },
            {
                "_defaultOrder": 48,
                "_isFastLaunch": false,
                "category": "Accelerated computing",
                "gpuNum": 1,
                "hideHardwareSpecs": false,
                "memoryGiB": 32,
                "name": "ml.g5.2xlarge",
                "vcpuNum": 8
            },
            {
                "_defaultOrder": 49,
                "_isFastLaunch": false,
                "category": "Accelerated computing",
                "gpuNum": 1,
                "hideHardwareSpecs": false,
                "memoryGiB": 64,
                "name": "ml.g5.4xlarge",
                "vcpuNum": 16
            },
            {
                "_defaultOrder": 50,
                "_isFastLaunch": false,
                "category": "Accelerated computing",
                "gpuNum": 1,
                "hideHardwareSpecs": false,
                "memoryGiB": 128,
                "name": "ml.g5.8xlarge",
                "vcpuNum": 32
            },
            {
                "_defaultOrder": 51,
                "_isFastLaunch": false,
                "category": "Accelerated computing",
                "gpuNum": 1,
                "hideHardwareSpecs": false,
                "memoryGiB": 256,
                "name": "ml.g5.16xlarge",
                "vcpuNum": 64
            },
            {
                "_defaultOrder": 52,
                "_isFastLaunch": false,
                "category": "Accelerated computing",
                "gpuNum": 4,
                "hideHardwareSpecs": false,
                "memoryGiB": 192,
                "name": "ml.g5.12xlarge",
                "vcpuNum": 48
            },
            {
                "_defaultOrder": 53,
                "_isFastLaunch": false,
                "category": "Accelerated computing",
                "gpuNum": 4,
                "hideHardwareSpecs": false,
                "memoryGiB": 384,
                "name": "ml.g5.24xlarge",
                "vcpuNum": 96
            },
            {
                "_defaultOrder": 54,
                "_isFastLaunch": false,
                "category": "Accelerated computing",
                "gpuNum": 8,
                "hideHardwareSpecs": false,
                "memoryGiB": 768,
                "name": "ml.g5.48xlarge",
                "vcpuNum": 192
            },
            {
                "_defaultOrder": 55,
                "_isFastLaunch": false,
                "category": "Accelerated computing",
                "gpuNum": 8,
                "hideHardwareSpecs": false,
                "memoryGiB": 1152,
                "name": "ml.p4d.24xlarge",
                "vcpuNum": 96
            },
            {
                "_defaultOrder": 56,
                "_isFastLaunch": false,
                "category": "Accelerated computing",
                "gpuNum": 8,
                "hideHardwareSpecs": false,
                "memoryGiB": 1152,
                "name": "ml.p4de.24xlarge",
                "vcpuNum": 96
            }
        ],
        "instance_type": "ml.g4dn.xlarge",
        "kernelspec": {
            "display_name": "GDSC (custom-gdsc/1)",
            "language": "python",
            "name": "python3__SAGEMAKER_INTERNAL__arn:aws:sagemaker:us-east-1:821562550650:image-version/custom-gdsc/1"
        },
        "language_info": {
            "codemirror_mode": {
                "name": "ipython",
                "version": 3
            },
            "file_extension": ".py",
            "mimetype": "text/x-python",
            "name": "python",
            "nbconvert_exporter": "python",
            "pygments_lexer": "ipython3",
            "version": "3.10.8"
        },
        "lcc_arn": "arn:aws:sagemaker:us-east-1:821562550650:studio-lifecycle-config/clean-trash"
    },
    "nbformat": 4,
    "nbformat_minor": 5
}