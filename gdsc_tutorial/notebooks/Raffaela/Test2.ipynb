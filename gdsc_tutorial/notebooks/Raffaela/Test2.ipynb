{
    "cells": [
        {
            "cell_type": "code",
            "execution_count": 2,
            "id": "d924fca8-d351-4766-9480-09628d15ba57",
            "metadata": {},
            "outputs": [],
            "source": [
                "import matplotlib.pyplot as plt     # allows creation of insightful plots\n",
                "import numpy as np                  # for performing calculations on numerical arrays\n",
                "import pandas as pd                 # home of the DataFrame construct, _the_ most important object for Data Science\n",
                "import seaborn as sns               # allows creation of insightful plots, but a bit prettier\n",
                "import sys                          # Python system library needed to load custom functions\n",
                "import torchaudio                   # library that will allow us to load the audio files\n",
                "import os                           # for changing the directory\n",
                "\n",
                "from scipy.fft import fft, fftfreq  # functions for calculating the fourier transform and frequencies from audio data\n",
                "from tqdm.auto import tqdm          # library to display progress bar while doing apply on pandas dataframe\n",
                "\n",
                "sys.path.append('../../src')\n",
                "pd.set_option('display.max_columns', None) # All the columns in a dataframe are shown \n",
                "tqdm.pandas()                       # integrate tqdm with Pandas\n",
                "# line to render the plots under the code cell that created it\n",
                "%matplotlib inline\n",
                "\n",
                "from eda_utils import plot_spec     # functions to create plots for and from audio data\n",
                "from gdsc_utils import PROJECT_DIR # our root directory\n",
                "os.chdir(PROJECT_DIR) # changing our directory to root"
            ]
        },
        {
            "cell_type": "code",
            "execution_count": 3,
            "id": "7f92d7fc-af7e-43a7-baa8-1cee8a3e513b",
            "metadata": {},
            "outputs": [],
            "source": [
                "download_directory('data/', None, DEFAULT_BUCKET)"
            ]
        },
        {
            "cell_type": "code",
            "execution_count": 4,
            "id": "cf9f099f-78b3-46fc-97e8-bfca2ab73c21",
            "metadata": {
                "tags": []
            },
            "outputs": [],
            "source": [
                "df = pd.read_csv('data/metadata.csv')"
            ]
        },
        {
            "cell_type": "code",
            "execution_count": 12,
            "id": "c0e14452-83d9-49da-a3c2-a37903d7f45a",
            "metadata": {},
            "outputs": [],
            "source": [
                "# paths\n",
                "# train\n",
                "ep_train_18_1 = 'data/train/Cyclochilaaustralasiae_GBIF2883236324_IN61761362_140722.wav'\n",
                "ep_train_18_2 = 'data/train/Cyclochilaaustralasiae_GBIF2988654650_IN65392091_150201.wav'\n",
                "ep_train_18_3 = 'data/train/Cyclochilaaustralasiae_GBIF2883127714_IN61461296_140099.wav'\n",
                "ep_train_18_4 = 'data/train/Cyclochilaaustralasiae_GBIF2988310032_IN64913166_148835.wav'\n",
                "ep_train_18_5 = 'data/train/Cyclochilaaustralasiae_GBIF2988576050_IN64914163_148834.wav'\n",
                "ep_train_18_6 = 'data/train/Cyclochilaaustralasiae_GBIF2898419788_IN62243743_141893_edit1.wav'\n",
                "ep_train_18_7 = 'data/train/Cyclochilaaustralasiae_GBIF2429268043_IN33470690_47652.wav'\n",
                "ep_train_18_8 = 'data/train/Cyclochilaaustralasiae_GBIF2465305282_IN36155866_51319.wav'\n",
                "\n",
                "# validation\n",
                "ep_val_18_1 = 'data/val/Cyclochilaaustralasiae_GBIF1949995530_IN18893186_28098_edit1.wav'\n",
                "ep_val_18_2 = 'data/val/Cyclochilaaustralasiae_GBIF2882927607_IN61523430_140217.wav'\n",
                "ep_val_18_3 = 'data/val/Cyclochilaaustralasiae_GBIF1978841250_IN19182596_28530.wav'"
            ]
        },
        {
            "cell_type": "code",
            "execution_count": 13,
            "id": "ee22bda4-6b3a-44f7-a8d8-fa012a803e1d",
            "metadata": {
                "tags": []
            },
            "outputs": [],
            "source": [
                "ep_train_6_1 ='data/train/Bicoloranabicolor_XC752542-dat061-002_edit1.wav'\n",
                "ep_train_6_2 ='data/train/Bicoloranabicolor_XC752542-dat061-002_edit2.wav'\n",
                "ep_train_6_3 ='data/train/Bicoloranabicolor_XC752542-dat061-002_edit4.wav'\n",
                "ep_train_6_4 ='data/train/Bicoloranabicolor_XC752542-dat061-002_edit5.wav'\n",
                "ep_train_6_5 ='data/train/Bicoloranabicolor_XC752542-dat061-002_edit6.wav'\n",
                "ep_train_6_6 ='data/train/Bicoloranabicolor_XC751441-dat044-005.wav'\n",
                "ep_train_6_7 ='data/train/Bicoloranabicolor_XC752542-dat061-002_edit3.wav'\n",
                "ep_train_6_8 ='data/train/Bicoloranabicolor_GBIF3327990654_IN86271646_271178.wav'\n",
                "ep_train_6_9 ='data/train/Bicoloranabicolor_XC752106-dat061-001_edit1.wav'\n",
                "ep_train_6_10 ='data/train/Bicoloranabicolor_XC753587-Bicolorana-bicolor-Cereglio-30-Giugno-2018_2CH96K16.wav'\n",
                "ep_train_6_11 ='data/train/Bicoloranabicolor_XC752106-dat061-001_edit2.wav'\n",
                "ep_train_6_12 ='data/train/Bicoloranabicolor_XC751442-dat044-006.wav'\n"
            ]
        },
        {
            "cell_type": "code",
            "execution_count": 6,
            "id": "1829bfca-1611-472f-980c-c3cfedda194f",
            "metadata": {
                "tags": []
            },
            "outputs": [],
            "source": [
                "def extract_peak_frequency(path, freq_threshold=300, n_top=1):\n",
                "    data, sampling_rate = torchaudio.load(path)                                        # loading audio file\n",
                "    data = data[0,:20*sampling_rate].numpy()                                           # Taking the first 20 seconds as it should be enough to hear insects sound\n",
                "    fft_data = fft(data)                                                               # calculating fourier transform\n",
                "    freqs = fftfreq(len(data))                                                         # calculating frequencies \n",
                "    freqs = abs(freqs)                                                                 # we are interested in positive numbers only\n",
                "    index_above = freqs*sampling_rate>freq_threshold                                   # there is a lot of noise near 0 hz, so let's filter out what's below 300Hz, this is a hyperparameter you can play with\n",
                "    peak_coefficient = np.argpartition(np.abs(fft_data[index_above]), -n_top)[-n_top:] # taking the index for top n values\n",
                "    peak_freq = freqs[index_above][peak_coefficient]                                   # using the index to find top n frequencies\n",
                "\n",
                "    return peak_freq * sampling_rate                                                   # We need to multiple it by sampling_rate to get the real frequency values"
            ]
        },
        {
            "cell_type": "code",
            "execution_count": 15,
            "id": "f5f55a4b-7b2b-468b-bd0d-96a670e1a86d",
            "metadata": {
                "tags": []
            },
            "outputs": [],
            "source": [
                "top10_freq_train1 = extract_peak_frequency(ep_train_18_1, freq_threshold=300, n_top=10)\n",
                "top10_freq_train2 = extract_peak_frequency(ep_train_18_2, freq_threshold=300, n_top=10)\n",
                "top10_freq_train3 = extract_peak_frequency(ep_train_18_3, freq_threshold=300, n_top=10)\n",
                "top10_freq_train4 = extract_peak_frequency(ep_train_18_4, freq_threshold=300, n_top=10)\n",
                "top10_freq_train5 = extract_peak_frequency(ep_train_18_5, freq_threshold=300, n_top=10)\n",
                "top10_freq_train6 = extract_peak_frequency(ep_train_18_6, freq_threshold=300, n_top=10)\n",
                "top10_freq_train7 = extract_peak_frequency(ep_train_18_7, freq_threshold=300, n_top=10)\n",
                "top10_freq_train8 = extract_peak_frequency(ep_train_18_8, freq_threshold=300, n_top=10)"
            ]
        },
        {
            "cell_type": "code",
            "execution_count": 16,
            "id": "a2b1e12a-0921-4986-bcc0-c699d4e0baac",
            "metadata": {
                "tags": []
            },
            "outputs": [],
            "source": [
                "top10_freq_train1_6 = extract_peak_frequency(ep_train_6_1, freq_threshold=300, n_top=10)\n",
                "top10_freq_train2_6 = extract_peak_frequency(ep_train_6_2, freq_threshold=300, n_top=10)\n",
                "top10_freq_train3_6 = extract_peak_frequency(ep_train_6_3, freq_threshold=300, n_top=10)\n",
                "top10_freq_train4_6 = extract_peak_frequency(ep_train_6_4, freq_threshold=300, n_top=10)\n",
                "top10_freq_train5_6 = extract_peak_frequency(ep_train_6_5, freq_threshold=300, n_top=10)\n",
                "top10_freq_train6_6 = extract_peak_frequency(ep_train_6_6, freq_threshold=300, n_top=10)\n",
                "top10_freq_train7_6 = extract_peak_frequency(ep_train_6_7, freq_threshold=300, n_top=10)\n",
                "top10_freq_train8_6 = extract_peak_frequency(ep_train_6_8, freq_threshold=300, n_top=10)"
            ]
        },
        {
            "cell_type": "code",
            "execution_count": 18,
            "id": "6220fed2-5e41-4951-90f7-da51866011ea",
            "metadata": {
                "tags": []
            },
            "outputs": [],
            "source": [
                "plt.title('Top 10 frequencies train-data, species 18 vs species 6', fontsize = 10)\n",
                "plt.plot(np.arange(0,10), top10_freq_train1, color=\"black\")\n",
                "plt.plot(np.arange(0,10), top10_freq_train1_6, '--', color=\"black\")\n",
                "plt.plot(np.arange(0,10), top10_freq_train2)\n",
                "plt.plot(np.arange(0,10), top10_freq_train3)\n",
                "plt.plot(np.arange(0,10), top10_freq_train4)\n",
                "plt.plot(np.arange(0,10), top10_freq_train5)\n",
                "plt.plot(np.arange(0,10), top10_freq_train6)\n",
                "plt.plot(np.arange(0,10), top10_freq_train7)\n",
                "plt.plot(np.arange(0,10), top10_freq_train8)\n",
                "plt.plot(np.arange(0,10), top10_freq_train2_6, '--')\n",
                "plt.plot(np.arange(0,10), top10_freq_train3_6, '--')\n",
                "plt.plot(np.arange(0,10), top10_freq_train4_6, '--')\n",
                "plt.plot(np.arange(0,10), top10_freq_train5_6, '--')\n",
                "plt.plot(np.arange(0,10), top10_freq_train6_6, '--')\n",
                "plt.plot(np.arange(0,10), top10_freq_train7_6, '--')\n",
                "plt.plot(np.arange(0,10), top10_freq_train8_6, '--')\n",
                "plt.legend([\"species 18\", \"species 6\"])\n",
                "plt.show()"
            ]
        },
        {
            "cell_type": "code",
            "execution_count": 19,
            "id": "8150f882-96ad-4ee3-816d-164e0318c059",
            "metadata": {
                "tags": []
            },
            "outputs": [],
            "source": [
                "df_sorted = df.sort_values(['label', 'length'], ascending =[True, True]) \n",
                "# extracting top1 frequencies per file and storing it in a pandas df\n",
                "df_freqs = df_sorted['path'].progress_apply(lambda x: pd.Series(extract_peak_frequency(x))) \n",
                "# joining the metadata df with the top1 frequency dataframe and renaming the column of newly created feature\n",
                "df_metadata = df_sorted.join(df_freqs).rename({0:'top_frequency'}, axis = 1)"
            ]
        },
        {
            "cell_type": "code",
            "execution_count": 21,
            "id": "2e42d14c-0a6d-485c-95ff-15b3ab4e2465",
            "metadata": {
                "tags": []
            },
            "outputs": [],
            "source": [
                "plt.figure(figsize = (20,6))\n",
                "sns.boxplot(data = df_metadata, x = 'species', y = \"top_frequency\")\n",
                "plt.xticks(rotation = 90)\n",
                "plt.show()"
            ]
        },
        {
            "cell_type": "code",
            "execution_count": 7,
            "id": "9eed2c51-83b7-4824-bbe1-3a82d5d45fab",
            "metadata": {
                "tags": []
            },
            "outputs": [],
            "source": [
                "# top1 frequency (top classes)\n",
                "df['species and label'] = df.apply(lambda x: f\"{x['species']} ({str(x['label'])})\", axis = 1)\n",
                "df_top1 = df.query('label == 15 or label == 18 or label == 20 or label == 22 or label == 31 or label == 32 or label == 34 or label == 35 or label == 36 or label == 37 or label == 38 or label == 40 or label == 41 or label == 48 or label == 64')\n",
                "df_sorted_top1 = df_top1.sort_values(['label', 'length'], ascending =[True, True]) \n",
                "# extracting top1 frequencies per file and storing it in a pandas df\n",
                "df_freqs_top1 = df_sorted_top1['path'].progress_apply(lambda x: pd.Series(extract_peak_frequency(x))) \n",
                "# joining the metadata df with the top1 frequency dataframe and renaming the column of newly created feature\n",
                "df_metadata_top1 = df_sorted_top1.join(df_freqs_top1).rename({0:'top_frequency'}, axis = 1)"
            ]
        },
        {
            "cell_type": "code",
            "execution_count": 9,
            "id": "eeafad4c-3b6d-43c2-982b-724f1d1cbdd3",
            "metadata": {
                "tags": []
            },
            "outputs": [],
            "source": [
                "# top 10 frequency (top class)\n",
                "df['species and label'] = df.apply(lambda x: f\"{x['species']} ({str(x['label'])})\", axis = 1)\n",
                "df_top10 = df.query('label == 15 or label == 18 or label == 20 or label == 22 or label == 31 or label == 32 or label == 34 or label == 35 or label == 36 or label == 37 or label == 38 or label == 40 or label == 41 or label == 48 or label == 64')\n",
                "df_sorted_top10 = df_top10.sort_values(['label', 'length'], ascending =[True, True]) \n",
                "# extracting top1 frequencies per file and storing it in a pandas df\n",
                "df_freqs_top10 = df_sorted_top10['path'].progress_apply(lambda x: pd.Series(extract_peak_frequency(x))) \n",
                "# joining the metadata df with the top1 frequency dataframe and renaming the column of newly created feature\n",
                "df_metadata_top10 = df_sorted_top10.join(df_freqs_top10).rename({0:'top_frequency'}, axis = 1)"
            ]
        },
        {
            "cell_type": "code",
            "execution_count": 12,
            "id": "42a15e86-4206-44bb-8fdd-f12041b05d69",
            "metadata": {
                "tags": []
            },
            "outputs": [],
            "source": [
                "# top 50 frequency (top class)\n",
                "df['species and label'] = df.apply(lambda x: f\"{x['species']} ({str(x['label'])})\", axis = 1)\n",
                "df_top50 = df.query('label == 15 or label == 18 or label == 20 or label == 22 or label == 31 or label == 32 or label == 34 or label == 35 or label == 36 or label == 37 or label == 38 or label == 40 or label == 41 or label == 48 or label == 64')\n",
                "df_sorted_top50 = df_top50.sort_values(['label', 'length'], ascending =[True, True]) \n",
                "# extracting top1 frequencies per file and storing it in a pandas df\n",
                "df_freqs_top50 = df_sorted_top50['path'].progress_apply(lambda x: pd.Series(extract_peak_frequency(x))) \n",
                "# joining the metadata df with the top1 frequency dataframe and renaming the column of newly created feature\n",
                "df_metadata_top50 = df_sorted_top50.join(df_freqs_top50).rename({0:'top_frequency'}, axis = 1)"
            ]
        },
        {
            "cell_type": "code",
            "execution_count": 58,
            "id": "b19f853c-cefb-4cfe-a655-5e0f8b3f1aff",
            "metadata": {
                "tags": []
            },
            "outputs": [],
            "source": [
                "plt.figure(figsize = (20,6))\n",
                "sns.boxplot(data = df_metadata_top1, x = 'species and label', y = \"top_frequency\")\n",
                "plt.xticks(rotation = 90)\n",
                "plt.title('Top 1 frequency (top classes)', fontsize = 20)\n",
                "plt.show()"
            ]
        },
        {
            "cell_type": "code",
            "execution_count": 65,
            "id": "96c8d109-a487-491b-a419-a7ce931571c0",
            "metadata": {
                "tags": []
            },
            "outputs": [],
            "source": [
                "plt.figure(figsize = (20,6))\n",
                "sns.boxplot(data = df_metadata_top10, x = 'species and label', y = \"top_frequency\")\n",
                "plt.xticks(rotation = 90)\n",
                "plt.title('Top 10 frequency (top classes)', fontsize = 20)\n",
                "plt.show()"
            ]
        },
        {
            "cell_type": "code",
            "execution_count": 72,
            "id": "44ba3b8d-c953-4608-a9a8-14034796ec75",
            "metadata": {
                "tags": []
            },
            "outputs": [],
            "source": [
                "plt.figure(figsize = (20,6))\n",
                "sns.boxplot(data = df_metadata_top50, x = 'species and label', y = \"top_frequency\")\n",
                "plt.xticks(rotation = 90)\n",
                "plt.title('Top 50 frequency (top classes)', fontsize = 20)\n",
                "plt.show()"
            ]
        },
        {
            "cell_type": "code",
            "execution_count": 8,
            "id": "fed0e2e0-90b2-42e5-9629-6b9faa5ac65e",
            "metadata": {
                "tags": []
            },
            "outputs": [],
            "source": [
                "# top 1 frequency (low class)\n",
                "df_low1 = df.query('label == 6 or label == 7 or label == 13 or label == 17 or label == 28 or label == 30 or label == 45 or label == 46 or label == 47 or label == 49 or label == 54 or label == 55 or label == 57 or label == 58 or label == 62')\n",
                "df_sorted_low1 = df_low1.sort_values(['label', 'length'], ascending =[True, True]) \n",
                "# extracting top1 frequencies per file and storing it in a pandas df\n",
                "df_freqs_low1 = df_sorted_low1['path'].progress_apply(lambda x: pd.Series(extract_peak_frequency(x))) \n",
                "# joining the metadata df with the top1 frequency dataframe and renaming the column of newly created feature\n",
                "df_metadata_low1 = df_sorted_low1.join(df_freqs_low1).rename({0:'top_frequency'}, axis = 1)"
            ]
        },
        {
            "cell_type": "code",
            "execution_count": 10,
            "id": "c1665b05-cb7c-4200-8636-f76cb84f37e9",
            "metadata": {
                "tags": []
            },
            "outputs": [],
            "source": [
                "# top 10 frequency (low class)\n",
                "df_low10 = df.query('label == 6 or label == 7 or label == 13 or label == 17 or label == 28 or label == 30 or label == 45 or label == 46 or label == 47 or label == 49 or label == 54 or label == 55 or label == 57 or label == 58 or label == 62')\n",
                "df_sorted_low10 = df_low10.sort_values(['label', 'length'], ascending =[True, True]) \n",
                "# extracting top1 frequencies per file and storing it in a pandas df\n",
                "df_freqs_low10 = df_sorted_low10['path'].progress_apply(lambda x: pd.Series(extract_peak_frequency(x))) \n",
                "# joining the metadata df with the top1 frequency dataframe and renaming the column of newly created feature\n",
                "df_metadata_low10 = df_sorted_low10.join(df_freqs_low10).rename({0:'top_frequency'}, axis = 1)"
            ]
        },
        {
            "cell_type": "code",
            "execution_count": 13,
            "id": "b4b72a00-9b19-4de3-918d-b8180d3aceda",
            "metadata": {
                "tags": []
            },
            "outputs": [],
            "source": [
                "# top 50 frequency (low class)\n",
                "df_low50 = df.query('label == 6 or label == 7 or label == 13 or label == 17 or label == 28 or label == 30 or label == 45 or label == 46 or label == 47 or label == 49 or label == 54 or label == 55 or label == 57 or label == 58 or label == 62')\n",
                "df_sorted_low50 = df_low50.sort_values(['label', 'length'], ascending =[True, True]) \n",
                "# extracting top1 frequencies per file and storing it in a pandas df\n",
                "df_freqs_low50 = df_sorted_low50['path'].progress_apply(lambda x: pd.Series(extract_peak_frequency(x))) \n",
                "# joining the metadata df with the top1 frequency dataframe and renaming the column of newly created feature\n",
                "df_metadata_low50 = df_sorted_low50.join(df_freqs_low50).rename({0:'top_frequency'}, axis = 1)"
            ]
        },
        {
            "cell_type": "code",
            "execution_count": 79,
            "id": "9ae9cb38-fe89-4ae9-abcc-a7c16d85153d",
            "metadata": {
                "tags": []
            },
            "outputs": [],
            "source": [
                "plt.figure(figsize = (20,6))\n",
                "sns.boxplot(data = df_metadata_low1, x = 'species and label', y = \"top_frequency\")\n",
                "plt.xticks(rotation = 90)\n",
                "plt.title('Top 1 frequency (low classes)', fontsize = 20)\n",
                "plt.show()"
            ]
        },
        {
            "cell_type": "code",
            "execution_count": 78,
            "id": "cfccdaff-6055-4106-99c8-bad7208bc793",
            "metadata": {
                "tags": []
            },
            "outputs": [],
            "source": [
                "plt.figure(figsize = (20,6))\n",
                "sns.boxplot(data = df_metadata_low10, x = 'species and label', y = \"top_frequency\")\n",
                "plt.xticks(rotation = 90)\n",
                "plt.title('Top 10 frequency (low classes)', fontsize = 20)\n",
                "plt.show()"
            ]
        },
        {
            "cell_type": "code",
            "execution_count": 83,
            "id": "8ea533af-c42e-4a88-8042-e0311e6f8dde",
            "metadata": {},
            "outputs": [],
            "source": [
                "plt.figure(figsize = (20,6))\n",
                "sns.boxplot(data = df_metadata_low50, x = 'species and label', y = \"top_frequency\")\n",
                "plt.xticks(rotation = 90)\n",
                "plt.title('Top 50 frequency (low classes)', fontsize = 20)\n",
                "plt.show()"
            ]
        },
        {
            "cell_type": "code",
            "execution_count": 26,
            "id": "a31b109c-2305-4fa5-8ad3-f159530bc49b",
            "metadata": {
                "tags": []
            },
            "outputs": [],
            "source": [
                "# bad classes\n",
                "# species 6\n",
                "df_6 = df_low1.query('label == 6')\n",
                "df_train_6= df_low1.query('subset == \"train\" & label == 6')\n",
                "df_val_6= df_low1.query('subset == \"validation\" & label == 6')\n",
                "count6_train = df_train_6.count()\n",
                "count6_val = df_val_6.count()\n",
                "# files < 5 sec.\n",
                "df_train_6_5= df_train_6.query('length < 5')\n",
                "df_val_6_5= df_val_6.query('length < 5')\n",
                "count6_train_5 = df_train_6_5.count()\n",
                "count6_val_5 = df_val_6_5.count()\n",
                "# files < 10 sec.\n",
                "df_train_6_10= df_train_6.query('length > 5 & length > 10')\n",
                "df_val_6_10= df_val_6.query('length > 5 & length > 10')\n",
                "count6_train_10 = df_train_6_10.count()\n",
                "count6_val_10 = df_val_6_10.count()\n",
                "# files < 15 sec.\n",
                "df_train_6_15= df_train_6.query('length > 10 & length > 15')\n",
                "df_val_6_15= df_val_6.query('length > 10 & length > 15')\n",
                "count6_train_15 = df_train_6_15.count()\n",
                "count6_val_15 = df_val_6_15.count()\n",
                "\n",
                "# species 7\n",
                "df_7= df_low1.query('label == 7')\n",
                "df_train_7= df_low1.query('subset == \"train\" & label == 7')\n",
                "df_val_7= df_low1.query('subset == \"validation\" & label == 7')\n",
                "count7_train = df_train_7.count()\n",
                "count7_val = df_val_7.count()\n",
                "# files < 5 sec.\n",
                "df_train_7_5= df_train_7.query('length < 5')\n",
                "df_val_7_5= df_val_7.query('length < 5')\n",
                "count7_train_5 = df_train_7_5.count()\n",
                "count7_val_5 = df_val_7_5.count()\n",
                "# files < 10 sec.\n",
                "df_train_7_10= df_train_7.query('length > 5 & length > 10')\n",
                "df_val_7_10= df_val_7.query('length > 5 & length > 10')\n",
                "count7_train_10 = df_train_7_10.count()\n",
                "count7_val_10 = df_val_7_10.count()\n",
                "# files < 15 sec.\n",
                "df_train_7_15= df_train_7.query('length > 10 & length > 15')\n",
                "df_val_7_15= df_val_7.query('length > 10 & length > 15')\n",
                "count7_train_15 = df_train_7_15.count()\n",
                "count7_val_15 = df_val_7_15.count()\n",
                "\n",
                "# species 58\n",
                "df_58= df_low1.query('label == 58')\n",
                "df_train_58= df_low1.query('subset == \"train\" & label == 58')\n",
                "df_val_58= df_low1.query('subset == \"validation\" & label == 58')\n",
                "count58_train = df_train_58.count()\n",
                "count58_val = df_val_58.count()\n",
                "# files < 5 sec.\n",
                "df_train_58_5= df_train_58.query('length < 5')\n",
                "df_val_58_5= df_val_58.query('length < 5')\n",
                "count58_train_5 = df_train_58_5.count()\n",
                "count58_val_5 = df_val_58_5.count()\n",
                "# files < 10 sec.\n",
                "df_train_58_10= df_train_58.query('length > 5 & length > 10')\n",
                "df_val_58_10= df_val_58.query('length > 5 & length > 10')\n",
                "count58_train_10 = df_train_58_10.count()\n",
                "count58_val_10 = df_val_58_10.count()\n",
                "# files < 15 sec.\n",
                "df_train_58_15= df_train_58.query('length > 10 & length > 15')\n",
                "df_val_58_15= df_val_58.query('length > 10 & length > 15')\n",
                "count58_train_15 = df_train_58_15.count()\n",
                "count58_val_15 = df_val_58_15.count()\n",
                "\n",
                "# species 45\n",
                "df_45= df_low1.query('label == 45')\n",
                "df_train_45= df_low1.query('subset == \"train\" & label == 45')\n",
                "df_val_45= df_low1.query('subset == \"validation\" & label == 45')\n",
                "count45_train = df_train_45.count()\n",
                "count45_val = df_val_45.count()\n",
                "# files < 5 sec.\n",
                "df_train_45_5= df_train_45.query('length < 5')\n",
                "df_val_45_5= df_val_45.query('length < 5')\n",
                "count45_train_5 = df_train_45_5.count()\n",
                "count45_val_5 = df_val_45_5.count()\n",
                "# files < 10 sec.\n",
                "df_train_45_10= df_train_45.query('length > 5 & length > 10')\n",
                "df_val_45_10= df_val_45.query('length > 5 & length > 10')\n",
                "count45_train_10 = df_train_45_10.count()\n",
                "count45_val_10 = df_val_45_10.count()\n",
                "# files < 15 sec.\n",
                "df_train_45_15= df_train_45.query('length > 10 & length > 15')\n",
                "df_val_45_15= df_val_45.query('length > 10 & length > 15')\n",
                "count45_train_15 = df_train_45_15.count()\n",
                "count45_val_15 = df_val_45_15.count()\n",
                "\n",
                "# Spezies 57\n",
                "df_57= df_low1.query('label == 57')\n",
                "df_train_57= df_low1.query('subset == \"train\" & label == 57')\n",
                "df_val_57= df_low1.query('subset == \"validation\" & label == 57')\n",
                "count57_train = df_train_57.count()\n",
                "count57_val = df_val_57.count()\n",
                "# files < 5 sec.\n",
                "df_train_57_5= df_train_57.query('length < 5')\n",
                "df_val_57_5= df_val_57.query('length < 5')\n",
                "count57_train_5 = df_train_57_5.count()\n",
                "count57_val_5 = df_val_57_5.count()\n",
                "# files < 10 sec.\n",
                "df_train_57_10= df_train_57.query('length > 5 & length > 10')\n",
                "df_val_57_10= df_val_57.query('length > 5 & length > 10')\n",
                "count57_train_10 = df_train_57_10.count()\n",
                "count57_val_10 = df_val_57_10.count()\n",
                "# files < 15 sec.\n",
                "df_train_57_15= df_train_57.query('length > 10 & length > 15')\n",
                "df_val_57_15= df_val_57.query('length > 10 & length > 15')\n",
                "count57_train_15 = df_train_57_15.count()\n",
                "count57_val_15 = df_val_57_15.count()"
            ]
        },
        {
            "cell_type": "code",
            "execution_count": 10,
            "id": "4e2892ff-c7d5-43b5-96d4-cb9d243a6d43",
            "metadata": {
                "tags": []
            },
            "outputs": [],
            "source": [
                "# good classes\n",
                "# species 48\n",
                "df_train_48= df_top1.query('subset == \"train\" & label == 48')\n",
                "df_val_48= df_top1.query('subset == \"validation\" & label == 48')\n",
                "count48_train = df_train_48.count()\n",
                "count48_val = df_val_48.count()\n",
                "# files < 5 sec.\n",
                "df_train_48_5= df_train_48.query('length < 5')\n",
                "df_val_48_5= df_val_48.query('length < 5')\n",
                "count48_train_5 = df_train_48_5.count()\n",
                "count48_val_5 = df_val_48_5.count()\n",
                "# files < 10 sec.\n",
                "df_train_48_10= df_train_48.query('length > 5 & length > 10')\n",
                "df_val_48_10= df_val_48.query('length > 5 & length > 10')\n",
                "count48_train_10 = df_train_48_10.count()\n",
                "count48_val_10 = df_val_48_10.count()\n",
                "# files < 15 sec.\n",
                "df_train_48_15= df_train_48.query('length > 10 & length > 15')\n",
                "df_val_48_15= df_val_48.query('length > 10 & length > 15')\n",
                "count48_train_15 = df_train_48_15.count()\n",
                "count48_val_15 = df_val_48_15.count()\n",
                "\n",
                "# species 15\n",
                "df_train_15= df_top1.query('subset == \"train\" & label == 15')\n",
                "df_val_15= df_top1.query('subset == \"validation\" & label == 15')\n",
                "count15_train = df_train_15.count()\n",
                "count15_val = df_val_15.count()\n",
                "# files < 5 sec.\n",
                "df_train_15_5= df_train_15.query('length < 5')\n",
                "df_val_15_5= df_val_15.query('length < 5')\n",
                "count15_train_5 = df_train_15_5.count()\n",
                "count15_val_5 = df_val_15_5.count()\n",
                "# files < 10 sec.\n",
                "df_train_15_10= df_train_15.query('length > 5 & length > 10')\n",
                "df_val_15_10= df_val_15.query('length > 5 & length > 10')\n",
                "count15_train_10 = df_train_15_10.count()\n",
                "count15_val_10 = df_val_15_10.count()\n",
                "# files < 15 sec.\n",
                "df_train_15_15= df_train_15.query('length > 10 & length > 15')\n",
                "df_val_15_15= df_val_15.query('length > 10 & length > 15')\n",
                "count15_train_15 = df_train_15_15.count()\n",
                "count15_val_15 = df_val_15_15.count()\n",
                "\n",
                "# species 18\n",
                "df_train_18= df_top1.query('subset == \"train\" & label == 18')\n",
                "df_val_18= df_top1.query('subset == \"validation\" & label == 18')\n",
                "count18_train = df_train_18.count()\n",
                "count18_val = df_val_18.count()\n",
                "# files < 5 sec.\n",
                "df_train_18_5= df_train_18.query('length < 5')\n",
                "df_val_18_5= df_val_18.query('length < 5')\n",
                "count18_train_5 = df_train_18_5.count()\n",
                "count18_val_5 = df_val_18_5.count()\n",
                "# files < 10 sec.\n",
                "df_train_18_10= df_train_18.query('length > 5 & length > 10')\n",
                "df_val_18_10= df_val_18.query('length > 5 & length > 10')\n",
                "count18_train_10 = df_train_18_10.count()\n",
                "count18_val_10 = df_val_18_10.count()\n",
                "# files < 15 sec.\n",
                "df_train_18_15= df_train_18.query('length > 10 & length > 15')\n",
                "df_val_18_15= df_val_18.query('length > 10 & length > 15')\n",
                "count18_train_15 = df_train_18_15.count()\n",
                "count18_val_15 = df_val_18_15.count()\n",
                "\n",
                "# species 20\n",
                "df_train_20= df_top1.query('subset == \"train\" & label == 20')\n",
                "df_val_20= df_top1.query('subset == \"validation\" & label == 20')\n",
                "count20_train = df_train_20.count()\n",
                "count20_val = df_val_20.count()\n",
                "# files < 5 sec.\n",
                "df_train_20_5= df_train_20.query('length < 5')\n",
                "df_val_20_5= df_val_20.query('length < 5')\n",
                "count20_train_5 = df_train_20_5.count()\n",
                "count20_val_5 = df_val_20_5.count()\n",
                "# files < 10 sec.\n",
                "df_train_20_10= df_train_20.query('length > 5 & length > 10')\n",
                "df_val_20_10= df_val_20.query('length > 5 & length > 10')\n",
                "count20_train_10 = df_train_20_10.count()\n",
                "count20_val_10 = df_val_20_10.count()\n",
                "# files < 15 sec.\n",
                "df_train_20_15= df_train_20.query('length > 10 & length > 15')\n",
                "df_val_20_15= df_val_20.query('length > 10 & length > 15')\n",
                "count20_train_15 = df_train_20_15.count()\n",
                "count20_val_15 = df_val_20_15.count()\n",
                "\n",
                "# Spezies 64\n",
                "df_train_64= df_top1.query('subset == \"train\" & label == 64')\n",
                "df_val_64= df_top1.query('subset == \"validation\" & label == 64')\n",
                "count64_train = df_train_64.count()\n",
                "count64_val = df_val_64.count()\n",
                "# files < 5 sec.\n",
                "df_train_64_5= df_train_64.query('length < 5')\n",
                "df_val_64_5= df_val_64.query('length < 5')\n",
                "count64_train_5 = df_train_64_5.count()\n",
                "count64_val_5 = df_val_64_5.count()\n",
                "# files < 10 sec.\n",
                "df_train_64_10= df_train_64.query('length > 5 & length > 10')\n",
                "df_val_64_10= df_val_64.query('length > 5 & length > 10')\n",
                "count64_train_10 = df_train_64_10.count()\n",
                "count64_val_10 = df_val_64_10.count()\n",
                "# files < 15 sec.\n",
                "df_train_64_15= df_train_64.query('length > 10 & length > 15')\n",
                "df_val_64_15= df_val_64.query('length > 10 & length > 15')\n",
                "count64_train_15 = df_train_64_15.count()\n",
                "count64_val_15 = df_val_64_15.count()"
            ]
        },
        {
            "cell_type": "code",
            "execution_count": 11,
            "id": "ecbec39a-3205-4b01-b80c-3da2e3bb5983",
            "metadata": {
                "tags": []
            },
            "outputs": [],
            "source": [
                "total_6 = count6_train['length']+count6_val['length']\n",
                "total_7 = count7_train['length']+count7_val['length']\n",
                "total_58 = count58_train['length']+count58_val['length']\n",
                "total_45 = count45_train['length']+count45_val['length']\n",
                "total_57 = count57_train['length']+count57_val['length']\n",
                "\n",
                "# Percent greater equal 15 sec\n",
                "percent_6 = round(((total_6-count6_val_5-count6_val_10-count6_val_15) / total_6) * 100 , 2)\n",
                "percent_7 = round(((total_7-count7_val_5-count7_val_10-count7_val_15) / total_7) * 100 , 2)\n",
                "percent_58 = round(((total_58-count58_val_5-count58_val_10-count58_val_15) / total_58) * 100 , 2)\n",
                "percent_45 = round(((total_45-count45_val_5-count45_val_10-count45_val_15) / total_45) * 100 , 2)\n",
                "percent_57 = round(((total_57-count57_val_5-count57_val_10-count57_val_15) / total_57) * 100 , 2)"
            ]
        },
        {
            "cell_type": "code",
            "execution_count": 12,
            "id": "bfc6c3c8-40cb-4bd1-84c7-385e2d2c88ac",
            "metadata": {
                "tags": []
            },
            "outputs": [],
            "source": [
                "total_48 = count48_train['length']+count48_val['length']\n",
                "total_15 = count15_train['length']+count15_val['length']\n",
                "total_18 = count18_train['length']+count18_val['length']\n",
                "total_20 = count20_train['length']+count20_val['length']\n",
                "total_64 = count64_train['length']+count64_val['length']\n",
                "\n",
                "# Percent greater equal 15 sec\n",
                "percent_48 = round(((total_48-count48_val_5-count48_val_10-count48_val_15) / total_48) * 100 , 2)\n",
                "percent_15 = round(((total_15-count15_val_5-count15_val_10-count15_val_15) / total_15) * 100 , 2)\n",
                "percent_18 = round(((total_18-count18_val_5-count18_val_10-count18_val_15) / total_18) * 100 , 2)\n",
                "percent_20 = round(((total_20-count20_val_5-count20_val_10-count20_val_15) / total_20) * 100 , 2)\n",
                "percent_64 = round(((total_64-count64_val_5-count64_val_10-count64_val_15) / total_64) * 100 , 2)"
            ]
        },
        {
            "cell_type": "code",
            "execution_count": 13,
            "id": "76f863a7-29d5-4b17-9434-b167bb2caf26",
            "metadata": {
                "tags": []
            },
            "outputs": [],
            "source": [
                "total_6 = count6_train['length']+count6_val['length']\n",
                "total_7 = count7_train['length']+count7_val['length']\n",
                "total_58 = count58_train['length']+count58_val['length']\n",
                "total_45 = count45_train['length']+count45_val['length']\n",
                "total_57 = count57_train['length']+count57_val['length']\n",
                "\n",
                "# Percent greater equal 15 sec\n",
                "percent_6 = round(((total_6-count6_val_5-count6_val_10-count6_val_15) / total_6) * 100 , 2)\n",
                "percent_7 = round(((total_7-count7_val_5-count7_val_10-count7_val_15) / total_7) * 100 , 2)\n",
                "percent_58 = round(((total_58-count58_val_5-count58_val_10-count58_val_15) / total_58) * 100 , 2)\n",
                "percent_45 = round(((total_45-count45_val_5-count45_val_10-count45_val_15) / total_45) * 100 , 2)\n",
                "percent_57 = round(((total_57-count57_val_5-count57_val_10-count57_val_15) / total_57) * 100 , 2)"
            ]
        },
        {
            "cell_type": "code",
            "execution_count": 41,
            "id": "e91699a9-a714-4ba4-8f42-99a621dcd617",
            "metadata": {
                "tags": []
            },
            "outputs": [],
            "source": [
                "print(\"species 6: \", \"train =\", count6_train['length'], \" validation =\", count6_val['length'], \"(\",total_6,\")\")\n",
                "print(\"            # files [0,5) sec.:  \", count6_val_5['length'])\n",
                "print(\"            # files [5,10) sec.: \", count6_val_10['length'])\n",
                "print(\"            # files [10,15) sec.:\", count6_val_15['length'])\n",
                "print(\"            # files >= 15 sec.:  \", percent_6['length'],\"%\")\n",
                "print(\"species 7: \",\"train =\", count7_train['length'], \"  validation =\", count7_val['length'], \"(\",total_7,\")\")\n",
                "print(\"            # files [0,5) sec.:  \", count7_val_5['length'])\n",
                "print(\"            # files [5,10) sec.: \", count7_val_10['length'])\n",
                "print(\"            # files [10,15) sec.:\", count7_val_15['length'])\n",
                "print(\"            # files >= 15 sec.:  \", percent_7['length'],\"%\")\n",
                "print(\"species 58:\",\"train =\", count58_train['length'], \" validation =\", count58_val['length'] , \"(\",total_58,\")\")\n",
                "print(\"            # files [0,5) sec.:  \", count58_val_5['length'])\n",
                "print(\"            # files [5,10) sec.: \", count58_val_10['length'])\n",
                "print(\"            # files [10,15) sec.:\", count58_val_15['length'])\n",
                "print(\"            # files >= 15 sec.:  \", percent_58['length'],\"%\")\n",
                "print(\"species 45:\",\"train =\", count45_train['length'], \" validation =\", count45_val['length'], \"(\",total_45,\")\")\n",
                "print(\"            # files [0,5) sec.:  \", count45_val_5['length'])\n",
                "print(\"            # files [5,10) sec.: \", count45_val_10['length'])\n",
                "print(\"            # files [10,15) sec.:\", count45_val_15['length'])\n",
                "print(\"            # files >= 15 sec.:  \", percent_45['length'],\"%\")\n",
                "print(\"species 57:\",\"train =\", count57_train['length'], \" validation =\", count57_val['length'], \"(\",total_57,\")\")\n",
                "print(\"            # files [0,5) sec.:  \", count57_val_5['length'])\n",
                "print(\"            # files [5,10) sec.: \", count57_val_10['length'])\n",
                "print(\"            # files [10,15) sec.:\", count57_val_15['length'])\n",
                "print(\"            # files >= 15 sec.:  \", percent_57['length'],\"%\")"
            ]
        },
        {
            "cell_type": "code",
            "execution_count": 62,
            "id": "76ba6411-cce4-4f23-9599-27a423c5104b",
            "metadata": {},
            "outputs": [],
            "source": [
                "print(\"species 48: \", \"train =\", count48_train['length'], \" validation =\", count48_val['length'], \"(\",total_48,\")\")\n",
                "print(\"            # files [0,5) sec.:  \", count48_val_5['length'])\n",
                "print(\"            # files [5,10) sec.: \", count48_val_10['length'])\n",
                "print(\"            # files [10,15) sec.:\", count48_val_15['length'])\n",
                "print(\"            # files >= 15 sec.:  \", percent_48['length'],\"%\")\n",
                "print(\"species 15: \",\"train =\", count15_train['length'], \"  validation =\", count15_val['length'], \"(\",total_15,\")\")\n",
                "print(\"            # files [0,5) sec.:  \", count15_val_5['length'])\n",
                "print(\"            # files [5,10) sec.: \", count15_val_10['length'])\n",
                "print(\"            # files [10,15) sec.:\", count15_val_15['length'])\n",
                "print(\"            # files >= 15 sec.:  \", percent_15['length'],\"%\")\n",
                "print(\"species 18:\",\"train =\", count18_train['length'], \" validation =\", count18_val['length'] , \"(\",total_18,\")\")\n",
                "print(\"            # files [0,5) sec.:  \", count18_val_5['length'])\n",
                "print(\"            # files [5,10) sec.: \", count18_val_10['length'])\n",
                "print(\"            # files [10,15) sec.:\", count18_val_15['length'])\n",
                "print(\"            # files >= 15 sec.:  \", percent_18['length'],\"%\")\n",
                "print(\"species 20:\",\"train =\", count20_train['length'], \" validation =\", count20_val['length'], \"(\",total_20,\")\")\n",
                "print(\"            # files [0,5) sec.:  \", count20_val_5['length'])\n",
                "print(\"            # files [5,10) sec.: \", count20_val_10['length'])\n",
                "print(\"            # files [10,15) sec.:\", count20_val_15['length'])\n",
                "print(\"            # files >= 15 sec.:  \", percent_20['length'],\"%\")\n",
                "print(\"species 64:\",\"train =\", count64_train['length'], \" validation =\", count64_val['length'], \"(\",total_64,\")\")\n",
                "print(\"            # files [0,5) sec.:  \", count64_val_5['length'])\n",
                "print(\"            # files [5,10) sec.: \", count64_val_10['length'])\n",
                "print(\"            # files [10,15) sec.:\", count64_val_15['length'])\n",
                "print(\"            # files >= 15 sec.:  \", percent_64['length'],\"%\")"
            ]
        },
        {
            "cell_type": "code",
            "execution_count": 21,
            "id": "6e76131f-ef90-4a94-899a-6d507b5f10e7",
            "metadata": {},
            "outputs": [],
            "source": [
                "# get length of bad vs. good classes\n",
                "df_28 = df.query('label == 28')\n",
                "df_train_28= df.query('subset == \"train\" & label == 28')\n",
                "df_val_28= df.query('subset == \"validation\" & label == 28')\n",
                "df_sort_28 = df_28.sort_values(['length'], ascending =[True]) \n",
                "df_sort_train_28 = df_train_28.sort_values(['length'], ascending =[True]) \n",
                "df_sort_val_28 = df_val_28.sort_values(['length'], ascending =[True]) "
            ]
        },
        {
            "cell_type": "code",
            "execution_count": 22,
            "id": "5fcb9bb8-dab3-4f9c-9afa-a20dab60372a",
            "metadata": {
                "tags": []
            },
            "outputs": [],
            "source": [
                "plt.title('length files species 28', fontsize = 10)\n",
                "plt.plot(np.arange(0,len(df_28['length'])), df_sort_28['length'], '--', color=\"black\")\n",
                "plt.plot(np.arange(0,len(df_train_28['length'])), df_sort_train_28['length'], color=\"orange\")\n",
                "plt.plot(np.arange(0,len(df_val_28['length'])), df_sort_val_28['length'], color=\"cyan\")\n",
                "plt.legend([\"total\", \"train\", \"validation\"])\n",
                "plt.show()"
            ]
        },
        {
            "cell_type": "code",
            "execution_count": 79,
            "id": "3a68c779-a3c8-48f6-9039-78f6e14195cc",
            "metadata": {
                "tags": []
            },
            "outputs": [],
            "source": [
                "# bad classes\n",
                "df_13 = df.query('label == 13')\n",
                "df_17 = df.query('label == 17')\n",
                "df_30 = df.query('label == 30')\n",
                "df_45 = df.query('label == 45')\n",
                "df_47 = df.query('label == 47')\n",
                "df_49 = df.query('label == 49')\n",
                "df_54 = df.query('label == 54')"
            ]
        },
        {
            "cell_type": "code",
            "execution_count": 80,
            "id": "333d21e6-466c-4b4f-8a3a-0533cb6616a4",
            "metadata": {
                "tags": []
            },
            "outputs": [],
            "source": [
                "# good classes\n",
                "df_15 = df.query('label == 15')\n",
                "df_18 = df.query('label == 18')\n",
                "df_20 = df.query('label == 20')\n",
                "df_22 = df.query('label == 22')\n",
                "df_31 = df.query('label == 31')\n",
                "df_48 = df.query('label == 48')\n",
                "df_64 = df.query('label == 64')"
            ]
        },
        {
            "cell_type": "code",
            "execution_count": 81,
            "id": "421e8671-55e8-4020-968b-ac1b8ece495b",
            "metadata": {
                "tags": []
            },
            "outputs": [],
            "source": [
                "max_min_13 = [df_13['length'].min()]\n",
                "max_min_13.append(df_13['length'].max())\n",
                "max_min_17 = [df_17['length'].min()]\n",
                "max_min_17.append(df_17['length'].max())\n",
                "max_min_45 = [df_45['length'].min()]\n",
                "max_min_45.append(df_45['length'].max())\n",
                "max_min_47 = [df_47['length'].min()]\n",
                "max_min_47.append(df_47['length'].max())\n",
                "max_min_49 = [df_49['length'].min()]\n",
                "max_min_49.append(df_49['length'].max())\n",
                "max_min_54 = [df_54['length'].min()]\n",
                "max_min_54.append(df_54['length'].max())"
            ]
        },
        {
            "cell_type": "code",
            "execution_count": 82,
            "id": "0e9b6f23-d031-4d81-b7c2-b0b59bda0753",
            "metadata": {
                "tags": []
            },
            "outputs": [],
            "source": [
                "max_min_15 = [df_15['length'].min()]\n",
                "max_min_15.append(df_15['length'].max())\n",
                "max_min_18 = [df_18['length'].min()]\n",
                "max_min_18.append(df_18['length'].max())\n",
                "max_min_20 = [df_20['length'].min()]\n",
                "max_min_20.append(df_20['length'].max())\n",
                "max_min_22 = [df_22['length'].min()]\n",
                "max_min_22.append(df_22['length'].max())\n",
                "max_min_48 = [df_48['length'].min()]\n",
                "max_min_48.append(df_48['length'].max())\n",
                "max_min_64 = [df_64['length'].min()]\n",
                "max_min_64.append(df_64['length'].max())"
            ]
        },
        {
            "cell_type": "code",
            "execution_count": 87,
            "id": "2efd6cfc-959e-41d9-b044-1c6711d7bdec",
            "metadata": {
                "tags": []
            },
            "outputs": [],
            "source": [
                "plt.title('Bad classes', fontsize = 10)\n",
                "plt.scatter(x = max_min_13[0], y = max_min_13[1])\n",
                "plt.scatter(x = max_min_17[0], y = max_min_17[1])\n",
                "plt.scatter(x = max_min_45[0], y = max_min_45[1])\n",
                "plt.scatter(x = max_min_47[0], y = max_min_47[1])\n",
                "plt.scatter(x = max_min_49[0], y = max_min_49[1])\n",
                "plt.scatter(x = max_min_54[0], y = max_min_54[1])\n",
                "plt.xlabel(\"Minimum length\")\n",
                "plt.ylabel(\"Maximum length\")\n",
                "plt.legend([\"species 13\", \"species 17\", \"species 45\", \"species 47\", \"species 49\", \"species 54\"])\n",
                "plt.show()"
            ]
        },
        {
            "cell_type": "code",
            "execution_count": 88,
            "id": "6bd2f2ef-0387-4beb-9ad0-a8cd4fe82d18",
            "metadata": {
                "tags": []
            },
            "outputs": [],
            "source": [
                "plt.title('Good classes', fontsize = 10)\n",
                "plt.scatter(x = max_min_15[0], y = max_min_15[1])\n",
                "plt.scatter(x = max_min_18[0], y = max_min_18[1])\n",
                "plt.scatter(x = max_min_20[0], y = max_min_20[1])\n",
                "plt.scatter(x = max_min_22[0], y = max_min_22[1])\n",
                "plt.scatter(x = max_min_48[0], y = max_min_48[1])\n",
                "plt.scatter(x = max_min_64[0], y = max_min_64[1])\n",
                "plt.xlabel(\"Minimum length\")\n",
                "plt.ylabel(\"Maximum length\")\n",
                "plt.legend([\"species 15\", \"species 18\", \"species 20\", \"species 22\", \"species 48\", \"species 64\"])\n",
                "plt.show()"
            ]
        },
        {
            "cell_type": "code",
            "execution_count": 3,
            "id": "735b12d9-01d6-4c7a-8ed2-ea1e23764e65",
            "metadata": {},
            "outputs": [],
            "source": [
                "df1cw = pd.read_csv(f'notebooks/Raffaela/effnet_baseline/maxmin_6_v1_cw/val_evaluation.csv')\n",
                "df1cw.drop(df1cw.tail(3).index, inplace=True)\n",
                "f1_df1cw = df1cw[['f1-score']].mean()"
            ]
        },
        {
            "cell_type": "code",
            "execution_count": 4,
            "id": "5dfee4e8-6095-457f-bfeb-5b140692f8de",
            "metadata": {
                "tags": []
            },
            "outputs": [],
            "source": [
                "df2cw = pd.read_csv(f'notebooks/Raffaela/effnet_baseline/maxmin_6_v2_cw/val_evaluation.csv')\n",
                "df2cw.drop(df2cw.tail(3).index, inplace=True)\n",
                "f1_df2cw = df2cw[['f1-score']].mean()"
            ]
        },
        {
            "cell_type": "code",
            "execution_count": 5,
            "id": "b3eacd6d-3b76-47a2-a60c-5e2fae79949e",
            "metadata": {},
            "outputs": [],
            "source": [
                "df3cw = pd.read_csv(f'notebooks/Raffaela/effnet_baseline/maxmin_6_v3_cw/val_evaluation.csv')\n",
                "df3cw.drop(df3cw.tail(3).index, inplace=True)\n",
                "f1_df3cw = df3cw[['f1-score']].mean()"
            ]
        },
        {
            "cell_type": "code",
            "execution_count": 6,
            "id": "f72c71f6-a849-4b20-8730-eff86f3b68e6",
            "metadata": {},
            "outputs": [],
            "source": [
                "df2lrcw = pd.read_csv(f'notebooks/Raffaela/effnet_baseline/maxmin_6_v2_cw_LR/val_evaluation.csv')\n",
                "df2lrcw.drop(df2lrcw.tail(3).index, inplace=True)\n",
                "f1_df2lrcw = df2lrcw[['f1-score']].mean()"
            ]
        },
        {
            "cell_type": "code",
            "execution_count": 7,
            "id": "8899291e-573b-4756-b1c8-49d50abe74df",
            "metadata": {
                "tags": []
            },
            "outputs": [],
            "source": [
                "df2lr = pd.read_csv(f'notebooks/Raffaela/effnet_baseline/maxmin_6_v2_LR/val_evaluation.csv')\n",
                "df2lr.drop(df2lr.tail(3).index, inplace=True)\n",
                "f1_df2lr =df2lr[['f1-score']].mean()"
            ]
        },
        {
            "cell_type": "code",
            "execution_count": 8,
            "id": "5b77cd30-928b-4345-910a-fd670aebc3c8",
            "metadata": {
                "tags": []
            },
            "outputs": [],
            "source": [
                "df2 = pd.read_csv(f'notebooks/Raffaela/effnet_baseline/maxmin_6_v2/val_evaluation.csv')\n",
                "df2.drop(df2.tail(3).index, inplace=True)\n",
                "f1_df2 =df2[['f1-score']].mean()"
            ]
        },
        {
            "cell_type": "code",
            "execution_count": 9,
            "id": "3ede9259-ce7d-4457-90ad-af8f951efbad",
            "metadata": {
                "tags": []
            },
            "outputs": [],
            "source": [
                "df2cw_2 = pd.read_csv(f'notebooks/Raffaela/effnet_baseline/maxmin_6_2_v2_cw/val_evaluation.csv')\n",
                "df2cw_2.drop(df2cw_2.tail(3).index, inplace=True)\n",
                "f1_df2cw_2 = df2cw_2[['f1-score']].mean()"
            ]
        },
        {
            "cell_type": "code",
            "execution_count": 10,
            "id": "e19e9d16-a9b3-4dbe-8766-30493941dd4a",
            "metadata": {},
            "outputs": [],
            "source": [
                "df2cwlr_val = pd.read_csv(f'notebooks/Raffaela/effnet_baseline/maxmin_6_v2_cw_LR_val/val_evaluation.csv')\n",
                "df2cwlr_val.drop(df2cwlr_val.tail(3).index, inplace=True)\n",
                "f1_df2cwlr_val = df2cwlr_val[['f1-score']].mean()"
            ]
        },
        {
            "cell_type": "code",
            "execution_count": 12,
            "id": "1511a3f5-5f9c-4e13-9aba-13a04ddd1413",
            "metadata": {},
            "outputs": [],
            "source": [
                "print(\"f1_df1cw =\", f1_df1cw)\n",
                "print(\"f1_df2cw =\", f1_df2cw)\n",
                "print(\"f1_df3cw =\", f1_df3cw)\n",
                "print(\"f1_df2lrcw =\", f1_df2lrcw)\n",
                "print(\"f1_df2lr =\", f1_df2lr)\n",
                "print(\"f1_df2 =\", f1_df2)\n",
                "print(\"f1_df2cw_2 =\", f1_df2cw_2)\n",
                "print(\"f1_df2cwlr_val=\", f1_df2cwlr_val)"
            ]
        },
        {
            "cell_type": "code",
            "execution_count": null,
            "id": "107e528a-4797-4f3f-a2b1-91e9ac2de5d1",
            "metadata": {},
            "outputs": [],
            "source": []
        }
    ],
    "metadata": {
        "availableInstances": [
            {
                "_defaultOrder": 0,
                "_isFastLaunch": true,
                "category": "General purpose",
                "gpuNum": 0,
                "hideHardwareSpecs": false,
                "memoryGiB": 4,
                "name": "ml.t3.medium",
                "vcpuNum": 2
            },
            {
                "_defaultOrder": 1,
                "_isFastLaunch": false,
                "category": "General purpose",
                "gpuNum": 0,
                "hideHardwareSpecs": false,
                "memoryGiB": 8,
                "name": "ml.t3.large",
                "vcpuNum": 2
            },
            {
                "_defaultOrder": 2,
                "_isFastLaunch": false,
                "category": "General purpose",
                "gpuNum": 0,
                "hideHardwareSpecs": false,
                "memoryGiB": 16,
                "name": "ml.t3.xlarge",
                "vcpuNum": 4
            },
            {
                "_defaultOrder": 3,
                "_isFastLaunch": false,
                "category": "General purpose",
                "gpuNum": 0,
                "hideHardwareSpecs": false,
                "memoryGiB": 32,
                "name": "ml.t3.2xlarge",
                "vcpuNum": 8
            },
            {
                "_defaultOrder": 4,
                "_isFastLaunch": true,
                "category": "General purpose",
                "gpuNum": 0,
                "hideHardwareSpecs": false,
                "memoryGiB": 8,
                "name": "ml.m5.large",
                "vcpuNum": 2
            },
            {
                "_defaultOrder": 5,
                "_isFastLaunch": false,
                "category": "General purpose",
                "gpuNum": 0,
                "hideHardwareSpecs": false,
                "memoryGiB": 16,
                "name": "ml.m5.xlarge",
                "vcpuNum": 4
            },
            {
                "_defaultOrder": 6,
                "_isFastLaunch": false,
                "category": "General purpose",
                "gpuNum": 0,
                "hideHardwareSpecs": false,
                "memoryGiB": 32,
                "name": "ml.m5.2xlarge",
                "vcpuNum": 8
            },
            {
                "_defaultOrder": 7,
                "_isFastLaunch": false,
                "category": "General purpose",
                "gpuNum": 0,
                "hideHardwareSpecs": false,
                "memoryGiB": 64,
                "name": "ml.m5.4xlarge",
                "vcpuNum": 16
            },
            {
                "_defaultOrder": 8,
                "_isFastLaunch": false,
                "category": "General purpose",
                "gpuNum": 0,
                "hideHardwareSpecs": false,
                "memoryGiB": 128,
                "name": "ml.m5.8xlarge",
                "vcpuNum": 32
            },
            {
                "_defaultOrder": 9,
                "_isFastLaunch": false,
                "category": "General purpose",
                "gpuNum": 0,
                "hideHardwareSpecs": false,
                "memoryGiB": 192,
                "name": "ml.m5.12xlarge",
                "vcpuNum": 48
            },
            {
                "_defaultOrder": 10,
                "_isFastLaunch": false,
                "category": "General purpose",
                "gpuNum": 0,
                "hideHardwareSpecs": false,
                "memoryGiB": 256,
                "name": "ml.m5.16xlarge",
                "vcpuNum": 64
            },
            {
                "_defaultOrder": 11,
                "_isFastLaunch": false,
                "category": "General purpose",
                "gpuNum": 0,
                "hideHardwareSpecs": false,
                "memoryGiB": 384,
                "name": "ml.m5.24xlarge",
                "vcpuNum": 96
            },
            {
                "_defaultOrder": 12,
                "_isFastLaunch": false,
                "category": "General purpose",
                "gpuNum": 0,
                "hideHardwareSpecs": false,
                "memoryGiB": 8,
                "name": "ml.m5d.large",
                "vcpuNum": 2
            },
            {
                "_defaultOrder": 13,
                "_isFastLaunch": false,
                "category": "General purpose",
                "gpuNum": 0,
                "hideHardwareSpecs": false,
                "memoryGiB": 16,
                "name": "ml.m5d.xlarge",
                "vcpuNum": 4
            },
            {
                "_defaultOrder": 14,
                "_isFastLaunch": false,
                "category": "General purpose",
                "gpuNum": 0,
                "hideHardwareSpecs": false,
                "memoryGiB": 32,
                "name": "ml.m5d.2xlarge",
                "vcpuNum": 8
            },
            {
                "_defaultOrder": 15,
                "_isFastLaunch": false,
                "category": "General purpose",
                "gpuNum": 0,
                "hideHardwareSpecs": false,
                "memoryGiB": 64,
                "name": "ml.m5d.4xlarge",
                "vcpuNum": 16
            },
            {
                "_defaultOrder": 16,
                "_isFastLaunch": false,
                "category": "General purpose",
                "gpuNum": 0,
                "hideHardwareSpecs": false,
                "memoryGiB": 128,
                "name": "ml.m5d.8xlarge",
                "vcpuNum": 32
            },
            {
                "_defaultOrder": 17,
                "_isFastLaunch": false,
                "category": "General purpose",
                "gpuNum": 0,
                "hideHardwareSpecs": false,
                "memoryGiB": 192,
                "name": "ml.m5d.12xlarge",
                "vcpuNum": 48
            },
            {
                "_defaultOrder": 18,
                "_isFastLaunch": false,
                "category": "General purpose",
                "gpuNum": 0,
                "hideHardwareSpecs": false,
                "memoryGiB": 256,
                "name": "ml.m5d.16xlarge",
                "vcpuNum": 64
            },
            {
                "_defaultOrder": 19,
                "_isFastLaunch": false,
                "category": "General purpose",
                "gpuNum": 0,
                "hideHardwareSpecs": false,
                "memoryGiB": 384,
                "name": "ml.m5d.24xlarge",
                "vcpuNum": 96
            },
            {
                "_defaultOrder": 20,
                "_isFastLaunch": false,
                "category": "General purpose",
                "gpuNum": 0,
                "hideHardwareSpecs": true,
                "memoryGiB": 0,
                "name": "ml.geospatial.interactive",
                "supportedImageNames": [
                    "sagemaker-geospatial-v1-0"
                ],
                "vcpuNum": 0
            },
            {
                "_defaultOrder": 21,
                "_isFastLaunch": true,
                "category": "Compute optimized",
                "gpuNum": 0,
                "hideHardwareSpecs": false,
                "memoryGiB": 4,
                "name": "ml.c5.large",
                "vcpuNum": 2
            },
            {
                "_defaultOrder": 22,
                "_isFastLaunch": false,
                "category": "Compute optimized",
                "gpuNum": 0,
                "hideHardwareSpecs": false,
                "memoryGiB": 8,
                "name": "ml.c5.xlarge",
                "vcpuNum": 4
            },
            {
                "_defaultOrder": 23,
                "_isFastLaunch": false,
                "category": "Compute optimized",
                "gpuNum": 0,
                "hideHardwareSpecs": false,
                "memoryGiB": 16,
                "name": "ml.c5.2xlarge",
                "vcpuNum": 8
            },
            {
                "_defaultOrder": 24,
                "_isFastLaunch": false,
                "category": "Compute optimized",
                "gpuNum": 0,
                "hideHardwareSpecs": false,
                "memoryGiB": 32,
                "name": "ml.c5.4xlarge",
                "vcpuNum": 16
            },
            {
                "_defaultOrder": 25,
                "_isFastLaunch": false,
                "category": "Compute optimized",
                "gpuNum": 0,
                "hideHardwareSpecs": false,
                "memoryGiB": 72,
                "name": "ml.c5.9xlarge",
                "vcpuNum": 36
            },
            {
                "_defaultOrder": 26,
                "_isFastLaunch": false,
                "category": "Compute optimized",
                "gpuNum": 0,
                "hideHardwareSpecs": false,
                "memoryGiB": 96,
                "name": "ml.c5.12xlarge",
                "vcpuNum": 48
            },
            {
                "_defaultOrder": 27,
                "_isFastLaunch": false,
                "category": "Compute optimized",
                "gpuNum": 0,
                "hideHardwareSpecs": false,
                "memoryGiB": 144,
                "name": "ml.c5.18xlarge",
                "vcpuNum": 72
            },
            {
                "_defaultOrder": 28,
                "_isFastLaunch": false,
                "category": "Compute optimized",
                "gpuNum": 0,
                "hideHardwareSpecs": false,
                "memoryGiB": 192,
                "name": "ml.c5.24xlarge",
                "vcpuNum": 96
            },
            {
                "_defaultOrder": 29,
                "_isFastLaunch": true,
                "category": "Accelerated computing",
                "gpuNum": 1,
                "hideHardwareSpecs": false,
                "memoryGiB": 16,
                "name": "ml.g4dn.xlarge",
                "vcpuNum": 4
            },
            {
                "_defaultOrder": 30,
                "_isFastLaunch": false,
                "category": "Accelerated computing",
                "gpuNum": 1,
                "hideHardwareSpecs": false,
                "memoryGiB": 32,
                "name": "ml.g4dn.2xlarge",
                "vcpuNum": 8
            },
            {
                "_defaultOrder": 31,
                "_isFastLaunch": false,
                "category": "Accelerated computing",
                "gpuNum": 1,
                "hideHardwareSpecs": false,
                "memoryGiB": 64,
                "name": "ml.g4dn.4xlarge",
                "vcpuNum": 16
            },
            {
                "_defaultOrder": 32,
                "_isFastLaunch": false,
                "category": "Accelerated computing",
                "gpuNum": 1,
                "hideHardwareSpecs": false,
                "memoryGiB": 128,
                "name": "ml.g4dn.8xlarge",
                "vcpuNum": 32
            },
            {
                "_defaultOrder": 33,
                "_isFastLaunch": false,
                "category": "Accelerated computing",
                "gpuNum": 4,
                "hideHardwareSpecs": false,
                "memoryGiB": 192,
                "name": "ml.g4dn.12xlarge",
                "vcpuNum": 48
            },
            {
                "_defaultOrder": 34,
                "_isFastLaunch": false,
                "category": "Accelerated computing",
                "gpuNum": 1,
                "hideHardwareSpecs": false,
                "memoryGiB": 256,
                "name": "ml.g4dn.16xlarge",
                "vcpuNum": 64
            },
            {
                "_defaultOrder": 35,
                "_isFastLaunch": false,
                "category": "Accelerated computing",
                "gpuNum": 1,
                "hideHardwareSpecs": false,
                "memoryGiB": 61,
                "name": "ml.p3.2xlarge",
                "vcpuNum": 8
            },
            {
                "_defaultOrder": 36,
                "_isFastLaunch": false,
                "category": "Accelerated computing",
                "gpuNum": 4,
                "hideHardwareSpecs": false,
                "memoryGiB": 244,
                "name": "ml.p3.8xlarge",
                "vcpuNum": 32
            },
            {
                "_defaultOrder": 37,
                "_isFastLaunch": false,
                "category": "Accelerated computing",
                "gpuNum": 8,
                "hideHardwareSpecs": false,
                "memoryGiB": 488,
                "name": "ml.p3.16xlarge",
                "vcpuNum": 64
            },
            {
                "_defaultOrder": 38,
                "_isFastLaunch": false,
                "category": "Accelerated computing",
                "gpuNum": 8,
                "hideHardwareSpecs": false,
                "memoryGiB": 768,
                "name": "ml.p3dn.24xlarge",
                "vcpuNum": 96
            },
            {
                "_defaultOrder": 39,
                "_isFastLaunch": false,
                "category": "Memory Optimized",
                "gpuNum": 0,
                "hideHardwareSpecs": false,
                "memoryGiB": 16,
                "name": "ml.r5.large",
                "vcpuNum": 2
            },
            {
                "_defaultOrder": 40,
                "_isFastLaunch": false,
                "category": "Memory Optimized",
                "gpuNum": 0,
                "hideHardwareSpecs": false,
                "memoryGiB": 32,
                "name": "ml.r5.xlarge",
                "vcpuNum": 4
            },
            {
                "_defaultOrder": 41,
                "_isFastLaunch": false,
                "category": "Memory Optimized",
                "gpuNum": 0,
                "hideHardwareSpecs": false,
                "memoryGiB": 64,
                "name": "ml.r5.2xlarge",
                "vcpuNum": 8
            },
            {
                "_defaultOrder": 42,
                "_isFastLaunch": false,
                "category": "Memory Optimized",
                "gpuNum": 0,
                "hideHardwareSpecs": false,
                "memoryGiB": 128,
                "name": "ml.r5.4xlarge",
                "vcpuNum": 16
            },
            {
                "_defaultOrder": 43,
                "_isFastLaunch": false,
                "category": "Memory Optimized",
                "gpuNum": 0,
                "hideHardwareSpecs": false,
                "memoryGiB": 256,
                "name": "ml.r5.8xlarge",
                "vcpuNum": 32
            },
            {
                "_defaultOrder": 44,
                "_isFastLaunch": false,
                "category": "Memory Optimized",
                "gpuNum": 0,
                "hideHardwareSpecs": false,
                "memoryGiB": 384,
                "name": "ml.r5.12xlarge",
                "vcpuNum": 48
            },
            {
                "_defaultOrder": 45,
                "_isFastLaunch": false,
                "category": "Memory Optimized",
                "gpuNum": 0,
                "hideHardwareSpecs": false,
                "memoryGiB": 512,
                "name": "ml.r5.16xlarge",
                "vcpuNum": 64
            },
            {
                "_defaultOrder": 46,
                "_isFastLaunch": false,
                "category": "Memory Optimized",
                "gpuNum": 0,
                "hideHardwareSpecs": false,
                "memoryGiB": 768,
                "name": "ml.r5.24xlarge",
                "vcpuNum": 96
            },
            {
                "_defaultOrder": 47,
                "_isFastLaunch": false,
                "category": "Accelerated computing",
                "gpuNum": 1,
                "hideHardwareSpecs": false,
                "memoryGiB": 16,
                "name": "ml.g5.xlarge",
                "vcpuNum": 4
            },
            {
                "_defaultOrder": 48,
                "_isFastLaunch": false,
                "category": "Accelerated computing",
                "gpuNum": 1,
                "hideHardwareSpecs": false,
                "memoryGiB": 32,
                "name": "ml.g5.2xlarge",
                "vcpuNum": 8
            },
            {
                "_defaultOrder": 49,
                "_isFastLaunch": false,
                "category": "Accelerated computing",
                "gpuNum": 1,
                "hideHardwareSpecs": false,
                "memoryGiB": 64,
                "name": "ml.g5.4xlarge",
                "vcpuNum": 16
            },
            {
                "_defaultOrder": 50,
                "_isFastLaunch": false,
                "category": "Accelerated computing",
                "gpuNum": 1,
                "hideHardwareSpecs": false,
                "memoryGiB": 128,
                "name": "ml.g5.8xlarge",
                "vcpuNum": 32
            },
            {
                "_defaultOrder": 51,
                "_isFastLaunch": false,
                "category": "Accelerated computing",
                "gpuNum": 1,
                "hideHardwareSpecs": false,
                "memoryGiB": 256,
                "name": "ml.g5.16xlarge",
                "vcpuNum": 64
            },
            {
                "_defaultOrder": 52,
                "_isFastLaunch": false,
                "category": "Accelerated computing",
                "gpuNum": 4,
                "hideHardwareSpecs": false,
                "memoryGiB": 192,
                "name": "ml.g5.12xlarge",
                "vcpuNum": 48
            },
            {
                "_defaultOrder": 53,
                "_isFastLaunch": false,
                "category": "Accelerated computing",
                "gpuNum": 4,
                "hideHardwareSpecs": false,
                "memoryGiB": 384,
                "name": "ml.g5.24xlarge",
                "vcpuNum": 96
            },
            {
                "_defaultOrder": 54,
                "_isFastLaunch": false,
                "category": "Accelerated computing",
                "gpuNum": 8,
                "hideHardwareSpecs": false,
                "memoryGiB": 768,
                "name": "ml.g5.48xlarge",
                "vcpuNum": 192
            },
            {
                "_defaultOrder": 55,
                "_isFastLaunch": false,
                "category": "Accelerated computing",
                "gpuNum": 8,
                "hideHardwareSpecs": false,
                "memoryGiB": 1152,
                "name": "ml.p4d.24xlarge",
                "vcpuNum": 96
            },
            {
                "_defaultOrder": 56,
                "_isFastLaunch": false,
                "category": "Accelerated computing",
                "gpuNum": 8,
                "hideHardwareSpecs": false,
                "memoryGiB": 1152,
                "name": "ml.p4de.24xlarge",
                "vcpuNum": 96
            }
        ],
        "kernelspec": {
            "display_name": "GDSC (custom-gdsc/1)",
            "language": "python",
            "name": "python3__SAGEMAKER_INTERNAL__arn:aws:sagemaker:us-east-1:821562550650:image-version/custom-gdsc/1"
        },
        "language_info": {
            "codemirror_mode": {
                "name": "ipython",
                "version": 3
            },
            "file_extension": ".py",
            "mimetype": "text/x-python",
            "name": "python",
            "nbconvert_exporter": "python",
            "pygments_lexer": "ipython3",
            "version": "3.10.8"
        },
        "lcc_arn": "arn:aws:sagemaker:us-east-1:821562550650:studio-lifecycle-config/clean-trash"
    },
    "nbformat": 4,
    "nbformat_minor": 5
}