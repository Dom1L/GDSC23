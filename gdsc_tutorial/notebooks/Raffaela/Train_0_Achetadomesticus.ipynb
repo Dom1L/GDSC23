{
    "cells": [
        {
            "cell_type": "code",
            "execution_count": 2,
            "id": "d924fca8-d351-4766-9480-09628d15ba57",
            "metadata": {},
            "outputs": [],
            "source": [
                "import sys # Python system library needed to load custom functions\n",
                "import math # module with access to mathematical functions\n",
                "import os # for changing the directory\n",
                "\n",
                "import numpy as np  # for performing calculations on numerical arrays\n",
                "import pandas as pd  # home of the DataFrame construct, _the_ most important object for Data Science\n",
                "\n",
                "from IPython.display import Audio # for listening to our insects\n",
                "import IPython\n",
                "from scipy.fft import fft # function to calculate Fast Fourier Transform\n",
                "\n",
                "import torchaudio \n",
                "\n",
                "import matplotlib.pyplot as plt  # allows creation of insightful plots\n",
                "import seaborn as sns # another library to make even more beautiful plots\n",
                "\n",
                "sys.path.append('../../src') # add the source directory to the PYTHONPATH. This allows to import local functions and modules.\n",
                "# enable rendering plots under the code cell that created it\n",
                "%matplotlib inline\n",
                "\n",
                "from eda_utils import show_sampling, signal_generator, plot_random_spec, plot_spec, plot_waveform # functions to create plots for and from audio data\n",
                "from gdsc_utils import download_directory, PROJECT_DIR # function to download GDSC data from S3 bucket and our root directory\n",
                "from config import DEFAULT_BUCKET  # S3 bucket with the GDSC data\n",
                "\n",
                "os.chdir(PROJECT_DIR) # changing our directory to root"
            ]
        },
        {
            "cell_type": "code",
            "execution_count": 2,
            "id": "96d12f3d-c0bd-4443-805d-989b19b5143f",
            "metadata": {},
            "outputs": [],
            "source": [
                "download_directory('data/', None, DEFAULT_BUCKET)"
            ]
        },
        {
            "cell_type": "code",
            "execution_count": 5,
            "id": "8202e3c6-223f-4e16-b4cc-6fbbd11e9c23",
            "metadata": {
                "tags": []
            },
            "outputs": [],
            "source": [
                "# plot waveform (the shape of the audio signal over time); amplitude of the audio signal (y) versus time (x)\n",
                "# # ep_data_x_y_z: \"ep\": expample path; \"data\": dataset; \"x\": label; \"y_z\": number\n",
                "ep_train_0_1 = 'data/train/Achetadomesticus_XC751740-dat004-040_edit1.wav'\n",
                "plot_waveform(ep_train_0_1)"
            ]
        },
        {
            "cell_type": "code",
            "execution_count": 6,
            "id": "81db9535-b090-4670-b384-b6a8adba0b8f",
            "metadata": {
                "tags": []
            },
            "outputs": [],
            "source": [
                "# hear expamle\n",
                "Audio(ep_train_0_1)"
            ]
        },
        {
            "cell_type": "code",
            "execution_count": 8,
            "id": "ca02121e-e126-4f56-ab30-075081724e15",
            "metadata": {
                "tags": []
            },
            "outputs": [],
            "source": [
                "ep_train_0_2 = 'data/train/Achetadomesticus_XC489193-Achetadomesticus_poland_psz_20140512_21.30h_3511.wav'\n",
                "plot_waveform(ep_train_0_2)"
            ]
        },
        {
            "cell_type": "code",
            "execution_count": 9,
            "id": "192da802-9ed9-4b8e-b51c-273122ab3805",
            "metadata": {
                "tags": []
            },
            "outputs": [],
            "source": [
                "Audio(ep_train_0_2)"
            ]
        },
        {
            "cell_type": "code",
            "execution_count": 5,
            "id": "e8f65e16-3927-46be-9b80-cf7878c8dfb9",
            "metadata": {
                "tags": []
            },
            "outputs": [],
            "source": [
                "ep_train_0_3 = 'data/train/Achetadomesticus_XC753090-Acheta-domesticus-Casamia_20_07_07_CANONE_2CH44K16.wav'"
            ]
        },
        {
            "cell_type": "code",
            "execution_count": 10,
            "id": "2f402e6f-f2a7-4466-a6b0-6e20202228f0",
            "metadata": {
                "tags": []
            },
            "outputs": [],
            "source": [
                "ep_train_0_3 = 'data/train/Achetadomesticus_XC753090-Acheta-domesticus-Casamia_20_07_07_CANONE_2CH44K16.wav'\n",
                "plot_waveform(ep_train_0_3)"
            ]
        },
        {
            "cell_type": "code",
            "execution_count": 11,
            "id": "7def2b19-06fe-466e-97bc-b9540c0059ed",
            "metadata": {
                "tags": []
            },
            "outputs": [],
            "source": [
                "Audio(ep_train_0_3)"
            ]
        },
        {
            "cell_type": "code",
            "execution_count": 12,
            "id": "8c9e9906-24e8-475c-b020-700d1c113110",
            "metadata": {
                "tags": []
            },
            "outputs": [],
            "source": [
                "ep_train_0_4 = 'data/train/Achetadomesticus_XC751755-dat194-005.wav'\n",
                "plot_waveform(ep_train_0_4)"
            ]
        },
        {
            "cell_type": "code",
            "execution_count": 13,
            "id": "2f0ac272-c281-43c4-92f5-dab5af391222",
            "metadata": {
                "tags": []
            },
            "outputs": [],
            "source": [
                "Audio(ep_train_0_4)"
            ]
        },
        {
            "cell_type": "code",
            "execution_count": 4,
            "id": "c8cd2f4d-1ada-4813-8eda-a1945b25709e",
            "metadata": {
                "tags": []
            },
            "outputs": [],
            "source": [
                "ep_train_0_5 = 'data/train/Achetadomesticus_XC751741-dat007-015.wav'\n",
                "plot_waveform(ep_train_0_5)"
            ]
        },
        {
            "cell_type": "code",
            "execution_count": 5,
            "id": "9498a78d-028f-4477-923f-153f9f992058",
            "metadata": {
                "tags": []
            },
            "outputs": [],
            "source": [
                "Audio(ep_train_0_5)"
            ]
        },
        {
            "cell_type": "code",
            "execution_count": 23,
            "id": "81a5d119-5265-4edc-9378-839462c3c3b7",
            "metadata": {},
            "outputs": [],
            "source": [
                "wave0_17, sample_rate = torchaudio.load(f'data/train/Achetadomesticus_XC751748-dat009-002_edit3.wav')\n",
                "wave0_17_1 = wave0_17[0] # only one channel\n",
                "wave0_17_1 = wave0_17_1[:50*sample_rate] "
            ]
        },
        {
            "cell_type": "code",
            "execution_count": 4,
            "id": "d30b5834-2fc3-4a3c-8971-c412794ea05d",
            "metadata": {},
            "outputs": [],
            "source": [
                "ep_train_0_17 = 'data/train/Achetadomesticus_XC751748-dat009-002_edit3.wav'\n",
                "plot_waveform(ep_train_0_17)"
            ]
        },
        {
            "cell_type": "code",
            "execution_count": 24,
            "id": "3b312845-a791-4f84-ba16-58d53445c58f",
            "metadata": {},
            "outputs": [],
            "source": [
                "Audio(wave0_17_1, rate = sample_rate)"
            ]
        },
        {
            "cell_type": "code",
            "execution_count": 26,
            "id": "9e45c36c-f859-4248-87e6-3f6c5c6251df",
            "metadata": {},
            "outputs": [],
            "source": [
                "wave0_17_2 = wave0_17[0] # only one channel\n",
                "wave0_17_2 = wave0_17_2[50*sample_rate:100*sample_rate] \n",
                "Audio(wave0_17_2, rate = sample_rate)"
            ]
        },
        {
            "cell_type": "code",
            "execution_count": 27,
            "id": "af10705a-36c6-4057-86fb-a60fc235af44",
            "metadata": {
                "tags": []
            },
            "outputs": [],
            "source": [
                "wave0_17_3 = wave0_17[0] # only one channel\n",
                "wave0_17_3 = wave0_17_3[100*sample_rate:150*sample_rate] \n",
                "Audio(wave0_17_3, rate = sample_rate)"
            ]
        },
        {
            "cell_type": "code",
            "execution_count": 28,
            "id": "e4443dff-5609-45ac-a1aa-0284327ae93a",
            "metadata": {
                "tags": []
            },
            "outputs": [],
            "source": [
                "wave0_17_4 = wave0_17[0] # only one channel\n",
                "wave0_17_4 = wave0_17_4[150*sample_rate:200*sample_rate] \n",
                "Audio(wave0_17_4, rate = sample_rate)"
            ]
        },
        {
            "cell_type": "code",
            "execution_count": 30,
            "id": "8b09f09c-684f-4e67-8705-e08a82666b38",
            "metadata": {
                "tags": []
            },
            "outputs": [],
            "source": [
                "wave0_17_5 = wave0_17[0] # only one channel\n",
                "wave0_17_5 = wave0_17_5[200*sample_rate:250*sample_rate] \n",
                "Audio(wave0_17_5, rate = sample_rate)"
            ]
        },
        {
            "cell_type": "code",
            "execution_count": 31,
            "id": "0108fbf6-391c-457d-acbc-4b6807185eb9",
            "metadata": {
                "tags": []
            },
            "outputs": [],
            "source": [
                "wave0_17_6 = wave0_17[0] # only one channel\n",
                "wave0_17_6 = wave0_17_6[250*sample_rate:300*sample_rate] \n",
                "Audio(wave0_17_6, rate = sample_rate)"
            ]
        },
        {
            "cell_type": "code",
            "execution_count": 32,
            "id": "9392c073-9884-42d6-9f7f-dfa3dfc2c52d",
            "metadata": {
                "tags": []
            },
            "outputs": [],
            "source": [
                "ep_train_0_16 = 'data/train/Achetadomesticus_XC751747-dat009-001_edit1.wav'\n",
                "plot_waveform(ep_train_0_16)"
            ]
        },
        {
            "cell_type": "code",
            "execution_count": 3,
            "id": "723ca00b-eb38-4b04-a8a0-a0126ec7bc9c",
            "metadata": {
                "tags": []
            },
            "outputs": [],
            "source": [
                "wave0_16, sample_rate = torchaudio.load(f'data/train/Achetadomesticus_XC751747-dat009-001_edit1.wav')\n",
                "wave0_16_1 = wave0_16[0] # only one channel\n",
                "wave0_16_1 = wave0_16_1[:50*sample_rate] "
            ]
        },
        {
            "cell_type": "code",
            "execution_count": 34,
            "id": "c7db8778-facc-453a-8dce-efe79a6cf640",
            "metadata": {
                "tags": []
            },
            "outputs": [],
            "source": [
                "Audio(wave0_16_1, rate = sample_rate)"
            ]
        },
        {
            "cell_type": "code",
            "execution_count": 35,
            "id": "85c17ca2-5411-4abf-a678-78f356269475",
            "metadata": {
                "tags": []
            },
            "outputs": [],
            "source": [
                "wave0_16_2 = wave0_16[0] # only one channel\n",
                "wave0_16_2 = wave0_16_2[50*sample_rate:100*sample_rate] \n",
                "Audio(wave0_16_2, rate = sample_rate)"
            ]
        },
        {
            "cell_type": "code",
            "execution_count": 36,
            "id": "116eac14-7ae3-4557-81cd-2a71f6abe71f",
            "metadata": {
                "tags": []
            },
            "outputs": [],
            "source": [
                "wave0_16_3 = wave0_16[0] # only one channel\n",
                "wave0_16_3 = wave0_16_3[100*sample_rate:150*sample_rate] \n",
                "Audio(wave0_16_3, rate = sample_rate)"
            ]
        },
        {
            "cell_type": "code",
            "execution_count": 6,
            "id": "160020a8-bd4e-4937-81c8-e6afccf8b705",
            "metadata": {},
            "outputs": [],
            "source": [
                "wave0_16_4 = wave0_16[0] # only one channel\n",
                "wave0_16_4 = wave0_16_4[150*sample_rate:200*sample_rate] \n",
                "Audio(wave0_16_4, rate = sample_rate)"
            ]
        },
        {
            "cell_type": "code",
            "execution_count": 7,
            "id": "d89a500d-3c48-4336-96d2-4c2f259ff40f",
            "metadata": {
                "tags": []
            },
            "outputs": [],
            "source": [
                "wave0_16_5 = wave0_16[0] # only one channel\n",
                "wave0_16_5 = wave0_16_5[200*sample_rate:] \n",
                "Audio(wave0_16_5, rate = sample_rate)"
            ]
        },
        {
            "cell_type": "code",
            "execution_count": 12,
            "id": "55f24dfc-ec7d-495d-a6f7-37a63412a76a",
            "metadata": {
                "tags": []
            },
            "outputs": [],
            "source": [
                "ep_train_0_15 = 'data/train/Achetadomesticus_XC751757-dat007-014.wav'\n",
                "plot_waveform(ep_train_0_15)"
            ]
        },
        {
            "cell_type": "code",
            "execution_count": 13,
            "id": "99aed71e-5dd4-4bd4-aea9-477f0436b973",
            "metadata": {
                "tags": []
            },
            "outputs": [],
            "source": [
                "wave0_15, sample_rate = torchaudio.load(f'data/train/Achetadomesticus_XC751757-dat007-014.wav')\n",
                "wave0_15_1 = wave0_15[0] # only one channel\n",
                "wave0_15_1 = wave0_15_1[:50*sample_rate] "
            ]
        },
        {
            "cell_type": "code",
            "execution_count": 14,
            "id": "abc604a1-0993-429d-ae97-39591b810a66",
            "metadata": {
                "tags": []
            },
            "outputs": [],
            "source": [
                "Audio(wave0_15_1, rate = sample_rate)"
            ]
        },
        {
            "cell_type": "code",
            "execution_count": 15,
            "id": "cfc86a05-b5d6-4405-9d1d-29c3738ec5d5",
            "metadata": {
                "tags": []
            },
            "outputs": [],
            "source": [
                "wave0_15_2 = wave0_15[0] # only one channel\n",
                "wave0_15_2 = wave0_15_2[50*sample_rate:100*sample_rate] \n",
                "Audio(wave0_15_2, rate = sample_rate)"
            ]
        },
        {
            "cell_type": "code",
            "execution_count": 16,
            "id": "4a10eb13-7712-46c1-8fdf-27d8336b6ecd",
            "metadata": {
                "tags": []
            },
            "outputs": [],
            "source": [
                "wave0_15_3 = wave0_15[0] # only one channel\n",
                "wave0_15_3 = wave0_15_3[100*sample_rate:150*sample_rate] \n",
                "Audio(wave0_15_3, rate = sample_rate)"
            ]
        },
        {
            "cell_type": "code",
            "execution_count": 17,
            "id": "4573af75-7684-49b8-bd01-7a916118a224",
            "metadata": {
                "tags": []
            },
            "outputs": [],
            "source": [
                "wave0_15_4 = wave0_15[0] # only one channel\n",
                "wave0_15_4 = wave0_15_4[150*sample_rate:] \n",
                "Audio(wave0_15_4, rate = sample_rate)"
            ]
        },
        {
            "cell_type": "code",
            "execution_count": 18,
            "id": "e635b3db-3556-4888-ac9b-68662781cab8",
            "metadata": {
                "tags": []
            },
            "outputs": [],
            "source": [
                "ep_train_0_14 = 'data/train/Achetadomesticus_XC751750-dat009-004_edit4.wav'\n",
                "plot_waveform(ep_train_0_14)"
            ]
        },
        {
            "cell_type": "code",
            "execution_count": 19,
            "id": "86bbb972-88d2-463f-860f-696f27cfde4a",
            "metadata": {
                "tags": []
            },
            "outputs": [],
            "source": [
                "ep_train_0_13 = 'data/train/Achetadomesticus_XC751750-dat009-004_edit1.wav'\n",
                "plot_waveform(ep_train_0_13)"
            ]
        },
        {
            "cell_type": "code",
            "execution_count": null,
            "id": "a1cf7043-2e09-40cd-b17b-3be5830318c3",
            "metadata": {
                "tags": []
            },
            "outputs": [],
            "source": [
                "ep_train_0_12 = 'data/train/Achetadomesticus_XC751750-dat009-004_edit3.wav'\n",
                "plot_waveform(ep_train_0_12)"
            ]
        },
        {
            "cell_type": "code",
            "execution_count": null,
            "id": "256a4b13-edb3-48a4-b796-93323f10121f",
            "metadata": {},
            "outputs": [],
            "source": []
        }
    ],
    "metadata": {
        "availableInstances": [
            {
                "_defaultOrder": 0,
                "_isFastLaunch": true,
                "category": "General purpose",
                "gpuNum": 0,
                "hideHardwareSpecs": false,
                "memoryGiB": 4,
                "name": "ml.t3.medium",
                "vcpuNum": 2
            },
            {
                "_defaultOrder": 1,
                "_isFastLaunch": false,
                "category": "General purpose",
                "gpuNum": 0,
                "hideHardwareSpecs": false,
                "memoryGiB": 8,
                "name": "ml.t3.large",
                "vcpuNum": 2
            },
            {
                "_defaultOrder": 2,
                "_isFastLaunch": false,
                "category": "General purpose",
                "gpuNum": 0,
                "hideHardwareSpecs": false,
                "memoryGiB": 16,
                "name": "ml.t3.xlarge",
                "vcpuNum": 4
            },
            {
                "_defaultOrder": 3,
                "_isFastLaunch": false,
                "category": "General purpose",
                "gpuNum": 0,
                "hideHardwareSpecs": false,
                "memoryGiB": 32,
                "name": "ml.t3.2xlarge",
                "vcpuNum": 8
            },
            {
                "_defaultOrder": 4,
                "_isFastLaunch": true,
                "category": "General purpose",
                "gpuNum": 0,
                "hideHardwareSpecs": false,
                "memoryGiB": 8,
                "name": "ml.m5.large",
                "vcpuNum": 2
            },
            {
                "_defaultOrder": 5,
                "_isFastLaunch": false,
                "category": "General purpose",
                "gpuNum": 0,
                "hideHardwareSpecs": false,
                "memoryGiB": 16,
                "name": "ml.m5.xlarge",
                "vcpuNum": 4
            },
            {
                "_defaultOrder": 6,
                "_isFastLaunch": false,
                "category": "General purpose",
                "gpuNum": 0,
                "hideHardwareSpecs": false,
                "memoryGiB": 32,
                "name": "ml.m5.2xlarge",
                "vcpuNum": 8
            },
            {
                "_defaultOrder": 7,
                "_isFastLaunch": false,
                "category": "General purpose",
                "gpuNum": 0,
                "hideHardwareSpecs": false,
                "memoryGiB": 64,
                "name": "ml.m5.4xlarge",
                "vcpuNum": 16
            },
            {
                "_defaultOrder": 8,
                "_isFastLaunch": false,
                "category": "General purpose",
                "gpuNum": 0,
                "hideHardwareSpecs": false,
                "memoryGiB": 128,
                "name": "ml.m5.8xlarge",
                "vcpuNum": 32
            },
            {
                "_defaultOrder": 9,
                "_isFastLaunch": false,
                "category": "General purpose",
                "gpuNum": 0,
                "hideHardwareSpecs": false,
                "memoryGiB": 192,
                "name": "ml.m5.12xlarge",
                "vcpuNum": 48
            },
            {
                "_defaultOrder": 10,
                "_isFastLaunch": false,
                "category": "General purpose",
                "gpuNum": 0,
                "hideHardwareSpecs": false,
                "memoryGiB": 256,
                "name": "ml.m5.16xlarge",
                "vcpuNum": 64
            },
            {
                "_defaultOrder": 11,
                "_isFastLaunch": false,
                "category": "General purpose",
                "gpuNum": 0,
                "hideHardwareSpecs": false,
                "memoryGiB": 384,
                "name": "ml.m5.24xlarge",
                "vcpuNum": 96
            },
            {
                "_defaultOrder": 12,
                "_isFastLaunch": false,
                "category": "General purpose",
                "gpuNum": 0,
                "hideHardwareSpecs": false,
                "memoryGiB": 8,
                "name": "ml.m5d.large",
                "vcpuNum": 2
            },
            {
                "_defaultOrder": 13,
                "_isFastLaunch": false,
                "category": "General purpose",
                "gpuNum": 0,
                "hideHardwareSpecs": false,
                "memoryGiB": 16,
                "name": "ml.m5d.xlarge",
                "vcpuNum": 4
            },
            {
                "_defaultOrder": 14,
                "_isFastLaunch": false,
                "category": "General purpose",
                "gpuNum": 0,
                "hideHardwareSpecs": false,
                "memoryGiB": 32,
                "name": "ml.m5d.2xlarge",
                "vcpuNum": 8
            },
            {
                "_defaultOrder": 15,
                "_isFastLaunch": false,
                "category": "General purpose",
                "gpuNum": 0,
                "hideHardwareSpecs": false,
                "memoryGiB": 64,
                "name": "ml.m5d.4xlarge",
                "vcpuNum": 16
            },
            {
                "_defaultOrder": 16,
                "_isFastLaunch": false,
                "category": "General purpose",
                "gpuNum": 0,
                "hideHardwareSpecs": false,
                "memoryGiB": 128,
                "name": "ml.m5d.8xlarge",
                "vcpuNum": 32
            },
            {
                "_defaultOrder": 17,
                "_isFastLaunch": false,
                "category": "General purpose",
                "gpuNum": 0,
                "hideHardwareSpecs": false,
                "memoryGiB": 192,
                "name": "ml.m5d.12xlarge",
                "vcpuNum": 48
            },
            {
                "_defaultOrder": 18,
                "_isFastLaunch": false,
                "category": "General purpose",
                "gpuNum": 0,
                "hideHardwareSpecs": false,
                "memoryGiB": 256,
                "name": "ml.m5d.16xlarge",
                "vcpuNum": 64
            },
            {
                "_defaultOrder": 19,
                "_isFastLaunch": false,
                "category": "General purpose",
                "gpuNum": 0,
                "hideHardwareSpecs": false,
                "memoryGiB": 384,
                "name": "ml.m5d.24xlarge",
                "vcpuNum": 96
            },
            {
                "_defaultOrder": 20,
                "_isFastLaunch": false,
                "category": "General purpose",
                "gpuNum": 0,
                "hideHardwareSpecs": true,
                "memoryGiB": 0,
                "name": "ml.geospatial.interactive",
                "supportedImageNames": [
                    "sagemaker-geospatial-v1-0"
                ],
                "vcpuNum": 0
            },
            {
                "_defaultOrder": 21,
                "_isFastLaunch": true,
                "category": "Compute optimized",
                "gpuNum": 0,
                "hideHardwareSpecs": false,
                "memoryGiB": 4,
                "name": "ml.c5.large",
                "vcpuNum": 2
            },
            {
                "_defaultOrder": 22,
                "_isFastLaunch": false,
                "category": "Compute optimized",
                "gpuNum": 0,
                "hideHardwareSpecs": false,
                "memoryGiB": 8,
                "name": "ml.c5.xlarge",
                "vcpuNum": 4
            },
            {
                "_defaultOrder": 23,
                "_isFastLaunch": false,
                "category": "Compute optimized",
                "gpuNum": 0,
                "hideHardwareSpecs": false,
                "memoryGiB": 16,
                "name": "ml.c5.2xlarge",
                "vcpuNum": 8
            },
            {
                "_defaultOrder": 24,
                "_isFastLaunch": false,
                "category": "Compute optimized",
                "gpuNum": 0,
                "hideHardwareSpecs": false,
                "memoryGiB": 32,
                "name": "ml.c5.4xlarge",
                "vcpuNum": 16
            },
            {
                "_defaultOrder": 25,
                "_isFastLaunch": false,
                "category": "Compute optimized",
                "gpuNum": 0,
                "hideHardwareSpecs": false,
                "memoryGiB": 72,
                "name": "ml.c5.9xlarge",
                "vcpuNum": 36
            },
            {
                "_defaultOrder": 26,
                "_isFastLaunch": false,
                "category": "Compute optimized",
                "gpuNum": 0,
                "hideHardwareSpecs": false,
                "memoryGiB": 96,
                "name": "ml.c5.12xlarge",
                "vcpuNum": 48
            },
            {
                "_defaultOrder": 27,
                "_isFastLaunch": false,
                "category": "Compute optimized",
                "gpuNum": 0,
                "hideHardwareSpecs": false,
                "memoryGiB": 144,
                "name": "ml.c5.18xlarge",
                "vcpuNum": 72
            },
            {
                "_defaultOrder": 28,
                "_isFastLaunch": false,
                "category": "Compute optimized",
                "gpuNum": 0,
                "hideHardwareSpecs": false,
                "memoryGiB": 192,
                "name": "ml.c5.24xlarge",
                "vcpuNum": 96
            },
            {
                "_defaultOrder": 29,
                "_isFastLaunch": true,
                "category": "Accelerated computing",
                "gpuNum": 1,
                "hideHardwareSpecs": false,
                "memoryGiB": 16,
                "name": "ml.g4dn.xlarge",
                "vcpuNum": 4
            },
            {
                "_defaultOrder": 30,
                "_isFastLaunch": false,
                "category": "Accelerated computing",
                "gpuNum": 1,
                "hideHardwareSpecs": false,
                "memoryGiB": 32,
                "name": "ml.g4dn.2xlarge",
                "vcpuNum": 8
            },
            {
                "_defaultOrder": 31,
                "_isFastLaunch": false,
                "category": "Accelerated computing",
                "gpuNum": 1,
                "hideHardwareSpecs": false,
                "memoryGiB": 64,
                "name": "ml.g4dn.4xlarge",
                "vcpuNum": 16
            },
            {
                "_defaultOrder": 32,
                "_isFastLaunch": false,
                "category": "Accelerated computing",
                "gpuNum": 1,
                "hideHardwareSpecs": false,
                "memoryGiB": 128,
                "name": "ml.g4dn.8xlarge",
                "vcpuNum": 32
            },
            {
                "_defaultOrder": 33,
                "_isFastLaunch": false,
                "category": "Accelerated computing",
                "gpuNum": 4,
                "hideHardwareSpecs": false,
                "memoryGiB": 192,
                "name": "ml.g4dn.12xlarge",
                "vcpuNum": 48
            },
            {
                "_defaultOrder": 34,
                "_isFastLaunch": false,
                "category": "Accelerated computing",
                "gpuNum": 1,
                "hideHardwareSpecs": false,
                "memoryGiB": 256,
                "name": "ml.g4dn.16xlarge",
                "vcpuNum": 64
            },
            {
                "_defaultOrder": 35,
                "_isFastLaunch": false,
                "category": "Accelerated computing",
                "gpuNum": 1,
                "hideHardwareSpecs": false,
                "memoryGiB": 61,
                "name": "ml.p3.2xlarge",
                "vcpuNum": 8
            },
            {
                "_defaultOrder": 36,
                "_isFastLaunch": false,
                "category": "Accelerated computing",
                "gpuNum": 4,
                "hideHardwareSpecs": false,
                "memoryGiB": 244,
                "name": "ml.p3.8xlarge",
                "vcpuNum": 32
            },
            {
                "_defaultOrder": 37,
                "_isFastLaunch": false,
                "category": "Accelerated computing",
                "gpuNum": 8,
                "hideHardwareSpecs": false,
                "memoryGiB": 488,
                "name": "ml.p3.16xlarge",
                "vcpuNum": 64
            },
            {
                "_defaultOrder": 38,
                "_isFastLaunch": false,
                "category": "Accelerated computing",
                "gpuNum": 8,
                "hideHardwareSpecs": false,
                "memoryGiB": 768,
                "name": "ml.p3dn.24xlarge",
                "vcpuNum": 96
            },
            {
                "_defaultOrder": 39,
                "_isFastLaunch": false,
                "category": "Memory Optimized",
                "gpuNum": 0,
                "hideHardwareSpecs": false,
                "memoryGiB": 16,
                "name": "ml.r5.large",
                "vcpuNum": 2
            },
            {
                "_defaultOrder": 40,
                "_isFastLaunch": false,
                "category": "Memory Optimized",
                "gpuNum": 0,
                "hideHardwareSpecs": false,
                "memoryGiB": 32,
                "name": "ml.r5.xlarge",
                "vcpuNum": 4
            },
            {
                "_defaultOrder": 41,
                "_isFastLaunch": false,
                "category": "Memory Optimized",
                "gpuNum": 0,
                "hideHardwareSpecs": false,
                "memoryGiB": 64,
                "name": "ml.r5.2xlarge",
                "vcpuNum": 8
            },
            {
                "_defaultOrder": 42,
                "_isFastLaunch": false,
                "category": "Memory Optimized",
                "gpuNum": 0,
                "hideHardwareSpecs": false,
                "memoryGiB": 128,
                "name": "ml.r5.4xlarge",
                "vcpuNum": 16
            },
            {
                "_defaultOrder": 43,
                "_isFastLaunch": false,
                "category": "Memory Optimized",
                "gpuNum": 0,
                "hideHardwareSpecs": false,
                "memoryGiB": 256,
                "name": "ml.r5.8xlarge",
                "vcpuNum": 32
            },
            {
                "_defaultOrder": 44,
                "_isFastLaunch": false,
                "category": "Memory Optimized",
                "gpuNum": 0,
                "hideHardwareSpecs": false,
                "memoryGiB": 384,
                "name": "ml.r5.12xlarge",
                "vcpuNum": 48
            },
            {
                "_defaultOrder": 45,
                "_isFastLaunch": false,
                "category": "Memory Optimized",
                "gpuNum": 0,
                "hideHardwareSpecs": false,
                "memoryGiB": 512,
                "name": "ml.r5.16xlarge",
                "vcpuNum": 64
            },
            {
                "_defaultOrder": 46,
                "_isFastLaunch": false,
                "category": "Memory Optimized",
                "gpuNum": 0,
                "hideHardwareSpecs": false,
                "memoryGiB": 768,
                "name": "ml.r5.24xlarge",
                "vcpuNum": 96
            },
            {
                "_defaultOrder": 47,
                "_isFastLaunch": false,
                "category": "Accelerated computing",
                "gpuNum": 1,
                "hideHardwareSpecs": false,
                "memoryGiB": 16,
                "name": "ml.g5.xlarge",
                "vcpuNum": 4
            },
            {
                "_defaultOrder": 48,
                "_isFastLaunch": false,
                "category": "Accelerated computing",
                "gpuNum": 1,
                "hideHardwareSpecs": false,
                "memoryGiB": 32,
                "name": "ml.g5.2xlarge",
                "vcpuNum": 8
            },
            {
                "_defaultOrder": 49,
                "_isFastLaunch": false,
                "category": "Accelerated computing",
                "gpuNum": 1,
                "hideHardwareSpecs": false,
                "memoryGiB": 64,
                "name": "ml.g5.4xlarge",
                "vcpuNum": 16
            },
            {
                "_defaultOrder": 50,
                "_isFastLaunch": false,
                "category": "Accelerated computing",
                "gpuNum": 1,
                "hideHardwareSpecs": false,
                "memoryGiB": 128,
                "name": "ml.g5.8xlarge",
                "vcpuNum": 32
            },
            {
                "_defaultOrder": 51,
                "_isFastLaunch": false,
                "category": "Accelerated computing",
                "gpuNum": 1,
                "hideHardwareSpecs": false,
                "memoryGiB": 256,
                "name": "ml.g5.16xlarge",
                "vcpuNum": 64
            },
            {
                "_defaultOrder": 52,
                "_isFastLaunch": false,
                "category": "Accelerated computing",
                "gpuNum": 4,
                "hideHardwareSpecs": false,
                "memoryGiB": 192,
                "name": "ml.g5.12xlarge",
                "vcpuNum": 48
            },
            {
                "_defaultOrder": 53,
                "_isFastLaunch": false,
                "category": "Accelerated computing",
                "gpuNum": 4,
                "hideHardwareSpecs": false,
                "memoryGiB": 384,
                "name": "ml.g5.24xlarge",
                "vcpuNum": 96
            },
            {
                "_defaultOrder": 54,
                "_isFastLaunch": false,
                "category": "Accelerated computing",
                "gpuNum": 8,
                "hideHardwareSpecs": false,
                "memoryGiB": 768,
                "name": "ml.g5.48xlarge",
                "vcpuNum": 192
            },
            {
                "_defaultOrder": 55,
                "_isFastLaunch": false,
                "category": "Accelerated computing",
                "gpuNum": 8,
                "hideHardwareSpecs": false,
                "memoryGiB": 1152,
                "name": "ml.p4d.24xlarge",
                "vcpuNum": 96
            },
            {
                "_defaultOrder": 56,
                "_isFastLaunch": false,
                "category": "Accelerated computing",
                "gpuNum": 8,
                "hideHardwareSpecs": false,
                "memoryGiB": 1152,
                "name": "ml.p4de.24xlarge",
                "vcpuNum": 96
            }
        ],
        "instance_type": "ml.t3.medium",
        "kernelspec": {
            "display_name": "GDSC (custom-gdsc/1)",
            "language": "python",
            "name": "python3__SAGEMAKER_INTERNAL__arn:aws:sagemaker:us-east-1:821562550650:image-version/custom-gdsc/1"
        },
        "language_info": {
            "codemirror_mode": {
                "name": "ipython",
                "version": 3
            },
            "file_extension": ".py",
            "mimetype": "text/x-python",
            "name": "python",
            "nbconvert_exporter": "python",
            "pygments_lexer": "ipython3",
            "version": "3.10.8"
        },
        "lcc_arn": "arn:aws:sagemaker:us-east-1:821562550650:studio-lifecycle-config/clean-trash"
    },
    "nbformat": 4,
    "nbformat_minor": 5
}