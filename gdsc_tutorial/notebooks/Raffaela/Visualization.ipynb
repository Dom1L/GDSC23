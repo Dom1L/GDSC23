{
    "cells": [
        {
            "cell_type": "code",
            "execution_count": 2,
            "id": "d924fca8-d351-4766-9480-09628d15ba57",
            "metadata": {},
            "outputs": [],
            "source": [
                "import sys # Python system library needed to load custom functions\n",
                "import math # module with access to mathematical functions\n",
                "import os # for changing the directory\n",
                "\n",
                "import numpy as np  # for performing calculations on numerical arrays\n",
                "import pandas as pd  # home of the DataFrame construct, _the_ most important object for Data Science\n",
                "\n",
                "from IPython.display import Audio # for listening to our insects\n",
                "import IPython\n",
                "from scipy.fft import fft # function to calculate Fast Fourier Transform\n",
                "\n",
                "import wave\n",
                "from glob import glob\n",
                "import librosa\n",
                "import torchaudio\n",
                "from tqdm.auto import tqdm          # library to display progress bar while doing apply on pandas dataframe\n",
                "\n",
                "import matplotlib.pyplot as plt  # allows creation of insightful plots\n",
                "import seaborn as sns # another library to make even more beautiful plots\n",
                "\n",
                "sys.path.append('../../src') # add the source directory to the PYTHONPATH. This allows to import local functions and modules.\n",
                "# enable rendering plots under the code cell that created it\n",
                "%matplotlib inline\n",
                "\n",
                "from eda_utils import show_sampling, signal_generator, plot_random_spec, plot_spec, plot_waveform # functions to create plots for and from audio data\n",
                "from gdsc_utils import download_directory, PROJECT_DIR # function to download GDSC data from S3 bucket and our root directory\n",
                "from config import DEFAULT_BUCKET  # S3 bucket with the GDSC data\n",
                "\n",
                "os.chdir(PROJECT_DIR) # changing our directory to root"
            ]
        },
        {
            "cell_type": "code",
            "execution_count": 3,
            "id": "7f92d7fc-af7e-43a7-baa8-1cee8a3e513b",
            "metadata": {},
            "outputs": [],
            "source": [
                "download_directory('data/', None, DEFAULT_BUCKET)"
            ]
        },
        {
            "cell_type": "code",
            "execution_count": 49,
            "id": "cf9f099f-78b3-46fc-97e8-bfca2ab73c21",
            "metadata": {
                "tags": []
            },
            "outputs": [],
            "source": [
                "df = pd.read_csv('data/metadata.csv')\n",
                "df_3_5 = pd.read_csv('data/production_data/Raffaela3-5s_crop/metadata.csv')"
            ]
        },
        {
            "cell_type": "code",
            "execution_count": 57,
            "id": "d8740198-f3ef-49ec-970f-a2f623dc88c8",
            "metadata": {
                "tags": []
            },
            "outputs": [],
            "source": [
                "df['species and label'] = df.apply(lambda x: f\"{x['species']} ({str(x['label'])})\", axis = 1)\n",
                "#df_3_5['species and label'] = df_3_5.apply(lambda x: f\"{x['species']} ({str(x['label'])})\", axis = 1)\n",
                "df_stats = df.groupby(['label','species and label']).agg(length = ('length', 'sum'), count = ('species', 'count')).reset_index()\n",
                "#df_35_sort = df_3_5.sort_values(by=['label'], ascending=True, ignore_index=True)\n",
                "df_35_stats = df_3_5.groupby(['label']).agg(count = ('label', 'count')).reset_index()\n",
                "#df_stats['length']\n",
                "#df.head()\n",
                "df_35_stats.head()"
            ]
        },
        {
            "cell_type": "code",
            "execution_count": 51,
            "id": "787e4031-76fd-4e55-bfc0-478743a46113",
            "metadata": {
                "tags": []
            },
            "outputs": [],
            "source": [
                "value = 3.5\n",
                "df_35_stats['count'] *= value"
            ]
        },
        {
            "cell_type": "code",
            "execution_count": 55,
            "id": "0b89bfe2-63f7-4dc1-9021-d4cfa70d1572",
            "metadata": {
                "tags": []
            },
            "outputs": [],
            "source": [
                "df[[\"sample_rate\",\"length\"]].describe()"
            ]
        },
        {
            "cell_type": "code",
            "execution_count": 58,
            "id": "20cb617d-30d6-4a28-8de6-a05ea0eb74f9",
            "metadata": {
                "tags": []
            },
            "outputs": [],
            "source": [
                "df_35_stats[[\"count\"]].describe()"
            ]
        },
        {
            "cell_type": "code",
            "execution_count": 54,
            "id": "af0a17bc-5f09-4639-9a27-df17c19e919a",
            "metadata": {
                "tags": []
            },
            "outputs": [],
            "source": [
                "plt.figure(figsize = (20,6))\n",
                "plt.title('Total length of files per species', fontsize = 20)\n",
                "plt.xticks(rotation = 90)\n",
                "plt.bar(df_35_stats['label'], df_35_stats['count'], color = 'cyan')\n",
                "plt.bar(df_stats['species and label'], df_stats['length'], color = 'orange')\n",
                "plt.xlabel(\"Species and label\")\n",
                "plt.ylabel(\"lenght\")\n",
                "#plt.legend([\"whole set\", \"> 40 sec.\"])\n",
                "plt.show()"
            ]
        },
        {
            "cell_type": "code",
            "execution_count": 5,
            "id": "c77cd758-f6aa-45e3-b181-25ca6045fd0a",
            "metadata": {
                "tags": []
            },
            "outputs": [],
            "source": [
                "# train data and validation data (whole and with length > 40 sec.) \n",
                "train = df.query('subset == \"train\"') \n",
                "train_value = df.query('subset == \"train\" & length > 40') \n",
                "validation = df.query('subset == \"validation\"') \n",
                "validation_value = df.query('subset == \"validation\" & length > 40') \n",
                "test = df.query('subset == \"test\"') "
            ]
        },
        {
            "cell_type": "code",
            "execution_count": 6,
            "id": "0a9b6d45-0525-4ec6-9720-dca7f7d2b702",
            "metadata": {
                "tags": []
            },
            "outputs": [],
            "source": [
                "# sort the data by label/species\n",
                "train_srt = train.sort_values(['label', 'length'], ascending =[True, True]) \n",
                "train_value_srt = train_value.sort_values(['label', 'length'], ascending =[True, True]) \n",
                "val_srt = validation.sort_values(['label', 'length'], ascending =[True, True]) \n",
                "val_value_srt = validation_value.sort_values(['label', 'length'], ascending =[True, True]) \n",
                "test_srt = test.sort_values(['label', 'length'], ascending =[True, True])"
            ]
        },
        {
            "cell_type": "code",
            "execution_count": 7,
            "id": "240e5b80-bc08-4e50-ad57-661832cac215",
            "metadata": {
                "tags": []
            },
            "outputs": [],
            "source": [
                "# VISUALIZATION:\n",
                "# add variable that combines species and label\n",
                "train_srt['species and label'] = train_srt.apply(lambda x: f\"{x['species']} ({str(x['label'])})\", axis = 1)\n",
                "train_value_srt['species and label'] = train_value_srt.apply(lambda x: f\"{x['species']} ({str(x['label'])})\", axis = 1)\n",
                "val_srt['species and label'] = val_srt.apply(lambda x: f\"{x['species']} ({str(x['label'])})\", axis = 1)\n",
                "val_value_srt['species and label'] = val_value_srt.apply(lambda x: f\"{x['species']} ({str(x['label'])})\", axis = 1)\n",
                "test_srt['species and label'] = test_srt.apply(lambda x: f\"{x['species']} ({str(x['label'])})\", axis = 1)"
            ]
        },
        {
            "cell_type": "code",
            "execution_count": 10,
            "id": "eaa26086-8046-44d4-92b8-f7bf3bcd9073",
            "metadata": {
                "tags": []
            },
            "outputs": [],
            "source": [
                "# Calculating stats per label/species - total length of recording per class and the total number of class occurences in the dataset\n",
                "# sorted_stats shows how many seconds of recordings we have for each species, the number of different entries as well as the average length per sample (for trian-data)\n",
                "sorted_train = train_srt.groupby(['label','species and label']).agg(length = ('length', 'sum'), count = ('species', 'count')).reset_index()\n",
                "sorted_train_value = train_value_srt.groupby(['label','species and label']).agg(length = ('length', 'sum'), count = ('species', 'count')).reset_index()\n",
                "sorted_val = val_srt.groupby(['label','species and label']).agg(length = ('length', 'sum'), count = ('species', 'count')).reset_index()\n",
                "sorted_val_value = val_value_srt.groupby(['label','species and label']).agg(length = ('length', 'sum'), count = ('species', 'count')).reset_index()\n",
                "sorted_test = test_srt.groupby(['label','species and label']).agg(length = ('length', 'sum'), count = ('species', 'count')).reset_index()"
            ]
        },
        {
            "cell_type": "code",
            "execution_count": 11,
            "id": "1bc7f4a4-8c03-4b6f-b345-f29a6ad10cf6",
            "metadata": {
                "tags": []
            },
            "outputs": [],
            "source": [
                "# Calculating average length of an audio sample\n",
                "sorted_train['avg_len'] = sorted_train['length']/sorted_train['count']\n",
                "sorted_train_value['avg_len'] = sorted_train_value['length']/sorted_train_value['count']\n",
                "sorted_val['avg_len'] = sorted_val['length']/sorted_val['count']\n",
                "sorted_val_value['avg_len'] = sorted_val_value['length']/sorted_val_value['count']\n",
                "sorted_test['avg_len'] = sorted_test['length']/sorted_test['count']"
            ]
        },
        {
            "cell_type": "code",
            "execution_count": 19,
            "id": "c38aa44c-9614-4c2b-95fa-a030923fd864",
            "metadata": {
                "tags": []
            },
            "outputs": [],
            "source": [
                "plt.figure(figsize = (20,6))\n",
                "plt.title('Number of files per species train-dataset', fontsize = 20)\n",
                "plt.xticks(rotation = 90)\n",
                "plt.bar(sorted_train['species and label'], sorted_train['count'], color = 'cyan')\n",
                "plt.bar(sorted_train_value['species and label'], sorted_train_value['count'], color = 'orange')\n",
                "plt.xlabel(\"Species and label\")\n",
                "plt.ylabel(\"count\")\n",
                "plt.legend([\"whole set\", \"> 40 sec.\"])\n",
                "plt.show()"
            ]
        },
        {
            "cell_type": "code",
            "execution_count": 20,
            "id": "78fc8262-1511-48f2-9673-22c812201efe",
            "metadata": {
                "tags": []
            },
            "outputs": [],
            "source": [
                "plt.figure(figsize = (20,6))\n",
                "plt.title('Number of files per species validation-dataset', fontsize = 20)\n",
                "plt.xticks(rotation = 90)\n",
                "plt.bar(sorted_val['species and label'], sorted_val['count'], color = 'cyan')\n",
                "plt.bar(sorted_val_value['species and label'], sorted_val_value['count'], color = 'orange')\n",
                "plt.xlabel(\"Species and label\")\n",
                "plt.ylabel(\"count\")\n",
                "plt.legend([\"whole set\", \"> 40 sec.\"])\n",
                "plt.show()"
            ]
        },
        {
            "cell_type": "code",
            "execution_count": 21,
            "id": "4f85f217-95d8-4628-ad79-bea6f23229b3",
            "metadata": {
                "tags": []
            },
            "outputs": [],
            "source": [
                "plt.figure(figsize = (20,6))\n",
                "plt.title('Number of files per species train vs. validation dataset', fontsize = 20)\n",
                "plt.xticks(rotation = 90)\n",
                "plt.bar(sorted_train['species and label'], sorted_train['count'], color = 'cyan')\n",
                "plt.bar(sorted_val['species and label'], sorted_val['count'], color = 'orange')\n",
                "plt.xlabel(\"Species and label\")\n",
                "plt.ylabel(\"count\")\n",
                "plt.legend([\"train\", \" validation\"])\n",
                "plt.show()"
            ]
        },
        {
            "cell_type": "code",
            "execution_count": null,
            "id": "74e95620-517f-4052-ac20-4fe9c50292a7",
            "metadata": {
                "tags": []
            },
            "outputs": [],
            "source": [
                "label = df.query('label == 51') \n",
                "cnt = label.count()\n",
                "print(cnt['unique_file'])"
            ]
        },
        {
            "cell_type": "code",
            "execution_count": 75,
            "id": "304eed23-6398-4018-b418-9892d218fbc7",
            "metadata": {},
            "outputs": [],
            "source": [
                "# train data and validation data with length < 5 sec.\n",
                "train_5 = df.query('subset == \"train\" & length < 5') \n",
                "validation_5 = df.query('subset == \"validation\" & length < 5') \n",
                "test_5 = df.query('subset == \"test\" & length < 5') \n",
                "\n",
                "\n",
                "# sort the data by label/species\n",
                "train_5_srt = train_5.sort_values(['label', 'length'], ascending =[True, True]) \n",
                "val_5_srt = validation_5.sort_values(['label', 'length'], ascending =[True, True])\n",
                "test_5_srt = test_5.sort_values(['label', 'length'], ascending =[True, True]) \n",
                "\n",
                "# add variable that combines species and label\n",
                "train_5_srt['species and label'] = train_5_srt.apply(lambda x: f\"{x['species']} ({str(x['label'])})\", axis = 1)\n",
                "val_5_srt['species and label'] = val_5_srt.apply(lambda x: f\"{x['species']} ({str(x['label'])})\", axis = 1)\n",
                "test_5_srt['species and label'] = test_5_srt.apply(lambda x: f\"{x['species']} ({str(x['label'])})\", axis = 1)\n",
                "\n",
                "# Calculating stats per label/species - total length of recording per class and the total number of class occurences in the dataset\n",
                "sorted_train_5 = train_5_srt.groupby(['label','species and label']).agg(length = ('length', 'sum'), count = ('species', 'count')).reset_index()\n",
                "sorted_val_5 = val_5_srt.groupby(['label','species and label']).agg(length = ('length', 'sum'), count = ('species', 'count')).reset_index()\n",
                "sorted_test_5 = test_5_srt.groupby(['label','species and label']).agg(length = ('length', 'sum'), count = ('species', 'count')).reset_index()\n",
                "\n",
                "\n",
                "# Calculating average length of an audio sample\n",
                "sorted_train_5['avg_len'] = sorted_train_5['length']/sorted_train_5['count']\n",
                "sorted_val_5['avg_len'] = sorted_val_5['length']/sorted_val_5['count']\n",
                "sorted_test_5['avg_len'] = sorted_test_5['length']/sorted_test_5['count']"
            ]
        },
        {
            "cell_type": "code",
            "execution_count": 14,
            "id": "06a48385-7137-48c3-a375-bf6b6e0fed71",
            "metadata": {
                "tags": []
            },
            "outputs": [],
            "source": [
                "plt.figure(figsize = (20,6))\n",
                "plt.title('Number of files in train-dataset (< 5 Sec.)', fontsize = 20)\n",
                "plt.xticks(rotation = 90)\n",
                "plt.bar(sorted_train['species and label'], sorted_train['count'], color = 'cyan')\n",
                "plt.bar(sorted_train_5['species and label'], sorted_train_5['count'], color = 'orange')\n",
                "plt.xlabel(\"Species and label\")\n",
                "plt.ylabel(\"count\")\n",
                "plt.legend([\"whole set\", \"< 5 sec.\"])\n",
                "plt.show()"
            ]
        },
        {
            "cell_type": "code",
            "execution_count": 76,
            "id": "292217fd-eee4-4269-b943-687e5e6662e2",
            "metadata": {
                "tags": []
            },
            "outputs": [],
            "source": [
                "# train data and validation data with length [5,10) sec.\n",
                "train_10 = df.query('subset == \"train\" & length >= 5 & length < 10') \n",
                "validation_10 = df.query('subset == \"validation\" & length >= 5 & length < 10') \n",
                "test_10 = df.query('subset == \"test\" & length >= 5 & length < 10') \n",
                "\n",
                "# sort the data by label/species\n",
                "train_10_srt = train_10.sort_values(['label', 'length'], ascending =[True, True]) \n",
                "val_10_srt = validation_10.sort_values(['label', 'length'], ascending =[True, True])\n",
                "test_10_srt = test_10.sort_values(['label', 'length'], ascending =[True, True]) \n",
                "\n",
                "# add variable that combines species and label\n",
                "train_10_srt['species and label'] = train_10_srt.apply(lambda x: f\"{x['species']} ({str(x['label'])})\", axis = 1)\n",
                "val_10_srt['species and label'] = val_10_srt.apply(lambda x: f\"{x['species']} ({str(x['label'])})\", axis = 1)\n",
                "test_10_srt['species and label'] = test_10_srt.apply(lambda x: f\"{x['species']} ({str(x['label'])})\", axis = 1)\n",
                "\n",
                "# Calculating stats per label/species - total length of recording per class and the total number of class occurences in the dataset\n",
                "sorted_train_10 = train_10_srt.groupby(['label','species and label']).agg(length = ('length', 'sum'), count = ('species', 'count')).reset_index()\n",
                "sorted_val_10 = val_10_srt.groupby(['label','species and label']).agg(length = ('length', 'sum'), count = ('species', 'count')).reset_index()\n",
                "sorted_test_10 = test_10_srt.groupby(['label','species and label']).agg(length = ('length', 'sum'), count = ('species', 'count')).reset_index()\n",
                "\n",
                "# Calculating average length of an audio sample\n",
                "sorted_train_10['avg_len'] = sorted_train_10['length']/sorted_train_10['count']\n",
                "sorted_val_10['avg_len'] = sorted_val_10['length']/sorted_val_10['count']\n",
                "sorted_test_10['avg_len'] = sorted_test_10['length']/sorted_test_10['count']"
            ]
        },
        {
            "cell_type": "code",
            "execution_count": 25,
            "id": "20a33b20-8769-4297-b485-50bdb42ad1d7",
            "metadata": {
                "tags": []
            },
            "outputs": [],
            "source": [
                "plt.figure(figsize = (20,6))\n",
                "plt.title('Number of files in train-dataset (< 10 Sec.)', fontsize = 20)\n",
                "plt.xticks(rotation = 90)\n",
                "plt.bar(sorted_train['species and label'], sorted_train['count'], color = 'cyan')\n",
                "plt.bar(sorted_train_10['species and label'], sorted_train_10['count'], color = 'orange')\n",
                "plt.xlabel(\"Species and label\")\n",
                "plt.ylabel(\"count\")\n",
                "plt.legend([\"whole set\", \"< 10 sec.\"])\n",
                "plt.show()"
            ]
        },
        {
            "cell_type": "code",
            "execution_count": 77,
            "id": "06490326-9390-419b-a535-f430ecc50841",
            "metadata": {
                "tags": []
            },
            "outputs": [],
            "source": [
                "# train data and validation data with length [10,15) sec.\n",
                "train_15 = df.query('subset == \"train\" & length >= 10 & length < 15') \n",
                "validation_15 = df.query('subset == \"validation\" & length >= 10 & length < 15') \n",
                "test_15 = df.query('subset == \"test\" & length >= 10 & length < 15') \n",
                "\n",
                "# sort the data by label/species\n",
                "train_15_srt = train_15.sort_values(['label', 'length'], ascending =[True, True]) \n",
                "val_15_srt = validation_15.sort_values(['label', 'length'], ascending =[True, True])\n",
                "test_15_srt = test_15.sort_values(['label', 'length'], ascending =[True, True]) \n",
                "\n",
                "# add variable that combines species and label\n",
                "train_15_srt['species and label'] = train_15_srt.apply(lambda x: f\"{x['species']} ({str(x['label'])})\", axis = 1)\n",
                "val_15_srt['species and label'] = val_15_srt.apply(lambda x: f\"{x['species']} ({str(x['label'])})\", axis = 1)\n",
                "test_15_srt['species and label'] = test_15_srt.apply(lambda x: f\"{x['species']} ({str(x['label'])})\", axis = 1)\n",
                "\n",
                "# Calculating stats per label/species - total length of recording per class and the total number of class occurences in the dataset\n",
                "sorted_train_15 = train_15_srt.groupby(['label','species and label']).agg(length = ('length', 'sum'), count = ('species', 'count')).reset_index()\n",
                "sorted_val_15 = val_15_srt.groupby(['label','species and label']).agg(length = ('length', 'sum'), count = ('species', 'count')).reset_index()\n",
                "sorted_test_15 = test_15_srt.groupby(['label','species and label']).agg(length = ('length', 'sum'), count = ('species', 'count')).reset_index()\n",
                "\n",
                "# Calculating average length of an audio sample\n",
                "sorted_train_15['avg_len'] = sorted_train_15['length']/sorted_train_15['count']\n",
                "sorted_val_15['avg_len'] = sorted_val_15['length']/sorted_val_15['count']\n",
                "sorted_test_15['avg_len'] = sorted_test_15['length']/sorted_test_15['count']"
            ]
        },
        {
            "cell_type": "code",
            "execution_count": 27,
            "id": "846d8c95-9ca1-4781-97e2-e3e02e84cc5e",
            "metadata": {
                "tags": []
            },
            "outputs": [],
            "source": [
                "plt.figure(figsize = (20,6))\n",
                "plt.title('Number of files in train-dataset (< 15 Sec.)', fontsize = 20)\n",
                "plt.xticks(rotation = 90)\n",
                "plt.bar(sorted_train['species and label'], sorted_train['count'], color = 'cyan')\n",
                "plt.bar(sorted_train_15['species and label'], sorted_train_15['count'], color = 'orange')\n",
                "plt.xlabel(\"Species and label\")\n",
                "plt.ylabel(\"count\")\n",
                "plt.legend([\"whole set\", \"< 15sec.\"])\n",
                "plt.show()"
            ]
        },
        {
            "cell_type": "code",
            "execution_count": 78,
            "id": "c212f6a5-9a14-4256-b754-4f4fb3f8107d",
            "metadata": {
                "tags": []
            },
            "outputs": [],
            "source": [
                "train = df.query('subset == \"train\"') \n",
                "validation = df.query('subset == \"validation\"') \n",
                "test = df.query('subset == \"test\"') \n",
                "\n",
                "# sort the data by label/species\n",
                "train_srt = train.sort_values(['label', 'length'], ascending =[True, True]) \n",
                "val_srt = validation.sort_values(['label', 'length'], ascending =[True, True])\n",
                "test_srt = test.sort_values(['label', 'length'], ascending =[True, True]) \n",
                "\n",
                "# add variable that combines species and label\n",
                "train_srt['species and label'] = train_srt.apply(lambda x: f\"{x['species']} ({str(x['label'])})\", axis = 1)\n",
                "val_srt['species and label'] = val_srt.apply(lambda x: f\"{x['species']} ({str(x['label'])})\", axis = 1)\n",
                "test_srt['species and label'] = test_srt.apply(lambda x: f\"{x['species']} ({str(x['label'])})\", axis = 1)\n",
                "\n",
                "# Calculating stats per label/species - total length of recording per class and the total number of class occurences in the dataset\n",
                "sorted_train = train_srt.groupby(['label','species and label']).agg(length = ('length', 'sum'), count = ('species', 'count')).reset_index()\n",
                "sorted_val = val_srt.groupby(['label','species and label']).agg(length = ('length', 'sum'), count = ('species', 'count')).reset_index()\n",
                "sorted_test = test_srt.groupby(['label','species and label']).agg(length = ('length', 'sum'), count = ('species', 'count')).reset_index()\n",
                "\n",
                "# Calculating average length of an audio sample\n",
                "sorted_train['avg_len'] = sorted_train['length']/sorted_train['count']\n",
                "sorted_val['avg_len'] = sorted_val['length']/sorted_val['count']\n",
                "sorted_test['avg_len'] = sorted_test['length']/sorted_test['count']"
            ]
        },
        {
            "cell_type": "code",
            "execution_count": 43,
            "id": "4f37b97c-2d32-4439-a88e-93812603f02f",
            "metadata": {},
            "outputs": [],
            "source": [
                "with wave.open('data/test/99.wav') as mywav:\n",
                "    duration_seconds = mywav.getnframes() / mywav.getframerate()\n",
                "    print(f\"Length of the WAV file: {duration_seconds:.1f} s\")"
            ]
        },
        {
            "cell_type": "code",
            "execution_count": 8,
            "id": "ee4354b4-d0fc-48d1-869b-1a32d7f178b1",
            "metadata": {
                "tags": []
            },
            "outputs": [],
            "source": [
                "with wave.open('data/train/Roeselianaroeselii_XC751814-dat028-019_edit1.wav') as mywav:\n",
                "    duration_seconds = mywav.getnframes() / mywav.getframerate()\n",
                "    print(duration_seconds)"
            ]
        },
        {
            "cell_type": "code",
            "execution_count": 52,
            "id": "aece0b45-3bc9-4b52-b367-d0c69a27277c",
            "metadata": {
                "tags": []
            },
            "outputs": [],
            "source": [
                "def length_test_set (wave_paths):\n",
                "    #file_length = np.zeros(556)\n",
                "    file_length = []\n",
                "    i = 0\n",
                "    for filename in tqdm(wave_paths):\n",
                "        wave, sample_rate = torchaudio.load(filename)\n",
                "        audio, _ = librosa.load(filename, sr=sample_rate)   \n",
                "        #file_length[i] = \n",
                "        val = librosa.get_duration(y=audio, sr=sample_rate)\n",
                "        #i += 1     \n",
                "        file_length.append(val)\n",
                "        \n",
                "    return file_length"
            ]
        },
        {
            "cell_type": "code",
            "execution_count": 22,
            "id": "f4c96ee1-9bd6-4f7e-a7a7-97596673b7db",
            "metadata": {
                "tags": []
            },
            "outputs": [],
            "source": [
                "wave, sample_rate = torchaudio.load(f'data/test/0.wav')\n",
                "audio, _ = librosa.load(f'data/test/0.wav', sr=sample_rate)   \n",
                "file_length = librosa.get_duration(y=audio, sr=sample_rate)\n",
                "print(file_length)"
            ]
        },
        {
            "cell_type": "code",
            "execution_count": 53,
            "id": "8a5a138c-2605-4e99-8a18-19e85281f8b3",
            "metadata": {
                "tags": []
            },
            "outputs": [],
            "source": [
                "length = length_test_set(paths)"
            ]
        },
        {
            "cell_type": "code",
            "execution_count": 54,
            "id": "e2382c0d-7699-452f-b4df-5e5463fa7f4f",
            "metadata": {
                "tags": []
            },
            "outputs": [],
            "source": [
                "type(length)"
            ]
        },
        {
            "cell_type": "code",
            "execution_count": 61,
            "id": "607a837d-c4b3-453c-b0e2-9359ca6bfe75",
            "metadata": {
                "tags": []
            },
            "outputs": [],
            "source": [
                "result_5 = [i for i in length if i < 5]\n",
                "result_10 = [i for i in length if i >= 5 and i < 10]\n",
                "result_15 = [i for i in length if i >= 10 and i < 15]"
            ]
        },
        {
            "cell_type": "code",
            "execution_count": 81,
            "id": "b9c3ff22-d6f3-4dd2-860c-9de8f151743a",
            "metadata": {
                "tags": []
            },
            "outputs": [],
            "source": [
                "# total amount in train-set\n",
                "amount_train = sum(sorted_train['count'])\n",
                "amount_train_5 = sum(sorted_train_5['count'])\n",
                "amount_train_10 = sum(sorted_train_10['count'])\n",
                "amount_train_15 = sum(sorted_train_15['count'])\n",
                "percent_5 = round((amount_train_5 / amount_train) * 100 , 2)\n",
                "percent_10 = round((amount_train_10 / amount_train) * 100 , 2)\n",
                "percent_15 = round((amount_train_15 / amount_train) * 100 , 2)\n",
                "percent_train = round(100 - (percent_5 + percent_10 + percent_15),2)\n",
                "print(\"# files train-set =\", amount_train)\n",
                "print(\"# files train-set [0, 5) sec.  =\", amount_train_5, \"(\",percent_5,\"%\",\")\")\n",
                "print(\"# files train-set [5, 10) sec. =\", amount_train_10, \"(\",percent_10,\"%\",\")\")\n",
                "print(\"# files train-set [10, 15) sec. =\", amount_train_15, \"(\",percent_15,\"%\",\")\")\n",
                "print('# files train-set >= 15 sec. =', \"(\",percent_train,\"%\",\")\")\n",
                "print(\"--------------------------------------------\")\n",
                "\n",
                "# total amount in validation-set\n",
                "amount_val = sum(sorted_val['count'])\n",
                "amount_val_5 = sum(sorted_val_5['count'])\n",
                "amount_val_10 = sum(sorted_val_10['count'])\n",
                "amount_val_15 = sum(sorted_val_15['count'])\n",
                "percent_v5 = round((amount_val_5 / amount_val) * 100 , 2)\n",
                "percent_v10 = round((amount_val_10 / amount_val) * 100 , 2)\n",
                "percent_v15 = round((amount_val_15 / amount_val) * 100 , 2)\n",
                "percent_val = round(100 -(percent_v5 + percent_v10 + percent_v15),2)\n",
                "print(\"# files validation-set =\", amount_val)\n",
                "print(\"# files validation-set [0, 5) sec.  =\", amount_val_5, \"(\",percent_v5,\"%\",\")\")\n",
                "print(\"# files validation-set [5, 10) sec. =\", amount_val_10, \"(\",percent_v10,\"%\",\")\")\n",
                "print(\"# files validation-set [10, 15) sec. =\", amount_val_15,  \"(\",percent_v15,\"%\",\")\")\n",
                "print('# files validation-set >= 15 sec. =', \"(\",percent_val,\"%\",\")\")\n",
                "print(\"--------------------------------------------\")\n",
                "\n",
                "# total amount in test-set\n",
                "amount_test = len(length)\n",
                "amount_test_5 = len(result_5)\n",
                "amount_test_10 = len(result_10)\n",
                "amount_test_15 = len(result_15)\n",
                "percent_test5 = round((amount_test_5 / amount_test) * 100 , 2)\n",
                "percent_test10 = round((amount_test_10 / amount_test) * 100 , 2)\n",
                "percent_test15 = round((amount_test_15 / amount_test) * 100 , 2)\n",
                "percent_test = round(100 - (percent_5 + percent_10 + percent_15),2)\n",
                "print(\"# files test-set =\", amount_test)\n",
                "print(\"# files test-set [0, 5) sec.  =\", amount_test_5, \"(\",percent_test5,\"%\",\")\")\n",
                "print(\"# files test-set [5, 10) sec. =\", amount_test_10, \"(\",percent_test10,\"%\",\")\")\n",
                "print(\"# files test-set [10, 15) sec. =\", amount_test_15, \"(\",percent_test15,\"%\",\")\")\n",
                "print('# files test-set >= 15 sec. =', \"(\",percent_test,\"%\",\")\")"
            ]
        }
    ],
    "metadata": {
        "availableInstances": [
            {
                "_defaultOrder": 0,
                "_isFastLaunch": true,
                "category": "General purpose",
                "gpuNum": 0,
                "hideHardwareSpecs": false,
                "memoryGiB": 4,
                "name": "ml.t3.medium",
                "vcpuNum": 2
            },
            {
                "_defaultOrder": 1,
                "_isFastLaunch": false,
                "category": "General purpose",
                "gpuNum": 0,
                "hideHardwareSpecs": false,
                "memoryGiB": 8,
                "name": "ml.t3.large",
                "vcpuNum": 2
            },
            {
                "_defaultOrder": 2,
                "_isFastLaunch": false,
                "category": "General purpose",
                "gpuNum": 0,
                "hideHardwareSpecs": false,
                "memoryGiB": 16,
                "name": "ml.t3.xlarge",
                "vcpuNum": 4
            },
            {
                "_defaultOrder": 3,
                "_isFastLaunch": false,
                "category": "General purpose",
                "gpuNum": 0,
                "hideHardwareSpecs": false,
                "memoryGiB": 32,
                "name": "ml.t3.2xlarge",
                "vcpuNum": 8
            },
            {
                "_defaultOrder": 4,
                "_isFastLaunch": true,
                "category": "General purpose",
                "gpuNum": 0,
                "hideHardwareSpecs": false,
                "memoryGiB": 8,
                "name": "ml.m5.large",
                "vcpuNum": 2
            },
            {
                "_defaultOrder": 5,
                "_isFastLaunch": false,
                "category": "General purpose",
                "gpuNum": 0,
                "hideHardwareSpecs": false,
                "memoryGiB": 16,
                "name": "ml.m5.xlarge",
                "vcpuNum": 4
            },
            {
                "_defaultOrder": 6,
                "_isFastLaunch": false,
                "category": "General purpose",
                "gpuNum": 0,
                "hideHardwareSpecs": false,
                "memoryGiB": 32,
                "name": "ml.m5.2xlarge",
                "vcpuNum": 8
            },
            {
                "_defaultOrder": 7,
                "_isFastLaunch": false,
                "category": "General purpose",
                "gpuNum": 0,
                "hideHardwareSpecs": false,
                "memoryGiB": 64,
                "name": "ml.m5.4xlarge",
                "vcpuNum": 16
            },
            {
                "_defaultOrder": 8,
                "_isFastLaunch": false,
                "category": "General purpose",
                "gpuNum": 0,
                "hideHardwareSpecs": false,
                "memoryGiB": 128,
                "name": "ml.m5.8xlarge",
                "vcpuNum": 32
            },
            {
                "_defaultOrder": 9,
                "_isFastLaunch": false,
                "category": "General purpose",
                "gpuNum": 0,
                "hideHardwareSpecs": false,
                "memoryGiB": 192,
                "name": "ml.m5.12xlarge",
                "vcpuNum": 48
            },
            {
                "_defaultOrder": 10,
                "_isFastLaunch": false,
                "category": "General purpose",
                "gpuNum": 0,
                "hideHardwareSpecs": false,
                "memoryGiB": 256,
                "name": "ml.m5.16xlarge",
                "vcpuNum": 64
            },
            {
                "_defaultOrder": 11,
                "_isFastLaunch": false,
                "category": "General purpose",
                "gpuNum": 0,
                "hideHardwareSpecs": false,
                "memoryGiB": 384,
                "name": "ml.m5.24xlarge",
                "vcpuNum": 96
            },
            {
                "_defaultOrder": 12,
                "_isFastLaunch": false,
                "category": "General purpose",
                "gpuNum": 0,
                "hideHardwareSpecs": false,
                "memoryGiB": 8,
                "name": "ml.m5d.large",
                "vcpuNum": 2
            },
            {
                "_defaultOrder": 13,
                "_isFastLaunch": false,
                "category": "General purpose",
                "gpuNum": 0,
                "hideHardwareSpecs": false,
                "memoryGiB": 16,
                "name": "ml.m5d.xlarge",
                "vcpuNum": 4
            },
            {
                "_defaultOrder": 14,
                "_isFastLaunch": false,
                "category": "General purpose",
                "gpuNum": 0,
                "hideHardwareSpecs": false,
                "memoryGiB": 32,
                "name": "ml.m5d.2xlarge",
                "vcpuNum": 8
            },
            {
                "_defaultOrder": 15,
                "_isFastLaunch": false,
                "category": "General purpose",
                "gpuNum": 0,
                "hideHardwareSpecs": false,
                "memoryGiB": 64,
                "name": "ml.m5d.4xlarge",
                "vcpuNum": 16
            },
            {
                "_defaultOrder": 16,
                "_isFastLaunch": false,
                "category": "General purpose",
                "gpuNum": 0,
                "hideHardwareSpecs": false,
                "memoryGiB": 128,
                "name": "ml.m5d.8xlarge",
                "vcpuNum": 32
            },
            {
                "_defaultOrder": 17,
                "_isFastLaunch": false,
                "category": "General purpose",
                "gpuNum": 0,
                "hideHardwareSpecs": false,
                "memoryGiB": 192,
                "name": "ml.m5d.12xlarge",
                "vcpuNum": 48
            },
            {
                "_defaultOrder": 18,
                "_isFastLaunch": false,
                "category": "General purpose",
                "gpuNum": 0,
                "hideHardwareSpecs": false,
                "memoryGiB": 256,
                "name": "ml.m5d.16xlarge",
                "vcpuNum": 64
            },
            {
                "_defaultOrder": 19,
                "_isFastLaunch": false,
                "category": "General purpose",
                "gpuNum": 0,
                "hideHardwareSpecs": false,
                "memoryGiB": 384,
                "name": "ml.m5d.24xlarge",
                "vcpuNum": 96
            },
            {
                "_defaultOrder": 20,
                "_isFastLaunch": false,
                "category": "General purpose",
                "gpuNum": 0,
                "hideHardwareSpecs": true,
                "memoryGiB": 0,
                "name": "ml.geospatial.interactive",
                "supportedImageNames": [
                    "sagemaker-geospatial-v1-0"
                ],
                "vcpuNum": 0
            },
            {
                "_defaultOrder": 21,
                "_isFastLaunch": true,
                "category": "Compute optimized",
                "gpuNum": 0,
                "hideHardwareSpecs": false,
                "memoryGiB": 4,
                "name": "ml.c5.large",
                "vcpuNum": 2
            },
            {
                "_defaultOrder": 22,
                "_isFastLaunch": false,
                "category": "Compute optimized",
                "gpuNum": 0,
                "hideHardwareSpecs": false,
                "memoryGiB": 8,
                "name": "ml.c5.xlarge",
                "vcpuNum": 4
            },
            {
                "_defaultOrder": 23,
                "_isFastLaunch": false,
                "category": "Compute optimized",
                "gpuNum": 0,
                "hideHardwareSpecs": false,
                "memoryGiB": 16,
                "name": "ml.c5.2xlarge",
                "vcpuNum": 8
            },
            {
                "_defaultOrder": 24,
                "_isFastLaunch": false,
                "category": "Compute optimized",
                "gpuNum": 0,
                "hideHardwareSpecs": false,
                "memoryGiB": 32,
                "name": "ml.c5.4xlarge",
                "vcpuNum": 16
            },
            {
                "_defaultOrder": 25,
                "_isFastLaunch": false,
                "category": "Compute optimized",
                "gpuNum": 0,
                "hideHardwareSpecs": false,
                "memoryGiB": 72,
                "name": "ml.c5.9xlarge",
                "vcpuNum": 36
            },
            {
                "_defaultOrder": 26,
                "_isFastLaunch": false,
                "category": "Compute optimized",
                "gpuNum": 0,
                "hideHardwareSpecs": false,
                "memoryGiB": 96,
                "name": "ml.c5.12xlarge",
                "vcpuNum": 48
            },
            {
                "_defaultOrder": 27,
                "_isFastLaunch": false,
                "category": "Compute optimized",
                "gpuNum": 0,
                "hideHardwareSpecs": false,
                "memoryGiB": 144,
                "name": "ml.c5.18xlarge",
                "vcpuNum": 72
            },
            {
                "_defaultOrder": 28,
                "_isFastLaunch": false,
                "category": "Compute optimized",
                "gpuNum": 0,
                "hideHardwareSpecs": false,
                "memoryGiB": 192,
                "name": "ml.c5.24xlarge",
                "vcpuNum": 96
            },
            {
                "_defaultOrder": 29,
                "_isFastLaunch": true,
                "category": "Accelerated computing",
                "gpuNum": 1,
                "hideHardwareSpecs": false,
                "memoryGiB": 16,
                "name": "ml.g4dn.xlarge",
                "vcpuNum": 4
            },
            {
                "_defaultOrder": 30,
                "_isFastLaunch": false,
                "category": "Accelerated computing",
                "gpuNum": 1,
                "hideHardwareSpecs": false,
                "memoryGiB": 32,
                "name": "ml.g4dn.2xlarge",
                "vcpuNum": 8
            },
            {
                "_defaultOrder": 31,
                "_isFastLaunch": false,
                "category": "Accelerated computing",
                "gpuNum": 1,
                "hideHardwareSpecs": false,
                "memoryGiB": 64,
                "name": "ml.g4dn.4xlarge",
                "vcpuNum": 16
            },
            {
                "_defaultOrder": 32,
                "_isFastLaunch": false,
                "category": "Accelerated computing",
                "gpuNum": 1,
                "hideHardwareSpecs": false,
                "memoryGiB": 128,
                "name": "ml.g4dn.8xlarge",
                "vcpuNum": 32
            },
            {
                "_defaultOrder": 33,
                "_isFastLaunch": false,
                "category": "Accelerated computing",
                "gpuNum": 4,
                "hideHardwareSpecs": false,
                "memoryGiB": 192,
                "name": "ml.g4dn.12xlarge",
                "vcpuNum": 48
            },
            {
                "_defaultOrder": 34,
                "_isFastLaunch": false,
                "category": "Accelerated computing",
                "gpuNum": 1,
                "hideHardwareSpecs": false,
                "memoryGiB": 256,
                "name": "ml.g4dn.16xlarge",
                "vcpuNum": 64
            },
            {
                "_defaultOrder": 35,
                "_isFastLaunch": false,
                "category": "Accelerated computing",
                "gpuNum": 1,
                "hideHardwareSpecs": false,
                "memoryGiB": 61,
                "name": "ml.p3.2xlarge",
                "vcpuNum": 8
            },
            {
                "_defaultOrder": 36,
                "_isFastLaunch": false,
                "category": "Accelerated computing",
                "gpuNum": 4,
                "hideHardwareSpecs": false,
                "memoryGiB": 244,
                "name": "ml.p3.8xlarge",
                "vcpuNum": 32
            },
            {
                "_defaultOrder": 37,
                "_isFastLaunch": false,
                "category": "Accelerated computing",
                "gpuNum": 8,
                "hideHardwareSpecs": false,
                "memoryGiB": 488,
                "name": "ml.p3.16xlarge",
                "vcpuNum": 64
            },
            {
                "_defaultOrder": 38,
                "_isFastLaunch": false,
                "category": "Accelerated computing",
                "gpuNum": 8,
                "hideHardwareSpecs": false,
                "memoryGiB": 768,
                "name": "ml.p3dn.24xlarge",
                "vcpuNum": 96
            },
            {
                "_defaultOrder": 39,
                "_isFastLaunch": false,
                "category": "Memory Optimized",
                "gpuNum": 0,
                "hideHardwareSpecs": false,
                "memoryGiB": 16,
                "name": "ml.r5.large",
                "vcpuNum": 2
            },
            {
                "_defaultOrder": 40,
                "_isFastLaunch": false,
                "category": "Memory Optimized",
                "gpuNum": 0,
                "hideHardwareSpecs": false,
                "memoryGiB": 32,
                "name": "ml.r5.xlarge",
                "vcpuNum": 4
            },
            {
                "_defaultOrder": 41,
                "_isFastLaunch": false,
                "category": "Memory Optimized",
                "gpuNum": 0,
                "hideHardwareSpecs": false,
                "memoryGiB": 64,
                "name": "ml.r5.2xlarge",
                "vcpuNum": 8
            },
            {
                "_defaultOrder": 42,
                "_isFastLaunch": false,
                "category": "Memory Optimized",
                "gpuNum": 0,
                "hideHardwareSpecs": false,
                "memoryGiB": 128,
                "name": "ml.r5.4xlarge",
                "vcpuNum": 16
            },
            {
                "_defaultOrder": 43,
                "_isFastLaunch": false,
                "category": "Memory Optimized",
                "gpuNum": 0,
                "hideHardwareSpecs": false,
                "memoryGiB": 256,
                "name": "ml.r5.8xlarge",
                "vcpuNum": 32
            },
            {
                "_defaultOrder": 44,
                "_isFastLaunch": false,
                "category": "Memory Optimized",
                "gpuNum": 0,
                "hideHardwareSpecs": false,
                "memoryGiB": 384,
                "name": "ml.r5.12xlarge",
                "vcpuNum": 48
            },
            {
                "_defaultOrder": 45,
                "_isFastLaunch": false,
                "category": "Memory Optimized",
                "gpuNum": 0,
                "hideHardwareSpecs": false,
                "memoryGiB": 512,
                "name": "ml.r5.16xlarge",
                "vcpuNum": 64
            },
            {
                "_defaultOrder": 46,
                "_isFastLaunch": false,
                "category": "Memory Optimized",
                "gpuNum": 0,
                "hideHardwareSpecs": false,
                "memoryGiB": 768,
                "name": "ml.r5.24xlarge",
                "vcpuNum": 96
            },
            {
                "_defaultOrder": 47,
                "_isFastLaunch": false,
                "category": "Accelerated computing",
                "gpuNum": 1,
                "hideHardwareSpecs": false,
                "memoryGiB": 16,
                "name": "ml.g5.xlarge",
                "vcpuNum": 4
            },
            {
                "_defaultOrder": 48,
                "_isFastLaunch": false,
                "category": "Accelerated computing",
                "gpuNum": 1,
                "hideHardwareSpecs": false,
                "memoryGiB": 32,
                "name": "ml.g5.2xlarge",
                "vcpuNum": 8
            },
            {
                "_defaultOrder": 49,
                "_isFastLaunch": false,
                "category": "Accelerated computing",
                "gpuNum": 1,
                "hideHardwareSpecs": false,
                "memoryGiB": 64,
                "name": "ml.g5.4xlarge",
                "vcpuNum": 16
            },
            {
                "_defaultOrder": 50,
                "_isFastLaunch": false,
                "category": "Accelerated computing",
                "gpuNum": 1,
                "hideHardwareSpecs": false,
                "memoryGiB": 128,
                "name": "ml.g5.8xlarge",
                "vcpuNum": 32
            },
            {
                "_defaultOrder": 51,
                "_isFastLaunch": false,
                "category": "Accelerated computing",
                "gpuNum": 1,
                "hideHardwareSpecs": false,
                "memoryGiB": 256,
                "name": "ml.g5.16xlarge",
                "vcpuNum": 64
            },
            {
                "_defaultOrder": 52,
                "_isFastLaunch": false,
                "category": "Accelerated computing",
                "gpuNum": 4,
                "hideHardwareSpecs": false,
                "memoryGiB": 192,
                "name": "ml.g5.12xlarge",
                "vcpuNum": 48
            },
            {
                "_defaultOrder": 53,
                "_isFastLaunch": false,
                "category": "Accelerated computing",
                "gpuNum": 4,
                "hideHardwareSpecs": false,
                "memoryGiB": 384,
                "name": "ml.g5.24xlarge",
                "vcpuNum": 96
            },
            {
                "_defaultOrder": 54,
                "_isFastLaunch": false,
                "category": "Accelerated computing",
                "gpuNum": 8,
                "hideHardwareSpecs": false,
                "memoryGiB": 768,
                "name": "ml.g5.48xlarge",
                "vcpuNum": 192
            },
            {
                "_defaultOrder": 55,
                "_isFastLaunch": false,
                "category": "Accelerated computing",
                "gpuNum": 8,
                "hideHardwareSpecs": false,
                "memoryGiB": 1152,
                "name": "ml.p4d.24xlarge",
                "vcpuNum": 96
            },
            {
                "_defaultOrder": 56,
                "_isFastLaunch": false,
                "category": "Accelerated computing",
                "gpuNum": 8,
                "hideHardwareSpecs": false,
                "memoryGiB": 1152,
                "name": "ml.p4de.24xlarge",
                "vcpuNum": 96
            }
        ],
        "kernelspec": {
            "display_name": "GDSC (custom-gdsc/1)",
            "language": "python",
            "name": "python3__SAGEMAKER_INTERNAL__arn:aws:sagemaker:us-east-1:821562550650:image-version/custom-gdsc/1"
        },
        "language_info": {
            "codemirror_mode": {
                "name": "ipython",
                "version": 3
            },
            "file_extension": ".py",
            "mimetype": "text/x-python",
            "name": "python",
            "nbconvert_exporter": "python",
            "pygments_lexer": "ipython3",
            "version": "3.10.8"
        },
        "lcc_arn": "arn:aws:sagemaker:us-east-1:821562550650:studio-lifecycle-config/clean-trash"
    },
    "nbformat": 4,
    "nbformat_minor": 5
}