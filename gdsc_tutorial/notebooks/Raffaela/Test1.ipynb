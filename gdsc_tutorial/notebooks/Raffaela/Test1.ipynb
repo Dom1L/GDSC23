{
    "cells": [
        {
            "cell_type": "code",
            "execution_count": 3,
            "id": "d924fca8-d351-4766-9480-09628d15ba57",
            "metadata": {},
            "outputs": [],
            "source": [
                "import sys # Python system library needed to load custom functions\n",
                "import math # module with access to mathematical functions\n",
                "import os # for changing the directory\n",
                "\n",
                "import numpy as np  # for performing calculations on numerical arrays\n",
                "import pandas as pd  # home of the DataFrame construct, _the_ most important object for Data Science\n",
                "\n",
                "from numpy import save  \n",
                "\n",
                "from IPython.display import Audio # for listening to our insects\n",
                "import IPython\n",
                "from scipy.fft import fft # function to calculate Fast Fourier Transform\n",
                "\n",
                "import torchaudio\n",
                "\n",
                "import matplotlib.pyplot as plt  # allows creation of insightful plots\n",
                "import seaborn as sns # another library to make even more beautiful plots\n",
                "\n",
                "sys.path.append('../../src') # add the source directory to the PYTHONPATH. This allows to import local functions and modules.\n",
                "# enable rendering plots under the code cell that created it\n",
                "%matplotlib inline\n",
                "\n",
                "from eda_utils import show_sampling, signal_generator, plot_random_spec, plot_spec, plot_waveform # functions to create plots for and from audio data\n",
                "from gdsc_utils import download_directory, PROJECT_DIR # function to download GDSC data from S3 bucket and our root directory\n",
                "from config import DEFAULT_BUCKET  # S3 bucket with the GDSC data\n",
                "\n",
                "os.chdir(PROJECT_DIR) # changing our directory to root"
            ]
        },
        {
            "cell_type": "code",
            "execution_count": 3,
            "id": "7f92d7fc-af7e-43a7-baa8-1cee8a3e513b",
            "metadata": {},
            "outputs": [],
            "source": [
                "download_directory('data/', None, DEFAULT_BUCKET)"
            ]
        },
        {
            "cell_type": "code",
            "execution_count": 4,
            "id": "eb7662e9-92c0-49eb-ad69-8b761c9e0eda",
            "metadata": {
                "tags": []
            },
            "outputs": [],
            "source": [
                "cl= [1143,84,27,46,97,457,\n",
                "               189,849,573,605,457,545,\n",
                "               230,330,136,83,452,1060,\n",
                "               40,1458,99,792,238,197,\n",
                "               132,1108,620,536,573,1997,\n",
                "               553,544,437,1288,779,96,\n",
                "               603,215,329,1023,567,620,\n",
                "               231,330,121,513,351,299,\n",
                "               363,147,142,35,59,90,\n",
                "               302,503,707,267,428,697,\n",
                "               137,1138,576,96,286,109]"
            ]
        },
        {
            "cell_type": "code",
            "execution_count": 5,
            "id": "cf9f099f-78b3-46fc-97e8-bfca2ab73c21",
            "metadata": {
                "tags": []
            },
            "outputs": [],
            "source": [
                "df = pd.read_csv('data/metadata.csv')"
            ]
        },
        {
            "cell_type": "code",
            "execution_count": 35,
            "id": "d609d92a-edfd-4bff-9e78-03b47b34a013",
            "metadata": {
                "tags": []
            },
            "outputs": [],
            "source": [
                "test_sort = test.query('label == 1')\n",
                "#res1 = df.query('subset == \"train\" & length > 40 & label == 57') # just take train-data with length > 40\n",
                "#res2 = df.query('subset == \"validation\" & label == 57')\n",
                "#res3 = df.query('label == 57')"
            ]
        },
        {
            "cell_type": "code",
            "execution_count": 37,
            "id": "9108aa4f-a6aa-4d76-bbc4-ef334b7bd05f",
            "metadata": {
                "tags": []
            },
            "outputs": [],
            "source": [
                "#groupby_sum1 = df_sort.groupby(['label']).sum() \n",
                "groupby_test = test_sort.groupby(['label']).sum()\n",
                "#groupby_count1 = df_sort.count()\n",
                "groupby_testcount = test_sort.count()\n",
                "#groupby_count2 = res1.count()\n",
                "#groupby_count3 = res2.count()\n",
                "#groupby_count4 = res3.count()\n",
                "print(groupby_testcount['label'])\n",
                "anz_class = [1143, 84, 109]\n",
                "print(anz_class)\n",
                "#print(groupby_count1['length'])\n",
                "#print(groupby_testcount['length'])\n",
                "#print(groupby_count2['length'])\n",
                "#print(groupby_count3['length'])\n",
                "#print(groupby_count4['length'])"
            ]
        },
        {
            "cell_type": "code",
            "execution_count": 14,
            "id": "c77cd758-f6aa-45e3-b181-25ca6045fd0a",
            "metadata": {
                "tags": []
            },
            "outputs": [],
            "source": [
                "res = df.query('subset == \"train\" & length > 40') # just take train-data with length > 40"
            ]
        },
        {
            "cell_type": "code",
            "execution_count": 15,
            "id": "0a9b6d45-0525-4ec6-9720-dca7f7d2b702",
            "metadata": {
                "tags": []
            },
            "outputs": [],
            "source": [
                "res_sorted = res.sort_values(by=\"label\") # sort the train-data with length>40 by label/species"
            ]
        },
        {
            "cell_type": "code",
            "execution_count": 16,
            "id": "240e5b80-bc08-4e50-ad57-661832cac215",
            "metadata": {
                "tags": []
            },
            "outputs": [],
            "source": [
                "# VISUALIZATION:\n",
                "# add variable that combines species and label\n",
                "res_sorted['species and label'] = res_sorted.apply(lambda x: f\"{x['species']} ({str(x['label'])})\", axis = 1)\n",
                "#res_sorted.head(2)"
            ]
        },
        {
            "cell_type": "code",
            "execution_count": 17,
            "id": "eaa26086-8046-44d4-92b8-f7bf3bcd9073",
            "metadata": {
                "tags": []
            },
            "outputs": [],
            "source": [
                "# Calculating stats per label/species - total length of recording per class and the total number of class occurences in the dataset\n",
                "# sorted_stats shows how many seconds of recordings we have for each species, the number of different entries as well as the average length per sample (for trian-data)\n",
                "sorted_stats = res_sorted.groupby(['label','species and label']).agg(length = ('length', 'sum'), count = ('species', 'count')).reset_index()\n",
                "\n",
                "# Calculating average length of an audio sample\n",
                "sorted_stats['avg_len'] = sorted_stats['length']/sorted_stats['count']\n",
                "#sorted_stats.head()"
            ]
        },
        {
            "cell_type": "code",
            "execution_count": 8,
            "id": "7cd00f7b-de69-46ff-9657-2283907f67fa",
            "metadata": {
                "tags": []
            },
            "outputs": [],
            "source": [
                "sorted_stats = sorted_stats.sort_values('label')\n",
                "\n",
                "plt.figure(figsize = (20,6))\n",
                "sns.barplot(x = sorted_stats['species and label'], y = sorted_stats['count'], color = 'royalblue')\n",
                "plt.title('Number of files per species (train-data) with length > 40 sec.', fontsize = 20)\n",
                "plt.xticks(rotation = 90)\n",
                "plt.show()"
            ]
        },
        {
            "cell_type": "code",
            "execution_count": 18,
            "id": "958b9ad8-d05e-4d52-88f5-1911f15a8099",
            "metadata": {
                "tags": []
            },
            "outputs": [],
            "source": [
                "sorted_stats = sorted_stats.sort_values('label')\n",
                "\n",
                "plt.figure(figsize = (20,6))\n",
                "sns.barplot(x = sorted_stats['species and label'], y = sorted_stats['length'], color = 'royalblue')\n",
                "plt.title('Length of files per species (train-data) with length > 40 sec.', fontsize = 20)\n",
                "plt.xticks(rotation = 90)\n",
                "plt.show()"
            ]
        },
        {
            "cell_type": "code",
            "execution_count": 146,
            "id": "8c113286-6b0e-4c7b-9cec-c4ecd909f610",
            "metadata": {
                "tags": []
            },
            "outputs": [],
            "source": [
                "# Exercise: Which species has the longest/shortest audio sample?\n",
                "length_vec = df[[\"length\", \"species\"]]\n",
                "length_max = max(length_vec[\"length\"])\n",
                "length_min = min(length_vec[\"length\"])\n",
                "#print(length_max)\n",
                "#print(length_min)\n",
                "maxs = length_vec.query('length >= 707.0839909297052')\n",
                "mins = length_vec.query('length <= 1.0')\n",
                "print(maxs)\n",
                "print(mins)"
            ]
        },
        {
            "cell_type": "code",
            "execution_count": 7,
            "id": "db3c3939-7fe1-4660-9a9b-fcc95b05c7c2",
            "metadata": {
                "tags": []
            },
            "outputs": [],
            "source": [
                "# Exercise: Which classes have most/least amount of data?\n",
                "df['species and label'] = df.apply(lambda x: f\"{x['species']} ({str(x['label'])})\", axis = 1)\n",
                "df_stats = df.groupby(['label','species and label']).agg(length = ('length', 'sum'), count = ('species', 'count')).reset_index()\n",
                "\n",
                "amount_vec = df_stats[[\"species and label\", \"count\"]]\n",
                "amount_max = max(amount_vec[\"count\"])\n",
                "amount_min = min(amount_vec[\"count\"])\n",
                "#print(amount_max)\n",
                "#print(amount_min)\n",
                "#maxa = amount_vec.query('count >= 128')\n",
                "#mina = amount_vec.query('count <= 8')\n",
                "mina = amount_vec.query('count == 11')\n",
                "#print(maxa)\n",
                "print(mina)"
            ]
        },
        {
            "cell_type": "code",
            "execution_count": 3,
            "id": "e6e47c24-4f8f-4b10-87a5-17aa2d5ef60d",
            "metadata": {},
            "outputs": [],
            "source": [
                "ep_train_14_13 = 'data/train/Cicadaorni_GBIF3902038865_IN92382887_296104.wav'\n",
                "plot_waveform(ep_train_14_13)"
            ]
        },
        {
            "cell_type": "code",
            "execution_count": 4,
            "id": "241de786-29ef-4f55-9757-0b5f11134b12",
            "metadata": {
                "tags": []
            },
            "outputs": [],
            "source": [
                "plot_spec([ep_train_14_13])"
            ]
        },
        {
            "cell_type": "code",
            "execution_count": 7,
            "id": "f897e8f0-0469-4940-ada7-e4f23465a16e",
            "metadata": {
                "tags": []
            },
            "outputs": [],
            "source": [
                "wave14_13, sample_rate = torchaudio.load(f'data/train/Cicadaorni_GBIF3902038865_IN92382887_296104.wav')\n",
                "wave14_13_1 = wave14_13[0] # only one channel\n",
                "wave14_13_1 = wave14_13_1[:2*sample_rate] "
            ]
        },
        {
            "cell_type": "code",
            "execution_count": null,
            "id": "2c8f80c6-b03a-48e2-aba6-7c3af755a10a",
            "metadata": {},
            "outputs": [],
            "source": []
        }
    ],
    "metadata": {
        "availableInstances": [
            {
                "_defaultOrder": 0,
                "_isFastLaunch": true,
                "category": "General purpose",
                "gpuNum": 0,
                "hideHardwareSpecs": false,
                "memoryGiB": 4,
                "name": "ml.t3.medium",
                "vcpuNum": 2
            },
            {
                "_defaultOrder": 1,
                "_isFastLaunch": false,
                "category": "General purpose",
                "gpuNum": 0,
                "hideHardwareSpecs": false,
                "memoryGiB": 8,
                "name": "ml.t3.large",
                "vcpuNum": 2
            },
            {
                "_defaultOrder": 2,
                "_isFastLaunch": false,
                "category": "General purpose",
                "gpuNum": 0,
                "hideHardwareSpecs": false,
                "memoryGiB": 16,
                "name": "ml.t3.xlarge",
                "vcpuNum": 4
            },
            {
                "_defaultOrder": 3,
                "_isFastLaunch": false,
                "category": "General purpose",
                "gpuNum": 0,
                "hideHardwareSpecs": false,
                "memoryGiB": 32,
                "name": "ml.t3.2xlarge",
                "vcpuNum": 8
            },
            {
                "_defaultOrder": 4,
                "_isFastLaunch": true,
                "category": "General purpose",
                "gpuNum": 0,
                "hideHardwareSpecs": false,
                "memoryGiB": 8,
                "name": "ml.m5.large",
                "vcpuNum": 2
            },
            {
                "_defaultOrder": 5,
                "_isFastLaunch": false,
                "category": "General purpose",
                "gpuNum": 0,
                "hideHardwareSpecs": false,
                "memoryGiB": 16,
                "name": "ml.m5.xlarge",
                "vcpuNum": 4
            },
            {
                "_defaultOrder": 6,
                "_isFastLaunch": false,
                "category": "General purpose",
                "gpuNum": 0,
                "hideHardwareSpecs": false,
                "memoryGiB": 32,
                "name": "ml.m5.2xlarge",
                "vcpuNum": 8
            },
            {
                "_defaultOrder": 7,
                "_isFastLaunch": false,
                "category": "General purpose",
                "gpuNum": 0,
                "hideHardwareSpecs": false,
                "memoryGiB": 64,
                "name": "ml.m5.4xlarge",
                "vcpuNum": 16
            },
            {
                "_defaultOrder": 8,
                "_isFastLaunch": false,
                "category": "General purpose",
                "gpuNum": 0,
                "hideHardwareSpecs": false,
                "memoryGiB": 128,
                "name": "ml.m5.8xlarge",
                "vcpuNum": 32
            },
            {
                "_defaultOrder": 9,
                "_isFastLaunch": false,
                "category": "General purpose",
                "gpuNum": 0,
                "hideHardwareSpecs": false,
                "memoryGiB": 192,
                "name": "ml.m5.12xlarge",
                "vcpuNum": 48
            },
            {
                "_defaultOrder": 10,
                "_isFastLaunch": false,
                "category": "General purpose",
                "gpuNum": 0,
                "hideHardwareSpecs": false,
                "memoryGiB": 256,
                "name": "ml.m5.16xlarge",
                "vcpuNum": 64
            },
            {
                "_defaultOrder": 11,
                "_isFastLaunch": false,
                "category": "General purpose",
                "gpuNum": 0,
                "hideHardwareSpecs": false,
                "memoryGiB": 384,
                "name": "ml.m5.24xlarge",
                "vcpuNum": 96
            },
            {
                "_defaultOrder": 12,
                "_isFastLaunch": false,
                "category": "General purpose",
                "gpuNum": 0,
                "hideHardwareSpecs": false,
                "memoryGiB": 8,
                "name": "ml.m5d.large",
                "vcpuNum": 2
            },
            {
                "_defaultOrder": 13,
                "_isFastLaunch": false,
                "category": "General purpose",
                "gpuNum": 0,
                "hideHardwareSpecs": false,
                "memoryGiB": 16,
                "name": "ml.m5d.xlarge",
                "vcpuNum": 4
            },
            {
                "_defaultOrder": 14,
                "_isFastLaunch": false,
                "category": "General purpose",
                "gpuNum": 0,
                "hideHardwareSpecs": false,
                "memoryGiB": 32,
                "name": "ml.m5d.2xlarge",
                "vcpuNum": 8
            },
            {
                "_defaultOrder": 15,
                "_isFastLaunch": false,
                "category": "General purpose",
                "gpuNum": 0,
                "hideHardwareSpecs": false,
                "memoryGiB": 64,
                "name": "ml.m5d.4xlarge",
                "vcpuNum": 16
            },
            {
                "_defaultOrder": 16,
                "_isFastLaunch": false,
                "category": "General purpose",
                "gpuNum": 0,
                "hideHardwareSpecs": false,
                "memoryGiB": 128,
                "name": "ml.m5d.8xlarge",
                "vcpuNum": 32
            },
            {
                "_defaultOrder": 17,
                "_isFastLaunch": false,
                "category": "General purpose",
                "gpuNum": 0,
                "hideHardwareSpecs": false,
                "memoryGiB": 192,
                "name": "ml.m5d.12xlarge",
                "vcpuNum": 48
            },
            {
                "_defaultOrder": 18,
                "_isFastLaunch": false,
                "category": "General purpose",
                "gpuNum": 0,
                "hideHardwareSpecs": false,
                "memoryGiB": 256,
                "name": "ml.m5d.16xlarge",
                "vcpuNum": 64
            },
            {
                "_defaultOrder": 19,
                "_isFastLaunch": false,
                "category": "General purpose",
                "gpuNum": 0,
                "hideHardwareSpecs": false,
                "memoryGiB": 384,
                "name": "ml.m5d.24xlarge",
                "vcpuNum": 96
            },
            {
                "_defaultOrder": 20,
                "_isFastLaunch": false,
                "category": "General purpose",
                "gpuNum": 0,
                "hideHardwareSpecs": true,
                "memoryGiB": 0,
                "name": "ml.geospatial.interactive",
                "supportedImageNames": [
                    "sagemaker-geospatial-v1-0"
                ],
                "vcpuNum": 0
            },
            {
                "_defaultOrder": 21,
                "_isFastLaunch": true,
                "category": "Compute optimized",
                "gpuNum": 0,
                "hideHardwareSpecs": false,
                "memoryGiB": 4,
                "name": "ml.c5.large",
                "vcpuNum": 2
            },
            {
                "_defaultOrder": 22,
                "_isFastLaunch": false,
                "category": "Compute optimized",
                "gpuNum": 0,
                "hideHardwareSpecs": false,
                "memoryGiB": 8,
                "name": "ml.c5.xlarge",
                "vcpuNum": 4
            },
            {
                "_defaultOrder": 23,
                "_isFastLaunch": false,
                "category": "Compute optimized",
                "gpuNum": 0,
                "hideHardwareSpecs": false,
                "memoryGiB": 16,
                "name": "ml.c5.2xlarge",
                "vcpuNum": 8
            },
            {
                "_defaultOrder": 24,
                "_isFastLaunch": false,
                "category": "Compute optimized",
                "gpuNum": 0,
                "hideHardwareSpecs": false,
                "memoryGiB": 32,
                "name": "ml.c5.4xlarge",
                "vcpuNum": 16
            },
            {
                "_defaultOrder": 25,
                "_isFastLaunch": false,
                "category": "Compute optimized",
                "gpuNum": 0,
                "hideHardwareSpecs": false,
                "memoryGiB": 72,
                "name": "ml.c5.9xlarge",
                "vcpuNum": 36
            },
            {
                "_defaultOrder": 26,
                "_isFastLaunch": false,
                "category": "Compute optimized",
                "gpuNum": 0,
                "hideHardwareSpecs": false,
                "memoryGiB": 96,
                "name": "ml.c5.12xlarge",
                "vcpuNum": 48
            },
            {
                "_defaultOrder": 27,
                "_isFastLaunch": false,
                "category": "Compute optimized",
                "gpuNum": 0,
                "hideHardwareSpecs": false,
                "memoryGiB": 144,
                "name": "ml.c5.18xlarge",
                "vcpuNum": 72
            },
            {
                "_defaultOrder": 28,
                "_isFastLaunch": false,
                "category": "Compute optimized",
                "gpuNum": 0,
                "hideHardwareSpecs": false,
                "memoryGiB": 192,
                "name": "ml.c5.24xlarge",
                "vcpuNum": 96
            },
            {
                "_defaultOrder": 29,
                "_isFastLaunch": true,
                "category": "Accelerated computing",
                "gpuNum": 1,
                "hideHardwareSpecs": false,
                "memoryGiB": 16,
                "name": "ml.g4dn.xlarge",
                "vcpuNum": 4
            },
            {
                "_defaultOrder": 30,
                "_isFastLaunch": false,
                "category": "Accelerated computing",
                "gpuNum": 1,
                "hideHardwareSpecs": false,
                "memoryGiB": 32,
                "name": "ml.g4dn.2xlarge",
                "vcpuNum": 8
            },
            {
                "_defaultOrder": 31,
                "_isFastLaunch": false,
                "category": "Accelerated computing",
                "gpuNum": 1,
                "hideHardwareSpecs": false,
                "memoryGiB": 64,
                "name": "ml.g4dn.4xlarge",
                "vcpuNum": 16
            },
            {
                "_defaultOrder": 32,
                "_isFastLaunch": false,
                "category": "Accelerated computing",
                "gpuNum": 1,
                "hideHardwareSpecs": false,
                "memoryGiB": 128,
                "name": "ml.g4dn.8xlarge",
                "vcpuNum": 32
            },
            {
                "_defaultOrder": 33,
                "_isFastLaunch": false,
                "category": "Accelerated computing",
                "gpuNum": 4,
                "hideHardwareSpecs": false,
                "memoryGiB": 192,
                "name": "ml.g4dn.12xlarge",
                "vcpuNum": 48
            },
            {
                "_defaultOrder": 34,
                "_isFastLaunch": false,
                "category": "Accelerated computing",
                "gpuNum": 1,
                "hideHardwareSpecs": false,
                "memoryGiB": 256,
                "name": "ml.g4dn.16xlarge",
                "vcpuNum": 64
            },
            {
                "_defaultOrder": 35,
                "_isFastLaunch": false,
                "category": "Accelerated computing",
                "gpuNum": 1,
                "hideHardwareSpecs": false,
                "memoryGiB": 61,
                "name": "ml.p3.2xlarge",
                "vcpuNum": 8
            },
            {
                "_defaultOrder": 36,
                "_isFastLaunch": false,
                "category": "Accelerated computing",
                "gpuNum": 4,
                "hideHardwareSpecs": false,
                "memoryGiB": 244,
                "name": "ml.p3.8xlarge",
                "vcpuNum": 32
            },
            {
                "_defaultOrder": 37,
                "_isFastLaunch": false,
                "category": "Accelerated computing",
                "gpuNum": 8,
                "hideHardwareSpecs": false,
                "memoryGiB": 488,
                "name": "ml.p3.16xlarge",
                "vcpuNum": 64
            },
            {
                "_defaultOrder": 38,
                "_isFastLaunch": false,
                "category": "Accelerated computing",
                "gpuNum": 8,
                "hideHardwareSpecs": false,
                "memoryGiB": 768,
                "name": "ml.p3dn.24xlarge",
                "vcpuNum": 96
            },
            {
                "_defaultOrder": 39,
                "_isFastLaunch": false,
                "category": "Memory Optimized",
                "gpuNum": 0,
                "hideHardwareSpecs": false,
                "memoryGiB": 16,
                "name": "ml.r5.large",
                "vcpuNum": 2
            },
            {
                "_defaultOrder": 40,
                "_isFastLaunch": false,
                "category": "Memory Optimized",
                "gpuNum": 0,
                "hideHardwareSpecs": false,
                "memoryGiB": 32,
                "name": "ml.r5.xlarge",
                "vcpuNum": 4
            },
            {
                "_defaultOrder": 41,
                "_isFastLaunch": false,
                "category": "Memory Optimized",
                "gpuNum": 0,
                "hideHardwareSpecs": false,
                "memoryGiB": 64,
                "name": "ml.r5.2xlarge",
                "vcpuNum": 8
            },
            {
                "_defaultOrder": 42,
                "_isFastLaunch": false,
                "category": "Memory Optimized",
                "gpuNum": 0,
                "hideHardwareSpecs": false,
                "memoryGiB": 128,
                "name": "ml.r5.4xlarge",
                "vcpuNum": 16
            },
            {
                "_defaultOrder": 43,
                "_isFastLaunch": false,
                "category": "Memory Optimized",
                "gpuNum": 0,
                "hideHardwareSpecs": false,
                "memoryGiB": 256,
                "name": "ml.r5.8xlarge",
                "vcpuNum": 32
            },
            {
                "_defaultOrder": 44,
                "_isFastLaunch": false,
                "category": "Memory Optimized",
                "gpuNum": 0,
                "hideHardwareSpecs": false,
                "memoryGiB": 384,
                "name": "ml.r5.12xlarge",
                "vcpuNum": 48
            },
            {
                "_defaultOrder": 45,
                "_isFastLaunch": false,
                "category": "Memory Optimized",
                "gpuNum": 0,
                "hideHardwareSpecs": false,
                "memoryGiB": 512,
                "name": "ml.r5.16xlarge",
                "vcpuNum": 64
            },
            {
                "_defaultOrder": 46,
                "_isFastLaunch": false,
                "category": "Memory Optimized",
                "gpuNum": 0,
                "hideHardwareSpecs": false,
                "memoryGiB": 768,
                "name": "ml.r5.24xlarge",
                "vcpuNum": 96
            },
            {
                "_defaultOrder": 47,
                "_isFastLaunch": false,
                "category": "Accelerated computing",
                "gpuNum": 1,
                "hideHardwareSpecs": false,
                "memoryGiB": 16,
                "name": "ml.g5.xlarge",
                "vcpuNum": 4
            },
            {
                "_defaultOrder": 48,
                "_isFastLaunch": false,
                "category": "Accelerated computing",
                "gpuNum": 1,
                "hideHardwareSpecs": false,
                "memoryGiB": 32,
                "name": "ml.g5.2xlarge",
                "vcpuNum": 8
            },
            {
                "_defaultOrder": 49,
                "_isFastLaunch": false,
                "category": "Accelerated computing",
                "gpuNum": 1,
                "hideHardwareSpecs": false,
                "memoryGiB": 64,
                "name": "ml.g5.4xlarge",
                "vcpuNum": 16
            },
            {
                "_defaultOrder": 50,
                "_isFastLaunch": false,
                "category": "Accelerated computing",
                "gpuNum": 1,
                "hideHardwareSpecs": false,
                "memoryGiB": 128,
                "name": "ml.g5.8xlarge",
                "vcpuNum": 32
            },
            {
                "_defaultOrder": 51,
                "_isFastLaunch": false,
                "category": "Accelerated computing",
                "gpuNum": 1,
                "hideHardwareSpecs": false,
                "memoryGiB": 256,
                "name": "ml.g5.16xlarge",
                "vcpuNum": 64
            },
            {
                "_defaultOrder": 52,
                "_isFastLaunch": false,
                "category": "Accelerated computing",
                "gpuNum": 4,
                "hideHardwareSpecs": false,
                "memoryGiB": 192,
                "name": "ml.g5.12xlarge",
                "vcpuNum": 48
            },
            {
                "_defaultOrder": 53,
                "_isFastLaunch": false,
                "category": "Accelerated computing",
                "gpuNum": 4,
                "hideHardwareSpecs": false,
                "memoryGiB": 384,
                "name": "ml.g5.24xlarge",
                "vcpuNum": 96
            },
            {
                "_defaultOrder": 54,
                "_isFastLaunch": false,
                "category": "Accelerated computing",
                "gpuNum": 8,
                "hideHardwareSpecs": false,
                "memoryGiB": 768,
                "name": "ml.g5.48xlarge",
                "vcpuNum": 192
            },
            {
                "_defaultOrder": 55,
                "_isFastLaunch": false,
                "category": "Accelerated computing",
                "gpuNum": 8,
                "hideHardwareSpecs": false,
                "memoryGiB": 1152,
                "name": "ml.p4d.24xlarge",
                "vcpuNum": 96
            },
            {
                "_defaultOrder": 56,
                "_isFastLaunch": false,
                "category": "Accelerated computing",
                "gpuNum": 8,
                "hideHardwareSpecs": false,
                "memoryGiB": 1152,
                "name": "ml.p4de.24xlarge",
                "vcpuNum": 96
            }
        ],
        "instance_type": "ml.t3.medium",
        "kernelspec": {
            "display_name": "GDSC (custom-gdsc/1)",
            "language": "python",
            "name": "python3__SAGEMAKER_INTERNAL__arn:aws:sagemaker:us-east-1:821562550650:image-version/custom-gdsc/1"
        },
        "language_info": {
            "codemirror_mode": {
                "name": "ipython",
                "version": 3
            },
            "file_extension": ".py",
            "mimetype": "text/x-python",
            "name": "python",
            "nbconvert_exporter": "python",
            "pygments_lexer": "ipython3",
            "version": "3.10.8"
        },
        "lcc_arn": "arn:aws:sagemaker:us-east-1:821562550650:studio-lifecycle-config/clean-trash"
    },
    "nbformat": 4,
    "nbformat_minor": 5
}