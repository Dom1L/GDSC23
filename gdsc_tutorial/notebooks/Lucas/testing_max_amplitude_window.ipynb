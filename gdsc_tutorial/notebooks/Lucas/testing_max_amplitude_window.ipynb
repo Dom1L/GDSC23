{
    "cells": [
        {
            "cell_type": "code",
            "execution_count": 4,
            "id": "671c29be-ac00-4c30-8e8b-2bf42ba44da9",
            "metadata": {
                "tags": []
            },
            "outputs": [],
            "source": [
                "import sys # Python system library needed to load custom functions\n",
                "import math # module with access to mathematical functions\n",
                "import os # for changing the directory\n",
                "\n",
                "import numpy as np  # for performing calculations on numerical arrays\n",
                "import pandas as pd  # home of the DataFrame construct, _the_ most important object for Data Science\n",
                "\n",
                "from IPython.display import Audio # for listening to our insects\n",
                "import IPython\n",
                "from scipy.fft import fft # function to calculate Fast Fourier Transform\n",
                "\n",
                "import matplotlib.pyplot as plt  # allows creation of insightful plots\n",
                "import seaborn as sns # another library to make even more beautiful plots\n",
                "\n",
                "import torch\n",
                "import torchaudio\n",
                "\n",
                "sys.path.append('../../src') # add the source directory to the PYTHONPATH. This allows to import local functions and modules.\n",
                "# enable rendering plots under the code cell that created it\n",
                "%matplotlib inline\n",
                "\n",
                "from eda_utils import show_sampling, signal_generator, plot_random_spec, plot_spec, plot_waveform # functions to create plots for and from audio data\n",
                "from gdsc_utils import download_directory, PROJECT_DIR # function to download GDSC data from S3 bucket and our root directory\n",
                "from config import DEFAULT_BUCKET  # S3 bucket with the GDSC data\n",
                "\n",
                "os.chdir(PROJECT_DIR) # changing our directory to root"
            ]
        },
        {
            "cell_type": "code",
            "execution_count": 3,
            "id": "ea91a7f1-036b-4803-aded-e72cb938030f",
            "metadata": {
                "tags": []
            },
            "outputs": [],
            "source": [
                "testing_path = 'data/train/Atrapsaltacorticina_GBIF1946322682_IN18591645_27630.wav'"
            ]
        },
        {
            "cell_type": "code",
            "execution_count": 4,
            "id": "64b5a78d-6555-4ccd-a052-a3c39a4c3665",
            "metadata": {
                "tags": []
            },
            "outputs": [],
            "source": [
                "plot_waveform(testing_path, 44100)"
            ]
        },
        {
            "cell_type": "code",
            "execution_count": 6,
            "id": "697a27cd-d29f-44a2-a09f-7a9e191660ba",
            "metadata": {
                "tags": []
            },
            "outputs": [],
            "source": [
                "waveform1, samplerate1 =  torchaudio.load(testing_path)"
            ]
        },
        {
            "cell_type": "code",
            "execution_count": 10,
            "id": "8c8538ac-ca3a-44cc-91e6-36b2c3e3deae",
            "metadata": {
                "tags": []
            },
            "outputs": [],
            "source": [
                "print(waveform1[0].numpy().shape)\n",
                "print(abs(waveform1[0].numpy()))"
            ]
        },
        {
            "cell_type": "code",
            "execution_count": 41,
            "id": "cc2ab74b-c1a6-4fb7-a8d1-28f518f5c519",
            "metadata": {
                "tags": []
            },
            "outputs": [],
            "source": [
                "def get_max_amplitude_window_no_scanning(path: str,\n",
                "                                   window_length_sec):\n",
                "    '''\n",
                "    returns index of waveform that starts the window of length window_length_sec*samplerate, with the highest summed amplitude \n",
                "    '''\n",
                "\n",
                "    \n",
                "    waveform, samplerate =  torchaudio.load(path)\n",
                "    #calculate boolean cut-off vector\n",
                "    \n",
                "    window_length = math.floor(window_length_sec * samplerate)\n",
                "    \n",
                "    if window_length >= waveform[0].numpy().shape[0]:\n",
                "        return 0\n",
                "    \n",
                "    max_sum = 0\n",
                "    max_index = 0\n",
                "    \n",
                "    for x in range(waveform[0].numpy()[:-window_length].shape[0]):\n",
                "        if np.sum(abs(waveform[0].numpy()[x:x-window_length])) > max_sum:\n",
                "            max_sum = np.sum(waveform[0].numpy()[x:x-window_length])\n",
                "            max_index = x\n",
                "            \n",
                "    return max_index\n",
                "    "
            ]
        },
        {
            "cell_type": "code",
            "execution_count": 13,
            "id": "6f69d3f2-24d2-420f-945d-7a9ada86058b",
            "metadata": {
                "tags": []
            },
            "outputs": [],
            "source": [
                "get_max_amplitude_window_index(testing_path, 5)"
            ]
        },
        {
            "cell_type": "code",
            "execution_count": 14,
            "id": "8980c8ed-8bb8-4a4e-911e-cb795b002d70",
            "metadata": {
                "tags": []
            },
            "outputs": [],
            "source": [
                "205995/44100"
            ]
        },
        {
            "cell_type": "code",
            "execution_count": 2,
            "id": "7cdc2f3c-4092-4b46-afd6-a25410b2c889",
            "metadata": {
                "tags": []
            },
            "outputs": [],
            "source": [
                "def get_max_amplitude_window_index(path: str,\n",
                "                                   window_length_sec,\n",
                "                                   scan_param = 50, \n",
                "                                   verbose = True):\n",
                "    '''\n",
                "    Returns index of waveform that starts the window of length window_length_sec*samplerate, with the highest summed amplitude.\n",
                "    only scans at certain scan intervals, to speed up the calculation\n",
                "\n",
                "    Args:\n",
                "        path (str): path to data, as in torchaudio.load\n",
                "        window_length_sec: window length to calculate sum over absolute amplitudes\n",
                "        scan_param: samplerate should be divisible by scan_param\n",
                "        verbose (bool): to print return index in seconds\n",
                "\n",
                "    Returns:\n",
                "        max_index (int): start index of window with max amplitudes \n",
                "    '''\n",
                "\n",
                "    waveform, samplerate =  torchaudio.load(path)\n",
                "    \n",
                "    waveform_length = waveform[0].numpy().shape[0]\n",
                "    window_length = math.floor(window_length_sec * samplerate)\n",
                "    \n",
                "    if window_length >= waveform_length:\n",
                "        return 0\n",
                "    \n",
                "    #divide available waveform length by scan_param, to construct scan array\n",
                "    scan_length = math.floor((waveform_length-window_length)/scan_param)\n",
                "    \n",
                "    max_sum = 0\n",
                "    max_index = 0\n",
                "    \n",
                "    #in every scan interval: calculate sum over window and save max\n",
                "    for x in range(scan_length):\n",
                "        tmp = np.sum(abs(waveform[0].numpy()[x*scan_param:x*scan_param+window_length]))\n",
                "        if tmp > max_sum:\n",
                "            max_sum = tmp\n",
                "            max_index = x*scan_param\n",
                "    \n",
                "    if verbose:\n",
                "        print('window starts at:',max_index/samplerate, 'seconds')\n",
                "    return max_index"
            ]
        },
        {
            "cell_type": "code",
            "execution_count": 30,
            "id": "4dd6ab66-84a6-492e-bf0f-6903fcb65df2",
            "metadata": {
                "tags": []
            },
            "outputs": [],
            "source": [
                "get_max_amplitude_window_index(testing_path, 10)"
            ]
        },
        {
            "cell_type": "code",
            "execution_count": 51,
            "id": "ba145b0e-2296-47ea-bbdd-a0925b70e93e",
            "metadata": {
                "tags": []
            },
            "outputs": [],
            "source": [
                "print(len(waveform1[0]))"
            ]
        },
        {
            "cell_type": "code",
            "execution_count": 60,
            "id": "c128c9b6-5c06-4824-837a-804170fd689a",
            "metadata": {
                "tags": []
            },
            "outputs": [],
            "source": [
                "get_max_amplitude_window_index(testing_path, 5, 11025)"
            ]
        },
        {
            "cell_type": "code",
            "execution_count": 61,
            "id": "8deeda6e-6c5f-4b91-93d1-2fc52a49a794",
            "metadata": {
                "tags": []
            },
            "outputs": [],
            "source": [
                "get_max_amplitude_window_index(testing_path, 5, 100)"
            ]
        },
        {
            "cell_type": "code",
            "execution_count": 76,
            "id": "707c2be2-91cc-4c20-bc8c-ef29a5d9689c",
            "metadata": {
                "tags": []
            },
            "outputs": [],
            "source": [
                "testing_path2 = 'data/val/Aleetacurvicosta_GBIF3039381926_IN68785661_161247.wav'"
            ]
        },
        {
            "cell_type": "code",
            "execution_count": 77,
            "id": "0b49bd1e-ba4b-45a4-ab9e-3285fec39b8f",
            "metadata": {
                "tags": []
            },
            "outputs": [],
            "source": [
                "get_max_amplitude_window_index(testing_path2, 5, 100)"
            ]
        },
        {
            "cell_type": "code",
            "execution_count": 78,
            "id": "9c9a499a-ba5e-4478-a639-a8df1678c51f",
            "metadata": {
                "tags": []
            },
            "outputs": [],
            "source": [
                "plot_waveform(testing_path2, 44100)"
            ]
        },
        {
            "cell_type": "code",
            "execution_count": 79,
            "id": "3b1ee217-3c86-4a8d-824c-2f18df6ee2e7",
            "metadata": {
                "tags": []
            },
            "outputs": [],
            "source": [
                "testing_path3 = 'data/val/Barbitistesyersini_XC752462-dat047-010_edit7.wav'"
            ]
        },
        {
            "cell_type": "code",
            "execution_count": 80,
            "id": "b7bf92cf-231c-4c92-a075-9a289bbb49a7",
            "metadata": {
                "tags": []
            },
            "outputs": [],
            "source": [
                "get_max_amplitude_window_index(testing_path3, 5, 100)"
            ]
        },
        {
            "cell_type": "code",
            "execution_count": 81,
            "id": "b5b1cddb-0e31-46d2-af80-5476a3346e98",
            "metadata": {
                "tags": []
            },
            "outputs": [],
            "source": [
                "plot_waveform(testing_path3, 44100)"
            ]
        },
        {
            "cell_type": "code",
            "execution_count": 82,
            "id": "d3901593-44c4-4f38-97ec-00f172f5cc59",
            "metadata": {
                "tags": []
            },
            "outputs": [],
            "source": [
                "testing_path4 = 'data/val/Chorthippusbrunneus_XC751370-dat001-021_edit2.wav'"
            ]
        },
        {
            "cell_type": "code",
            "execution_count": 83,
            "id": "5720bc9b-eae7-48bc-a75a-976ad69198ca",
            "metadata": {
                "tags": []
            },
            "outputs": [],
            "source": [
                "get_max_amplitude_window_index(testing_path4, 5, 100)"
            ]
        },
        {
            "cell_type": "code",
            "execution_count": 84,
            "id": "cac68bd3-c886-4c5a-8e2a-5abc3f60d391",
            "metadata": {
                "tags": []
            },
            "outputs": [],
            "source": [
                "plot_waveform(testing_path4, 44100)"
            ]
        },
        {
            "cell_type": "code",
            "execution_count": 85,
            "id": "40be3d88-9141-448e-b954-c547fa0e80d7",
            "metadata": {
                "tags": []
            },
            "outputs": [],
            "source": [
                "testing_path5 = 'data/train/Chorthippusalbomarginatus_XC751375-dat001-029.wav'"
            ]
        },
        {
            "cell_type": "code",
            "execution_count": 86,
            "id": "86e6daaf-f7c7-423b-aa33-fecc790fe565",
            "metadata": {
                "tags": []
            },
            "outputs": [],
            "source": [
                "get_max_amplitude_window_index(testing_path5, 5, 100)"
            ]
        },
        {
            "cell_type": "code",
            "execution_count": 87,
            "id": "ddd3520e-8323-4917-a34f-68407284f75f",
            "metadata": {
                "tags": []
            },
            "outputs": [],
            "source": [
                "plot_waveform(testing_path5, 44100)"
            ]
        },
        {
            "cell_type": "code",
            "execution_count": 88,
            "id": "62da1794-9369-4140-a2a7-e1d94fe9962e",
            "metadata": {
                "tags": []
            },
            "outputs": [],
            "source": [
                "testing_path6 = 'data/train/Chorthippusalbomarginatus_XC751376-dat001-030.wav'\n",
                "get_max_amplitude_window_index(testing_path6, 5, 100)"
            ]
        },
        {
            "cell_type": "code",
            "execution_count": 89,
            "id": "c195fe0e-f303-42a8-b794-0667c8028251",
            "metadata": {
                "tags": []
            },
            "outputs": [],
            "source": [
                "plot_waveform(testing_path6, 44100)"
            ]
        },
        {
            "cell_type": "code",
            "execution_count": 5,
            "id": "11b35bde-9206-4363-8883-a2c7881f81ff",
            "metadata": {
                "tags": []
            },
            "outputs": [],
            "source": [
                "testing_path7 = 'data/train/Chorthippusalbomarginatus_XC751400-dat023-001.wav'\n",
                "get_max_amplitude_window_index(testing_path7, 5, 100)"
            ]
        },
        {
            "cell_type": "code",
            "execution_count": null,
            "id": "b5395293-5c93-4b5e-afeb-78aca1e38591",
            "metadata": {
                "tags": []
            },
            "outputs": [],
            "source": [
                "#this restarts the kernel everytime: 56.9 MB -> too big to plot\n",
                "#plot_waveform(testing_path7, 44100)"
            ]
        },
        {
            "cell_type": "code",
            "execution_count": null,
            "id": "c773484a-8099-40f9-aa2c-7b941898abf0",
            "metadata": {},
            "outputs": [],
            "source": []
        }
    ],
    "metadata": {
        "availableInstances": [
            {
                "_defaultOrder": 0,
                "_isFastLaunch": true,
                "category": "General purpose",
                "gpuNum": 0,
                "hideHardwareSpecs": false,
                "memoryGiB": 4,
                "name": "ml.t3.medium",
                "vcpuNum": 2
            },
            {
                "_defaultOrder": 1,
                "_isFastLaunch": false,
                "category": "General purpose",
                "gpuNum": 0,
                "hideHardwareSpecs": false,
                "memoryGiB": 8,
                "name": "ml.t3.large",
                "vcpuNum": 2
            },
            {
                "_defaultOrder": 2,
                "_isFastLaunch": false,
                "category": "General purpose",
                "gpuNum": 0,
                "hideHardwareSpecs": false,
                "memoryGiB": 16,
                "name": "ml.t3.xlarge",
                "vcpuNum": 4
            },
            {
                "_defaultOrder": 3,
                "_isFastLaunch": false,
                "category": "General purpose",
                "gpuNum": 0,
                "hideHardwareSpecs": false,
                "memoryGiB": 32,
                "name": "ml.t3.2xlarge",
                "vcpuNum": 8
            },
            {
                "_defaultOrder": 4,
                "_isFastLaunch": true,
                "category": "General purpose",
                "gpuNum": 0,
                "hideHardwareSpecs": false,
                "memoryGiB": 8,
                "name": "ml.m5.large",
                "vcpuNum": 2
            },
            {
                "_defaultOrder": 5,
                "_isFastLaunch": false,
                "category": "General purpose",
                "gpuNum": 0,
                "hideHardwareSpecs": false,
                "memoryGiB": 16,
                "name": "ml.m5.xlarge",
                "vcpuNum": 4
            },
            {
                "_defaultOrder": 6,
                "_isFastLaunch": false,
                "category": "General purpose",
                "gpuNum": 0,
                "hideHardwareSpecs": false,
                "memoryGiB": 32,
                "name": "ml.m5.2xlarge",
                "vcpuNum": 8
            },
            {
                "_defaultOrder": 7,
                "_isFastLaunch": false,
                "category": "General purpose",
                "gpuNum": 0,
                "hideHardwareSpecs": false,
                "memoryGiB": 64,
                "name": "ml.m5.4xlarge",
                "vcpuNum": 16
            },
            {
                "_defaultOrder": 8,
                "_isFastLaunch": false,
                "category": "General purpose",
                "gpuNum": 0,
                "hideHardwareSpecs": false,
                "memoryGiB": 128,
                "name": "ml.m5.8xlarge",
                "vcpuNum": 32
            },
            {
                "_defaultOrder": 9,
                "_isFastLaunch": false,
                "category": "General purpose",
                "gpuNum": 0,
                "hideHardwareSpecs": false,
                "memoryGiB": 192,
                "name": "ml.m5.12xlarge",
                "vcpuNum": 48
            },
            {
                "_defaultOrder": 10,
                "_isFastLaunch": false,
                "category": "General purpose",
                "gpuNum": 0,
                "hideHardwareSpecs": false,
                "memoryGiB": 256,
                "name": "ml.m5.16xlarge",
                "vcpuNum": 64
            },
            {
                "_defaultOrder": 11,
                "_isFastLaunch": false,
                "category": "General purpose",
                "gpuNum": 0,
                "hideHardwareSpecs": false,
                "memoryGiB": 384,
                "name": "ml.m5.24xlarge",
                "vcpuNum": 96
            },
            {
                "_defaultOrder": 12,
                "_isFastLaunch": false,
                "category": "General purpose",
                "gpuNum": 0,
                "hideHardwareSpecs": false,
                "memoryGiB": 8,
                "name": "ml.m5d.large",
                "vcpuNum": 2
            },
            {
                "_defaultOrder": 13,
                "_isFastLaunch": false,
                "category": "General purpose",
                "gpuNum": 0,
                "hideHardwareSpecs": false,
                "memoryGiB": 16,
                "name": "ml.m5d.xlarge",
                "vcpuNum": 4
            },
            {
                "_defaultOrder": 14,
                "_isFastLaunch": false,
                "category": "General purpose",
                "gpuNum": 0,
                "hideHardwareSpecs": false,
                "memoryGiB": 32,
                "name": "ml.m5d.2xlarge",
                "vcpuNum": 8
            },
            {
                "_defaultOrder": 15,
                "_isFastLaunch": false,
                "category": "General purpose",
                "gpuNum": 0,
                "hideHardwareSpecs": false,
                "memoryGiB": 64,
                "name": "ml.m5d.4xlarge",
                "vcpuNum": 16
            },
            {
                "_defaultOrder": 16,
                "_isFastLaunch": false,
                "category": "General purpose",
                "gpuNum": 0,
                "hideHardwareSpecs": false,
                "memoryGiB": 128,
                "name": "ml.m5d.8xlarge",
                "vcpuNum": 32
            },
            {
                "_defaultOrder": 17,
                "_isFastLaunch": false,
                "category": "General purpose",
                "gpuNum": 0,
                "hideHardwareSpecs": false,
                "memoryGiB": 192,
                "name": "ml.m5d.12xlarge",
                "vcpuNum": 48
            },
            {
                "_defaultOrder": 18,
                "_isFastLaunch": false,
                "category": "General purpose",
                "gpuNum": 0,
                "hideHardwareSpecs": false,
                "memoryGiB": 256,
                "name": "ml.m5d.16xlarge",
                "vcpuNum": 64
            },
            {
                "_defaultOrder": 19,
                "_isFastLaunch": false,
                "category": "General purpose",
                "gpuNum": 0,
                "hideHardwareSpecs": false,
                "memoryGiB": 384,
                "name": "ml.m5d.24xlarge",
                "vcpuNum": 96
            },
            {
                "_defaultOrder": 20,
                "_isFastLaunch": false,
                "category": "General purpose",
                "gpuNum": 0,
                "hideHardwareSpecs": true,
                "memoryGiB": 0,
                "name": "ml.geospatial.interactive",
                "supportedImageNames": [
                    "sagemaker-geospatial-v1-0"
                ],
                "vcpuNum": 0
            },
            {
                "_defaultOrder": 21,
                "_isFastLaunch": true,
                "category": "Compute optimized",
                "gpuNum": 0,
                "hideHardwareSpecs": false,
                "memoryGiB": 4,
                "name": "ml.c5.large",
                "vcpuNum": 2
            },
            {
                "_defaultOrder": 22,
                "_isFastLaunch": false,
                "category": "Compute optimized",
                "gpuNum": 0,
                "hideHardwareSpecs": false,
                "memoryGiB": 8,
                "name": "ml.c5.xlarge",
                "vcpuNum": 4
            },
            {
                "_defaultOrder": 23,
                "_isFastLaunch": false,
                "category": "Compute optimized",
                "gpuNum": 0,
                "hideHardwareSpecs": false,
                "memoryGiB": 16,
                "name": "ml.c5.2xlarge",
                "vcpuNum": 8
            },
            {
                "_defaultOrder": 24,
                "_isFastLaunch": false,
                "category": "Compute optimized",
                "gpuNum": 0,
                "hideHardwareSpecs": false,
                "memoryGiB": 32,
                "name": "ml.c5.4xlarge",
                "vcpuNum": 16
            },
            {
                "_defaultOrder": 25,
                "_isFastLaunch": false,
                "category": "Compute optimized",
                "gpuNum": 0,
                "hideHardwareSpecs": false,
                "memoryGiB": 72,
                "name": "ml.c5.9xlarge",
                "vcpuNum": 36
            },
            {
                "_defaultOrder": 26,
                "_isFastLaunch": false,
                "category": "Compute optimized",
                "gpuNum": 0,
                "hideHardwareSpecs": false,
                "memoryGiB": 96,
                "name": "ml.c5.12xlarge",
                "vcpuNum": 48
            },
            {
                "_defaultOrder": 27,
                "_isFastLaunch": false,
                "category": "Compute optimized",
                "gpuNum": 0,
                "hideHardwareSpecs": false,
                "memoryGiB": 144,
                "name": "ml.c5.18xlarge",
                "vcpuNum": 72
            },
            {
                "_defaultOrder": 28,
                "_isFastLaunch": false,
                "category": "Compute optimized",
                "gpuNum": 0,
                "hideHardwareSpecs": false,
                "memoryGiB": 192,
                "name": "ml.c5.24xlarge",
                "vcpuNum": 96
            },
            {
                "_defaultOrder": 29,
                "_isFastLaunch": true,
                "category": "Accelerated computing",
                "gpuNum": 1,
                "hideHardwareSpecs": false,
                "memoryGiB": 16,
                "name": "ml.g4dn.xlarge",
                "vcpuNum": 4
            },
            {
                "_defaultOrder": 30,
                "_isFastLaunch": false,
                "category": "Accelerated computing",
                "gpuNum": 1,
                "hideHardwareSpecs": false,
                "memoryGiB": 32,
                "name": "ml.g4dn.2xlarge",
                "vcpuNum": 8
            },
            {
                "_defaultOrder": 31,
                "_isFastLaunch": false,
                "category": "Accelerated computing",
                "gpuNum": 1,
                "hideHardwareSpecs": false,
                "memoryGiB": 64,
                "name": "ml.g4dn.4xlarge",
                "vcpuNum": 16
            },
            {
                "_defaultOrder": 32,
                "_isFastLaunch": false,
                "category": "Accelerated computing",
                "gpuNum": 1,
                "hideHardwareSpecs": false,
                "memoryGiB": 128,
                "name": "ml.g4dn.8xlarge",
                "vcpuNum": 32
            },
            {
                "_defaultOrder": 33,
                "_isFastLaunch": false,
                "category": "Accelerated computing",
                "gpuNum": 4,
                "hideHardwareSpecs": false,
                "memoryGiB": 192,
                "name": "ml.g4dn.12xlarge",
                "vcpuNum": 48
            },
            {
                "_defaultOrder": 34,
                "_isFastLaunch": false,
                "category": "Accelerated computing",
                "gpuNum": 1,
                "hideHardwareSpecs": false,
                "memoryGiB": 256,
                "name": "ml.g4dn.16xlarge",
                "vcpuNum": 64
            },
            {
                "_defaultOrder": 35,
                "_isFastLaunch": false,
                "category": "Accelerated computing",
                "gpuNum": 1,
                "hideHardwareSpecs": false,
                "memoryGiB": 61,
                "name": "ml.p3.2xlarge",
                "vcpuNum": 8
            },
            {
                "_defaultOrder": 36,
                "_isFastLaunch": false,
                "category": "Accelerated computing",
                "gpuNum": 4,
                "hideHardwareSpecs": false,
                "memoryGiB": 244,
                "name": "ml.p3.8xlarge",
                "vcpuNum": 32
            },
            {
                "_defaultOrder": 37,
                "_isFastLaunch": false,
                "category": "Accelerated computing",
                "gpuNum": 8,
                "hideHardwareSpecs": false,
                "memoryGiB": 488,
                "name": "ml.p3.16xlarge",
                "vcpuNum": 64
            },
            {
                "_defaultOrder": 38,
                "_isFastLaunch": false,
                "category": "Accelerated computing",
                "gpuNum": 8,
                "hideHardwareSpecs": false,
                "memoryGiB": 768,
                "name": "ml.p3dn.24xlarge",
                "vcpuNum": 96
            },
            {
                "_defaultOrder": 39,
                "_isFastLaunch": false,
                "category": "Memory Optimized",
                "gpuNum": 0,
                "hideHardwareSpecs": false,
                "memoryGiB": 16,
                "name": "ml.r5.large",
                "vcpuNum": 2
            },
            {
                "_defaultOrder": 40,
                "_isFastLaunch": false,
                "category": "Memory Optimized",
                "gpuNum": 0,
                "hideHardwareSpecs": false,
                "memoryGiB": 32,
                "name": "ml.r5.xlarge",
                "vcpuNum": 4
            },
            {
                "_defaultOrder": 41,
                "_isFastLaunch": false,
                "category": "Memory Optimized",
                "gpuNum": 0,
                "hideHardwareSpecs": false,
                "memoryGiB": 64,
                "name": "ml.r5.2xlarge",
                "vcpuNum": 8
            },
            {
                "_defaultOrder": 42,
                "_isFastLaunch": false,
                "category": "Memory Optimized",
                "gpuNum": 0,
                "hideHardwareSpecs": false,
                "memoryGiB": 128,
                "name": "ml.r5.4xlarge",
                "vcpuNum": 16
            },
            {
                "_defaultOrder": 43,
                "_isFastLaunch": false,
                "category": "Memory Optimized",
                "gpuNum": 0,
                "hideHardwareSpecs": false,
                "memoryGiB": 256,
                "name": "ml.r5.8xlarge",
                "vcpuNum": 32
            },
            {
                "_defaultOrder": 44,
                "_isFastLaunch": false,
                "category": "Memory Optimized",
                "gpuNum": 0,
                "hideHardwareSpecs": false,
                "memoryGiB": 384,
                "name": "ml.r5.12xlarge",
                "vcpuNum": 48
            },
            {
                "_defaultOrder": 45,
                "_isFastLaunch": false,
                "category": "Memory Optimized",
                "gpuNum": 0,
                "hideHardwareSpecs": false,
                "memoryGiB": 512,
                "name": "ml.r5.16xlarge",
                "vcpuNum": 64
            },
            {
                "_defaultOrder": 46,
                "_isFastLaunch": false,
                "category": "Memory Optimized",
                "gpuNum": 0,
                "hideHardwareSpecs": false,
                "memoryGiB": 768,
                "name": "ml.r5.24xlarge",
                "vcpuNum": 96
            },
            {
                "_defaultOrder": 47,
                "_isFastLaunch": false,
                "category": "Accelerated computing",
                "gpuNum": 1,
                "hideHardwareSpecs": false,
                "memoryGiB": 16,
                "name": "ml.g5.xlarge",
                "vcpuNum": 4
            },
            {
                "_defaultOrder": 48,
                "_isFastLaunch": false,
                "category": "Accelerated computing",
                "gpuNum": 1,
                "hideHardwareSpecs": false,
                "memoryGiB": 32,
                "name": "ml.g5.2xlarge",
                "vcpuNum": 8
            },
            {
                "_defaultOrder": 49,
                "_isFastLaunch": false,
                "category": "Accelerated computing",
                "gpuNum": 1,
                "hideHardwareSpecs": false,
                "memoryGiB": 64,
                "name": "ml.g5.4xlarge",
                "vcpuNum": 16
            },
            {
                "_defaultOrder": 50,
                "_isFastLaunch": false,
                "category": "Accelerated computing",
                "gpuNum": 1,
                "hideHardwareSpecs": false,
                "memoryGiB": 128,
                "name": "ml.g5.8xlarge",
                "vcpuNum": 32
            },
            {
                "_defaultOrder": 51,
                "_isFastLaunch": false,
                "category": "Accelerated computing",
                "gpuNum": 1,
                "hideHardwareSpecs": false,
                "memoryGiB": 256,
                "name": "ml.g5.16xlarge",
                "vcpuNum": 64
            },
            {
                "_defaultOrder": 52,
                "_isFastLaunch": false,
                "category": "Accelerated computing",
                "gpuNum": 4,
                "hideHardwareSpecs": false,
                "memoryGiB": 192,
                "name": "ml.g5.12xlarge",
                "vcpuNum": 48
            },
            {
                "_defaultOrder": 53,
                "_isFastLaunch": false,
                "category": "Accelerated computing",
                "gpuNum": 4,
                "hideHardwareSpecs": false,
                "memoryGiB": 384,
                "name": "ml.g5.24xlarge",
                "vcpuNum": 96
            },
            {
                "_defaultOrder": 54,
                "_isFastLaunch": false,
                "category": "Accelerated computing",
                "gpuNum": 8,
                "hideHardwareSpecs": false,
                "memoryGiB": 768,
                "name": "ml.g5.48xlarge",
                "vcpuNum": 192
            },
            {
                "_defaultOrder": 55,
                "_isFastLaunch": false,
                "category": "Accelerated computing",
                "gpuNum": 8,
                "hideHardwareSpecs": false,
                "memoryGiB": 1152,
                "name": "ml.p4d.24xlarge",
                "vcpuNum": 96
            },
            {
                "_defaultOrder": 56,
                "_isFastLaunch": false,
                "category": "Accelerated computing",
                "gpuNum": 8,
                "hideHardwareSpecs": false,
                "memoryGiB": 1152,
                "name": "ml.p4de.24xlarge",
                "vcpuNum": 96
            }
        ],
        "kernelspec": {
            "display_name": "GDSC (custom-gdsc/1)",
            "language": "python",
            "name": "python3__SAGEMAKER_INTERNAL__arn:aws:sagemaker:us-east-1:821562550650:image-version/custom-gdsc/1"
        },
        "language_info": {
            "codemirror_mode": {
                "name": "ipython",
                "version": 3
            },
            "file_extension": ".py",
            "mimetype": "text/x-python",
            "name": "python",
            "nbconvert_exporter": "python",
            "pygments_lexer": "ipython3",
            "version": "3.10.8"
        },
        "lcc_arn": "arn:aws:sagemaker:us-east-1:821562550650:studio-lifecycle-config/clean-trash"
    },
    "nbformat": 4,
    "nbformat_minor": 5
}