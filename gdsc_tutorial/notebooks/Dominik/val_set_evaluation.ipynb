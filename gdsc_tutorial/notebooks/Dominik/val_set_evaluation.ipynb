{
    "cells": [
        {
            "cell_type": "code",
            "execution_count": 2,
            "id": "8267065c-a2a9-4d67-8d5e-39924b2a7c2d",
            "metadata": {
                "tags": []
            },
            "outputs": [],
            "source": [
                "import sys # Python system library needed to load custom functions\n",
                "import math # module with access to mathematical functions\n",
                "import os # for changing the directory\n",
                "\n",
                "import numpy as np  # for performing calculations on numerical arrays\n",
                "import pandas as pd  # home of the DataFrame construct, _the_ most important object for Data Science\n",
                "\n",
                "from IPython.display import Audio # for listening to our insects\n",
                "import IPython\n",
                "from scipy.fft import fft # function to calculate Fast Fourier Transform\n",
                "\n",
                "import matplotlib.pyplot as plt  # allows creation of insightful plots\n",
                "import seaborn as sns # another library to make even more beautiful plots\n",
                "\n",
                "sys.path.append('../../src') # add the source directory to the PYTHONPATH. This allows to import local functions and modules.\n",
                "# enable rendering plots under the code cell that created it\n",
                "%matplotlib inline\n",
                "\n",
                "from eda_utils import show_sampling, signal_generator, plot_random_spec, plot_spec, plot_waveform # functions to create plots for and from audio data\n",
                "from gdsc_utils import download_directory, PROJECT_DIR # function to download GDSC data from S3 bucket and our root directory\n",
                "from config import DEFAULT_BUCKET  # S3 bucket with the GDSC data\n",
                "import warnings\n",
                "warnings.filterwarnings(\"ignore\")\n",
                "\n",
                "os.chdir(PROJECT_DIR) # changing our directory to root"
            ]
        },
        {
            "cell_type": "code",
            "execution_count": 3,
            "id": "ae8a3f7a-99ee-48c9-95b4-b9479db75e69",
            "metadata": {
                "tags": []
            },
            "outputs": [],
            "source": [
                "#import csv\n",
                "df = pd.read_csv('notebooks/Dominik/effnet_baseline/20_crop-15e_noiseAug_CE_weighted_LS_pp/val_predictions.csv')\n",
                "df.head()"
            ]
        },
        {
            "cell_type": "code",
            "execution_count": 4,
            "id": "e2b24ae2-7e9b-4d26-b0b5-3f5148dca021",
            "metadata": {
                "tags": []
            },
            "outputs": [],
            "source": [
                "df_eval = df[['label', 'predicted_class_id']]\n",
                "df_eval"
            ]
        },
        {
            "cell_type": "code",
            "execution_count": 5,
            "id": "a37a26ca-067d-46cf-aeb6-f5f7c22eddb2",
            "metadata": {
                "tags": []
            },
            "outputs": [],
            "source": [
                "import seaborn as sns\n",
                "import matplotlib.pyplot as plt\n",
                "\n",
                "### Confusion Matrix\n",
                "from sklearn.metrics import confusion_matrix\n",
                "#predictions = model.predict(x_test, steps=len(x_test), verbose=0)\n",
                "#y_pred=model.predict(x_test)\n",
                "#y_pred = np.round(y_pred)\n",
                "y_pred = df_eval['predicted_class_id']\n",
                "\n",
                "y_true=df_eval['label']\n",
                "\n",
                "cm = confusion_matrix(y_true, y_pred)\n",
                "np.save(\"notebooks/Dominik/effnet_baseline/20_crop-15e_noiseAug_CE_weighted_LS_pp/cm.npy\", cm)\n",
                "## Get Class Labels\n",
                "#labels = le.classes_\n",
                "#class_names = labels\n",
                "#class_names=[0:66]\n",
                "# Plot confusion matrix in a beautiful manner\n",
                "fig = plt.figure(figsize=(16, 14))\n",
                "ax= plt.subplot()\n",
                "sns.heatmap(cm, annot=True, ax = ax, fmt = 'g', cmap=\"magma\", mask=cm==0, vmax=10); #annot=True to annotate cells\n",
                "# labels, title and ticks\n",
                "ax.set_xlabel('Predicted', fontsize=20)\n",
                "ax.xaxis.set_label_position('bottom')\n",
                "plt.xticks(rotation=90)\n",
                "#ax.xaxis.set_ticklabels(class_names, fontsize = 10)\n",
                "#ax.xaxis.tick_bottom()\n",
                "\n",
                "ax.set_ylabel('True', fontsize=20)\n",
                "#ax.yaxis.set_ticklabels(class_names, fontsize = 10)\n",
                "plt.yticks(rotation=0)\n",
                "\n",
                "plt.title('Confusion Matrix Validation Set', fontsize=20)\n",
                "\n",
                "plt.savefig('notebooks/Dominik/effnet_baseline/20_crop-15e_noiseAug_CE_weighted_LS_pp/conf_matrix_best_model.png')\n",
                "plt.show()"
            ]
        },
        {
            "cell_type": "code",
            "execution_count": 6,
            "id": "c939af3b-9d3e-48cc-ad50-67443f6400b2",
            "metadata": {
                "tags": []
            },
            "outputs": [],
            "source": [
                "from sklearn import metrics\n",
                "report = (metrics.classification_report(y_true, y_pred, digits=3,  output_dict=True))\n",
                "evaluation = pd.DataFrame(report).transpose()\n",
                "evaluation"
            ]
        },
        {
            "cell_type": "code",
            "execution_count": 7,
            "id": "fefada4c-b199-4600-95b7-b99dba3a4705",
            "metadata": {
                "tags": []
            },
            "outputs": [],
            "source": [
                "evaluation[\"accuracy\"] = \"\"\n",
                "wrong = 0\n",
                "for i in range(0,66):\n",
                "    df_to_eval = df_eval[df_eval['label'] == i]\n",
                "    for j in df_to_eval['predicted_class_id']:\n",
                "        if j != i:\n",
                "            wrong += 1\n",
                "        else:\n",
                "            continue\n",
                "    #y_pred = df_to_eval['predicted_class_id']\n",
                "    #y_true = df_to_eval['label']\n",
                "    evaluation['accuracy'][i] = (len(df_to_eval)-wrong)/len(df_to_eval)\n",
                "    wrong = 0\n",
                "evaluation"
            ]
        },
        {
            "cell_type": "code",
            "execution_count": 42,
            "id": "64268b4f-729a-4468-a527-424bcba95eec",
            "metadata": {
                "tags": []
            },
            "outputs": [],
            "source": [
                "evaluation.to_csv('notebooks/Dominik/effnet_baseline/15_crop-15e_noiseAug/val_evaluation.csv') "
            ]
        },
        {
            "cell_type": "code",
            "execution_count": 32,
            "id": "445216d0-a86e-48db-a0d4-8420e8dc2efa",
            "metadata": {
                "tags": []
            },
            "outputs": [],
            "source": [
                "df_f1_score = pd.DataFrame(columns=['class','accuracy','f1_score'])\n",
                "wrong = 0\n",
                "for i in range(0,66):\n",
                "    df_to_eval = df_eval[df_eval['label'] == i]\n",
                "    for j in df_to_eval['predicted_class_id']:\n",
                "        if j != i:\n",
                "            wrong += 1\n",
                "        else:\n",
                "            continue\n",
                "    #y_pred = df_to_eval['predicted_class_id']\n",
                "    #y_true = df_to_eval['label']\n",
                "    df_f1_score['class'][i] = i\n",
                "    df_f1_score['f1_score'][i] = wrong/len(df_to_eval)\n",
                "    wrong=0\n",
                "    #df_f1_score['f1_score'][i] = f1_score(y_true, y_pred)\n",
                "df_f1_score.head()"
            ]
        },
        {
            "cell_type": "code",
            "execution_count": 29,
            "id": "1df604d6-b156-491b-a005-11173623d83f",
            "metadata": {
                "tags": []
            },
            "outputs": [],
            "source": [
                "df_tetet = df_eval[df_eval['label'] == 0]\n",
                "len(df_tetet)"
            ]
        },
        {
            "cell_type": "code",
            "execution_count": 9,
            "id": "67b03482-2d94-4901-8539-42b0a955c332",
            "metadata": {},
            "outputs": [],
            "source": [
                "evaluation.drop(evaluation.tail(3).index,inplace=True) #"
            ]
        },
        {
            "cell_type": "code",
            "execution_count": 8,
            "id": "84207a77-6323-45b9-a63c-905b5f89c993",
            "metadata": {
                "tags": []
            },
            "outputs": [],
            "source": [
                "pd.options.display.float_format = \"{:,.2f}\".format"
            ]
        },
        {
            "cell_type": "code",
            "execution_count": 11,
            "id": "905560c6-27af-432d-a669-dd28d1e89f64",
            "metadata": {},
            "outputs": [],
            "source": [
                "evaluation.sort_values('accuracy').head(15)"
            ]
        },
        {
            "cell_type": "code",
            "execution_count": null,
            "id": "557b0fe4-09d0-467a-8fdf-b69d788326b9",
            "metadata": {},
            "outputs": [],
            "source": []
        }
    ],
    "metadata": {
        "availableInstances": [
            {
                "_defaultOrder": 0,
                "_isFastLaunch": true,
                "category": "General purpose",
                "gpuNum": 0,
                "hideHardwareSpecs": false,
                "memoryGiB": 4,
                "name": "ml.t3.medium",
                "vcpuNum": 2
            },
            {
                "_defaultOrder": 1,
                "_isFastLaunch": false,
                "category": "General purpose",
                "gpuNum": 0,
                "hideHardwareSpecs": false,
                "memoryGiB": 8,
                "name": "ml.t3.large",
                "vcpuNum": 2
            },
            {
                "_defaultOrder": 2,
                "_isFastLaunch": false,
                "category": "General purpose",
                "gpuNum": 0,
                "hideHardwareSpecs": false,
                "memoryGiB": 16,
                "name": "ml.t3.xlarge",
                "vcpuNum": 4
            },
            {
                "_defaultOrder": 3,
                "_isFastLaunch": false,
                "category": "General purpose",
                "gpuNum": 0,
                "hideHardwareSpecs": false,
                "memoryGiB": 32,
                "name": "ml.t3.2xlarge",
                "vcpuNum": 8
            },
            {
                "_defaultOrder": 4,
                "_isFastLaunch": true,
                "category": "General purpose",
                "gpuNum": 0,
                "hideHardwareSpecs": false,
                "memoryGiB": 8,
                "name": "ml.m5.large",
                "vcpuNum": 2
            },
            {
                "_defaultOrder": 5,
                "_isFastLaunch": false,
                "category": "General purpose",
                "gpuNum": 0,
                "hideHardwareSpecs": false,
                "memoryGiB": 16,
                "name": "ml.m5.xlarge",
                "vcpuNum": 4
            },
            {
                "_defaultOrder": 6,
                "_isFastLaunch": false,
                "category": "General purpose",
                "gpuNum": 0,
                "hideHardwareSpecs": false,
                "memoryGiB": 32,
                "name": "ml.m5.2xlarge",
                "vcpuNum": 8
            },
            {
                "_defaultOrder": 7,
                "_isFastLaunch": false,
                "category": "General purpose",
                "gpuNum": 0,
                "hideHardwareSpecs": false,
                "memoryGiB": 64,
                "name": "ml.m5.4xlarge",
                "vcpuNum": 16
            },
            {
                "_defaultOrder": 8,
                "_isFastLaunch": false,
                "category": "General purpose",
                "gpuNum": 0,
                "hideHardwareSpecs": false,
                "memoryGiB": 128,
                "name": "ml.m5.8xlarge",
                "vcpuNum": 32
            },
            {
                "_defaultOrder": 9,
                "_isFastLaunch": false,
                "category": "General purpose",
                "gpuNum": 0,
                "hideHardwareSpecs": false,
                "memoryGiB": 192,
                "name": "ml.m5.12xlarge",
                "vcpuNum": 48
            },
            {
                "_defaultOrder": 10,
                "_isFastLaunch": false,
                "category": "General purpose",
                "gpuNum": 0,
                "hideHardwareSpecs": false,
                "memoryGiB": 256,
                "name": "ml.m5.16xlarge",
                "vcpuNum": 64
            },
            {
                "_defaultOrder": 11,
                "_isFastLaunch": false,
                "category": "General purpose",
                "gpuNum": 0,
                "hideHardwareSpecs": false,
                "memoryGiB": 384,
                "name": "ml.m5.24xlarge",
                "vcpuNum": 96
            },
            {
                "_defaultOrder": 12,
                "_isFastLaunch": false,
                "category": "General purpose",
                "gpuNum": 0,
                "hideHardwareSpecs": false,
                "memoryGiB": 8,
                "name": "ml.m5d.large",
                "vcpuNum": 2
            },
            {
                "_defaultOrder": 13,
                "_isFastLaunch": false,
                "category": "General purpose",
                "gpuNum": 0,
                "hideHardwareSpecs": false,
                "memoryGiB": 16,
                "name": "ml.m5d.xlarge",
                "vcpuNum": 4
            },
            {
                "_defaultOrder": 14,
                "_isFastLaunch": false,
                "category": "General purpose",
                "gpuNum": 0,
                "hideHardwareSpecs": false,
                "memoryGiB": 32,
                "name": "ml.m5d.2xlarge",
                "vcpuNum": 8
            },
            {
                "_defaultOrder": 15,
                "_isFastLaunch": false,
                "category": "General purpose",
                "gpuNum": 0,
                "hideHardwareSpecs": false,
                "memoryGiB": 64,
                "name": "ml.m5d.4xlarge",
                "vcpuNum": 16
            },
            {
                "_defaultOrder": 16,
                "_isFastLaunch": false,
                "category": "General purpose",
                "gpuNum": 0,
                "hideHardwareSpecs": false,
                "memoryGiB": 128,
                "name": "ml.m5d.8xlarge",
                "vcpuNum": 32
            },
            {
                "_defaultOrder": 17,
                "_isFastLaunch": false,
                "category": "General purpose",
                "gpuNum": 0,
                "hideHardwareSpecs": false,
                "memoryGiB": 192,
                "name": "ml.m5d.12xlarge",
                "vcpuNum": 48
            },
            {
                "_defaultOrder": 18,
                "_isFastLaunch": false,
                "category": "General purpose",
                "gpuNum": 0,
                "hideHardwareSpecs": false,
                "memoryGiB": 256,
                "name": "ml.m5d.16xlarge",
                "vcpuNum": 64
            },
            {
                "_defaultOrder": 19,
                "_isFastLaunch": false,
                "category": "General purpose",
                "gpuNum": 0,
                "hideHardwareSpecs": false,
                "memoryGiB": 384,
                "name": "ml.m5d.24xlarge",
                "vcpuNum": 96
            },
            {
                "_defaultOrder": 20,
                "_isFastLaunch": false,
                "category": "General purpose",
                "gpuNum": 0,
                "hideHardwareSpecs": true,
                "memoryGiB": 0,
                "name": "ml.geospatial.interactive",
                "supportedImageNames": [
                    "sagemaker-geospatial-v1-0"
                ],
                "vcpuNum": 0
            },
            {
                "_defaultOrder": 21,
                "_isFastLaunch": true,
                "category": "Compute optimized",
                "gpuNum": 0,
                "hideHardwareSpecs": false,
                "memoryGiB": 4,
                "name": "ml.c5.large",
                "vcpuNum": 2
            },
            {
                "_defaultOrder": 22,
                "_isFastLaunch": false,
                "category": "Compute optimized",
                "gpuNum": 0,
                "hideHardwareSpecs": false,
                "memoryGiB": 8,
                "name": "ml.c5.xlarge",
                "vcpuNum": 4
            },
            {
                "_defaultOrder": 23,
                "_isFastLaunch": false,
                "category": "Compute optimized",
                "gpuNum": 0,
                "hideHardwareSpecs": false,
                "memoryGiB": 16,
                "name": "ml.c5.2xlarge",
                "vcpuNum": 8
            },
            {
                "_defaultOrder": 24,
                "_isFastLaunch": false,
                "category": "Compute optimized",
                "gpuNum": 0,
                "hideHardwareSpecs": false,
                "memoryGiB": 32,
                "name": "ml.c5.4xlarge",
                "vcpuNum": 16
            },
            {
                "_defaultOrder": 25,
                "_isFastLaunch": false,
                "category": "Compute optimized",
                "gpuNum": 0,
                "hideHardwareSpecs": false,
                "memoryGiB": 72,
                "name": "ml.c5.9xlarge",
                "vcpuNum": 36
            },
            {
                "_defaultOrder": 26,
                "_isFastLaunch": false,
                "category": "Compute optimized",
                "gpuNum": 0,
                "hideHardwareSpecs": false,
                "memoryGiB": 96,
                "name": "ml.c5.12xlarge",
                "vcpuNum": 48
            },
            {
                "_defaultOrder": 27,
                "_isFastLaunch": false,
                "category": "Compute optimized",
                "gpuNum": 0,
                "hideHardwareSpecs": false,
                "memoryGiB": 144,
                "name": "ml.c5.18xlarge",
                "vcpuNum": 72
            },
            {
                "_defaultOrder": 28,
                "_isFastLaunch": false,
                "category": "Compute optimized",
                "gpuNum": 0,
                "hideHardwareSpecs": false,
                "memoryGiB": 192,
                "name": "ml.c5.24xlarge",
                "vcpuNum": 96
            },
            {
                "_defaultOrder": 29,
                "_isFastLaunch": true,
                "category": "Accelerated computing",
                "gpuNum": 1,
                "hideHardwareSpecs": false,
                "memoryGiB": 16,
                "name": "ml.g4dn.xlarge",
                "vcpuNum": 4
            },
            {
                "_defaultOrder": 30,
                "_isFastLaunch": false,
                "category": "Accelerated computing",
                "gpuNum": 1,
                "hideHardwareSpecs": false,
                "memoryGiB": 32,
                "name": "ml.g4dn.2xlarge",
                "vcpuNum": 8
            },
            {
                "_defaultOrder": 31,
                "_isFastLaunch": false,
                "category": "Accelerated computing",
                "gpuNum": 1,
                "hideHardwareSpecs": false,
                "memoryGiB": 64,
                "name": "ml.g4dn.4xlarge",
                "vcpuNum": 16
            },
            {
                "_defaultOrder": 32,
                "_isFastLaunch": false,
                "category": "Accelerated computing",
                "gpuNum": 1,
                "hideHardwareSpecs": false,
                "memoryGiB": 128,
                "name": "ml.g4dn.8xlarge",
                "vcpuNum": 32
            },
            {
                "_defaultOrder": 33,
                "_isFastLaunch": false,
                "category": "Accelerated computing",
                "gpuNum": 4,
                "hideHardwareSpecs": false,
                "memoryGiB": 192,
                "name": "ml.g4dn.12xlarge",
                "vcpuNum": 48
            },
            {
                "_defaultOrder": 34,
                "_isFastLaunch": false,
                "category": "Accelerated computing",
                "gpuNum": 1,
                "hideHardwareSpecs": false,
                "memoryGiB": 256,
                "name": "ml.g4dn.16xlarge",
                "vcpuNum": 64
            },
            {
                "_defaultOrder": 35,
                "_isFastLaunch": false,
                "category": "Accelerated computing",
                "gpuNum": 1,
                "hideHardwareSpecs": false,
                "memoryGiB": 61,
                "name": "ml.p3.2xlarge",
                "vcpuNum": 8
            },
            {
                "_defaultOrder": 36,
                "_isFastLaunch": false,
                "category": "Accelerated computing",
                "gpuNum": 4,
                "hideHardwareSpecs": false,
                "memoryGiB": 244,
                "name": "ml.p3.8xlarge",
                "vcpuNum": 32
            },
            {
                "_defaultOrder": 37,
                "_isFastLaunch": false,
                "category": "Accelerated computing",
                "gpuNum": 8,
                "hideHardwareSpecs": false,
                "memoryGiB": 488,
                "name": "ml.p3.16xlarge",
                "vcpuNum": 64
            },
            {
                "_defaultOrder": 38,
                "_isFastLaunch": false,
                "category": "Accelerated computing",
                "gpuNum": 8,
                "hideHardwareSpecs": false,
                "memoryGiB": 768,
                "name": "ml.p3dn.24xlarge",
                "vcpuNum": 96
            },
            {
                "_defaultOrder": 39,
                "_isFastLaunch": false,
                "category": "Memory Optimized",
                "gpuNum": 0,
                "hideHardwareSpecs": false,
                "memoryGiB": 16,
                "name": "ml.r5.large",
                "vcpuNum": 2
            },
            {
                "_defaultOrder": 40,
                "_isFastLaunch": false,
                "category": "Memory Optimized",
                "gpuNum": 0,
                "hideHardwareSpecs": false,
                "memoryGiB": 32,
                "name": "ml.r5.xlarge",
                "vcpuNum": 4
            },
            {
                "_defaultOrder": 41,
                "_isFastLaunch": false,
                "category": "Memory Optimized",
                "gpuNum": 0,
                "hideHardwareSpecs": false,
                "memoryGiB": 64,
                "name": "ml.r5.2xlarge",
                "vcpuNum": 8
            },
            {
                "_defaultOrder": 42,
                "_isFastLaunch": false,
                "category": "Memory Optimized",
                "gpuNum": 0,
                "hideHardwareSpecs": false,
                "memoryGiB": 128,
                "name": "ml.r5.4xlarge",
                "vcpuNum": 16
            },
            {
                "_defaultOrder": 43,
                "_isFastLaunch": false,
                "category": "Memory Optimized",
                "gpuNum": 0,
                "hideHardwareSpecs": false,
                "memoryGiB": 256,
                "name": "ml.r5.8xlarge",
                "vcpuNum": 32
            },
            {
                "_defaultOrder": 44,
                "_isFastLaunch": false,
                "category": "Memory Optimized",
                "gpuNum": 0,
                "hideHardwareSpecs": false,
                "memoryGiB": 384,
                "name": "ml.r5.12xlarge",
                "vcpuNum": 48
            },
            {
                "_defaultOrder": 45,
                "_isFastLaunch": false,
                "category": "Memory Optimized",
                "gpuNum": 0,
                "hideHardwareSpecs": false,
                "memoryGiB": 512,
                "name": "ml.r5.16xlarge",
                "vcpuNum": 64
            },
            {
                "_defaultOrder": 46,
                "_isFastLaunch": false,
                "category": "Memory Optimized",
                "gpuNum": 0,
                "hideHardwareSpecs": false,
                "memoryGiB": 768,
                "name": "ml.r5.24xlarge",
                "vcpuNum": 96
            },
            {
                "_defaultOrder": 47,
                "_isFastLaunch": false,
                "category": "Accelerated computing",
                "gpuNum": 1,
                "hideHardwareSpecs": false,
                "memoryGiB": 16,
                "name": "ml.g5.xlarge",
                "vcpuNum": 4
            },
            {
                "_defaultOrder": 48,
                "_isFastLaunch": false,
                "category": "Accelerated computing",
                "gpuNum": 1,
                "hideHardwareSpecs": false,
                "memoryGiB": 32,
                "name": "ml.g5.2xlarge",
                "vcpuNum": 8
            },
            {
                "_defaultOrder": 49,
                "_isFastLaunch": false,
                "category": "Accelerated computing",
                "gpuNum": 1,
                "hideHardwareSpecs": false,
                "memoryGiB": 64,
                "name": "ml.g5.4xlarge",
                "vcpuNum": 16
            },
            {
                "_defaultOrder": 50,
                "_isFastLaunch": false,
                "category": "Accelerated computing",
                "gpuNum": 1,
                "hideHardwareSpecs": false,
                "memoryGiB": 128,
                "name": "ml.g5.8xlarge",
                "vcpuNum": 32
            },
            {
                "_defaultOrder": 51,
                "_isFastLaunch": false,
                "category": "Accelerated computing",
                "gpuNum": 1,
                "hideHardwareSpecs": false,
                "memoryGiB": 256,
                "name": "ml.g5.16xlarge",
                "vcpuNum": 64
            },
            {
                "_defaultOrder": 52,
                "_isFastLaunch": false,
                "category": "Accelerated computing",
                "gpuNum": 4,
                "hideHardwareSpecs": false,
                "memoryGiB": 192,
                "name": "ml.g5.12xlarge",
                "vcpuNum": 48
            },
            {
                "_defaultOrder": 53,
                "_isFastLaunch": false,
                "category": "Accelerated computing",
                "gpuNum": 4,
                "hideHardwareSpecs": false,
                "memoryGiB": 384,
                "name": "ml.g5.24xlarge",
                "vcpuNum": 96
            },
            {
                "_defaultOrder": 54,
                "_isFastLaunch": false,
                "category": "Accelerated computing",
                "gpuNum": 8,
                "hideHardwareSpecs": false,
                "memoryGiB": 768,
                "name": "ml.g5.48xlarge",
                "vcpuNum": 192
            },
            {
                "_defaultOrder": 55,
                "_isFastLaunch": false,
                "category": "Accelerated computing",
                "gpuNum": 8,
                "hideHardwareSpecs": false,
                "memoryGiB": 1152,
                "name": "ml.p4d.24xlarge",
                "vcpuNum": 96
            },
            {
                "_defaultOrder": 56,
                "_isFastLaunch": false,
                "category": "Accelerated computing",
                "gpuNum": 8,
                "hideHardwareSpecs": false,
                "memoryGiB": 1152,
                "name": "ml.p4de.24xlarge",
                "vcpuNum": 96
            }
        ],
        "kernelspec": {
            "display_name": "GDSC (custom-gdsc/1)",
            "language": "python",
            "name": "python3__SAGEMAKER_INTERNAL__arn:aws:sagemaker:us-east-1:821562550650:image-version/custom-gdsc/1"
        },
        "language_info": {
            "codemirror_mode": {
                "name": "ipython",
                "version": 3
            },
            "file_extension": ".py",
            "mimetype": "text/x-python",
            "name": "python",
            "nbconvert_exporter": "python",
            "pygments_lexer": "ipython3",
            "version": "3.10.8"
        },
        "lcc_arn": "arn:aws:sagemaker:us-east-1:821562550650:studio-lifecycle-config/clean-trash"
    },
    "nbformat": 4,
    "nbformat_minor": 5
}