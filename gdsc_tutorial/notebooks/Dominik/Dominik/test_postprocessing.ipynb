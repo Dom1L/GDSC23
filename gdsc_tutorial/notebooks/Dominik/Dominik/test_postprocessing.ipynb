{
    "cells": [
        {
            "cell_type": "code",
            "execution_count": 6,
            "id": "619f30bf-f0f3-4196-b582-372210a08adc",
            "metadata": {
                "collapsed": true,
                "jupyter": {
                    "outputs_hidden": true
                },
                "tags": []
            },
            "outputs": [],
            "source": [
                "%pip install -r ../../requirements.txt"
            ]
        },
        {
            "cell_type": "code",
            "execution_count": 7,
            "id": "c48c245f-d938-4696-939f-f09077fd7067",
            "metadata": {
                "tags": []
            },
            "outputs": [],
            "source": [
                "import torchaudio"
            ]
        },
        {
            "cell_type": "code",
            "execution_count": 8,
            "id": "e17f926f-eb88-479e-aa37-1beb64a5ce7a",
            "metadata": {
                "tags": []
            },
            "outputs": [],
            "source": [
                "import timm"
            ]
        },
        {
            "cell_type": "code",
            "execution_count": 111,
            "id": "7c422ee1-506b-4473-a54f-561a19f3e7e7",
            "metadata": {
                "tags": []
            },
            "outputs": [],
            "source": [
                "import json\n",
                "import sys\n",
                "from types import SimpleNamespace\n",
                "from glob import glob\n",
                "import ntpath\n",
                "\n",
                "import torch\n",
                "import numpy as np\n",
                "import pandas as pd\n",
                "from tqdm import tqdm\n",
                "from sklearn import metrics\n",
                "import seaborn as sns\n",
                "import matplotlib.pyplot as plt\n",
                "from torch.utils.data import DataLoader\n",
                "\n",
                "sys.path.append('../../src')\n",
                "\n",
                "from custom.data import AudioDataset, DataModule\n",
                "from custom.trainer import TrainModule\n",
                "from custom.net import SimpleCNN\n",
                "from custom.utils import batch_to_device, get_state_dict, get_min_max, min_max_norm, Mixup, Compose, OneOf, MaskFrequency, MaskTime\n",
                "from custom.eval import inference_k_random, error_analysis\n",
                "\n",
                "\n",
                "# determinism\n",
                "# seed = 1337\n",
                "# torch.manual_seed(seed)\n",
                "# np.random.seed(seed)\n",
                "# random.seed(seed)\n",
                "# torch.cuda.manual_seed(seed)\n",
                "# torch.cuda.manual_seed_all(seed)\n",
                "%load_ext autoreload\n",
                "%autoreload 2\n",
                "\n",
                "full_path = '../../'"
            ]
        },
        {
            "cell_type": "code",
            "execution_count": 17,
            "id": "4f8f61c0-c7a6-47b6-ab13-9dc4cf9f03db",
            "metadata": {
                "tags": []
            },
            "outputs": [],
            "source": [
                "cfg = SimpleNamespace()\n",
                "\n",
                "cfg.wav_crop_len = 6\n",
                "\n",
                "cfg.data_path = f'{full_path}/data/production_data/{str(cfg.wav_crop_len).replace(\".\", \"-\")}s_crop/'\n",
                "cfg.n_classes = 66\n",
                "cfg.pretrained = True\n",
                "cfg.backbone = 'tf_efficientnetv2_s.in21k'\n",
                "cfg.in_chans = 1\n",
                "cfg.num_workers = 4\n",
                "cfg.include_val = False\n",
                "cfg.max_amp = False\n",
                "\n",
                "# Training Hyperparameters\n",
                "cfg.n_epochs = 5\n",
                "cfg.lr = 0.000251\n",
                "cfg.weight_decay = 1e-4\n",
                "cfg.label_smoothing = 0.1\n",
                "cfg.batch_size = 32\n",
                "cfg.sample_rate = 44100\n",
                "\n",
                "# Mel Spectogram Hyperparameters\n",
                "cfg.n_mels = 128\n",
                "cfg.n_fft = 2048\n",
                "cfg.fmin = 300\n",
                "cfg.fmax = cfg.sample_rate / 2 \n",
                "cfg.window_size = cfg.n_fft\n",
                "cfg.hop_length = int(cfg.n_fft / 2)\n",
                "cfg.power = 2\n",
                "cfg.top_db = 80.0\n",
                "\n",
                "# Norm\n",
                "cfg.mel_normalized = False\n",
                "cfg.minmax_norm = True\n",
                "\n",
                "# Augmentation Parameters\n",
                "cfg.impulse_prob = 0.2\n",
                "cfg.noise_prob = 0.2\n",
                "\n",
                "cfg.max_noise = 0.04\n",
                "cfg.min_snr = 5\n",
                "cfg.max_snr = 20\n",
                "\n",
                "if cfg.minmax_norm:\n",
                "    cfg.min, cfg.max = get_min_max(cfg, DataModule, SimpleCNN)\n",
                "cfg.exp_name = f'mel_normalized_4.5'"
            ]
        },
        {
            "cell_type": "code",
            "execution_count": 11,
            "id": "340ad96d-db22-4908-9ad0-08a38836a881",
            "metadata": {
                "tags": []
            },
            "outputs": [],
            "source": [
                "val_df = pd.read_csv(f\"../../data/metadata.csv\")\n",
                "val_df = val_df#[val_df['subset']=='validation']\n",
                "val_df['path'] = val_df['path'].apply(lambda x: f'{full_path}/{x}')\n",
                "test_data = '../../data/production_data/6s_crop/val/'"
            ]
        },
        {
            "cell_type": "code",
            "execution_count": null,
            "id": "52188a94-a727-4293-9294-9975b529d6c0",
            "metadata": {
                "tags": []
            },
            "outputs": [],
            "source": [
                "exp_path = f'effnet_baseline/15_crop-35e_noiseAug_weighted2/'\n",
                "label_path = f'{full_path}/data/labels.json'\n",
                "state_dict_path = f\"{exp_path}/checkpoints/last.ckpt\"\n"
            ]
        },
        {
            "cell_type": "code",
            "execution_count": 95,
            "id": "6026c024-ae34-4a9e-8e75-580e73d3b137",
            "metadata": {
                "tags": []
            },
            "outputs": [],
            "source": [
                "\n",
                "with open(label_path, 'r') as infile:\n",
                "    data = json.load(infile)\n",
                "\n",
                "torch.cuda.empty_cache()\n",
                "device = \"cuda\" if torch.cuda.is_available() else 'cpu'\n",
                "sd = get_state_dict(state_dict_path)\n",
                "model = model.eval().to(device)\n",
                "model.load_state_dict(sd)\n",
                "\n",
                "preds = []\n",
                "for i in tqdm(range(1), leave=False):\n",
                "    name = ntpath.basename(val_df.iloc[i]['path'][:-4]) \n",
                "    data = glob(f'{test_data}/{name}*.wav')\n",
                "    df = pd.DataFrame(data, columns=['path'])\n",
                "    pred_ds = AudioDataset(df, mode='test', cfg=cfg)\n",
                "    pred_dl = DataLoader(pred_ds, shuffle=False, batch_size=cfg.batch_size, num_workers=cfg.num_workers)\n",
                "\n",
                "    df = pd.DataFrame(data, columns=['path'])\n",
                "    with torch.no_grad():\n",
                "        _preds = []\n",
                "        for batch in tqdm(pred_dl):\n",
                "            batch = batch_to_device(batch, device)\n",
                "            with torch.cuda.amp.autocast():\n",
                "                out = model(batch['wave'])\n",
                "                _preds += [out.cpu().numpy()]\n",
                "        _preds = np.vstack(_preds)\n",
                "        \n",
                "        preds.append(_preds)\n",
                "preds = np.array(preds)\n",
                "torch.cuda.empty_cache()"
            ]
        },
        {
            "cell_type": "code",
            "execution_count": 123,
            "id": "bc7e342b-393b-4bd1-90aa-d0bf1da5cca9",
            "metadata": {
                "collapsed": true,
                "jupyter": {
                    "outputs_hidden": true
                },
                "tags": []
            },
            "outputs": [],
            "source": [
                "data"
            ]
        },
        {
            "cell_type": "code",
            "execution_count": 122,
            "id": "4440089c-bec9-47c9-9179-ba8f1cde59d3",
            "metadata": {
                "tags": []
            },
            "outputs": [],
            "source": [
                "from IPython.display import Audio # for listening to our insects\n",
                "Audio(data[1])"
            ]
        },
        {
            "cell_type": "code",
            "execution_count": 110,
            "id": "36807e10-35e8-4429-aabd-a1752eee2913",
            "metadata": {
                "collapsed": true,
                "jupyter": {
                    "outputs_hidden": true
                },
                "tags": []
            },
            "outputs": [],
            "source": [
                "from eda_utils import plot_waveform\n",
                "plot_waveform(val_df['path'].values[0])\n",
                "plot_waveform(data[0])\n",
                "plot_waveform(data[1])\n",
                "plot_waveform(data[2])"
            ]
        },
        {
            "cell_type": "code",
            "execution_count": 60,
            "id": "55e64010-3aa1-4913-b78e-e09f86b793af",
            "metadata": {
                "tags": []
            },
            "outputs": [],
            "source": [
                "preds[0].argmax(axis=-1)"
            ]
        },
        {
            "cell_type": "code",
            "execution_count": 79,
            "id": "2534b25d-3955-4e18-9914-a0ce9aeb9779",
            "metadata": {
                "tags": []
            },
            "outputs": [],
            "source": [
                "fpreds = [p.mean(axis=0).argmax() for p in preds]"
            ]
        },
        {
            "cell_type": "code",
            "execution_count": 81,
            "id": "85a51a1b-40d1-4588-b5d1-5986ee330311",
            "metadata": {
                "tags": []
            },
            "outputs": [],
            "source": [
                "report = (metrics.classification_report(pred_df['label'].values , fpreds , digits=3,  output_dict=True))\n",
                "evaluation = pd.DataFrame(report).transpose()\n",
                "evaluation"
            ]
        },
        {
            "cell_type": "code",
            "execution_count": 112,
            "id": "c8e13053-8c39-431d-b545-2f07b7596380",
            "metadata": {
                "collapsed": true,
                "jupyter": {
                    "outputs_hidden": true
                },
                "tags": []
            },
            "outputs": [],
            "source": [
                "pred_ds=AudioDataset(val_df.iloc[[0]], mode='test', cfg=cfg)\n",
                "pred_dl = DataLoader(pred_ds, shuffle=False, batch_size=cfg.batch_size, num_workers=4)\n",
                "\n",
                "with open(label_path, 'r') as infile:\n",
                "    data = json.load(infile)\n",
                "\n",
                "\n",
                "sd = get_state_dict(state_dict_path)\n",
                "model = SimpleCNN(cfg).eval()\n",
                "model.load_state_dict(sd)\n",
                "\n",
                "ppreds = []\n",
                "for _ in range(10):\n",
                "    with torch.no_grad():\n",
                "        _preds = []\n",
                "        for batch in tqdm(pred_dl):\n",
                "            batch = batch_to_device(batch, device)\n",
                "            with torch.cuda.amp.autocast():\n",
                "                out = model(batch['wave'])\n",
                "                _preds += [out.cpu().numpy()]\n",
                "        ppreds.append(np.vstack(_preds))"
            ]
        },
        {
            "cell_type": "code",
            "execution_count": 114,
            "id": "22dc640b-1146-4162-b64c-fc63220e6920",
            "metadata": {
                "tags": []
            },
            "outputs": [],
            "source": [
                "wave_transforms = Compose(\n",
                "                [OneOf(\n",
                "                    [MaskFrequency(p=1) ,\n",
                "                     MaskTime(p=1) ,\n",
                "                     ],\n",
                "                    p=1),\n",
                "                ]\n",
                "            )"
            ]
        },
        {
            "cell_type": "code",
            "execution_count": 12,
            "id": "f3828ff9-86d7-4bad-bec1-a1eddd91197e",
            "metadata": {
                "tags": []
            },
            "outputs": [],
            "source": [
                "pred_ds = AudioDataset(val_df.iloc[[10, 100, 2, 5, 25]], mode='test', cfg=cfg)\n",
                "pred_dl = DataLoader(pred_ds, shuffle=False, batch_size=32, num_workers=4)\n",
                "# pred_df = inference_k_random(SimpleCNN(cfg), state_dict_path, pred_dl, val_df, k=3)"
            ]
        },
        {
            "cell_type": "code",
            "execution_count": 13,
            "id": "33ae58dc-8a34-4999-917a-4b6cadaf83a9",
            "metadata": {
                "tags": []
            },
            "outputs": [],
            "source": [
                "def collate_fn(batch):\n",
                "    return {\n",
                "      'wave': torch.stack([x['wave'] for x in batch]),\n",
                "      'labels': torch.stack([x['labels'] for x in batch])\n",
                "    }"
            ]
        },
        {
            "cell_type": "code",
            "execution_count": 14,
            "id": "d132f68f-7b21-4113-90a3-613f5c163060",
            "metadata": {
                "tags": []
            },
            "outputs": [],
            "source": [
                "b1 = collate_fn([pred_ds.__getitem__(i) for i in range(len(pred_ds))])"
            ]
        },
        {
            "cell_type": "code",
            "execution_count": 23,
            "id": "2a428f60-c24d-4fdf-bd67-cc06c7d000ec",
            "metadata": {
                "tags": []
            },
            "outputs": [],
            "source": [
                "imgbatch = model.wav2img(b1['wave'][:, None, :])\n",
                "imgbatch = min_max_norm(imgbatch, min_val=cfg.min, max_val=cfg.max) "
            ]
        },
        {
            "cell_type": "code",
            "execution_count": 121,
            "id": "00d7ec78-2243-4e14-a67e-f80a81727afa",
            "metadata": {
                "tags": []
            },
            "outputs": [],
            "source": [
                "a = wave_transforms(imgbatch, 0)"
            ]
        },
        {
            "cell_type": "code",
            "execution_count": 39,
            "id": "cbfa9766-0e09-4835-aa89-2bb9678c6bc1",
            "metadata": {
                "tags": []
            },
            "outputs": [],
            "source": [
                "masking = torchaudio.transforms.TimeMasking(time_mask_param=40, iid_masks=True)\n",
                "fmasking = torchaudio.transforms.FrequencyMasking(freq_mask_param=40, iid_masks=True)"
            ]
        },
        {
            "cell_type": "code",
            "execution_count": 40,
            "id": "758a9305-28d4-4bbc-94c0-2183b4a48df2",
            "metadata": {
                "tags": []
            },
            "outputs": [],
            "source": [
                "masked = masking(imgbatch)"
            ]
        },
        {
            "cell_type": "code",
            "execution_count": 41,
            "id": "ab6dab61-66c1-4ad4-9594-eaecd6258aaa",
            "metadata": {
                "tags": []
            },
            "outputs": [],
            "source": [
                "fmasked = fmasking(imgbatch)"
            ]
        },
        {
            "cell_type": "code",
            "execution_count": 80,
            "id": "f49a98bb-78ec-44f9-af49-9fb12279e146",
            "metadata": {
                "tags": []
            },
            "outputs": [],
            "source": [
                "mlabels.sum(axis=1)"
            ]
        },
        {
            "cell_type": "code",
            "execution_count": 107,
            "id": "f4b34342-c404-4263-8703-9000b289e6b8",
            "metadata": {
                "tags": []
            },
            "outputs": [],
            "source": [
                "b1['labels'][0, 0] = 1\n",
                "b1['labels'][1, 1] = 1\n",
                "b1['labels'][2, 2] = 1\n",
                "b1['labels'][3, 3] = 1\n",
                "b1['labels'][4, 4] = 1"
            ]
        },
        {
            "cell_type": "code",
            "execution_count": 90,
            "id": "dace0235-3da8-454b-8770-338927838635",
            "metadata": {
                "tags": []
            },
            "outputs": [],
            "source": [
                "mixup = Mixup(1)"
            ]
        },
        {
            "cell_type": "code",
            "execution_count": 108,
            "id": "ca317141-e9b7-4c6a-89e3-8b3ab4e8e1d9",
            "metadata": {
                "tags": []
            },
            "outputs": [],
            "source": [
                "mbatch, mlabels = mixup(imgbatch, b1['labels'])"
            ]
        },
        {
            "cell_type": "code",
            "execution_count": 92,
            "id": "a2a107a0-dd79-461b-be9b-804a80ff7c44",
            "metadata": {
                "tags": []
            },
            "outputs": [],
            "source": [
                "perm = torch.tensor([4, 0, 2, 3, 1])\n",
                "coeffs = torch.tensor([0.3527, 0.7591, 0.6406, 0.1887, 0.2248])"
            ]
        },
        {
            "cell_type": "code",
            "execution_count": 100,
            "id": "2089d149-8330-4916-b578-c135c26580d2",
            "metadata": {
                "tags": []
            },
            "outputs": [],
            "source": [
                " (1 - coeffs.view(-1, 1))"
            ]
        },
        {
            "cell_type": "code",
            "execution_count": 93,
            "id": "18ebc901-0cad-4671-9e58-34d8f9889808",
            "metadata": {
                "tags": []
            },
            "outputs": [],
            "source": [
                " Y = coeffs.view(-1, 1) * b1['labels'] + (1 - coeffs.view(-1, 1)) * b1['labels'][perm]"
            ]
        },
        {
            "cell_type": "code",
            "execution_count": 67,
            "id": "a9ae031e-ca62-4d5d-90d9-caca350ea7de",
            "metadata": {
                "tags": []
            },
            "outputs": [],
            "source": [
                "import librosa\n",
                "fig, ax = plt.subplots()\n",
                "img = librosa.display.specshow(imgbatch[0, 0].numpy(), ax=ax)\n",
                "fig.colorbar(img, ax=ax)"
            ]
        },
        {
            "cell_type": "code",
            "execution_count": 122,
            "id": "255655ea-74e8-4d4b-8653-47ee2a79c7a3",
            "metadata": {
                "tags": []
            },
            "outputs": [],
            "source": [
                "fig, ax = plt.subplots()\n",
                "img = librosa.display.specshow(a[3, 0].numpy(), ax=ax)\n",
                "fig.colorbar(img, ax=ax)"
            ]
        },
        {
            "cell_type": "code",
            "execution_count": 42,
            "id": "2c86f998-d836-4534-9c6e-c0ce28c58690",
            "metadata": {
                "tags": []
            },
            "outputs": [],
            "source": [
                "fig, ax = plt.subplots()\n",
                "img = librosa.display.specshow(masked[0, 0].numpy(), ax=ax)\n",
                "fig.colorbar(img, ax=ax)"
            ]
        },
        {
            "cell_type": "code",
            "execution_count": 43,
            "id": "60e5804e-adf1-45e3-a225-e447a69ac3f4",
            "metadata": {
                "tags": []
            },
            "outputs": [],
            "source": [
                "fig, ax = plt.subplots()\n",
                "img = librosa.display.specshow(masked[2, 0].numpy(), ax=ax)\n",
                "fig.colorbar(img, ax=ax)"
            ]
        },
        {
            "cell_type": "code",
            "execution_count": 47,
            "id": "ffce7768-a107-4aa5-96cc-e16d3f8d74e1",
            "metadata": {
                "tags": []
            },
            "outputs": [],
            "source": [
                "pred_ds = AudioDataset(val_df.iloc[[10]], mode='test', cfg=cfg)\n",
                "pred_ds1 = AudioDataset(val_df.iloc[[10, *np.random.randint(0, 100, size=32)]], mode='test', cfg=cfg)\n",
                "pred_ds2 = AudioDataset(val_df.iloc[[10, *np.random.randint(0, 100, size=10)]], mode='test', cfg=cfg)\n",
                "\n",
                "b1 = collate_fn([pred_ds.__getitem__(i) for i in range(len(pred_ds))])\n",
                "b2 = collate_fn([pred_ds1.__getitem__(i) for i in range(len(pred_ds1))])\n",
                "b3 = collate_fn([pred_ds2.__getitem__(i) for i in range(len(pred_ds2))])\n",
                "\n",
                "print('batch x time')\n",
                "imgbatch = model.wav2img(b1['wave'])\n",
                "imgbatch2 = model.wav2img(b2['wave'])\n",
                "imgbatch3 = model.wav2img(b3['wave'])\n",
                "print(torch.sum(torch.abs(imgbatch[0]-imgbatch3[0])))\n",
                "print(torch.sum(torch.abs(imgbatch[0]-imgbatch2[0])))\n",
                "print(torch.sum(torch.abs(imgbatch2[0]-imgbatch3[0])))\n",
                "\n",
                "print('   ')\n",
                "print('batch x channels x time')\n",
                "print('Sum(abs(batch1-batch2))')\n",
                "\n",
                "imgbatch = model.wav2img(b1['wave'][:, None, :])\n",
                "imgbatch2 = model.wav2img(b2['wave'][:, None, :])\n",
                "imgbatch3 = model.wav2img(b3['wave'][:, None, :])\n",
                "print(torch.sum(torch.abs(imgbatch[0]-imgbatch3[0])))\n",
                "print(torch.sum(torch.abs(imgbatch[0]-imgbatch2[0])))\n",
                "print(torch.sum(torch.abs(imgbatch2[0]-imgbatch3[0])))"
            ]
        },
        {
            "cell_type": "code",
            "execution_count": null,
            "id": "9bc6aced-0ae3-4d60-bf66-8728b14aea4b",
            "metadata": {
                "tags": []
            },
            "outputs": [],
            "source": []
        },
        {
            "cell_type": "code",
            "execution_count": 20,
            "id": "e5cf0888-79d1-402c-9f37-0f9fa69633d8",
            "metadata": {
                "tags": []
            },
            "outputs": [],
            "source": []
        },
        {
            "cell_type": "code",
            "execution_count": 39,
            "id": "4fff133c-c40b-4d01-8bc2-c25a1af5fefc",
            "metadata": {
                "tags": []
            },
            "outputs": [],
            "source": [
                "total_max = 0\n",
                "total_min = 1e3\n",
                "for batch in pred_dl:\n",
                "    spec = model.wav2img(batch['wave'])\n",
                "    if spec.max() > total_max:\n",
                "        total_max = spec.max()\n",
                "    if spec.min() < total_max:\n",
                "        total_min = spec.min()"
            ]
        },
        {
            "cell_type": "code",
            "execution_count": 50,
            "id": "fe47d100-6b99-476e-b3f2-f27ec2d2fc1f",
            "metadata": {
                "tags": []
            },
            "outputs": [],
            "source": [
                "# create recorders\n",
                "global_stats  = StatsRecorder()\n",
                "\n",
                "# step through the training dataset\n",
                "with torch.no_grad():\n",
                "    for batch in pred_dl:\n",
                "        spec = model.wav2img(batch['wave'])[:, None, ...]\n",
                "        # update normalization statistics\n",
                "        global_stats.update(spec)\n",
                "    \n",
                "# parse out both sets of stats\n",
                "global_mean,global_std = global_stats.mean,global_stats.std"
            ]
        },
        {
            "cell_type": "code",
            "execution_count": 19,
            "id": "c796388e-92e7-4c02-9f90-d499411af7da",
            "metadata": {
                "tags": []
            },
            "outputs": [],
            "source": [
                "import librosa\n",
                "import librosa.display"
            ]
        },
        {
            "cell_type": "code",
            "execution_count": 84,
            "id": "ad87b06c-5bb1-48ea-ac92-6934748c9ee1",
            "metadata": {
                "tags": []
            },
            "outputs": [],
            "source": [
                "import torchaudio\n",
                "torchaudio.transforms.MelSpectrogram"
            ]
        },
        {
            "cell_type": "code",
            "execution_count": 96,
            "id": "b3655cbc-5fd3-4ce2-abfd-42f9185590ac",
            "metadata": {
                "tags": []
            },
            "outputs": [],
            "source": [
                "fig, ax = plt.subplots()\n",
                "img = librosa.display.specshow(imgbatch[0, 0].numpy(), ax=ax)\n",
                "fig.colorbar(img, ax=ax, format=\"%+2.f dB\")"
            ]
        },
        {
            "cell_type": "code",
            "execution_count": 95,
            "id": "9a8a1935-b4fb-404f-9a68-6689a4b5965c",
            "metadata": {
                "tags": []
            },
            "outputs": [],
            "source": [
                "librosa.display.specshow(imgbatch2[0, 0].numpy())\n",
                "plt.colorbar()"
            ]
        },
        {
            "cell_type": "code",
            "execution_count": 94,
            "id": "f9d9d04b-e47e-4fa5-86f2-60a6cc35cc1e",
            "metadata": {
                "tags": []
            },
            "outputs": [],
            "source": [
                "librosa.display.specshow(imgbatch22[0, 0].numpy())\n",
                "plt.colorbar()"
            ]
        },
        {
            "cell_type": "code",
            "execution_count": 99,
            "id": "b457a38a-afda-489c-868a-e8e357176416",
            "metadata": {
                "tags": []
            },
            "outputs": [],
            "source": [
                "librosa.display.specshow(imgbatch22[0, 0].numpy() - imgbatch2[0, 0].numpy())\n",
                "plt.colorbar()"
            ]
        },
        {
            "cell_type": "code",
            "execution_count": 98,
            "id": "c0787ce5-8d75-49bd-a3c3-7ccfb67c49b3",
            "metadata": {
                "collapsed": true,
                "jupyter": {
                    "outputs_hidden": true
                },
                "tags": []
            },
            "outputs": [],
            "source": [
                "imgbatch[0, 0].numpy() - imgbatch2[0, 0].numpy()"
            ]
        },
        {
            "cell_type": "code",
            "execution_count": 51,
            "id": "74e9deac-725f-495e-a5ff-f83c22f9f473",
            "metadata": {
                "tags": []
            },
            "outputs": [],
            "source": [
                "test =(spec - global_mean) / global_std"
            ]
        },
        {
            "cell_type": "code",
            "execution_count": 92,
            "id": "c917d1be-2f30-4134-941c-0c8e6c98787b",
            "metadata": {
                "tags": []
            },
            "outputs": [],
            "source": [
                "imgbatch = model.wav2img(batch['wave'][:, None, :])\n",
                "imgbatch2 = model.wav2img(batchw['wave'][:, None, :])\n",
                "imgbatch22 = model.wav2img(batchw2['wave'][:, None, :])"
            ]
        },
        {
            "cell_type": "code",
            "execution_count": 28,
            "id": "163508f4-d9f0-496c-975e-224cf6188d07",
            "metadata": {
                "tags": []
            },
            "outputs": [],
            "source": []
        },
        {
            "cell_type": "code",
            "execution_count": 35,
            "id": "dcb9bc97-f5b0-411f-8e9d-45c95682288f",
            "metadata": {
                "tags": []
            },
            "outputs": [],
            "source": []
        },
        {
            "cell_type": "code",
            "execution_count": 15,
            "id": "f429fa85-e08e-47e7-ba9b-cd63f54b821b",
            "metadata": {
                "tags": []
            },
            "outputs": [],
            "source": [
                "minn = imgbatch2[0].min() \n",
                "maxx = imgbatch2[0].max() \n",
                "\n",
                "normed = (imgbatch2[0] - minn) / (maxx - minn)"
            ]
        },
        {
            "cell_type": "code",
            "execution_count": 19,
            "id": "7ff2327d-9526-43e7-bef8-53ec0d821bf2",
            "metadata": {
                "tags": []
            },
            "outputs": [],
            "source": [
                "normed * 255.9"
            ]
        },
        {
            "cell_type": "code",
            "execution_count": 63,
            "id": "987500a4-8d0d-4dbc-8e3e-148063ac5363",
            "metadata": {
                "tags": []
            },
            "outputs": [],
            "source": [
                "((imgbatch2[0]) / 80).min()"
            ]
        },
        {
            "cell_type": "code",
            "execution_count": 81,
            "id": "8ac12871-fff2-404f-ac7b-f0b76565c1ea",
            "metadata": {
                "tags": []
            },
            "outputs": [],
            "source": [
                "test = imgbatch - imgbatch2[0]"
            ]
        },
        {
            "cell_type": "code",
            "execution_count": 82,
            "id": "09f3c3c4-6145-4199-9f67-f9820fc92d21",
            "metadata": {
                "tags": []
            },
            "outputs": [],
            "source": [
                "test"
            ]
        },
        {
            "cell_type": "code",
            "execution_count": 18,
            "id": "1a5dc501-43ad-411f-8fc1-296887cf969a",
            "metadata": {
                "tags": []
            },
            "outputs": [],
            "source": [
                "model = SimpleCNN(cfg).eval()"
            ]
        },
        {
            "cell_type": "code",
            "execution_count": 67,
            "id": "9e28bf0e-69be-4462-b72e-54c3e579a2f7",
            "metadata": {
                "tags": []
            },
            "outputs": [],
            "source": [
                "imgbbatch = model.wav2img(bbatch['wave'])"
            ]
        },
        {
            "cell_type": "code",
            "execution_count": 41,
            "id": "ac78ec7f-6f06-4f39-a473-01aa4b8ac04c",
            "metadata": {
                "tags": []
            },
            "outputs": [],
            "source": [
                "imgbbatch2 = model.wav2img(bbatch['wave'])\n",
                "imgbatch2 = model.wav2img(batch['wave'])"
            ]
        },
        {
            "cell_type": "code",
            "execution_count": 73,
            "id": "348e422e-b72b-4d79-bf24-86cd5b538f01",
            "metadata": {
                "tags": []
            },
            "outputs": [],
            "source": [
                "test = (imgbbatch[0]+80) / 80"
            ]
        },
        {
            "cell_type": "code",
            "execution_count": 76,
            "id": "8ad4619a-be75-425e-ad1a-6849b75051a4",
            "metadata": {
                "tags": []
            },
            "outputs": [],
            "source": [
                "test.min()"
            ]
        },
        {
            "cell_type": "code",
            "execution_count": 63,
            "id": "beeaba21-80da-4cc3-aa29-fc185e19c81a",
            "metadata": {
                "tags": []
            },
            "outputs": [],
            "source": [
                "imgbbatch[0]"
            ]
        },
        {
            "cell_type": "code",
            "execution_count": 62,
            "id": "63c26bc5-91ea-4378-932e-7cdddf49e801",
            "metadata": {
                "tags": []
            },
            "outputs": [],
            "source": [
                "imgbatch[0]"
            ]
        },
        {
            "cell_type": "code",
            "execution_count": 27,
            "id": "73857689-e565-4085-8655-2bd22d901c36",
            "metadata": {
                "tags": []
            },
            "outputs": [],
            "source": [
                "class StatsRecorder:\n",
                "    def __init__(self, red_dims=(0,2,3)):\n",
                "        \"\"\"Accumulates normalization statistics across mini-batches.\n",
                "        ref: http://notmatthancock.github.io/2017/03/23/simple-batch-stat-updates.html\n",
                "        \"\"\"\n",
                "        self.red_dims = red_dims # which mini-batch dimensions to average over\n",
                "        self.nobservations = 0   # running number of observations\n",
                "\n",
                "    def update(self, data):\n",
                "        \"\"\"\n",
                "        data: ndarray, shape (nobservations, ndimensions)\n",
                "        \"\"\"\n",
                "        # initialize stats and dimensions on first batch\n",
                "        if self.nobservations == 0:\n",
                "            self.mean = data.mean(dim=self.red_dims, keepdim=True)\n",
                "            self.std  = data.std (dim=self.red_dims,keepdim=True)\n",
                "            self.nobservations = data.shape[0]\n",
                "            self.ndimensions   = data.shape[1]\n",
                "        else:\n",
                "            if data.shape[1] != self.ndimensions:\n",
                "                raise ValueError('Data dims do not match previous observations.')\n",
                "            \n",
                "            # find mean of new mini batch\n",
                "            newmean = data.mean(dim=self.red_dims, keepdim=True)\n",
                "            newstd  = data.std(dim=self.red_dims, keepdim=True)\n",
                "            \n",
                "            # update number of observations\n",
                "            m = self.nobservations * 1.0\n",
                "            n = data.shape[0]\n",
                "\n",
                "            # update running statistics\n",
                "            tmp = self.mean\n",
                "            self.mean = m/(m+n)*tmp + n/(m+n)*newmean\n",
                "            self.std  = m/(m+n)*self.std**2 + n/(m+n)*newstd**2 +\\\n",
                "                        m*n/(m+n)**2 * (tmp - newmean)**2\n",
                "            self.std  = torch.sqrt(self.std)\n",
                "                                 \n",
                "            # update total number of seen samples\n",
                "            self.nobservations += n"
            ]
        },
        {
            "cell_type": "code",
            "execution_count": 41,
            "id": "56e91576-5cd9-4b87-a437-e0b92aa086de",
            "metadata": {
                "tags": []
            },
            "outputs": [],
            "source": [
                "bbatch"
            ]
        },
        {
            "cell_type": "code",
            "execution_count": 30,
            "id": "693ee4b5-6208-47fa-ae8b-f25e54de80c9",
            "metadata": {
                "tags": []
            },
            "outputs": [],
            "source": [
                "batchwave = batch['wave'][0]"
            ]
        },
        {
            "cell_type": "code",
            "execution_count": 77,
            "id": "ffee73e7-9828-4e85-9480-8000e72a7ada",
            "metadata": {
                "tags": []
            },
            "outputs": [],
            "source": [
                "import sklearn.metrics \n",
                "report = (metrics.classification_report(pred_df['label'].values , pred_df['predicted_class_id'].values , digits=3,  output_dict=True))\n",
                "evaluation = pd.DataFrame(report).transpose()\n",
                "evaluation"
            ]
        },
        {
            "cell_type": "code",
            "execution_count": 12,
            "id": "ee038ed0-af2f-48ca-80a0-c25cf15d7e64",
            "metadata": {
                "tags": []
            },
            "outputs": [],
            "source": [
                "def inference_k_random(net, state_dict_path, test_dl, test_metadata_df, k=1):\n",
                "    torch.cuda.empty_cache()\n",
                "    device = \"cuda\" if torch.cuda.is_available() else 'cpu'\n",
                "    sd = get_state_dict(state_dict_path)\n",
                "    model = net.eval().to(device)\n",
                "    model.load_state_dict(sd)\n",
                "\n",
                "    preds = []\n",
                "    for _ in range(k):\n",
                "        with torch.no_grad():\n",
                "            _preds = []\n",
                "            for batch in tqdm(test_dl):\n",
                "                batch = batch_to_device(batch, device)\n",
                "                with torch.cuda.amp.autocast():\n",
                "                    out = model(batch['wave'])\n",
                "                    _preds += [out.cpu().numpy()]\n",
                "            preds.append(np.vstack(_preds))\n",
                "            \n",
                "    # preds = np.mean(preds, axis=0)\n",
                "    # test_metadata_df['predicted_class_id']  = preds.argmax(axis=-1)\n",
                "    # torch.cuda.empty_cache()\n",
                "    return preds\n",
                "\n",
                "\n",
                "def inference_all(net, state_dict_path, test_dl, test_metadata_df, loss_fn, label_path, k=1):\n",
                "    with open(label_path, 'r') as infile:\n",
                "        data = json.load(infile)\n",
                "\n",
                "    torch.cuda.empty_cache()\n",
                "    device = \"cuda\" if torch.cuda.is_available() else 'cpu'\n",
                "    sd = get_state_dict(state_dict_path)\n",
                "    model = net.eval().to(device)\n",
                "    model.load_state_dict(sd)\n",
                "\n",
                "    preds = []\n",
                "    for i in range(556):\n",
                "        with torch.no_grad():\n",
                "            _preds = []\n",
                "            for batch in tqdm(test_dl):\n",
                "                batch = batch_to_device(batch, device)\n",
                "                with torch.cuda.amp.autocast():\n",
                "                    out = model(batch['wave'])\n",
                "                    _preds += [out.cpu().numpy()]\n",
                "            preds.append(_preds)\n",
                "            \n",
                "    preds = np.mean(preds, axis=0)\n",
                "    test_metadata_df['predicted_class_id']  = preds.argmax(axis=-1)\n",
                "    torch.cuda.empty_cache()\n",
                "    return test_metadata_df\n"
            ]
        },
        {
            "cell_type": "code",
            "execution_count": null,
            "id": "e9dd7694-6b02-4ab6-9b3d-8bd92c0ebb33",
            "metadata": {},
            "outputs": [],
            "source": [
                "# glob(f'{exp_path}/checkpoints/*')\n",
                "exp_path = f'effnet_baseline/{cfg.exp_name}/'\n",
                "label_path = f'{full_path}/data/labels.json'\n",
                "state_dict_path = f\"{exp_path}/checkpoints/last.ckpt\"\n",
                "#\n",
                "k_predictions = 25\n",
                "\n",
                "val_df = pd.read_csv(f\"{full_path}/data/metadata.csv\")\n",
                "val_df = val_df[val_df['subset']=='validation']\n",
                "val_df['path'] = val_df['path'].apply(lambda x: f'{full_path}/{x}')\n",
                "\n",
                "test_df = pd.read_csv(f\"{full_path}/data/test/metadata.csv\")\n",
                "test_df['path'] = test_df['file_name'].apply(lambda x: f'{full_path}/data/test/{x}')\n",
                "\n",
                "for data in [(val_df, 'val'), (test_df, 'test')]:\n",
                "    df, dset = data\n",
                "    print(f'Predict {dset}')\n",
                "    pred_ds = AudioDataset(df, mode='test', cfg=cfg)\n",
                "    pred_dl = DataLoader(pred_ds, shuffle=False, batch_size=cfg.batch_size, num_workers=cfg.num_workers)\n",
                "    pred_df = inference_k_random(SimpleCNN(cfg), state_dict_path, pred_dl, df, \n",
                "                                 loss_fn, label_path, k=k_predictions)\n",
                "    pred_df.to_csv(f'{exp_path}/{dset}_predictions.csv', index=False) \n",
                "    if dset == 'test':\n",
                "        pred_df[['file_name', 'predicted_class_id']].to_csv(f'{exp_path}/submission_predictions.csv', index=False)\n",
                "    elif dset == 'val':\n",
                "        error_analysis(exp_path)"
            ]
        }
    ],
    "metadata": {
        "availableInstances": [
            {
                "_defaultOrder": 0,
                "_isFastLaunch": true,
                "category": "General purpose",
                "gpuNum": 0,
                "hideHardwareSpecs": false,
                "memoryGiB": 4,
                "name": "ml.t3.medium",
                "vcpuNum": 2
            },
            {
                "_defaultOrder": 1,
                "_isFastLaunch": false,
                "category": "General purpose",
                "gpuNum": 0,
                "hideHardwareSpecs": false,
                "memoryGiB": 8,
                "name": "ml.t3.large",
                "vcpuNum": 2
            },
            {
                "_defaultOrder": 2,
                "_isFastLaunch": false,
                "category": "General purpose",
                "gpuNum": 0,
                "hideHardwareSpecs": false,
                "memoryGiB": 16,
                "name": "ml.t3.xlarge",
                "vcpuNum": 4
            },
            {
                "_defaultOrder": 3,
                "_isFastLaunch": false,
                "category": "General purpose",
                "gpuNum": 0,
                "hideHardwareSpecs": false,
                "memoryGiB": 32,
                "name": "ml.t3.2xlarge",
                "vcpuNum": 8
            },
            {
                "_defaultOrder": 4,
                "_isFastLaunch": true,
                "category": "General purpose",
                "gpuNum": 0,
                "hideHardwareSpecs": false,
                "memoryGiB": 8,
                "name": "ml.m5.large",
                "vcpuNum": 2
            },
            {
                "_defaultOrder": 5,
                "_isFastLaunch": false,
                "category": "General purpose",
                "gpuNum": 0,
                "hideHardwareSpecs": false,
                "memoryGiB": 16,
                "name": "ml.m5.xlarge",
                "vcpuNum": 4
            },
            {
                "_defaultOrder": 6,
                "_isFastLaunch": false,
                "category": "General purpose",
                "gpuNum": 0,
                "hideHardwareSpecs": false,
                "memoryGiB": 32,
                "name": "ml.m5.2xlarge",
                "vcpuNum": 8
            },
            {
                "_defaultOrder": 7,
                "_isFastLaunch": false,
                "category": "General purpose",
                "gpuNum": 0,
                "hideHardwareSpecs": false,
                "memoryGiB": 64,
                "name": "ml.m5.4xlarge",
                "vcpuNum": 16
            },
            {
                "_defaultOrder": 8,
                "_isFastLaunch": false,
                "category": "General purpose",
                "gpuNum": 0,
                "hideHardwareSpecs": false,
                "memoryGiB": 128,
                "name": "ml.m5.8xlarge",
                "vcpuNum": 32
            },
            {
                "_defaultOrder": 9,
                "_isFastLaunch": false,
                "category": "General purpose",
                "gpuNum": 0,
                "hideHardwareSpecs": false,
                "memoryGiB": 192,
                "name": "ml.m5.12xlarge",
                "vcpuNum": 48
            },
            {
                "_defaultOrder": 10,
                "_isFastLaunch": false,
                "category": "General purpose",
                "gpuNum": 0,
                "hideHardwareSpecs": false,
                "memoryGiB": 256,
                "name": "ml.m5.16xlarge",
                "vcpuNum": 64
            },
            {
                "_defaultOrder": 11,
                "_isFastLaunch": false,
                "category": "General purpose",
                "gpuNum": 0,
                "hideHardwareSpecs": false,
                "memoryGiB": 384,
                "name": "ml.m5.24xlarge",
                "vcpuNum": 96
            },
            {
                "_defaultOrder": 12,
                "_isFastLaunch": false,
                "category": "General purpose",
                "gpuNum": 0,
                "hideHardwareSpecs": false,
                "memoryGiB": 8,
                "name": "ml.m5d.large",
                "vcpuNum": 2
            },
            {
                "_defaultOrder": 13,
                "_isFastLaunch": false,
                "category": "General purpose",
                "gpuNum": 0,
                "hideHardwareSpecs": false,
                "memoryGiB": 16,
                "name": "ml.m5d.xlarge",
                "vcpuNum": 4
            },
            {
                "_defaultOrder": 14,
                "_isFastLaunch": false,
                "category": "General purpose",
                "gpuNum": 0,
                "hideHardwareSpecs": false,
                "memoryGiB": 32,
                "name": "ml.m5d.2xlarge",
                "vcpuNum": 8
            },
            {
                "_defaultOrder": 15,
                "_isFastLaunch": false,
                "category": "General purpose",
                "gpuNum": 0,
                "hideHardwareSpecs": false,
                "memoryGiB": 64,
                "name": "ml.m5d.4xlarge",
                "vcpuNum": 16
            },
            {
                "_defaultOrder": 16,
                "_isFastLaunch": false,
                "category": "General purpose",
                "gpuNum": 0,
                "hideHardwareSpecs": false,
                "memoryGiB": 128,
                "name": "ml.m5d.8xlarge",
                "vcpuNum": 32
            },
            {
                "_defaultOrder": 17,
                "_isFastLaunch": false,
                "category": "General purpose",
                "gpuNum": 0,
                "hideHardwareSpecs": false,
                "memoryGiB": 192,
                "name": "ml.m5d.12xlarge",
                "vcpuNum": 48
            },
            {
                "_defaultOrder": 18,
                "_isFastLaunch": false,
                "category": "General purpose",
                "gpuNum": 0,
                "hideHardwareSpecs": false,
                "memoryGiB": 256,
                "name": "ml.m5d.16xlarge",
                "vcpuNum": 64
            },
            {
                "_defaultOrder": 19,
                "_isFastLaunch": false,
                "category": "General purpose",
                "gpuNum": 0,
                "hideHardwareSpecs": false,
                "memoryGiB": 384,
                "name": "ml.m5d.24xlarge",
                "vcpuNum": 96
            },
            {
                "_defaultOrder": 20,
                "_isFastLaunch": false,
                "category": "General purpose",
                "gpuNum": 0,
                "hideHardwareSpecs": true,
                "memoryGiB": 0,
                "name": "ml.geospatial.interactive",
                "supportedImageNames": [
                    "sagemaker-geospatial-v1-0"
                ],
                "vcpuNum": 0
            },
            {
                "_defaultOrder": 21,
                "_isFastLaunch": true,
                "category": "Compute optimized",
                "gpuNum": 0,
                "hideHardwareSpecs": false,
                "memoryGiB": 4,
                "name": "ml.c5.large",
                "vcpuNum": 2
            },
            {
                "_defaultOrder": 22,
                "_isFastLaunch": false,
                "category": "Compute optimized",
                "gpuNum": 0,
                "hideHardwareSpecs": false,
                "memoryGiB": 8,
                "name": "ml.c5.xlarge",
                "vcpuNum": 4
            },
            {
                "_defaultOrder": 23,
                "_isFastLaunch": false,
                "category": "Compute optimized",
                "gpuNum": 0,
                "hideHardwareSpecs": false,
                "memoryGiB": 16,
                "name": "ml.c5.2xlarge",
                "vcpuNum": 8
            },
            {
                "_defaultOrder": 24,
                "_isFastLaunch": false,
                "category": "Compute optimized",
                "gpuNum": 0,
                "hideHardwareSpecs": false,
                "memoryGiB": 32,
                "name": "ml.c5.4xlarge",
                "vcpuNum": 16
            },
            {
                "_defaultOrder": 25,
                "_isFastLaunch": false,
                "category": "Compute optimized",
                "gpuNum": 0,
                "hideHardwareSpecs": false,
                "memoryGiB": 72,
                "name": "ml.c5.9xlarge",
                "vcpuNum": 36
            },
            {
                "_defaultOrder": 26,
                "_isFastLaunch": false,
                "category": "Compute optimized",
                "gpuNum": 0,
                "hideHardwareSpecs": false,
                "memoryGiB": 96,
                "name": "ml.c5.12xlarge",
                "vcpuNum": 48
            },
            {
                "_defaultOrder": 27,
                "_isFastLaunch": false,
                "category": "Compute optimized",
                "gpuNum": 0,
                "hideHardwareSpecs": false,
                "memoryGiB": 144,
                "name": "ml.c5.18xlarge",
                "vcpuNum": 72
            },
            {
                "_defaultOrder": 28,
                "_isFastLaunch": false,
                "category": "Compute optimized",
                "gpuNum": 0,
                "hideHardwareSpecs": false,
                "memoryGiB": 192,
                "name": "ml.c5.24xlarge",
                "vcpuNum": 96
            },
            {
                "_defaultOrder": 29,
                "_isFastLaunch": true,
                "category": "Accelerated computing",
                "gpuNum": 1,
                "hideHardwareSpecs": false,
                "memoryGiB": 16,
                "name": "ml.g4dn.xlarge",
                "vcpuNum": 4
            },
            {
                "_defaultOrder": 30,
                "_isFastLaunch": false,
                "category": "Accelerated computing",
                "gpuNum": 1,
                "hideHardwareSpecs": false,
                "memoryGiB": 32,
                "name": "ml.g4dn.2xlarge",
                "vcpuNum": 8
            },
            {
                "_defaultOrder": 31,
                "_isFastLaunch": false,
                "category": "Accelerated computing",
                "gpuNum": 1,
                "hideHardwareSpecs": false,
                "memoryGiB": 64,
                "name": "ml.g4dn.4xlarge",
                "vcpuNum": 16
            },
            {
                "_defaultOrder": 32,
                "_isFastLaunch": false,
                "category": "Accelerated computing",
                "gpuNum": 1,
                "hideHardwareSpecs": false,
                "memoryGiB": 128,
                "name": "ml.g4dn.8xlarge",
                "vcpuNum": 32
            },
            {
                "_defaultOrder": 33,
                "_isFastLaunch": false,
                "category": "Accelerated computing",
                "gpuNum": 4,
                "hideHardwareSpecs": false,
                "memoryGiB": 192,
                "name": "ml.g4dn.12xlarge",
                "vcpuNum": 48
            },
            {
                "_defaultOrder": 34,
                "_isFastLaunch": false,
                "category": "Accelerated computing",
                "gpuNum": 1,
                "hideHardwareSpecs": false,
                "memoryGiB": 256,
                "name": "ml.g4dn.16xlarge",
                "vcpuNum": 64
            },
            {
                "_defaultOrder": 35,
                "_isFastLaunch": false,
                "category": "Accelerated computing",
                "gpuNum": 1,
                "hideHardwareSpecs": false,
                "memoryGiB": 61,
                "name": "ml.p3.2xlarge",
                "vcpuNum": 8
            },
            {
                "_defaultOrder": 36,
                "_isFastLaunch": false,
                "category": "Accelerated computing",
                "gpuNum": 4,
                "hideHardwareSpecs": false,
                "memoryGiB": 244,
                "name": "ml.p3.8xlarge",
                "vcpuNum": 32
            },
            {
                "_defaultOrder": 37,
                "_isFastLaunch": false,
                "category": "Accelerated computing",
                "gpuNum": 8,
                "hideHardwareSpecs": false,
                "memoryGiB": 488,
                "name": "ml.p3.16xlarge",
                "vcpuNum": 64
            },
            {
                "_defaultOrder": 38,
                "_isFastLaunch": false,
                "category": "Accelerated computing",
                "gpuNum": 8,
                "hideHardwareSpecs": false,
                "memoryGiB": 768,
                "name": "ml.p3dn.24xlarge",
                "vcpuNum": 96
            },
            {
                "_defaultOrder": 39,
                "_isFastLaunch": false,
                "category": "Memory Optimized",
                "gpuNum": 0,
                "hideHardwareSpecs": false,
                "memoryGiB": 16,
                "name": "ml.r5.large",
                "vcpuNum": 2
            },
            {
                "_defaultOrder": 40,
                "_isFastLaunch": false,
                "category": "Memory Optimized",
                "gpuNum": 0,
                "hideHardwareSpecs": false,
                "memoryGiB": 32,
                "name": "ml.r5.xlarge",
                "vcpuNum": 4
            },
            {
                "_defaultOrder": 41,
                "_isFastLaunch": false,
                "category": "Memory Optimized",
                "gpuNum": 0,
                "hideHardwareSpecs": false,
                "memoryGiB": 64,
                "name": "ml.r5.2xlarge",
                "vcpuNum": 8
            },
            {
                "_defaultOrder": 42,
                "_isFastLaunch": false,
                "category": "Memory Optimized",
                "gpuNum": 0,
                "hideHardwareSpecs": false,
                "memoryGiB": 128,
                "name": "ml.r5.4xlarge",
                "vcpuNum": 16
            },
            {
                "_defaultOrder": 43,
                "_isFastLaunch": false,
                "category": "Memory Optimized",
                "gpuNum": 0,
                "hideHardwareSpecs": false,
                "memoryGiB": 256,
                "name": "ml.r5.8xlarge",
                "vcpuNum": 32
            },
            {
                "_defaultOrder": 44,
                "_isFastLaunch": false,
                "category": "Memory Optimized",
                "gpuNum": 0,
                "hideHardwareSpecs": false,
                "memoryGiB": 384,
                "name": "ml.r5.12xlarge",
                "vcpuNum": 48
            },
            {
                "_defaultOrder": 45,
                "_isFastLaunch": false,
                "category": "Memory Optimized",
                "gpuNum": 0,
                "hideHardwareSpecs": false,
                "memoryGiB": 512,
                "name": "ml.r5.16xlarge",
                "vcpuNum": 64
            },
            {
                "_defaultOrder": 46,
                "_isFastLaunch": false,
                "category": "Memory Optimized",
                "gpuNum": 0,
                "hideHardwareSpecs": false,
                "memoryGiB": 768,
                "name": "ml.r5.24xlarge",
                "vcpuNum": 96
            },
            {
                "_defaultOrder": 47,
                "_isFastLaunch": false,
                "category": "Accelerated computing",
                "gpuNum": 1,
                "hideHardwareSpecs": false,
                "memoryGiB": 16,
                "name": "ml.g5.xlarge",
                "vcpuNum": 4
            },
            {
                "_defaultOrder": 48,
                "_isFastLaunch": false,
                "category": "Accelerated computing",
                "gpuNum": 1,
                "hideHardwareSpecs": false,
                "memoryGiB": 32,
                "name": "ml.g5.2xlarge",
                "vcpuNum": 8
            },
            {
                "_defaultOrder": 49,
                "_isFastLaunch": false,
                "category": "Accelerated computing",
                "gpuNum": 1,
                "hideHardwareSpecs": false,
                "memoryGiB": 64,
                "name": "ml.g5.4xlarge",
                "vcpuNum": 16
            },
            {
                "_defaultOrder": 50,
                "_isFastLaunch": false,
                "category": "Accelerated computing",
                "gpuNum": 1,
                "hideHardwareSpecs": false,
                "memoryGiB": 128,
                "name": "ml.g5.8xlarge",
                "vcpuNum": 32
            },
            {
                "_defaultOrder": 51,
                "_isFastLaunch": false,
                "category": "Accelerated computing",
                "gpuNum": 1,
                "hideHardwareSpecs": false,
                "memoryGiB": 256,
                "name": "ml.g5.16xlarge",
                "vcpuNum": 64
            },
            {
                "_defaultOrder": 52,
                "_isFastLaunch": false,
                "category": "Accelerated computing",
                "gpuNum": 4,
                "hideHardwareSpecs": false,
                "memoryGiB": 192,
                "name": "ml.g5.12xlarge",
                "vcpuNum": 48
            },
            {
                "_defaultOrder": 53,
                "_isFastLaunch": false,
                "category": "Accelerated computing",
                "gpuNum": 4,
                "hideHardwareSpecs": false,
                "memoryGiB": 384,
                "name": "ml.g5.24xlarge",
                "vcpuNum": 96
            },
            {
                "_defaultOrder": 54,
                "_isFastLaunch": false,
                "category": "Accelerated computing",
                "gpuNum": 8,
                "hideHardwareSpecs": false,
                "memoryGiB": 768,
                "name": "ml.g5.48xlarge",
                "vcpuNum": 192
            },
            {
                "_defaultOrder": 55,
                "_isFastLaunch": false,
                "category": "Accelerated computing",
                "gpuNum": 8,
                "hideHardwareSpecs": false,
                "memoryGiB": 1152,
                "name": "ml.p4d.24xlarge",
                "vcpuNum": 96
            },
            {
                "_defaultOrder": 56,
                "_isFastLaunch": false,
                "category": "Accelerated computing",
                "gpuNum": 8,
                "hideHardwareSpecs": false,
                "memoryGiB": 1152,
                "name": "ml.p4de.24xlarge",
                "vcpuNum": 96
            }
        ],
        "kernelspec": {
            "display_name": "GDSC (custom-gdsc/1)",
            "language": "python",
            "name": "python3__SAGEMAKER_INTERNAL__arn:aws:sagemaker:us-east-1:821562550650:image-version/custom-gdsc/1"
        },
        "language_info": {
            "codemirror_mode": {
                "name": "ipython",
                "version": 3
            },
            "file_extension": ".py",
            "mimetype": "text/x-python",
            "name": "python",
            "nbconvert_exporter": "python",
            "pygments_lexer": "ipython3",
            "version": "3.10.8"
        },
        "lcc_arn": "arn:aws:sagemaker:us-east-1:821562550650:studio-lifecycle-config/clean-trash"
    },
    "nbformat": 4,
    "nbformat_minor": 5
}