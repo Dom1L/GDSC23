{
    "cells": [
        {
            "cell_type": "code",
            "execution_count": 2,
            "id": "8b922323-a0fd-4713-bcbb-20997901f814",
            "metadata": {
                "collapsed": true,
                "jupyter": {
                    "outputs_hidden": true
                },
                "tags": []
            },
            "outputs": [],
            "source": [
                "%pip install -r ../../requirements.txt"
            ]
        },
        {
            "cell_type": "code",
            "execution_count": 6,
            "id": "89ce16c7-d1dd-4372-90a9-8aaf7a98a4c5",
            "metadata": {
                "tags": []
            },
            "outputs": [],
            "source": [
                "import os \n",
                "import sys\n",
                "import json\n",
                "from types import SimpleNamespace\n",
                "import random\n",
                "from glob import glob\n",
                "\n",
                "import torch\n",
                "import torchaudio\n",
                "import torch.nn as nn\n",
                "import numpy as np\n",
                "import pandas as pd\n",
                "import lightning as L\n",
                "from tqdm import tqdm\n",
                "from timm import create_model, list_models\n",
                "from torch.utils.data import DataLoader\n",
                "from lightning.pytorch.loggers import CSVLogger, TensorBoardLogger\n",
                "from lightning.pytorch.callbacks.early_stopping import EarlyStopping\n",
                "from lightning.pytorch.callbacks import ModelCheckpoint, LearningRateMonitor\n",
                "\n",
                "sys.path.append('../../src')\n",
                "\n",
                "from custom.data import AudioDataset, DataModule\n",
                "from custom.trainer import TrainModule\n",
                "from custom.net import SimpleCNN\n",
                "from custom.utils import batch_to_device, get_state_dict, batch_to_device\n",
                "from custom.eval import inference_k_random, error_analysis\n",
                "\n",
                "\n",
                "# determinism\n",
                "# seed = 1337\n",
                "# torch.manual_seed(seed)\n",
                "# np.random.seed(seed)\n",
                "# random.seed(seed)\n",
                "# torch.cuda.manual_seed(seed)\n",
                "# torch.cuda.manual_seed_all(seed)\n",
                "%load_ext autoreload\n",
                "%autoreload 2\n",
                "\n",
                "full_path = '../../'"
            ]
        },
        {
            "cell_type": "code",
            "execution_count": 4,
            "id": "435c28ca-53f3-4c5d-b718-433009addf21",
            "metadata": {
                "tags": []
            },
            "outputs": [],
            "source": [
                "cfg = SimpleNamespace()\n",
                "\n",
                "cfg.data_path = f'{full_path}/data/production_data/5s_crop/'\n",
                "cfg.n_classes = 66\n",
                "cfg.pretrained = True\n",
                "cfg.backbone = 'tf_efficientnetv2_s.in21k'\n",
                "cfg.in_chans = 1\n",
                "cfg.num_workers = 4\n",
                "cfg.include_val = True\n",
                "\n",
                "# Training Hyperparameters\n",
                "cfg.n_epochs = 20\n",
                "cfg.lr = 0.000251\n",
                "cfg.weight_decay = 1e-4\n",
                "cfg.label_smoothing = 0.1\n",
                "cfg.batch_size = 32\n",
                "\n",
                "# Mel Spectogram Hyperparameters\n",
                "cfg.wav_crop_len = 5\n",
                "cfg.sample_rate = 44100\n",
                "cfg.n_mels = 128\n",
                "cfg.n_fft = 2048\n",
                "cfg.fmin = 300\n",
                "cfg.fmax = cfg.sample_rate / 2 \n",
                "cfg.window_size = cfg.n_fft\n",
                "cfg.hop_length = int(cfg.n_fft / 2)\n",
                "cfg.power = 2\n",
                "cfg.top_db = 80.0\n",
                "\n",
                "# Augmentation Parameters\n",
                "cfg.impulse_prob = 0.2\n",
                "cfg.noise_prob = 0.2\n",
                "cfg.max_noise = 0.04\n",
                "cfg.min_snr = 5\n",
                "cfg.max_snr = 20\n",
                "\n",
                "cfg.exp_name = f'{cfg.wav_crop_len}_crop-{cfg.n_epochs}e_noiseAug_CE_weighted_LS_pp_impulse_ALLDATA'\n",
                "\n",
                "# Callbacks\n",
                "tb_logger = TensorBoardLogger(save_dir=\"./\", version=cfg.exp_name, name=\"effnet_baseline\")\n",
                "lr_monitor = LearningRateMonitor(logging_interval='epoch')\n",
                "checkpoint_callback = ModelCheckpoint(monitor=\"val_f1\", mode=\"max\", save_last=True)\n",
                "early_stop_callback = EarlyStopping(monitor=\"val_f1\", patience=5, verbose=False, mode=\"max\")\n",
                "\n",
                "# Loss Function and class weights\n",
                "class_weights = np.load(f'{full_path}/data/class_weights.npy')\n",
                "loss_fn = nn.CrossEntropyLoss(weight=torch.from_numpy(class_weights).to('cuda'), \n",
                "                              label_smoothing=cfg.label_smoothing)\n",
                "\n",
                "# Data Logic, Loading, Augmentation\n",
                "dm = DataModule(cfg=cfg)\n",
                "\n",
                "# Network\n",
                "model = SimpleCNN(cfg)\n",
                "\n",
                "# Training Logic\n",
                "tmod = TrainModule(model, \n",
                "                   loss_fn=loss_fn, \n",
                "                   optimizer_name='Adam', \n",
                "                   optimizer_hparams={\"lr\": cfg.lr, \"weight_decay\": cfg.weight_decay},\n",
                "                   cfg=cfg)"
            ]
        },
        {
            "cell_type": "code",
            "execution_count": 9,
            "id": "969204e0-6735-4756-ad70-121ef4e430a2",
            "metadata": {
                "tags": []
            },
            "outputs": [],
            "source": [
                "test_df = pd.read_csv(f\"{full_path}/data/test/metadata.csv\")\n",
                "test_data = f'{cfg.data_path}/test'"
            ]
        },
        {
            "cell_type": "code",
            "execution_count": 20,
            "id": "d4ab2953-d9bc-4238-9d04-4666b9ea43e2",
            "metadata": {
                "tags": []
            },
            "outputs": [],
            "source": [
                "sizes = []\n",
                "for i in range(556):\n",
                "\n",
                "    data = glob(f'{test_data}/{i}_*.wav')\n",
                "    bs = len(data)\n",
                "\n",
                "    df = pd.DataFrame(data, columns=['path'])\n",
                "    sizes.append(bs)"
            ]
        },
        {
            "cell_type": "code",
            "execution_count": 11,
            "id": "07a6c827-542a-4274-931f-3c45845f13fa",
            "metadata": {
                "tags": []
            },
            "outputs": [],
            "source": [
                "pred_ds = AudioDataset(df, mode='test', cfg=cfg)\n",
                "pred_dl = DataLoader(pred_ds, shuffle=False, batch_size=cfg.batch_size, num_workers=cfg.num_workers)\n",
                "   "
            ]
        },
        {
            "cell_type": "code",
            "execution_count": 23,
            "id": "5cce1bb2-347f-4e26-a137-23d8405e68e1",
            "metadata": {
                "collapsed": true,
                "jupyter": {
                    "outputs_hidden": true
                },
                "tags": []
            },
            "outputs": [],
            "source": [
                "exp_path = f'effnet_baseline/{cfg.exp_name}/'\n",
                "label_path = f'{full_path}/data/labels.json'\n",
                "state_dict_path = f\"{exp_path}/checkpoints/last.ckpt\"\n",
                "\n",
                "with open(label_path, 'r') as infile:\n",
                "    data = json.load(infile)\n",
                "\n",
                "torch.cuda.empty_cache()\n",
                "device = \"cuda\" if torch.cuda.is_available() else 'cpu'\n",
                "sd = get_state_dict(state_dict_path)\n",
                "model = model.eval().to(device)\n",
                "model.load_state_dict(sd)\n",
                "\n",
                "preds = []\n",
                "for i in tqdm(range(556)):\n",
                "    data = glob(f'{test_data}/{i}_*.wav')\n",
                "    df = pd.DataFrame(data, columns=['path'])\n",
                "    pred_ds = AudioDataset(df, mode='test', cfg=cfg)\n",
                "    pred_dl = DataLoader(pred_ds, shuffle=False, batch_size=cfg.batch_size, num_workers=cfg.num_workers)\n",
                "\n",
                "    df = pd.DataFrame(data, columns=['path'])\n",
                "    with torch.no_grad():\n",
                "        _preds = []\n",
                "        for batch in tqdm(pred_dl):\n",
                "            batch = batch_to_device(batch, device)\n",
                "            with torch.cuda.amp.autocast():\n",
                "                out = model(batch['wave'])\n",
                "                _preds += [out.cpu().numpy()]\n",
                "        _preds = np.vstack(_preds).mean(axis=0)\n",
                "        \n",
                "        preds.append(_preds)\n",
                "test_df['predicted_class_id']  = np.array(preds).argmax(axis=-1)\n",
                "torch.cuda.empty_cache()"
            ]
        },
        {
            "cell_type": "code",
            "execution_count": 24,
            "id": "bf99da39-f3e0-4d40-a612-ae646d7f09b7",
            "metadata": {
                "tags": []
            },
            "outputs": [],
            "source": [
                "test_df[['file_name', 'predicted_class_id']].to_csv(f'{exp_path}/submission_predictions_full.csv', index=False)"
            ]
        },
        {
            "cell_type": "code",
            "execution_count": 25,
            "id": "f326bab4-a42b-4790-add2-43443334534b",
            "metadata": {
                "tags": []
            },
            "outputs": [],
            "source": [
                "test_df"
            ]
        },
        {
            "cell_type": "code",
            "execution_count": 9,
            "id": "378b786c-c5b8-482d-8412-ed846c8cbb93",
            "metadata": {
                "tags": []
            },
            "outputs": [],
            "source": [
                "df_metadata = df_metadata[df_metadata['subset']=='train']"
            ]
        },
        {
            "cell_type": "code",
            "execution_count": 11,
            "id": "38050270-62a5-485c-9882-294810f94451",
            "metadata": {
                "tags": []
            },
            "outputs": [],
            "source": [
                "ad = AudioDataset(df_metadata)\n",
                "ad.setup()"
            ]
        },
        {
            "cell_type": "code",
            "execution_count": 14,
            "id": "47483acd-814b-41a6-815c-37aedd7b4401",
            "metadata": {
                "tags": []
            },
            "outputs": [],
            "source": [
                "weights"
            ]
        },
        {
            "cell_type": "code",
            "execution_count": 13,
            "id": "e0f1f7b1-aba8-40ce-ace8-0f06744904c7",
            "metadata": {
                "tags": []
            },
            "outputs": [],
            "source": [
                "weights = ad.labels.sum()/ad.labels.sum(axis=0)"
            ]
        },
        {
            "cell_type": "code",
            "execution_count": 16,
            "id": "8b05307b-37a3-418d-86c1-697d8c0e5ca8",
            "metadata": {
                "tags": []
            },
            "outputs": [],
            "source": [
                "loss_fn = nn.BCEWithLogitsLoss(reduction=\"none\")"
            ]
        },
        {
            "cell_type": "code",
            "execution_count": 15,
            "id": "e90d0cb4-175f-407f-a65c-1858fe4fa87c",
            "metadata": {
                "tags": []
            },
            "outputs": [],
            "source": [
                "np.save('class_weights.npy', weights)"
            ]
        },
        {
            "cell_type": "code",
            "execution_count": 25,
            "id": "f0075dcb-5301-451f-b2e5-b26c84bceb4e",
            "metadata": {
                "tags": []
            },
            "outputs": [],
            "source": []
        },
        {
            "cell_type": "code",
            "execution_count": 22,
            "id": "1d04742f-bacb-4d7e-b01a-94e609903ce8",
            "metadata": {
                "tags": []
            },
            "outputs": [],
            "source": [
                "torch.sum(ad.labels - test)"
            ]
        },
        {
            "cell_type": "code",
            "execution_count": null,
            "id": "15f93288-00f1-43d9-a3d4-6ea4fcb91c13",
            "metadata": {},
            "outputs": [],
            "source": [
                "# wave, sample_rate = torchaudio.load(f'../../data/train/Roeselianaroeselii_XC751814-dat028-019_edit1.wav')\n",
                "# wave = wave[0] # only one channel\n",
                "# wave = wave[0:cfg.wav_crop_len*sample_rate]\n",
                "# from custom.utils import Compose, OneOf, NoiseInjection, GaussianNoise, PinkNoise\n",
                "# wave_transforms = Compose(\n",
                "#                 [OneOf(\n",
                "#                     [NoiseInjection(p=1, max_noise_level=0.04),\n",
                "#                      GaussianNoise(p=1, min_snr=5, max_snr=20),\n",
                "#                      PinkNoise(p=1, min_snr=5, max_snr=20)],\n",
                "#                     p=1),\n",
                "#                 ]\n",
                "#             )\n",
                "# test = [wave_transforms(wave, sample_rate) for i in range(10)]"
            ]
        },
        {
            "cell_type": "code",
            "execution_count": 8,
            "id": "82282396-fddb-46e4-b2d8-82883dad3128",
            "metadata": {
                "tags": []
            },
            "outputs": [],
            "source": [
                "wave, sample_rate = torchaudio.load(f'../../data/preprocess/train/Tettigoniaviridissima_XC752199-dat117-023_chunk20.wav')\n",
                "wave = wave[0] # only one channel"
            ]
        },
        {
            "cell_type": "code",
            "execution_count": 9,
            "id": "66583020-b9a7-4eb7-8a8b-2a713b234c7c",
            "metadata": {
                "tags": []
            },
            "outputs": [],
            "source": [
                "wave.shape[0]/sample_rate"
            ]
        },
        {
            "cell_type": "code",
            "execution_count": 8,
            "id": "0d9a8f44-0575-4c44-999b-f02e8e1dfff9",
            "metadata": {
                "tags": []
            },
            "outputs": [],
            "source": [
                "from IPython.display import Audio # for listening to our insects"
            ]
        },
        {
            "cell_type": "code",
            "execution_count": 9,
            "id": "cfd641fe-e63b-4768-86ca-12703c0b3000",
            "metadata": {
                "tags": []
            },
            "outputs": [],
            "source": [
                "Audio(f'../../data/preprocess/train/Roeselianaroeselii_XC751814-dat028-019_edit1_chunk1.wav')"
            ]
        },
        {
            "cell_type": "code",
            "execution_count": 14,
            "id": "2a20e235-d899-4831-868f-0c23bfd2eb4d",
            "metadata": {
                "tags": []
            },
            "outputs": [],
            "source": [
                "from glob import glob\n",
                "\n",
                "irs = \")"
            ]
        },
        {
            "cell_type": "code",
            "execution_count": 15,
            "id": "db070a43-7bbe-43d9-92d2-e4f1723b0ed8",
            "metadata": {
                "collapsed": true,
                "jupyter": {
                    "outputs_hidden": true
                },
                "tags": []
            },
            "outputs": [],
            "source": [
                "irs"
            ]
        },
        {
            "cell_type": "code",
            "execution_count": 16,
            "id": "4720eba5-5f93-4703-9482-48d0258535da",
            "metadata": {
                "tags": []
            },
            "outputs": [],
            "source": [
                "impulse = ApplyImpulseResponse(p=0.7, p_mode=\"per_example\", sample_rate=sample_rate, mode=\"per_example\",\n",
                "                                            compensate_for_propagation_delay=True, ir_paths=irs)"
            ]
        },
        {
            "cell_type": "code",
            "execution_count": 44,
            "id": "c5707dcd-7935-4e30-af5e-042abad9197b",
            "metadata": {
                "tags": []
            },
            "outputs": [],
            "source": [
                "aug.view(0, -1).shape"
            ]
        },
        {
            "cell_type": "code",
            "execution_count": 37,
            "id": "307af38a-b452-4b19-a17a-0c68e9d319c3",
            "metadata": {
                "tags": []
            },
            "outputs": [],
            "source": [
                "aug = impulse(wave.view(1, 1, -1))\n",
                "import soundfile as sf\n",
                "sf.write('test.wav', aug[0][0].numpy(), sample_rate) \n",
                "Audio(f'test.wav')"
            ]
        },
        {
            "cell_type": "code",
            "execution_count": 36,
            "id": "a4a1810f-4e8c-429b-8227-f2124909f546",
            "metadata": {
                "tags": []
            },
            "outputs": [],
            "source": []
        },
        {
            "cell_type": "code",
            "execution_count": 26,
            "id": "1f6d4851-cdd3-4173-9be8-54feeb8c5674",
            "metadata": {
                "tags": []
            },
            "outputs": [],
            "source": [
                "from eda_utils import plot_waveform"
            ]
        },
        {
            "cell_type": "code",
            "execution_count": 34,
            "id": "550c0a32-0adf-4e84-a2c7-98d8d63b456d",
            "metadata": {
                "tags": []
            },
            "outputs": [],
            "source": [
                "plot_waveform('test.wav')"
            ]
        },
        {
            "cell_type": "code",
            "execution_count": 35,
            "id": "e0ed79e5-1e42-426a-baed-e0e0a19c8336",
            "metadata": {
                "tags": []
            },
            "outputs": [],
            "source": [
                "plot_waveform(f'../../data/preprocess/train/Roeselianaroeselii_XC751814-dat028-019_edit1_chunk1.wav', time=15)"
            ]
        },
        {
            "cell_type": "code",
            "execution_count": null,
            "id": "6f1fd3ea-2cf1-4bff-97c7-684693ec9f71",
            "metadata": {},
            "outputs": [],
            "source": []
        }
    ],
    "metadata": {
        "availableInstances": [
            {
                "_defaultOrder": 0,
                "_isFastLaunch": true,
                "category": "General purpose",
                "gpuNum": 0,
                "hideHardwareSpecs": false,
                "memoryGiB": 4,
                "name": "ml.t3.medium",
                "vcpuNum": 2
            },
            {
                "_defaultOrder": 1,
                "_isFastLaunch": false,
                "category": "General purpose",
                "gpuNum": 0,
                "hideHardwareSpecs": false,
                "memoryGiB": 8,
                "name": "ml.t3.large",
                "vcpuNum": 2
            },
            {
                "_defaultOrder": 2,
                "_isFastLaunch": false,
                "category": "General purpose",
                "gpuNum": 0,
                "hideHardwareSpecs": false,
                "memoryGiB": 16,
                "name": "ml.t3.xlarge",
                "vcpuNum": 4
            },
            {
                "_defaultOrder": 3,
                "_isFastLaunch": false,
                "category": "General purpose",
                "gpuNum": 0,
                "hideHardwareSpecs": false,
                "memoryGiB": 32,
                "name": "ml.t3.2xlarge",
                "vcpuNum": 8
            },
            {
                "_defaultOrder": 4,
                "_isFastLaunch": true,
                "category": "General purpose",
                "gpuNum": 0,
                "hideHardwareSpecs": false,
                "memoryGiB": 8,
                "name": "ml.m5.large",
                "vcpuNum": 2
            },
            {
                "_defaultOrder": 5,
                "_isFastLaunch": false,
                "category": "General purpose",
                "gpuNum": 0,
                "hideHardwareSpecs": false,
                "memoryGiB": 16,
                "name": "ml.m5.xlarge",
                "vcpuNum": 4
            },
            {
                "_defaultOrder": 6,
                "_isFastLaunch": false,
                "category": "General purpose",
                "gpuNum": 0,
                "hideHardwareSpecs": false,
                "memoryGiB": 32,
                "name": "ml.m5.2xlarge",
                "vcpuNum": 8
            },
            {
                "_defaultOrder": 7,
                "_isFastLaunch": false,
                "category": "General purpose",
                "gpuNum": 0,
                "hideHardwareSpecs": false,
                "memoryGiB": 64,
                "name": "ml.m5.4xlarge",
                "vcpuNum": 16
            },
            {
                "_defaultOrder": 8,
                "_isFastLaunch": false,
                "category": "General purpose",
                "gpuNum": 0,
                "hideHardwareSpecs": false,
                "memoryGiB": 128,
                "name": "ml.m5.8xlarge",
                "vcpuNum": 32
            },
            {
                "_defaultOrder": 9,
                "_isFastLaunch": false,
                "category": "General purpose",
                "gpuNum": 0,
                "hideHardwareSpecs": false,
                "memoryGiB": 192,
                "name": "ml.m5.12xlarge",
                "vcpuNum": 48
            },
            {
                "_defaultOrder": 10,
                "_isFastLaunch": false,
                "category": "General purpose",
                "gpuNum": 0,
                "hideHardwareSpecs": false,
                "memoryGiB": 256,
                "name": "ml.m5.16xlarge",
                "vcpuNum": 64
            },
            {
                "_defaultOrder": 11,
                "_isFastLaunch": false,
                "category": "General purpose",
                "gpuNum": 0,
                "hideHardwareSpecs": false,
                "memoryGiB": 384,
                "name": "ml.m5.24xlarge",
                "vcpuNum": 96
            },
            {
                "_defaultOrder": 12,
                "_isFastLaunch": false,
                "category": "General purpose",
                "gpuNum": 0,
                "hideHardwareSpecs": false,
                "memoryGiB": 8,
                "name": "ml.m5d.large",
                "vcpuNum": 2
            },
            {
                "_defaultOrder": 13,
                "_isFastLaunch": false,
                "category": "General purpose",
                "gpuNum": 0,
                "hideHardwareSpecs": false,
                "memoryGiB": 16,
                "name": "ml.m5d.xlarge",
                "vcpuNum": 4
            },
            {
                "_defaultOrder": 14,
                "_isFastLaunch": false,
                "category": "General purpose",
                "gpuNum": 0,
                "hideHardwareSpecs": false,
                "memoryGiB": 32,
                "name": "ml.m5d.2xlarge",
                "vcpuNum": 8
            },
            {
                "_defaultOrder": 15,
                "_isFastLaunch": false,
                "category": "General purpose",
                "gpuNum": 0,
                "hideHardwareSpecs": false,
                "memoryGiB": 64,
                "name": "ml.m5d.4xlarge",
                "vcpuNum": 16
            },
            {
                "_defaultOrder": 16,
                "_isFastLaunch": false,
                "category": "General purpose",
                "gpuNum": 0,
                "hideHardwareSpecs": false,
                "memoryGiB": 128,
                "name": "ml.m5d.8xlarge",
                "vcpuNum": 32
            },
            {
                "_defaultOrder": 17,
                "_isFastLaunch": false,
                "category": "General purpose",
                "gpuNum": 0,
                "hideHardwareSpecs": false,
                "memoryGiB": 192,
                "name": "ml.m5d.12xlarge",
                "vcpuNum": 48
            },
            {
                "_defaultOrder": 18,
                "_isFastLaunch": false,
                "category": "General purpose",
                "gpuNum": 0,
                "hideHardwareSpecs": false,
                "memoryGiB": 256,
                "name": "ml.m5d.16xlarge",
                "vcpuNum": 64
            },
            {
                "_defaultOrder": 19,
                "_isFastLaunch": false,
                "category": "General purpose",
                "gpuNum": 0,
                "hideHardwareSpecs": false,
                "memoryGiB": 384,
                "name": "ml.m5d.24xlarge",
                "vcpuNum": 96
            },
            {
                "_defaultOrder": 20,
                "_isFastLaunch": false,
                "category": "General purpose",
                "gpuNum": 0,
                "hideHardwareSpecs": true,
                "memoryGiB": 0,
                "name": "ml.geospatial.interactive",
                "supportedImageNames": [
                    "sagemaker-geospatial-v1-0"
                ],
                "vcpuNum": 0
            },
            {
                "_defaultOrder": 21,
                "_isFastLaunch": true,
                "category": "Compute optimized",
                "gpuNum": 0,
                "hideHardwareSpecs": false,
                "memoryGiB": 4,
                "name": "ml.c5.large",
                "vcpuNum": 2
            },
            {
                "_defaultOrder": 22,
                "_isFastLaunch": false,
                "category": "Compute optimized",
                "gpuNum": 0,
                "hideHardwareSpecs": false,
                "memoryGiB": 8,
                "name": "ml.c5.xlarge",
                "vcpuNum": 4
            },
            {
                "_defaultOrder": 23,
                "_isFastLaunch": false,
                "category": "Compute optimized",
                "gpuNum": 0,
                "hideHardwareSpecs": false,
                "memoryGiB": 16,
                "name": "ml.c5.2xlarge",
                "vcpuNum": 8
            },
            {
                "_defaultOrder": 24,
                "_isFastLaunch": false,
                "category": "Compute optimized",
                "gpuNum": 0,
                "hideHardwareSpecs": false,
                "memoryGiB": 32,
                "name": "ml.c5.4xlarge",
                "vcpuNum": 16
            },
            {
                "_defaultOrder": 25,
                "_isFastLaunch": false,
                "category": "Compute optimized",
                "gpuNum": 0,
                "hideHardwareSpecs": false,
                "memoryGiB": 72,
                "name": "ml.c5.9xlarge",
                "vcpuNum": 36
            },
            {
                "_defaultOrder": 26,
                "_isFastLaunch": false,
                "category": "Compute optimized",
                "gpuNum": 0,
                "hideHardwareSpecs": false,
                "memoryGiB": 96,
                "name": "ml.c5.12xlarge",
                "vcpuNum": 48
            },
            {
                "_defaultOrder": 27,
                "_isFastLaunch": false,
                "category": "Compute optimized",
                "gpuNum": 0,
                "hideHardwareSpecs": false,
                "memoryGiB": 144,
                "name": "ml.c5.18xlarge",
                "vcpuNum": 72
            },
            {
                "_defaultOrder": 28,
                "_isFastLaunch": false,
                "category": "Compute optimized",
                "gpuNum": 0,
                "hideHardwareSpecs": false,
                "memoryGiB": 192,
                "name": "ml.c5.24xlarge",
                "vcpuNum": 96
            },
            {
                "_defaultOrder": 29,
                "_isFastLaunch": true,
                "category": "Accelerated computing",
                "gpuNum": 1,
                "hideHardwareSpecs": false,
                "memoryGiB": 16,
                "name": "ml.g4dn.xlarge",
                "vcpuNum": 4
            },
            {
                "_defaultOrder": 30,
                "_isFastLaunch": false,
                "category": "Accelerated computing",
                "gpuNum": 1,
                "hideHardwareSpecs": false,
                "memoryGiB": 32,
                "name": "ml.g4dn.2xlarge",
                "vcpuNum": 8
            },
            {
                "_defaultOrder": 31,
                "_isFastLaunch": false,
                "category": "Accelerated computing",
                "gpuNum": 1,
                "hideHardwareSpecs": false,
                "memoryGiB": 64,
                "name": "ml.g4dn.4xlarge",
                "vcpuNum": 16
            },
            {
                "_defaultOrder": 32,
                "_isFastLaunch": false,
                "category": "Accelerated computing",
                "gpuNum": 1,
                "hideHardwareSpecs": false,
                "memoryGiB": 128,
                "name": "ml.g4dn.8xlarge",
                "vcpuNum": 32
            },
            {
                "_defaultOrder": 33,
                "_isFastLaunch": false,
                "category": "Accelerated computing",
                "gpuNum": 4,
                "hideHardwareSpecs": false,
                "memoryGiB": 192,
                "name": "ml.g4dn.12xlarge",
                "vcpuNum": 48
            },
            {
                "_defaultOrder": 34,
                "_isFastLaunch": false,
                "category": "Accelerated computing",
                "gpuNum": 1,
                "hideHardwareSpecs": false,
                "memoryGiB": 256,
                "name": "ml.g4dn.16xlarge",
                "vcpuNum": 64
            },
            {
                "_defaultOrder": 35,
                "_isFastLaunch": false,
                "category": "Accelerated computing",
                "gpuNum": 1,
                "hideHardwareSpecs": false,
                "memoryGiB": 61,
                "name": "ml.p3.2xlarge",
                "vcpuNum": 8
            },
            {
                "_defaultOrder": 36,
                "_isFastLaunch": false,
                "category": "Accelerated computing",
                "gpuNum": 4,
                "hideHardwareSpecs": false,
                "memoryGiB": 244,
                "name": "ml.p3.8xlarge",
                "vcpuNum": 32
            },
            {
                "_defaultOrder": 37,
                "_isFastLaunch": false,
                "category": "Accelerated computing",
                "gpuNum": 8,
                "hideHardwareSpecs": false,
                "memoryGiB": 488,
                "name": "ml.p3.16xlarge",
                "vcpuNum": 64
            },
            {
                "_defaultOrder": 38,
                "_isFastLaunch": false,
                "category": "Accelerated computing",
                "gpuNum": 8,
                "hideHardwareSpecs": false,
                "memoryGiB": 768,
                "name": "ml.p3dn.24xlarge",
                "vcpuNum": 96
            },
            {
                "_defaultOrder": 39,
                "_isFastLaunch": false,
                "category": "Memory Optimized",
                "gpuNum": 0,
                "hideHardwareSpecs": false,
                "memoryGiB": 16,
                "name": "ml.r5.large",
                "vcpuNum": 2
            },
            {
                "_defaultOrder": 40,
                "_isFastLaunch": false,
                "category": "Memory Optimized",
                "gpuNum": 0,
                "hideHardwareSpecs": false,
                "memoryGiB": 32,
                "name": "ml.r5.xlarge",
                "vcpuNum": 4
            },
            {
                "_defaultOrder": 41,
                "_isFastLaunch": false,
                "category": "Memory Optimized",
                "gpuNum": 0,
                "hideHardwareSpecs": false,
                "memoryGiB": 64,
                "name": "ml.r5.2xlarge",
                "vcpuNum": 8
            },
            {
                "_defaultOrder": 42,
                "_isFastLaunch": false,
                "category": "Memory Optimized",
                "gpuNum": 0,
                "hideHardwareSpecs": false,
                "memoryGiB": 128,
                "name": "ml.r5.4xlarge",
                "vcpuNum": 16
            },
            {
                "_defaultOrder": 43,
                "_isFastLaunch": false,
                "category": "Memory Optimized",
                "gpuNum": 0,
                "hideHardwareSpecs": false,
                "memoryGiB": 256,
                "name": "ml.r5.8xlarge",
                "vcpuNum": 32
            },
            {
                "_defaultOrder": 44,
                "_isFastLaunch": false,
                "category": "Memory Optimized",
                "gpuNum": 0,
                "hideHardwareSpecs": false,
                "memoryGiB": 384,
                "name": "ml.r5.12xlarge",
                "vcpuNum": 48
            },
            {
                "_defaultOrder": 45,
                "_isFastLaunch": false,
                "category": "Memory Optimized",
                "gpuNum": 0,
                "hideHardwareSpecs": false,
                "memoryGiB": 512,
                "name": "ml.r5.16xlarge",
                "vcpuNum": 64
            },
            {
                "_defaultOrder": 46,
                "_isFastLaunch": false,
                "category": "Memory Optimized",
                "gpuNum": 0,
                "hideHardwareSpecs": false,
                "memoryGiB": 768,
                "name": "ml.r5.24xlarge",
                "vcpuNum": 96
            },
            {
                "_defaultOrder": 47,
                "_isFastLaunch": false,
                "category": "Accelerated computing",
                "gpuNum": 1,
                "hideHardwareSpecs": false,
                "memoryGiB": 16,
                "name": "ml.g5.xlarge",
                "vcpuNum": 4
            },
            {
                "_defaultOrder": 48,
                "_isFastLaunch": false,
                "category": "Accelerated computing",
                "gpuNum": 1,
                "hideHardwareSpecs": false,
                "memoryGiB": 32,
                "name": "ml.g5.2xlarge",
                "vcpuNum": 8
            },
            {
                "_defaultOrder": 49,
                "_isFastLaunch": false,
                "category": "Accelerated computing",
                "gpuNum": 1,
                "hideHardwareSpecs": false,
                "memoryGiB": 64,
                "name": "ml.g5.4xlarge",
                "vcpuNum": 16
            },
            {
                "_defaultOrder": 50,
                "_isFastLaunch": false,
                "category": "Accelerated computing",
                "gpuNum": 1,
                "hideHardwareSpecs": false,
                "memoryGiB": 128,
                "name": "ml.g5.8xlarge",
                "vcpuNum": 32
            },
            {
                "_defaultOrder": 51,
                "_isFastLaunch": false,
                "category": "Accelerated computing",
                "gpuNum": 1,
                "hideHardwareSpecs": false,
                "memoryGiB": 256,
                "name": "ml.g5.16xlarge",
                "vcpuNum": 64
            },
            {
                "_defaultOrder": 52,
                "_isFastLaunch": false,
                "category": "Accelerated computing",
                "gpuNum": 4,
                "hideHardwareSpecs": false,
                "memoryGiB": 192,
                "name": "ml.g5.12xlarge",
                "vcpuNum": 48
            },
            {
                "_defaultOrder": 53,
                "_isFastLaunch": false,
                "category": "Accelerated computing",
                "gpuNum": 4,
                "hideHardwareSpecs": false,
                "memoryGiB": 384,
                "name": "ml.g5.24xlarge",
                "vcpuNum": 96
            },
            {
                "_defaultOrder": 54,
                "_isFastLaunch": false,
                "category": "Accelerated computing",
                "gpuNum": 8,
                "hideHardwareSpecs": false,
                "memoryGiB": 768,
                "name": "ml.g5.48xlarge",
                "vcpuNum": 192
            },
            {
                "_defaultOrder": 55,
                "_isFastLaunch": false,
                "category": "Accelerated computing",
                "gpuNum": 8,
                "hideHardwareSpecs": false,
                "memoryGiB": 1152,
                "name": "ml.p4d.24xlarge",
                "vcpuNum": 96
            },
            {
                "_defaultOrder": 56,
                "_isFastLaunch": false,
                "category": "Accelerated computing",
                "gpuNum": 8,
                "hideHardwareSpecs": false,
                "memoryGiB": 1152,
                "name": "ml.p4de.24xlarge",
                "vcpuNum": 96
            }
        ],
        "instance_type": "ml.t3.medium",
        "kernelspec": {
            "display_name": "GDSC (custom-gdsc/1)",
            "language": "python",
            "name": "python3__SAGEMAKER_INTERNAL__arn:aws:sagemaker:us-east-1:821562550650:image-version/custom-gdsc/1"
        },
        "language_info": {
            "codemirror_mode": {
                "name": "ipython",
                "version": 3
            },
            "file_extension": ".py",
            "mimetype": "text/x-python",
            "name": "python",
            "nbconvert_exporter": "python",
            "pygments_lexer": "ipython3",
            "version": "3.10.8"
        },
        "lcc_arn": "arn:aws:sagemaker:us-east-1:821562550650:studio-lifecycle-config/clean-trash"
    },
    "nbformat": 4,
    "nbformat_minor": 5
}