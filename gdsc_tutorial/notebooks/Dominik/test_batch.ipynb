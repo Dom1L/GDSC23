{
    "cells": [
        {
            "cell_type": "code",
            "execution_count": 2,
            "id": "917a74b7-c6a2-4449-a3ad-4279a13ca911",
            "metadata": {
                "collapsed": true,
                "jupyter": {
                    "outputs_hidden": true
                },
                "tags": []
            },
            "outputs": [],
            "source": [
                "%pip install -r ../../requirements.txt"
            ]
        },
        {
            "cell_type": "code",
            "execution_count": 37,
            "id": "0baf124c-3ff5-4b6e-b23c-e0f59d3ef212",
            "metadata": {
                "tags": []
            },
            "outputs": [],
            "source": [
                "import json\n",
                "import sys\n",
                "from types import SimpleNamespace\n",
                "from glob import glob\n",
                "import ntpath\n",
                "\n",
                "import torch\n",
                "import numpy as np\n",
                "import pandas as pd\n",
                "from tqdm import tqdm\n",
                "from sklearn import metrics\n",
                "import seaborn as sns\n",
                "import matplotlib.pyplot as plt\n",
                "from torch.utils.data import DataLoader\n",
                "import librosa\n",
                "\n",
                "sys.path.append('../../src')\n",
                "\n",
                "from Lucas_custom.data import AudioDataset, DataModule\n",
                "from Lucas_custom.trainer import TrainModule\n",
                "from Lucas_custom.net import SimpleCNN\n",
                "from Lucas_custom.utils import batch_to_device, get_state_dict, get_min_max, min_max_norm\n",
                "from Lucas_custom.eval import inference_k_random, error_analysis\n",
                "\n",
                "from custom.utils import Mixup\n",
                "\n",
                "\n",
                "%load_ext autoreload\n",
                "%autoreload 2\n",
                "\n",
                "full_path = '../../'"
            ]
        },
        {
            "cell_type": "code",
            "execution_count": 20,
            "id": "a58a7fae-86d1-4488-b423-3001351d13f9",
            "metadata": {
                "tags": []
            },
            "outputs": [],
            "source": [
                "def collate_fn(batch):\n",
                "    return {\n",
                "      'wave': torch.stack([x['wave'] for x in batch]),\n",
                "      'labels': torch.stack([x['labels'] for x in batch])\n",
                "    }"
            ]
        },
        {
            "cell_type": "code",
            "execution_count": 65,
            "id": "01dab56f-17e5-4750-9f02-c721b8dbe6b8",
            "metadata": {
                "tags": []
            },
            "outputs": [],
            "source": [
                "cfg = SimpleNamespace()\n",
                "\n",
                "cfg.wav_crop_len = 5\n",
                "\n",
                "cfg.n_classes = 66\n",
                "cfg.pretrained = True\n",
                "cfg.backbone = 'tf_efficientnetv2_s.in21k'\n",
                "cfg.in_chans = 1\n",
                "cfg.num_workers = 4\n",
                "cfg.include_val = False\n",
                "cfg.max_amp = False\n",
                "\n",
                "cfg.batch_size = 32\n",
                "cfg.sample_rate = 44100\n",
                "\n",
                "# Mel Spectogram Hyperparameters\n",
                "cfg.n_mels = 128\n",
                "cfg.n_fft = 2048\n",
                "cfg.fmin = 300\n",
                "cfg.fmax = cfg.sample_rate / 2 \n",
                "cfg.window_size = cfg.n_fft\n",
                "cfg.hop_length = int(cfg.n_fft / 2)\n",
                "cfg.power = 2\n",
                "cfg.top_db = 80.0\n",
                "\n",
                "# Norm\n",
                "cfg.mel_normalized = True\n",
                "cfg.minmax_norm = False\n",
                "\n",
                "# Augmentation Parameters\n",
                "cfg.impulse_prob = 0.2\n",
                "cfg.noise_prob = 0.2\n",
                "cfg.mixup = False\n",
                "cfg.specaug = False\n",
                "cfg.specaug_prob = 0.25\n",
                "cfg.mixup_prob = 1\n",
                "cfg.max_noise = 0.04\n",
                "cfg.min_snr = 5\n",
                "cfg.max_snr = 20"
            ]
        },
        {
            "cell_type": "code",
            "execution_count": 66,
            "id": "34cfeee1-4087-4633-a03a-b03dd79b1e52",
            "metadata": {
                "tags": []
            },
            "outputs": [],
            "source": [
                "df = pd.read_csv(f\"../../data/metadata.csv\")\n",
                "df['path'] = df['path'].apply(lambda x: f'{full_path}/{x}')"
            ]
        },
        {
            "cell_type": "code",
            "execution_count": 67,
            "id": "13eae9a1-f006-4ec1-9476-5761ce65e57c",
            "metadata": {
                "tags": []
            },
            "outputs": [],
            "source": [
                "model = SimpleCNN(cfg).eval()"
            ]
        },
        {
            "cell_type": "code",
            "execution_count": 68,
            "id": "b8bc3387-5139-4014-bd3c-c575a1b2ef82",
            "metadata": {
                "tags": []
            },
            "outputs": [],
            "source": [
                "pred_ds = AudioDataset(df.iloc[[10]], mode='val', cfg=cfg)\n",
                "pred_ds1 = AudioDataset(df.iloc[[10, *np.random.randint(0, 100, size=32)]], mode='val', cfg=cfg)\n",
                "pred_ds2 = AudioDataset(df.iloc[[10, *np.random.randint(0, 100, size=10)]], mode='val', cfg=cfg)\n",
                "\n",
                "b1 = collate_fn([pred_ds.__getitem__(i) for i in range(len(pred_ds))])\n",
                "b2 = collate_fn([pred_ds1.__getitem__(i) for i in range(len(pred_ds1))])\n",
                "b3 = collate_fn([pred_ds2.__getitem__(i) for i in range(len(pred_ds2))])\n",
                "\n",
                "print('batch x channels x time')\n",
                "print('Sum(abs(batch1-batch2))')\n",
                "\n",
                "imgbatch = model.wav2img(b1['wave'][:, None, :])\n",
                "imgbatch2 = model.wav2img(b2['wave'][:, None, :])\n",
                "imgbatch3 = model.wav2img(b3['wave'][:, None, :])\n",
                "print(torch.sum(torch.abs(imgbatch[0]-imgbatch3[0])))\n",
                "print(torch.sum(torch.abs(imgbatch[0]-imgbatch2[0])))\n",
                "print(torch.sum(torch.abs(imgbatch2[0]-imgbatch3[0])))"
            ]
        },
        {
            "cell_type": "code",
            "execution_count": 69,
            "id": "6e97b356-e94d-4529-936c-7d3b3890b884",
            "metadata": {
                "tags": []
            },
            "outputs": [],
            "source": [
                "mixup_prob = 0.5\n",
                "mixup = Mixup(mixup_prob)\n",
                "mbatch, mlabels = mixup(imgbatch2, b2['labels'])"
            ]
        },
        {
            "cell_type": "code",
            "execution_count": 73,
            "id": "ff31fea5-1f9d-4905-a173-afb0e1d594e3",
            "metadata": {
                "tags": []
            },
            "outputs": [],
            "source": [
                "b2['labels'][0]"
            ]
        },
        {
            "cell_type": "code",
            "execution_count": 72,
            "id": "43e7746d-50e9-4dcf-b59d-395cde4e7a11",
            "metadata": {
                "tags": []
            },
            "outputs": [],
            "source": [
                "mlabels[0]"
            ]
        },
        {
            "cell_type": "code",
            "execution_count": 74,
            "id": "95b3165a-ae7f-4b8b-aa31-5064019c6e3e",
            "metadata": {
                "tags": []
            },
            "outputs": [],
            "source": [
                "fig, ax = plt.subplots()\n",
                "img = librosa.display.specshow(imgbatch2[0, 0].numpy(), ax=ax)\n",
                "fig.colorbar(img, ax=ax)"
            ]
        },
        {
            "cell_type": "code",
            "execution_count": 75,
            "id": "7a4c4b9b-529c-4a0b-bb0b-37c25b436fbd",
            "metadata": {
                "tags": []
            },
            "outputs": [],
            "source": [
                "fig, ax = plt.subplots()\n",
                "img = librosa.display.specshow(mbatch[0, 0].numpy(), ax=ax)\n",
                "fig.colorbar(img, ax=ax)"
            ]
        },
        {
            "cell_type": "code",
            "execution_count": null,
            "id": "c07f92fe-e09f-49a8-b208-790ea84063e2",
            "metadata": {},
            "outputs": [],
            "source": []
        }
    ],
    "metadata": {
        "availableInstances": [
            {
                "_defaultOrder": 0,
                "_isFastLaunch": true,
                "category": "General purpose",
                "gpuNum": 0,
                "hideHardwareSpecs": false,
                "memoryGiB": 4,
                "name": "ml.t3.medium",
                "vcpuNum": 2
            },
            {
                "_defaultOrder": 1,
                "_isFastLaunch": false,
                "category": "General purpose",
                "gpuNum": 0,
                "hideHardwareSpecs": false,
                "memoryGiB": 8,
                "name": "ml.t3.large",
                "vcpuNum": 2
            },
            {
                "_defaultOrder": 2,
                "_isFastLaunch": false,
                "category": "General purpose",
                "gpuNum": 0,
                "hideHardwareSpecs": false,
                "memoryGiB": 16,
                "name": "ml.t3.xlarge",
                "vcpuNum": 4
            },
            {
                "_defaultOrder": 3,
                "_isFastLaunch": false,
                "category": "General purpose",
                "gpuNum": 0,
                "hideHardwareSpecs": false,
                "memoryGiB": 32,
                "name": "ml.t3.2xlarge",
                "vcpuNum": 8
            },
            {
                "_defaultOrder": 4,
                "_isFastLaunch": true,
                "category": "General purpose",
                "gpuNum": 0,
                "hideHardwareSpecs": false,
                "memoryGiB": 8,
                "name": "ml.m5.large",
                "vcpuNum": 2
            },
            {
                "_defaultOrder": 5,
                "_isFastLaunch": false,
                "category": "General purpose",
                "gpuNum": 0,
                "hideHardwareSpecs": false,
                "memoryGiB": 16,
                "name": "ml.m5.xlarge",
                "vcpuNum": 4
            },
            {
                "_defaultOrder": 6,
                "_isFastLaunch": false,
                "category": "General purpose",
                "gpuNum": 0,
                "hideHardwareSpecs": false,
                "memoryGiB": 32,
                "name": "ml.m5.2xlarge",
                "vcpuNum": 8
            },
            {
                "_defaultOrder": 7,
                "_isFastLaunch": false,
                "category": "General purpose",
                "gpuNum": 0,
                "hideHardwareSpecs": false,
                "memoryGiB": 64,
                "name": "ml.m5.4xlarge",
                "vcpuNum": 16
            },
            {
                "_defaultOrder": 8,
                "_isFastLaunch": false,
                "category": "General purpose",
                "gpuNum": 0,
                "hideHardwareSpecs": false,
                "memoryGiB": 128,
                "name": "ml.m5.8xlarge",
                "vcpuNum": 32
            },
            {
                "_defaultOrder": 9,
                "_isFastLaunch": false,
                "category": "General purpose",
                "gpuNum": 0,
                "hideHardwareSpecs": false,
                "memoryGiB": 192,
                "name": "ml.m5.12xlarge",
                "vcpuNum": 48
            },
            {
                "_defaultOrder": 10,
                "_isFastLaunch": false,
                "category": "General purpose",
                "gpuNum": 0,
                "hideHardwareSpecs": false,
                "memoryGiB": 256,
                "name": "ml.m5.16xlarge",
                "vcpuNum": 64
            },
            {
                "_defaultOrder": 11,
                "_isFastLaunch": false,
                "category": "General purpose",
                "gpuNum": 0,
                "hideHardwareSpecs": false,
                "memoryGiB": 384,
                "name": "ml.m5.24xlarge",
                "vcpuNum": 96
            },
            {
                "_defaultOrder": 12,
                "_isFastLaunch": false,
                "category": "General purpose",
                "gpuNum": 0,
                "hideHardwareSpecs": false,
                "memoryGiB": 8,
                "name": "ml.m5d.large",
                "vcpuNum": 2
            },
            {
                "_defaultOrder": 13,
                "_isFastLaunch": false,
                "category": "General purpose",
                "gpuNum": 0,
                "hideHardwareSpecs": false,
                "memoryGiB": 16,
                "name": "ml.m5d.xlarge",
                "vcpuNum": 4
            },
            {
                "_defaultOrder": 14,
                "_isFastLaunch": false,
                "category": "General purpose",
                "gpuNum": 0,
                "hideHardwareSpecs": false,
                "memoryGiB": 32,
                "name": "ml.m5d.2xlarge",
                "vcpuNum": 8
            },
            {
                "_defaultOrder": 15,
                "_isFastLaunch": false,
                "category": "General purpose",
                "gpuNum": 0,
                "hideHardwareSpecs": false,
                "memoryGiB": 64,
                "name": "ml.m5d.4xlarge",
                "vcpuNum": 16
            },
            {
                "_defaultOrder": 16,
                "_isFastLaunch": false,
                "category": "General purpose",
                "gpuNum": 0,
                "hideHardwareSpecs": false,
                "memoryGiB": 128,
                "name": "ml.m5d.8xlarge",
                "vcpuNum": 32
            },
            {
                "_defaultOrder": 17,
                "_isFastLaunch": false,
                "category": "General purpose",
                "gpuNum": 0,
                "hideHardwareSpecs": false,
                "memoryGiB": 192,
                "name": "ml.m5d.12xlarge",
                "vcpuNum": 48
            },
            {
                "_defaultOrder": 18,
                "_isFastLaunch": false,
                "category": "General purpose",
                "gpuNum": 0,
                "hideHardwareSpecs": false,
                "memoryGiB": 256,
                "name": "ml.m5d.16xlarge",
                "vcpuNum": 64
            },
            {
                "_defaultOrder": 19,
                "_isFastLaunch": false,
                "category": "General purpose",
                "gpuNum": 0,
                "hideHardwareSpecs": false,
                "memoryGiB": 384,
                "name": "ml.m5d.24xlarge",
                "vcpuNum": 96
            },
            {
                "_defaultOrder": 20,
                "_isFastLaunch": false,
                "category": "General purpose",
                "gpuNum": 0,
                "hideHardwareSpecs": true,
                "memoryGiB": 0,
                "name": "ml.geospatial.interactive",
                "supportedImageNames": [
                    "sagemaker-geospatial-v1-0"
                ],
                "vcpuNum": 0
            },
            {
                "_defaultOrder": 21,
                "_isFastLaunch": true,
                "category": "Compute optimized",
                "gpuNum": 0,
                "hideHardwareSpecs": false,
                "memoryGiB": 4,
                "name": "ml.c5.large",
                "vcpuNum": 2
            },
            {
                "_defaultOrder": 22,
                "_isFastLaunch": false,
                "category": "Compute optimized",
                "gpuNum": 0,
                "hideHardwareSpecs": false,
                "memoryGiB": 8,
                "name": "ml.c5.xlarge",
                "vcpuNum": 4
            },
            {
                "_defaultOrder": 23,
                "_isFastLaunch": false,
                "category": "Compute optimized",
                "gpuNum": 0,
                "hideHardwareSpecs": false,
                "memoryGiB": 16,
                "name": "ml.c5.2xlarge",
                "vcpuNum": 8
            },
            {
                "_defaultOrder": 24,
                "_isFastLaunch": false,
                "category": "Compute optimized",
                "gpuNum": 0,
                "hideHardwareSpecs": false,
                "memoryGiB": 32,
                "name": "ml.c5.4xlarge",
                "vcpuNum": 16
            },
            {
                "_defaultOrder": 25,
                "_isFastLaunch": false,
                "category": "Compute optimized",
                "gpuNum": 0,
                "hideHardwareSpecs": false,
                "memoryGiB": 72,
                "name": "ml.c5.9xlarge",
                "vcpuNum": 36
            },
            {
                "_defaultOrder": 26,
                "_isFastLaunch": false,
                "category": "Compute optimized",
                "gpuNum": 0,
                "hideHardwareSpecs": false,
                "memoryGiB": 96,
                "name": "ml.c5.12xlarge",
                "vcpuNum": 48
            },
            {
                "_defaultOrder": 27,
                "_isFastLaunch": false,
                "category": "Compute optimized",
                "gpuNum": 0,
                "hideHardwareSpecs": false,
                "memoryGiB": 144,
                "name": "ml.c5.18xlarge",
                "vcpuNum": 72
            },
            {
                "_defaultOrder": 28,
                "_isFastLaunch": false,
                "category": "Compute optimized",
                "gpuNum": 0,
                "hideHardwareSpecs": false,
                "memoryGiB": 192,
                "name": "ml.c5.24xlarge",
                "vcpuNum": 96
            },
            {
                "_defaultOrder": 29,
                "_isFastLaunch": true,
                "category": "Accelerated computing",
                "gpuNum": 1,
                "hideHardwareSpecs": false,
                "memoryGiB": 16,
                "name": "ml.g4dn.xlarge",
                "vcpuNum": 4
            },
            {
                "_defaultOrder": 30,
                "_isFastLaunch": false,
                "category": "Accelerated computing",
                "gpuNum": 1,
                "hideHardwareSpecs": false,
                "memoryGiB": 32,
                "name": "ml.g4dn.2xlarge",
                "vcpuNum": 8
            },
            {
                "_defaultOrder": 31,
                "_isFastLaunch": false,
                "category": "Accelerated computing",
                "gpuNum": 1,
                "hideHardwareSpecs": false,
                "memoryGiB": 64,
                "name": "ml.g4dn.4xlarge",
                "vcpuNum": 16
            },
            {
                "_defaultOrder": 32,
                "_isFastLaunch": false,
                "category": "Accelerated computing",
                "gpuNum": 1,
                "hideHardwareSpecs": false,
                "memoryGiB": 128,
                "name": "ml.g4dn.8xlarge",
                "vcpuNum": 32
            },
            {
                "_defaultOrder": 33,
                "_isFastLaunch": false,
                "category": "Accelerated computing",
                "gpuNum": 4,
                "hideHardwareSpecs": false,
                "memoryGiB": 192,
                "name": "ml.g4dn.12xlarge",
                "vcpuNum": 48
            },
            {
                "_defaultOrder": 34,
                "_isFastLaunch": false,
                "category": "Accelerated computing",
                "gpuNum": 1,
                "hideHardwareSpecs": false,
                "memoryGiB": 256,
                "name": "ml.g4dn.16xlarge",
                "vcpuNum": 64
            },
            {
                "_defaultOrder": 35,
                "_isFastLaunch": false,
                "category": "Accelerated computing",
                "gpuNum": 1,
                "hideHardwareSpecs": false,
                "memoryGiB": 61,
                "name": "ml.p3.2xlarge",
                "vcpuNum": 8
            },
            {
                "_defaultOrder": 36,
                "_isFastLaunch": false,
                "category": "Accelerated computing",
                "gpuNum": 4,
                "hideHardwareSpecs": false,
                "memoryGiB": 244,
                "name": "ml.p3.8xlarge",
                "vcpuNum": 32
            },
            {
                "_defaultOrder": 37,
                "_isFastLaunch": false,
                "category": "Accelerated computing",
                "gpuNum": 8,
                "hideHardwareSpecs": false,
                "memoryGiB": 488,
                "name": "ml.p3.16xlarge",
                "vcpuNum": 64
            },
            {
                "_defaultOrder": 38,
                "_isFastLaunch": false,
                "category": "Accelerated computing",
                "gpuNum": 8,
                "hideHardwareSpecs": false,
                "memoryGiB": 768,
                "name": "ml.p3dn.24xlarge",
                "vcpuNum": 96
            },
            {
                "_defaultOrder": 39,
                "_isFastLaunch": false,
                "category": "Memory Optimized",
                "gpuNum": 0,
                "hideHardwareSpecs": false,
                "memoryGiB": 16,
                "name": "ml.r5.large",
                "vcpuNum": 2
            },
            {
                "_defaultOrder": 40,
                "_isFastLaunch": false,
                "category": "Memory Optimized",
                "gpuNum": 0,
                "hideHardwareSpecs": false,
                "memoryGiB": 32,
                "name": "ml.r5.xlarge",
                "vcpuNum": 4
            },
            {
                "_defaultOrder": 41,
                "_isFastLaunch": false,
                "category": "Memory Optimized",
                "gpuNum": 0,
                "hideHardwareSpecs": false,
                "memoryGiB": 64,
                "name": "ml.r5.2xlarge",
                "vcpuNum": 8
            },
            {
                "_defaultOrder": 42,
                "_isFastLaunch": false,
                "category": "Memory Optimized",
                "gpuNum": 0,
                "hideHardwareSpecs": false,
                "memoryGiB": 128,
                "name": "ml.r5.4xlarge",
                "vcpuNum": 16
            },
            {
                "_defaultOrder": 43,
                "_isFastLaunch": false,
                "category": "Memory Optimized",
                "gpuNum": 0,
                "hideHardwareSpecs": false,
                "memoryGiB": 256,
                "name": "ml.r5.8xlarge",
                "vcpuNum": 32
            },
            {
                "_defaultOrder": 44,
                "_isFastLaunch": false,
                "category": "Memory Optimized",
                "gpuNum": 0,
                "hideHardwareSpecs": false,
                "memoryGiB": 384,
                "name": "ml.r5.12xlarge",
                "vcpuNum": 48
            },
            {
                "_defaultOrder": 45,
                "_isFastLaunch": false,
                "category": "Memory Optimized",
                "gpuNum": 0,
                "hideHardwareSpecs": false,
                "memoryGiB": 512,
                "name": "ml.r5.16xlarge",
                "vcpuNum": 64
            },
            {
                "_defaultOrder": 46,
                "_isFastLaunch": false,
                "category": "Memory Optimized",
                "gpuNum": 0,
                "hideHardwareSpecs": false,
                "memoryGiB": 768,
                "name": "ml.r5.24xlarge",
                "vcpuNum": 96
            },
            {
                "_defaultOrder": 47,
                "_isFastLaunch": false,
                "category": "Accelerated computing",
                "gpuNum": 1,
                "hideHardwareSpecs": false,
                "memoryGiB": 16,
                "name": "ml.g5.xlarge",
                "vcpuNum": 4
            },
            {
                "_defaultOrder": 48,
                "_isFastLaunch": false,
                "category": "Accelerated computing",
                "gpuNum": 1,
                "hideHardwareSpecs": false,
                "memoryGiB": 32,
                "name": "ml.g5.2xlarge",
                "vcpuNum": 8
            },
            {
                "_defaultOrder": 49,
                "_isFastLaunch": false,
                "category": "Accelerated computing",
                "gpuNum": 1,
                "hideHardwareSpecs": false,
                "memoryGiB": 64,
                "name": "ml.g5.4xlarge",
                "vcpuNum": 16
            },
            {
                "_defaultOrder": 50,
                "_isFastLaunch": false,
                "category": "Accelerated computing",
                "gpuNum": 1,
                "hideHardwareSpecs": false,
                "memoryGiB": 128,
                "name": "ml.g5.8xlarge",
                "vcpuNum": 32
            },
            {
                "_defaultOrder": 51,
                "_isFastLaunch": false,
                "category": "Accelerated computing",
                "gpuNum": 1,
                "hideHardwareSpecs": false,
                "memoryGiB": 256,
                "name": "ml.g5.16xlarge",
                "vcpuNum": 64
            },
            {
                "_defaultOrder": 52,
                "_isFastLaunch": false,
                "category": "Accelerated computing",
                "gpuNum": 4,
                "hideHardwareSpecs": false,
                "memoryGiB": 192,
                "name": "ml.g5.12xlarge",
                "vcpuNum": 48
            },
            {
                "_defaultOrder": 53,
                "_isFastLaunch": false,
                "category": "Accelerated computing",
                "gpuNum": 4,
                "hideHardwareSpecs": false,
                "memoryGiB": 384,
                "name": "ml.g5.24xlarge",
                "vcpuNum": 96
            },
            {
                "_defaultOrder": 54,
                "_isFastLaunch": false,
                "category": "Accelerated computing",
                "gpuNum": 8,
                "hideHardwareSpecs": false,
                "memoryGiB": 768,
                "name": "ml.g5.48xlarge",
                "vcpuNum": 192
            },
            {
                "_defaultOrder": 55,
                "_isFastLaunch": false,
                "category": "Accelerated computing",
                "gpuNum": 8,
                "hideHardwareSpecs": false,
                "memoryGiB": 1152,
                "name": "ml.p4d.24xlarge",
                "vcpuNum": 96
            },
            {
                "_defaultOrder": 56,
                "_isFastLaunch": false,
                "category": "Accelerated computing",
                "gpuNum": 8,
                "hideHardwareSpecs": false,
                "memoryGiB": 1152,
                "name": "ml.p4de.24xlarge",
                "vcpuNum": 96
            }
        ],
        "instance_type": "ml.m5.large",
        "kernelspec": {
            "display_name": "GDSC (custom-gdsc/1)",
            "language": "python",
            "name": "python3__SAGEMAKER_INTERNAL__arn:aws:sagemaker:us-east-1:821562550650:image-version/custom-gdsc/1"
        },
        "language_info": {
            "codemirror_mode": {
                "name": "ipython",
                "version": 3
            },
            "file_extension": ".py",
            "mimetype": "text/x-python",
            "name": "python",
            "nbconvert_exporter": "python",
            "pygments_lexer": "ipython3",
            "version": "3.10.8"
        },
        "lcc_arn": "arn:aws:sagemaker:us-east-1:821562550650:studio-lifecycle-config/clean-trash"
    },
    "nbformat": 4,
    "nbformat_minor": 5
}