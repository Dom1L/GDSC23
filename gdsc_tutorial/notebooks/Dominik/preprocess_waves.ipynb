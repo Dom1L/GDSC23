{
    "cells": [
        {
            "cell_type": "code",
            "execution_count": 29,
            "id": "76479bf7-5ac1-4fc3-9a91-5740f910ada2",
            "metadata": {
                "tags": []
            },
            "outputs": [],
            "source": [
                "import os\n",
                "from glob import glob\n",
                "import ntpath\n",
                "import shutil\n",
                "\n",
                "import pandas as pd\n",
                "import librosa\n",
                "import soundfile as sf\n",
                "from tqdm import tqdm\n",
                "import numpy as np"
            ]
        },
        {
            "cell_type": "code",
            "execution_count": 30,
            "id": "1b539f11-8280-4121-bd14-bf29ef5db1e8",
            "metadata": {
                "tags": []
            },
            "outputs": [],
            "source": [
                "def preprocess_audio(wave_paths, sample_rate, sample_buffer, out_path):\n",
                "    for filename in tqdm(wave_paths):                    \n",
                "        audio, _ = librosa.load(filename, sr=sample_rate)                              \n",
                "        file_length = librosa.get_duration(y=audio, sr=sample_rate)    \n",
                "        name = ntpath.basename(filename[:-4]) \n",
                "\n",
                "        samples_total = file_length * sample_rate                               \n",
                "\n",
                "        if samples_total < sample_buffer:\n",
                "            pad_short(audio, sample_rate, sample_buffer, samples_total, out_path, name)\n",
                "            loop_short(audio, sample_rate, sample_buffer, samples_total, out_path, name)\n",
                "        elif file_length >= chunk_length:\n",
                "            chunk_long(audio, sample_rate, sample_buffer, samples_total, out_path, name)\n",
                "\n",
                "            \n",
                "def loop_short(audio, sample_rate, sample_buffer, samples_total, out_path, name):\n",
                "        # loop files that are shorter than chunk length\n",
                "        count = int(sample_buffer / samples_total) + (sample_buffer % samples_total > 0)\n",
                "        i = 1                                                              \n",
                "        loop = audio                                                    \n",
                "\n",
                "        while i < count:\n",
                "            loop = np.concatenate([loop, audio])             \n",
                "            i += 1                                                    \n",
                "\n",
                "        loop = loop[: int(sample_buffer)]                                  \n",
                "        sf.write(f'{out_path+name}_loop.wav', loop, sample_rate)                              \n",
                "\n",
                "        \n",
                "def pad_short(audio, sample_rate, sample_buffer, samples_total, out_path, name):\n",
                "        # pad files that are shorter than chunk length\n",
                "        pad = int(sample_buffer - samples_total)\n",
                "        wave = np.pad(audio, (0, pad))\n",
                "            \n",
                "        out_filename = out_path + name + \"_padded\" + \".wav\"                   \n",
                "        sf.write(out_filename, wave, sample_rate)     \n",
                "        \n",
                "        \n",
                "def chunk_long(audio, sample_rate, sample_buffer, samples_total, out_path, name):\n",
                "        # split longer files into chunks\n",
                "        samples_wrote = 0\n",
                "        counter = 1                                                                \n",
                "        while samples_wrote < samples_total:\n",
                "            if (samples_total - samples_wrote) >= sample_buffer:                           \n",
                "                chunk = audio[samples_wrote: int(samples_wrote + sample_buffer)]        \n",
                "                out_filename = out_path + name + \"_chunk\" + str(counter) + \".wav\"\n",
                "                sf.write(out_filename, chunk, sample_rate)                             \n",
                "                counter += 1                                                       \n",
                "                samples_wrote = int(samples_wrote + sample_buffer - overlap_samples) \n",
                "\n",
                "            # wrap audio for end chunks\n",
                "            if (samples_total - samples_wrote) < sample_buffer:                          \n",
                "                if (samples_total - samples_wrote) > min_samples:                  \n",
                "                    wrap_length = int(sample_buffer - (samples_total - samples_wrote))    \n",
                "                    wrap = audio[0: int(wrap_length)]                                   \n",
                "                    chunk = audio[samples_wrote: int(samples_wrote + sample_buffer)]        \n",
                "                    wrapped_file = np.concatenate([chunk, wrap])                 \n",
                "                    out_filename = out_path + name + \"_wrap\" + str(counter) + \".wav\" \n",
                "                    sf.write(out_filename, wrapped_file, sample_rate)                       \n",
                "                    counter += 1                                                    \n",
                "                samples_wrote = int(samples_wrote + sample_buffer - overlap_samples)   "
            ]
        },
        {
            "cell_type": "code",
            "execution_count": null,
            "id": "7c0fecf9-978c-4e72-8c65-a0d9b431df81",
            "metadata": {
                "tags": []
            },
            "outputs": [],
            "source": [
                "windows = [(5, 2.5), (10, 5), (15, 7.5)]\n",
                "\n",
                "for w in windows:\n",
                "\n",
                "    sample_rate = 44100\n",
                "    chunk_length = w[0]\n",
                "    chunk_overlap = w[1]\n",
                "    min_length = 1.25\n",
                "\n",
                "    # calculate global variables\n",
                "    sample_buffer = chunk_length * sample_rate         # number of samples per chunk\n",
                "    overlap_samples = chunk_overlap * sample_rate      # overlap of chunks in samples\n",
                "    min_samples = min_length * sample_rate             # minimum end samples\n",
                "\n",
                "    dsets = ['train', 'val', 'test']\n",
                "    outdir = f'../../data/production_data/{chunk_length}s_crop/'\n",
                "\n",
                "    for ds in dsets:\n",
                "\n",
                "        paths = glob(f'../../data/{ds}/*.wav')\n",
                "        out_path = f'{outdir}/{ds}/'\n",
                "        preprocess_audio(paths, sample_rate, sample_buffer, out_path)\n",
                "\n",
                "    df = pd.read_csv(f'../../data/metadata.csv')\n",
                "    df = df[['file_name', 'unique_file', 'path', 'label', 'subset']]\n",
                "\n",
                "    all_dfs = []\n",
                "    for i in tqdm(range(len(df))):\n",
                "        name = ntpath.basename(df.iloc[i]['path'][:-4]) \n",
                "        subset = df.iloc[i]['subset'] \n",
                "        subset = 'val' if subset == 'validation' else subset\n",
                "        chunks = glob(f'{outdir}/{subset}/{name}*.wav')\n",
                "        n_chunks = len(chunks)\n",
                "        new_df = pd.DataFrame(np.tile(df.iloc[i].values, n_chunks).reshape(n_chunks, len(df.columns)) , columns=df.columns)\n",
                "        new_df['path'] = chunks\n",
                "        all_dfs.append(new_df)\n",
                "\n",
                "    pp_df = pd.concat(all_dfs)\n",
                "    pp_df.to_csv(f'{outdir}/metadata.csv', index=False)"
            ]
        },
        {
            "cell_type": "code",
            "execution_count": 13,
            "id": "d7143fb7-3277-4603-9f7a-d1c45ebd91f4",
            "metadata": {},
            "outputs": [],
            "source": [
                "# Constants\n",
                "SR = 44100                          # sample rate\n",
                "chunk_length = 7.5                    # length of chunks in seconds\n",
                "overlap = 3.75                      # length of overlap between consecutive chunks\n",
                "min_length = 1.25                   # minimum length for end chunks to be created\n",
                "\n",
                "# calculate global variables\n",
                "buffer = chunk_length * SR          # number of samples per chunk\n",
                "overlap_samples = overlap * SR      # overlap of chunks in samples\n",
                "min_samples = min_length * SR       # minimum end samples\n",
                "\n",
                "paths = glob(f'../../data/train/*.wav')\n",
                "out_path = f'../../data/production_data/5s_crop/train/'\n",
                "\n",
                "# process all files in input folder\n",
                "for filename in tqdm(paths):                     # wav files only\n",
                "    audio, sr = librosa.load(filename, sr=SR)                               # load file with correct SR\n",
                "    file_length = librosa.get_duration(y=audio, sr=SR)                        # get file length in seconds\n",
                "    name = ntpath.basename(filename[:-4])                                   # filename without path or extension\n",
                "    # print(\"Processing: \" + name)\n",
                "\n",
                "    # Calculate and initialize local variables\n",
                "    samples_total = file_length * SR                                        # overall n samples per file\n",
                "    samples_wrote = 0                                                       # initialize start time\n",
                "\n",
                "    # loop files that are shorter than chunk length\n",
                "    if samples_total < buffer:\n",
                "        count = int(buffer / samples_total) + (buffer % samples_total > 0)  # rounded how often the file fits in buffer\n",
                "        i = 1                                                               # init counter\n",
                "        loop = audio                                                        # init loop\n",
                "\n",
                "        while i < count:\n",
                "            loop = np.concatenate([loop, audio])                            # add file to itself until buffer is filled\n",
                "            i += 1                                                          # update counter\n",
                "\n",
                "        loop = loop[0: int(buffer)]                                              # truncate loop to specified chunk length\n",
                "        out_filename = out_path + name + \"_loop\" + \".wav\"                     # create output file name\n",
                "        sf.write(out_filename, loop, SR)                                    # save file\n",
                "\n",
                "    # split longer files into chunks\n",
                "    if file_length >= chunk_length:\n",
                "        counter = 1                                                                 # initialize counter for file name\n",
                "        while samples_wrote < samples_total:\n",
                "            if (samples_total - samples_wrote) >= buffer:                           # if buffer fits in remaining time\n",
                "                chunk = audio[samples_wrote: int(samples_wrote + buffer)]              # create the audio chunk\n",
                "                out_filename = out_path + name + \"_chunk\" + str(counter) + \".wav\"     # create file name with counter\n",
                "                sf.write(out_filename, chunk, SR)                                   # export file\n",
                "                counter += 1                                                        # update counter\n",
                "                samples_wrote = int(samples_wrote + buffer - overlap_samples)       # update start position\n",
                "\n",
                "            # wrap audio for end chunks\n",
                "            if (samples_total - samples_wrote) < buffer:                            # if remaining time is too short...\n",
                "                if (samples_total - samples_wrote) > min_samples:                   # ... and longer than minimum time\n",
                "                    wrap_length = int(buffer - (samples_total - samples_wrote))     # wrap length\n",
                "                    wrap = audio[0: wrap_length]                                    # create wrap chunk\n",
                "                    chunk = audio[samples_wrote: int(samples_wrote + buffer)]          # create the audio chunk\n",
                "                    wrapped_file = np.concatenate([chunk, wrap])                    # combine chunk with wrap chunk\n",
                "                    out_filename = out_path + name + \"_wrap\" + str(counter) + \".wav\"  # file name\n",
                "                    sf.write(out_filename, wrapped_file, SR)                        # export file\n",
                "                    counter += 1                                                    # update counter\n",
                "                samples_wrote = int(samples_wrote + buffer - overlap_samples)       # update start position"
            ]
        },
        {
            "cell_type": "code",
            "execution_count": 5,
            "id": "296787ee-c99b-48b6-b1f0-3558677e5e4c",
            "metadata": {
                "tags": []
            },
            "outputs": [],
            "source": [
                "librosa.get_duration(y=audio, sr=SR)   "
            ]
        },
        {
            "cell_type": "code",
            "execution_count": 11,
            "id": "6ad9bcb2-37d8-4f4c-8ffe-7a375839c328",
            "metadata": {
                "tags": []
            },
            "outputs": [],
            "source": [
                "buffer"
            ]
        },
        {
            "cell_type": "code",
            "execution_count": null,
            "id": "bc33e043-a7d1-4d4e-865f-e808cc522aa7",
            "metadata": {},
            "outputs": [],
            "source": [
                "15145"
            ]
        }
    ],
    "metadata": {
        "availableInstances": [
            {
                "_defaultOrder": 0,
                "_isFastLaunch": true,
                "category": "General purpose",
                "gpuNum": 0,
                "hideHardwareSpecs": false,
                "memoryGiB": 4,
                "name": "ml.t3.medium",
                "vcpuNum": 2
            },
            {
                "_defaultOrder": 1,
                "_isFastLaunch": false,
                "category": "General purpose",
                "gpuNum": 0,
                "hideHardwareSpecs": false,
                "memoryGiB": 8,
                "name": "ml.t3.large",
                "vcpuNum": 2
            },
            {
                "_defaultOrder": 2,
                "_isFastLaunch": false,
                "category": "General purpose",
                "gpuNum": 0,
                "hideHardwareSpecs": false,
                "memoryGiB": 16,
                "name": "ml.t3.xlarge",
                "vcpuNum": 4
            },
            {
                "_defaultOrder": 3,
                "_isFastLaunch": false,
                "category": "General purpose",
                "gpuNum": 0,
                "hideHardwareSpecs": false,
                "memoryGiB": 32,
                "name": "ml.t3.2xlarge",
                "vcpuNum": 8
            },
            {
                "_defaultOrder": 4,
                "_isFastLaunch": true,
                "category": "General purpose",
                "gpuNum": 0,
                "hideHardwareSpecs": false,
                "memoryGiB": 8,
                "name": "ml.m5.large",
                "vcpuNum": 2
            },
            {
                "_defaultOrder": 5,
                "_isFastLaunch": false,
                "category": "General purpose",
                "gpuNum": 0,
                "hideHardwareSpecs": false,
                "memoryGiB": 16,
                "name": "ml.m5.xlarge",
                "vcpuNum": 4
            },
            {
                "_defaultOrder": 6,
                "_isFastLaunch": false,
                "category": "General purpose",
                "gpuNum": 0,
                "hideHardwareSpecs": false,
                "memoryGiB": 32,
                "name": "ml.m5.2xlarge",
                "vcpuNum": 8
            },
            {
                "_defaultOrder": 7,
                "_isFastLaunch": false,
                "category": "General purpose",
                "gpuNum": 0,
                "hideHardwareSpecs": false,
                "memoryGiB": 64,
                "name": "ml.m5.4xlarge",
                "vcpuNum": 16
            },
            {
                "_defaultOrder": 8,
                "_isFastLaunch": false,
                "category": "General purpose",
                "gpuNum": 0,
                "hideHardwareSpecs": false,
                "memoryGiB": 128,
                "name": "ml.m5.8xlarge",
                "vcpuNum": 32
            },
            {
                "_defaultOrder": 9,
                "_isFastLaunch": false,
                "category": "General purpose",
                "gpuNum": 0,
                "hideHardwareSpecs": false,
                "memoryGiB": 192,
                "name": "ml.m5.12xlarge",
                "vcpuNum": 48
            },
            {
                "_defaultOrder": 10,
                "_isFastLaunch": false,
                "category": "General purpose",
                "gpuNum": 0,
                "hideHardwareSpecs": false,
                "memoryGiB": 256,
                "name": "ml.m5.16xlarge",
                "vcpuNum": 64
            },
            {
                "_defaultOrder": 11,
                "_isFastLaunch": false,
                "category": "General purpose",
                "gpuNum": 0,
                "hideHardwareSpecs": false,
                "memoryGiB": 384,
                "name": "ml.m5.24xlarge",
                "vcpuNum": 96
            },
            {
                "_defaultOrder": 12,
                "_isFastLaunch": false,
                "category": "General purpose",
                "gpuNum": 0,
                "hideHardwareSpecs": false,
                "memoryGiB": 8,
                "name": "ml.m5d.large",
                "vcpuNum": 2
            },
            {
                "_defaultOrder": 13,
                "_isFastLaunch": false,
                "category": "General purpose",
                "gpuNum": 0,
                "hideHardwareSpecs": false,
                "memoryGiB": 16,
                "name": "ml.m5d.xlarge",
                "vcpuNum": 4
            },
            {
                "_defaultOrder": 14,
                "_isFastLaunch": false,
                "category": "General purpose",
                "gpuNum": 0,
                "hideHardwareSpecs": false,
                "memoryGiB": 32,
                "name": "ml.m5d.2xlarge",
                "vcpuNum": 8
            },
            {
                "_defaultOrder": 15,
                "_isFastLaunch": false,
                "category": "General purpose",
                "gpuNum": 0,
                "hideHardwareSpecs": false,
                "memoryGiB": 64,
                "name": "ml.m5d.4xlarge",
                "vcpuNum": 16
            },
            {
                "_defaultOrder": 16,
                "_isFastLaunch": false,
                "category": "General purpose",
                "gpuNum": 0,
                "hideHardwareSpecs": false,
                "memoryGiB": 128,
                "name": "ml.m5d.8xlarge",
                "vcpuNum": 32
            },
            {
                "_defaultOrder": 17,
                "_isFastLaunch": false,
                "category": "General purpose",
                "gpuNum": 0,
                "hideHardwareSpecs": false,
                "memoryGiB": 192,
                "name": "ml.m5d.12xlarge",
                "vcpuNum": 48
            },
            {
                "_defaultOrder": 18,
                "_isFastLaunch": false,
                "category": "General purpose",
                "gpuNum": 0,
                "hideHardwareSpecs": false,
                "memoryGiB": 256,
                "name": "ml.m5d.16xlarge",
                "vcpuNum": 64
            },
            {
                "_defaultOrder": 19,
                "_isFastLaunch": false,
                "category": "General purpose",
                "gpuNum": 0,
                "hideHardwareSpecs": false,
                "memoryGiB": 384,
                "name": "ml.m5d.24xlarge",
                "vcpuNum": 96
            },
            {
                "_defaultOrder": 20,
                "_isFastLaunch": false,
                "category": "General purpose",
                "gpuNum": 0,
                "hideHardwareSpecs": true,
                "memoryGiB": 0,
                "name": "ml.geospatial.interactive",
                "supportedImageNames": [
                    "sagemaker-geospatial-v1-0"
                ],
                "vcpuNum": 0
            },
            {
                "_defaultOrder": 21,
                "_isFastLaunch": true,
                "category": "Compute optimized",
                "gpuNum": 0,
                "hideHardwareSpecs": false,
                "memoryGiB": 4,
                "name": "ml.c5.large",
                "vcpuNum": 2
            },
            {
                "_defaultOrder": 22,
                "_isFastLaunch": false,
                "category": "Compute optimized",
                "gpuNum": 0,
                "hideHardwareSpecs": false,
                "memoryGiB": 8,
                "name": "ml.c5.xlarge",
                "vcpuNum": 4
            },
            {
                "_defaultOrder": 23,
                "_isFastLaunch": false,
                "category": "Compute optimized",
                "gpuNum": 0,
                "hideHardwareSpecs": false,
                "memoryGiB": 16,
                "name": "ml.c5.2xlarge",
                "vcpuNum": 8
            },
            {
                "_defaultOrder": 24,
                "_isFastLaunch": false,
                "category": "Compute optimized",
                "gpuNum": 0,
                "hideHardwareSpecs": false,
                "memoryGiB": 32,
                "name": "ml.c5.4xlarge",
                "vcpuNum": 16
            },
            {
                "_defaultOrder": 25,
                "_isFastLaunch": false,
                "category": "Compute optimized",
                "gpuNum": 0,
                "hideHardwareSpecs": false,
                "memoryGiB": 72,
                "name": "ml.c5.9xlarge",
                "vcpuNum": 36
            },
            {
                "_defaultOrder": 26,
                "_isFastLaunch": false,
                "category": "Compute optimized",
                "gpuNum": 0,
                "hideHardwareSpecs": false,
                "memoryGiB": 96,
                "name": "ml.c5.12xlarge",
                "vcpuNum": 48
            },
            {
                "_defaultOrder": 27,
                "_isFastLaunch": false,
                "category": "Compute optimized",
                "gpuNum": 0,
                "hideHardwareSpecs": false,
                "memoryGiB": 144,
                "name": "ml.c5.18xlarge",
                "vcpuNum": 72
            },
            {
                "_defaultOrder": 28,
                "_isFastLaunch": false,
                "category": "Compute optimized",
                "gpuNum": 0,
                "hideHardwareSpecs": false,
                "memoryGiB": 192,
                "name": "ml.c5.24xlarge",
                "vcpuNum": 96
            },
            {
                "_defaultOrder": 29,
                "_isFastLaunch": true,
                "category": "Accelerated computing",
                "gpuNum": 1,
                "hideHardwareSpecs": false,
                "memoryGiB": 16,
                "name": "ml.g4dn.xlarge",
                "vcpuNum": 4
            },
            {
                "_defaultOrder": 30,
                "_isFastLaunch": false,
                "category": "Accelerated computing",
                "gpuNum": 1,
                "hideHardwareSpecs": false,
                "memoryGiB": 32,
                "name": "ml.g4dn.2xlarge",
                "vcpuNum": 8
            },
            {
                "_defaultOrder": 31,
                "_isFastLaunch": false,
                "category": "Accelerated computing",
                "gpuNum": 1,
                "hideHardwareSpecs": false,
                "memoryGiB": 64,
                "name": "ml.g4dn.4xlarge",
                "vcpuNum": 16
            },
            {
                "_defaultOrder": 32,
                "_isFastLaunch": false,
                "category": "Accelerated computing",
                "gpuNum": 1,
                "hideHardwareSpecs": false,
                "memoryGiB": 128,
                "name": "ml.g4dn.8xlarge",
                "vcpuNum": 32
            },
            {
                "_defaultOrder": 33,
                "_isFastLaunch": false,
                "category": "Accelerated computing",
                "gpuNum": 4,
                "hideHardwareSpecs": false,
                "memoryGiB": 192,
                "name": "ml.g4dn.12xlarge",
                "vcpuNum": 48
            },
            {
                "_defaultOrder": 34,
                "_isFastLaunch": false,
                "category": "Accelerated computing",
                "gpuNum": 1,
                "hideHardwareSpecs": false,
                "memoryGiB": 256,
                "name": "ml.g4dn.16xlarge",
                "vcpuNum": 64
            },
            {
                "_defaultOrder": 35,
                "_isFastLaunch": false,
                "category": "Accelerated computing",
                "gpuNum": 1,
                "hideHardwareSpecs": false,
                "memoryGiB": 61,
                "name": "ml.p3.2xlarge",
                "vcpuNum": 8
            },
            {
                "_defaultOrder": 36,
                "_isFastLaunch": false,
                "category": "Accelerated computing",
                "gpuNum": 4,
                "hideHardwareSpecs": false,
                "memoryGiB": 244,
                "name": "ml.p3.8xlarge",
                "vcpuNum": 32
            },
            {
                "_defaultOrder": 37,
                "_isFastLaunch": false,
                "category": "Accelerated computing",
                "gpuNum": 8,
                "hideHardwareSpecs": false,
                "memoryGiB": 488,
                "name": "ml.p3.16xlarge",
                "vcpuNum": 64
            },
            {
                "_defaultOrder": 38,
                "_isFastLaunch": false,
                "category": "Accelerated computing",
                "gpuNum": 8,
                "hideHardwareSpecs": false,
                "memoryGiB": 768,
                "name": "ml.p3dn.24xlarge",
                "vcpuNum": 96
            },
            {
                "_defaultOrder": 39,
                "_isFastLaunch": false,
                "category": "Memory Optimized",
                "gpuNum": 0,
                "hideHardwareSpecs": false,
                "memoryGiB": 16,
                "name": "ml.r5.large",
                "vcpuNum": 2
            },
            {
                "_defaultOrder": 40,
                "_isFastLaunch": false,
                "category": "Memory Optimized",
                "gpuNum": 0,
                "hideHardwareSpecs": false,
                "memoryGiB": 32,
                "name": "ml.r5.xlarge",
                "vcpuNum": 4
            },
            {
                "_defaultOrder": 41,
                "_isFastLaunch": false,
                "category": "Memory Optimized",
                "gpuNum": 0,
                "hideHardwareSpecs": false,
                "memoryGiB": 64,
                "name": "ml.r5.2xlarge",
                "vcpuNum": 8
            },
            {
                "_defaultOrder": 42,
                "_isFastLaunch": false,
                "category": "Memory Optimized",
                "gpuNum": 0,
                "hideHardwareSpecs": false,
                "memoryGiB": 128,
                "name": "ml.r5.4xlarge",
                "vcpuNum": 16
            },
            {
                "_defaultOrder": 43,
                "_isFastLaunch": false,
                "category": "Memory Optimized",
                "gpuNum": 0,
                "hideHardwareSpecs": false,
                "memoryGiB": 256,
                "name": "ml.r5.8xlarge",
                "vcpuNum": 32
            },
            {
                "_defaultOrder": 44,
                "_isFastLaunch": false,
                "category": "Memory Optimized",
                "gpuNum": 0,
                "hideHardwareSpecs": false,
                "memoryGiB": 384,
                "name": "ml.r5.12xlarge",
                "vcpuNum": 48
            },
            {
                "_defaultOrder": 45,
                "_isFastLaunch": false,
                "category": "Memory Optimized",
                "gpuNum": 0,
                "hideHardwareSpecs": false,
                "memoryGiB": 512,
                "name": "ml.r5.16xlarge",
                "vcpuNum": 64
            },
            {
                "_defaultOrder": 46,
                "_isFastLaunch": false,
                "category": "Memory Optimized",
                "gpuNum": 0,
                "hideHardwareSpecs": false,
                "memoryGiB": 768,
                "name": "ml.r5.24xlarge",
                "vcpuNum": 96
            },
            {
                "_defaultOrder": 47,
                "_isFastLaunch": false,
                "category": "Accelerated computing",
                "gpuNum": 1,
                "hideHardwareSpecs": false,
                "memoryGiB": 16,
                "name": "ml.g5.xlarge",
                "vcpuNum": 4
            },
            {
                "_defaultOrder": 48,
                "_isFastLaunch": false,
                "category": "Accelerated computing",
                "gpuNum": 1,
                "hideHardwareSpecs": false,
                "memoryGiB": 32,
                "name": "ml.g5.2xlarge",
                "vcpuNum": 8
            },
            {
                "_defaultOrder": 49,
                "_isFastLaunch": false,
                "category": "Accelerated computing",
                "gpuNum": 1,
                "hideHardwareSpecs": false,
                "memoryGiB": 64,
                "name": "ml.g5.4xlarge",
                "vcpuNum": 16
            },
            {
                "_defaultOrder": 50,
                "_isFastLaunch": false,
                "category": "Accelerated computing",
                "gpuNum": 1,
                "hideHardwareSpecs": false,
                "memoryGiB": 128,
                "name": "ml.g5.8xlarge",
                "vcpuNum": 32
            },
            {
                "_defaultOrder": 51,
                "_isFastLaunch": false,
                "category": "Accelerated computing",
                "gpuNum": 1,
                "hideHardwareSpecs": false,
                "memoryGiB": 256,
                "name": "ml.g5.16xlarge",
                "vcpuNum": 64
            },
            {
                "_defaultOrder": 52,
                "_isFastLaunch": false,
                "category": "Accelerated computing",
                "gpuNum": 4,
                "hideHardwareSpecs": false,
                "memoryGiB": 192,
                "name": "ml.g5.12xlarge",
                "vcpuNum": 48
            },
            {
                "_defaultOrder": 53,
                "_isFastLaunch": false,
                "category": "Accelerated computing",
                "gpuNum": 4,
                "hideHardwareSpecs": false,
                "memoryGiB": 384,
                "name": "ml.g5.24xlarge",
                "vcpuNum": 96
            },
            {
                "_defaultOrder": 54,
                "_isFastLaunch": false,
                "category": "Accelerated computing",
                "gpuNum": 8,
                "hideHardwareSpecs": false,
                "memoryGiB": 768,
                "name": "ml.g5.48xlarge",
                "vcpuNum": 192
            },
            {
                "_defaultOrder": 55,
                "_isFastLaunch": false,
                "category": "Accelerated computing",
                "gpuNum": 8,
                "hideHardwareSpecs": false,
                "memoryGiB": 1152,
                "name": "ml.p4d.24xlarge",
                "vcpuNum": 96
            },
            {
                "_defaultOrder": 56,
                "_isFastLaunch": false,
                "category": "Accelerated computing",
                "gpuNum": 8,
                "hideHardwareSpecs": false,
                "memoryGiB": 1152,
                "name": "ml.p4de.24xlarge",
                "vcpuNum": 96
            }
        ],
        "instance_type": "ml.c5.xlarge",
        "kernelspec": {
            "display_name": "GDSC (custom-gdsc/1)",
            "language": "python",
            "name": "python3__SAGEMAKER_INTERNAL__arn:aws:sagemaker:us-east-1:821562550650:image-version/custom-gdsc/1"
        },
        "language_info": {
            "codemirror_mode": {
                "name": "ipython",
                "version": 3
            },
            "file_extension": ".py",
            "mimetype": "text/x-python",
            "name": "python",
            "nbconvert_exporter": "python",
            "pygments_lexer": "ipython3",
            "version": "3.10.8"
        },
        "lcc_arn": "arn:aws:sagemaker:us-east-1:821562550650:studio-lifecycle-config/clean-trash"
    },
    "nbformat": 4,
    "nbformat_minor": 5
}