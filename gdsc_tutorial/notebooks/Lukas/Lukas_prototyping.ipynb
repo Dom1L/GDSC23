{
    "cells": [
        {
            "cell_type": "code",
            "execution_count": 10,
            "id": "ab6f0e26-f8fe-4068-ac12-e041d3eb1bdb",
            "metadata": {
                "tags": []
            },
            "outputs": [],
            "source": [
                "%pip install -r ../../requirements.txt"
            ]
        },
        {
            "cell_type": "code",
            "execution_count": 3,
            "id": "e6f38909-b447-469c-94c0-2bf55f00dc7c",
            "metadata": {
                "tags": []
            },
            "outputs": [],
            "source": [
                "import os \n",
                "import sys\n",
                "import json\n",
                "from types import SimpleNamespace\n",
                "import random\n",
                "from glob import glob\n",
                "import warnings\n",
                "warnings.simplefilter(\"ignore\", UserWarning)\n",
                "\n",
                "import torch\n",
                "import torchaudio\n",
                "import torch.nn as nn\n",
                "import numpy as np\n",
                "import pandas as pd\n",
                "import lightning as L\n",
                "from tqdm import tqdm\n",
                "from timm import create_model, list_models\n",
                "from torch.utils.data import DataLoader\n",
                "from lightning.pytorch.loggers import CSVLogger, TensorBoardLogger\n",
                "from lightning.pytorch.callbacks.early_stopping import EarlyStopping\n",
                "from lightning.pytorch.callbacks import ModelCheckpoint, LearningRateMonitor\n",
                "\n",
                "sys.path.append('../../src')\n",
                "\n",
                "from custom.data import AudioDataset, DataModule\n",
                "from custom.trainer import TrainModule\n",
                "from custom.net import SimpleCNN\n",
                "from custom.utils import batch_to_device\n",
                "from custom.eval import inference_k_random, error_analysis\n",
                "\n",
                "\n",
                "# determinism\n",
                "# seed = 1337\n",
                "# torch.manual_seed(seed)\n",
                "# np.random.seed(seed)\n",
                "# random.seed(seed)\n",
                "# torch.cuda.manual_seed(seed)\n",
                "# torch.cuda.manual_seed_all(seed)\n",
                "%load_ext autoreload\n",
                "%autoreload 2\n",
                "\n",
                "full_path = '../../'"
            ]
        },
        {
            "cell_type": "code",
            "execution_count": 7,
            "id": "ac34c122-6db0-41c6-b50f-796f92b9caf2",
            "metadata": {
                "tags": []
            },
            "outputs": [],
            "source": [
                "list_models()"
            ]
        },
        {
            "cell_type": "code",
            "execution_count": 3,
            "id": "c58aa8ac-6173-44f4-a9f6-929c20fa8c5f",
            "metadata": {
                "tags": []
            },
            "outputs": [],
            "source": [
                "cfg = SimpleNamespace()\n",
                "\n",
                "cfg.data_path = f'{full_path}/data/production_data/5s_crop/'\n",
                "cfg.n_classes = 66\n",
                "cfg.pretrained = True\n",
                "cfg.backbone = 'tf_efficientnetv2_s.in21k'\n",
                "cfg.in_chans = 1\n",
                "cfg.num_workers = 4\n",
                "cfg.include_val = True\n",
                "\n",
                "# Training Hyperparameters\n",
                "cfg.n_epochs = 1\n",
                "cfg.lr = 0.000251\n",
                "cfg.weight_decay = 1e-4\n",
                "cfg.label_smoothing = 0.1\n",
                "cfg.batch_size = 32\n",
                "cfg.wav_crop_len = 5\n",
                "cfg.sample_rate = 44100\n",
                "\n",
                "# Mel Spectogram Hyperparameters\n",
                "cfg.n_mels = 128\n",
                "cfg.n_fft = 2048\n",
                "cfg.fmin = 300\n",
                "cfg.fmax = cfg.sample_rate / 2 \n",
                "cfg.window_size = cfg.n_fft\n",
                "cfg.hop_length = int(cfg.n_fft / 2)\n",
                "cfg.power = 2\n",
                "cfg.top_db = 80.0\n",
                "\n",
                "# Augmentation Parameters\n",
                "cfg.impulse_prob = 0.2\n",
                "cfg.noise_prob = 0.2\n",
                "\n",
                "cfg.max_noise = 0.04\n",
                "cfg.min_snr = 5\n",
                "cfg.max_snr = 20\n",
                "\n",
                "cfg.exp_name = f'example'"
            ]
        },
        {
            "cell_type": "code",
            "execution_count": 4,
            "id": "71d80da2-9b27-4b6c-9e31-c37ca98dbb90",
            "metadata": {
                "tags": []
            },
            "outputs": [],
            "source": [
                "# Callbacks\n",
                "tb_logger = TensorBoardLogger(save_dir=\"./\", version=cfg.exp_name, name=\"effnet_baseline\")\n",
                "lr_monitor = LearningRateMonitor(logging_interval='epoch')\n",
                "checkpoint_callback = ModelCheckpoint(monitor=\"val_f1\", mode=\"max\", save_last=True)\n",
                "early_stop_callback = EarlyStopping(monitor=\"val_f1\", patience=5, verbose=False, mode=\"max\")\n",
                "\n",
                "# Loss Function and class weights\n",
                "class_weights = np.load(f'{full_path}/data/class_weights.npy')\n",
                "loss_fn = nn.CrossEntropyLoss(weight=torch.from_numpy(class_weights).to('cuda'), \n",
                "                              label_smoothing=cfg.label_smoothing)\n",
                "\n",
                "# Data Logic, Loading, Augmentation\n",
                "dm = DataModule(cfg=cfg)\n",
                "\n",
                "# Network\n",
                "model = SimpleCNN(cfg)\n",
                "\n",
                "# Training Logic\n",
                "tmod = TrainModule(model, \n",
                "                   loss_fn=loss_fn, \n",
                "                   optimizer_name='Adam', \n",
                "                   optimizer_hparams={\"lr\": cfg.lr, \"weight_decay\": cfg.weight_decay},\n",
                "                   cfg=cfg)"
            ]
        },
        {
            "cell_type": "code",
            "execution_count": 5,
            "id": "64433e8d-d804-47a8-b2fc-66ed82c155a8",
            "metadata": {
                "tags": []
            },
            "outputs": [],
            "source": [
                "trainer = L.Trainer(\n",
                "    max_epochs=cfg.n_epochs,\n",
                "    accelerator=\"auto\",\n",
                "    devices=\"auto\",\n",
                "    enable_checkpointing=True,\n",
                "    reload_dataloaders_every_n_epochs=False,\n",
                "    logger=tb_logger,\n",
                "    callbacks=[early_stop_callback, lr_monitor, checkpoint_callback]\n",
                ")\n",
                "trainer.fit(tmod, dm)"
            ]
        },
        {
            "cell_type": "code",
            "execution_count": null,
            "id": "5c268c28-39c4-404d-9ce3-921fe3c86f18",
            "metadata": {
                "tags": []
            },
            "outputs": [],
            "source": [
                "# glob(f'{exp_path}/checkpoints/*')\n",
                "exp_path = f'effnet_baseline/{cfg.exp_name}/'\n",
                "label_path = f'{full_path}/data/labels.json'\n",
                "state_dict_path = f\"{exp_path}/checkpoints/last.ckpt\"\n",
                "#\n",
                "k_predictions = 25\n",
                "\n",
                "val_df = pd.read_csv(f\"{full_path}/data/metadata.csv\")\n",
                "val_df = val_df[val_df['subset']=='validation']\n",
                "val_df['path'] = val_df['path'].apply(lambda x: f'{full_path}/{x}')\n",
                "\n",
                "test_df = pd.read_csv(f\"{full_path}/data/test/metadata.csv\")\n",
                "test_df['path'] = test_df['file_name'].apply(lambda x: f'{full_path}/data/test/{x}')\n",
                "\n",
                "for data in [(val_df, 'val'), (test_df, 'test')]:\n",
                "    df, dset = data\n",
                "    print(f'Predict {dset}')\n",
                "    pred_ds = AudioDataset(df, mode='test', cfg=cfg)\n",
                "    pred_dl = DataLoader(pred_ds, shuffle=False, batch_size=cfg.batch_size, num_workers=cfg.num_workers)\n",
                "    pred_df = inference_k_random(SimpleCNN(cfg), state_dict_path, pred_dl, df, \n",
                "                                 loss_fn, label_path, k=k_predictions)\n",
                "    pred_df.to_csv(f'{exp_path}/{dset}_predictions.csv', index=False) \n",
                "    if dset == 'test':\n",
                "        pred_df[['file_name', 'predicted_class_id']].to_csv(f'{exp_path}/submission_predictions.csv', index=False)\n",
                "    elif dset == 'val':\n",
                "        error_analysis(exp_path)"
            ]
        },
        {
            "cell_type": "code",
            "execution_count": 65,
            "id": "c595ac6c-6178-4da9-b092-e3fc6f146cd1",
            "metadata": {},
            "outputs": [],
            "source": [
                "for i in range(5):\n",
                "    print(i)"
            ]
        },
        {
            "cell_type": "markdown",
            "id": "07ef676d-44b7-4615-ac7d-6b9249d073f8",
            "metadata": {},
            "source": [
                "# RUNS WITH NEW PRETRAINED MODELS"
            ],
            "outputs": []
        },
        {
            "cell_type": "code",
            "execution_count": null,
            "id": "10c17c79-52f7-44bf-bde4-c36f3d30ebdb",
            "metadata": {},
            "outputs": [],
            "source": [
                "models = ['tf_efficientnetv2_s.in21k','efficientnet_b0','inception_v3','resnet50','vgg16']\n",
                "lrs = [0.000251,]\n",
                "for i in range(5):\n",
                "    cfg = SimpleNamespace()\n",
                "\n",
                "    cfg.data_path = f'{full_path}/data/production_data/5s_crop/'\n",
                "    cfg.n_classes = 66\n",
                "    cfg.pretrained = True\n",
                "    cfg.backbone = models[i]\n",
                "    cfg.in_chans = 1\n",
                "    cfg.num_workers = 4\n",
                "    cfg.include_val = False\n",
                "\n",
                "    # Training Hyperparameters\n",
                "    cfg.n_epochs = 100\n",
                "    cfg.lr = lrs[i]\n",
                "    cfg.weight_decay = 1e-4\n",
                "    cfg.label_smoothing = 0.1\n",
                "    cfg.batch_size = 32\n",
                "    cfg.wav_crop_len = 5\n",
                "    cfg.sample_rate = 44100\n",
                "\n",
                "    # Mel Spectogram Hyperparameters\n",
                "    cfg.n_mels = 128\n",
                "    cfg.n_fft = 2048\n",
                "    cfg.fmin = 300\n",
                "    cfg.fmax = cfg.sample_rate / 2 \n",
                "    cfg.window_size = cfg.n_fft\n",
                "    cfg.hop_length = int(cfg.n_fft / 2)\n",
                "    cfg.power = 2\n",
                "    cfg.top_db = 80.0\n",
                "\n",
                "    # Augmentation Parameters\n",
                "    cfg.impulse_prob = 0.2\n",
                "    cfg.noise_prob = 0.2\n",
                "\n",
                "    cfg.max_noise = 0.04\n",
                "    cfg.min_snr = 5\n",
                "    cfg.max_snr = 20\n",
                "\n",
                "    cfg.exp_name = f'lukas_{models[i]}'\n",
                "    \n",
                "    # Callbacks\n",
                "    tb_logger = TensorBoardLogger(save_dir=\"./\", version=cfg.exp_name, name=\"effnet_baseline\")\n",
                "    lr_monitor = LearningRateMonitor(logging_interval='epoch')\n",
                "    checkpoint_callback = ModelCheckpoint(monitor=\"val_f1\", mode=\"max\", save_last=True)\n",
                "    early_stop_callback = EarlyStopping(monitor=\"val_f1\", patience=10, verbose=False, mode=\"max\")\n",
                "\n",
                "    # Loss Function and class weights\n",
                "    class_weights = np.load(f'{full_path}/data/class_weights.npy')\n",
                "    loss_fn = nn.CrossEntropyLoss(weight=torch.from_numpy(class_weights).to('cuda'), \n",
                "                                  label_smoothing=cfg.label_smoothing)\n",
                "\n",
                "    # Data Logic, Loading, Augmentation\n",
                "    dm = DataModule(cfg=cfg)\n",
                "\n",
                "    # Network\n",
                "    model = SimpleCNN(cfg)\n",
                "\n",
                "    # Training Logic\n",
                "    tmod = TrainModule(model, \n",
                "                       loss_fn=loss_fn, \n",
                "                       optimizer_name='Adam', \n",
                "                       optimizer_hparams={\"lr\": cfg.lr, \"weight_decay\": cfg.weight_decay},\n",
                "                       cfg=cfg)\n",
                "    \n",
                "    trainer = L.Trainer(\n",
                "        max_epochs=cfg.n_epochs,\n",
                "        accelerator=\"auto\",\n",
                "        devices=\"auto\",\n",
                "        enable_checkpointing=True,\n",
                "        reload_dataloaders_every_n_epochs=False,\n",
                "        logger=tb_logger,\n",
                "        callbacks=[early_stop_callback, lr_monitor, checkpoint_callback]\n",
                "    )\n",
                "    trainer.fit(tmod, dm)\n",
                "    \n",
                "    # glob(f'{exp_path}/checkpoints/*')\n",
                "    exp_path = f'effnet_baseline/{cfg.exp_name}/'\n",
                "    label_path = f'{full_path}/data/labels.json'\n",
                "    state_dict_path = f\"{exp_path}/checkpoints/last.ckpt\"\n",
                "    #\n",
                "    k_predictions = 25\n",
                "\n",
                "    val_df = pd.read_csv(f\"{full_path}/data/metadata.csv\")\n",
                "    val_df = val_df[val_df['subset']=='validation']\n",
                "    val_df['path'] = val_df['path'].apply(lambda x: f'{full_path}/{x}')\n",
                "\n",
                "    test_df = pd.read_csv(f\"{full_path}/data/test/metadata.csv\")\n",
                "    test_df['path'] = test_df['file_name'].apply(lambda x: f'{full_path}/data/test/{x}')\n",
                "\n",
                "    for data in [(val_df, 'val'), (test_df, 'test')]:\n",
                "        df, dset = data\n",
                "        print(f'Predict {dset}')\n",
                "        pred_ds = AudioDataset(df, mode='test', cfg=cfg)\n",
                "        pred_dl = DataLoader(pred_ds, shuffle=False, batch_size=cfg.batch_size, num_workers=cfg.num_workers)\n",
                "        pred_df = inference_k_random(SimpleCNN(cfg), state_dict_path, pred_dl, df, \n",
                "                                     loss_fn, label_path, k=k_predictions)\n",
                "        pred_df.to_csv(f'{exp_path}/{dset}_predictions.csv', index=False) \n",
                "        if dset == 'test':\n",
                "            pred_df[['file_name', 'predicted_class_id']].to_csv(f'{exp_path}/submission_predictions.csv', index=False)\n",
                "        elif dset == 'val':\n",
                "            error_analysis(exp_path)"
            ]
        },
        {
            "cell_type": "code",
            "execution_count": null,
            "id": "732cb276-50fe-4aaa-982e-3d3553b3e7b8",
            "metadata": {},
            "outputs": [],
            "source": []
        },
        {
            "cell_type": "code",
            "execution_count": null,
            "id": "e9d1e78c-7045-48bc-997d-8ca147a37374",
            "metadata": {},
            "outputs": [],
            "source": []
        },
        {
            "cell_type": "markdown",
            "id": "5aa1bc04-a0e6-4bd0-9ce2-01ba2c55afd3",
            "metadata": {},
            "source": [
                "# PREDICTION TESTS"
            ],
            "outputs": []
        },
        {
            "cell_type": "markdown",
            "id": "5d7f2b9b-7a9c-4e1a-82a5-5b682939d7f5",
            "metadata": {},
            "source": [
                "x = [1,2,3,4]\n",
                "\n",
                "normalize([x]) # array([[0.18257419, 0.36514837, 0.54772256, 0.73029674]])\n",
                "\n",
                "normalize([x], norm=\"l1\") # array([[0.1, 0.2, 0.3, 0.4]])\n",
                "\n",
                "normalize([x], norm=\"max\") # array([[0.25, 0.5 , 0.75, 1.]])"
            ],
            "outputs": []
        },
        {
            "cell_type": "code",
            "execution_count": 11,
            "id": "9d65130f-8031-4f41-97ba-c9a1e7b26c49",
            "metadata": {
                "tags": []
            },
            "outputs": [],
            "source": [
                "cfg = SimpleNamespace()\n",
                "\n",
                "#cfg.data_path = f'{full_path}/data/production_data/5s_crop/'\n",
                "cfg.n_classes = 66\n",
                "cfg.pretrained = True\n",
                "cfg.backbone = 'tf_efficientnetv2_s.in21k'\n",
                "cfg.in_chans = 1\n",
                "cfg.num_workers = 4\n",
                "cfg.include_val = True\n",
                "\n",
                "# Training Hyperparameters\n",
                "cfg.n_epochs = 1\n",
                "cfg.lr = 0.000251\n",
                "cfg.weight_decay = 1e-4\n",
                "cfg.label_smoothing = 0.1\n",
                "cfg.batch_size = 32\n",
                "cfg.wav_crop_len = 5\n",
                "cfg.sample_rate = 44100\n",
                "\n",
                "# Mel Spectogram Hyperparameters\n",
                "cfg.n_mels = 128\n",
                "cfg.n_fft = 2048\n",
                "cfg.fmin = 300\n",
                "cfg.fmax = cfg.sample_rate / 2 \n",
                "cfg.window_size = cfg.n_fft\n",
                "cfg.hop_length = int(cfg.n_fft / 2)\n",
                "cfg.power = 2\n",
                "cfg.top_db = 80.0\n",
                "\n",
                "# Augmentation Parameters\n",
                "cfg.impulse_prob = 0.2\n",
                "cfg.noise_prob = 0.2\n",
                "\n",
                "cfg.max_noise = 0.04\n",
                "cfg.min_snr = 5\n",
                "cfg.max_snr = 20\n",
                "\n",
                "#cfg.exp_name = f'example'\n",
                "\n",
                "class_weights = np.load(f'{full_path}/data/class_weights.npy')\n",
                "#loss_fn = nn.CrossEntropyLoss(weight=torch.from_numpy(class_weights).to('cuda'),label_smoothing=cfg.label_smoothing) # if gpu\n",
                "loss_fn = nn.CrossEntropyLoss(weight=torch.from_numpy(class_weights), label_smoothing=cfg.label_smoothing) # if no gpu"
            ]
        },
        {
            "cell_type": "markdown",
            "id": "21cef2d4-5251-4ccd-b3ff-59d8f846db05",
            "metadata": {},
            "source": [
                "## as is"
            ],
            "outputs": []
        },
        {
            "cell_type": "code",
            "execution_count": 12,
            "id": "28786cc7-84bb-45c8-919b-dacb2152feea",
            "metadata": {
                "tags": []
            },
            "outputs": [],
            "source": [
                "full_path"
            ]
        },
        {
            "cell_type": "code",
            "execution_count": 62,
            "id": "02929a9d-4fd6-43ec-b99d-f8630881f14a",
            "metadata": {
                "tags": []
            },
            "outputs": [],
            "source": [
                "# glob(f'{exp_path}/checkpoints/*')\n",
                "exp_path = f'{full_path}/notebooks/Dominik/effnet_baseline/bench_7.5'\n",
                "exp_path_Lukas = f'{full_path}/notebooks/Lukas/bench_7.5'\n",
                "label_path = f'{full_path}/data/labels.json'\n",
                "state_dict_path = f\"{exp_path}/checkpoints/last.ckpt\"\n",
                "#\n",
                "k_predictions = 101\n",
                "\n",
                "#val_df = pd.read_csv(f\"{full_path}/data/metadata.csv\")\n",
                "#val_df = val_df[val_df['subset']=='validation']\n",
                "#val_df['path'] = val_df['path'].apply(lambda x: f'{full_path}/{x}')\n",
                "\n",
                "test_df = pd.read_csv(f\"{full_path}/data/test/metadata.csv\")\n",
                "test_df['path'] = test_df['file_name'].apply(lambda x: f'{full_path}/data/test/{x}')\n",
                "\n",
                "for data in [(test_df, 'test')]:\n",
                "    df, dset = data\n",
                "    print(f'Predict {dset}')\n",
                "    pred_ds = AudioDataset(df, mode='test', cfg=cfg)\n",
                "    pred_dl = DataLoader(pred_ds, shuffle=False, batch_size=cfg.batch_size, num_workers=cfg.num_workers)\n",
                "    pred_df = inference_k_random(SimpleCNN(cfg), state_dict_path, pred_dl, df, \n",
                "                                 loss_fn, label_path, k=k_predictions)\n",
                "    #pred_df.to_csv(f'{exp_path_Lukas}/{dset}_predictions.csv', index=False) \n",
                "    if dset == 'test':\n",
                "        pred_df[['file_name', 'predicted_class_id']].to_csv(f'{exp_path_Lukas}/submission_predictions_k101.csv', index=False)\n",
                "    elif dset == 'val':\n",
                "        error_analysis(exp_path)"
            ]
        },
        {
            "cell_type": "code",
            "execution_count": null,
            "id": "2871b489-3266-42fe-8975-564606322448",
            "metadata": {},
            "outputs": [],
            "source": []
        },
        {
            "cell_type": "code",
            "execution_count": 24,
            "id": "6d5e91d6-78b5-4d1b-b265-fdc74cc372fe",
            "metadata": {
                "tags": []
            },
            "outputs": [],
            "source": [
                "from sklearn.preprocessing import normalize\n",
                "\n",
                "x = [1,2,3,4]\n",
                "x1 = normalize([x]) # array([[0.18257419, 0.36514837, 0.54772256, 0.73029674]])\n",
                "#normalize([x], norm=\"l1\") # array([[0.1, 0.2, 0.3, 0.4]])\n",
                "#normalize([x], norm=\"max\") # array([[0.25, 0.5 , 0.75, 1.]])\n",
                "x1"
            ]
        },
        {
            "cell_type": "markdown",
            "id": "b9ce0251-7fa3-4d6f-b410-582ad6933859",
            "metadata": {},
            "source": [
                "## normalize"
            ],
            "outputs": []
        },
        {
            "cell_type": "code",
            "execution_count": 58,
            "id": "66a3051a-d9c3-42ff-9313-5fe694b970fe",
            "metadata": {
                "tags": []
            },
            "outputs": [],
            "source": [
                "# glob(f'{exp_path}/checkpoints/*')\n",
                "exp_path = f'{full_path}/notebooks/Dominik/effnet_baseline/bench_7.5'\n",
                "exp_path_Lukas = f'{full_path}/notebooks/Lukas/bench_7.5'\n",
                "label_path = f'{full_path}/data/labels.json'\n",
                "state_dict_path = f\"{exp_path}/checkpoints/last.ckpt\"\n",
                "#\n",
                "k_predictions = 25\n",
                "\n",
                "#val_df = pd.read_csv(f\"{full_path}/data/metadata.csv\")\n",
                "#val_df = val_df[val_df['subset']=='validation']\n",
                "#val_df['path'] = val_df['path'].apply(lambda x: f'{full_path}/{x}')\n",
                "\n",
                "test_df = pd.read_csv(f\"{full_path}/data/test/metadata.csv\")\n",
                "test_df['path'] = test_df['file_name'].apply(lambda x: f'{full_path}/data/test/{x}')\n",
                "\n",
                "for data in [(test_df, 'test')]:\n",
                "    df, dset = data\n",
                "    print(f'Predict {dset}')\n",
                "    pred_ds = AudioDataset(df, mode='test', cfg=cfg)\n",
                "    pred_dl = DataLoader(pred_ds, shuffle=False, batch_size=cfg.batch_size, num_workers=cfg.num_workers)\n",
                "    pred_df = inference_k_random(SimpleCNN(cfg), state_dict_path, pred_dl, df, \n",
                "                                 loss_fn, label_path, k=k_predictions)\n",
                "    #pred_df.to_csv(f'{exp_path_Lukas}/{dset}_predictions.csv', index=False) \n",
                "    if dset == 'test':\n",
                "        pred_df[['file_name', 'predicted_class_id']].to_csv(f'{exp_path_Lukas}/submission_predictions_normalize.csv', index=False)\n",
                "    elif dset == 'val':\n",
                "        error_analysis(exp_path)"
            ]
        },
        {
            "cell_type": "code",
            "execution_count": 50,
            "id": "000d908a-f9eb-40ce-affd-a0dd2a612d99",
            "metadata": {
                "tags": []
            },
            "outputs": [],
            "source": [
                "l = np.array([-0.0634237,  0.320624 ])\n",
                "from sklearn.preprocessing import normalize\n",
                "l1 = normalize([l])\n",
                "l1"
            ]
        },
        {
            "cell_type": "markdown",
            "id": "14710de3-c583-4caf-a6da-ef1c5e363d46",
            "metadata": {},
            "source": [
                "## normalize l1"
            ],
            "outputs": []
        },
        {
            "cell_type": "code",
            "execution_count": 59,
            "id": "df6f9341-a368-4d3b-8a8a-3b1ff892a965",
            "metadata": {
                "tags": []
            },
            "outputs": [],
            "source": [
                "# glob(f'{exp_path}/checkpoints/*')\n",
                "exp_path = f'{full_path}/notebooks/Dominik/effnet_baseline/bench_7.5'\n",
                "exp_path_Lukas = f'{full_path}/notebooks/Lukas/bench_7.5'\n",
                "label_path = f'{full_path}/data/labels.json'\n",
                "state_dict_path = f\"{exp_path}/checkpoints/last.ckpt\"\n",
                "#\n",
                "k_predictions = 25\n",
                "\n",
                "#val_df = pd.read_csv(f\"{full_path}/data/metadata.csv\")\n",
                "#val_df = val_df[val_df['subset']=='validation']\n",
                "#val_df['path'] = val_df['path'].apply(lambda x: f'{full_path}/{x}')\n",
                "\n",
                "test_df = pd.read_csv(f\"{full_path}/data/test/metadata.csv\")\n",
                "test_df['path'] = test_df['file_name'].apply(lambda x: f'{full_path}/data/test/{x}')\n",
                "\n",
                "for data in [(test_df, 'test')]:\n",
                "    df, dset = data\n",
                "    print(f'Predict {dset}')\n",
                "    pred_ds = AudioDataset(df, mode='test', cfg=cfg)\n",
                "    pred_dl = DataLoader(pred_ds, shuffle=False, batch_size=cfg.batch_size, num_workers=cfg.num_workers)\n",
                "    pred_df = inference_k_random(SimpleCNN(cfg), state_dict_path, pred_dl, df, \n",
                "                                 loss_fn, label_path, k=k_predictions)\n",
                "    #pred_df.to_csv(f'{exp_path_Lukas}/{dset}_predictions.csv', index=False) \n",
                "    if dset == 'test':\n",
                "        pred_df[['file_name', 'predicted_class_id']].to_csv(f'{exp_path_Lukas}/submission_predictions_normalize_l1.csv', index=False)\n",
                "    elif dset == 'val':\n",
                "        error_analysis(exp_path)"
            ]
        },
        {
            "cell_type": "markdown",
            "id": "61ce120e-5a1d-46ca-94c9-46b6e7e507ed",
            "metadata": {},
            "source": [
                "## normalize max"
            ],
            "outputs": []
        },
        {
            "cell_type": "code",
            "execution_count": 61,
            "id": "e8c560ea-cbe3-469a-84f7-083d60a5574a",
            "metadata": {
                "tags": []
            },
            "outputs": [],
            "source": [
                "# glob(f'{exp_path}/checkpoints/*')\n",
                "exp_path = f'{full_path}/notebooks/Dominik/effnet_baseline/bench_7.5'\n",
                "exp_path_Lukas = f'{full_path}/notebooks/Lukas/bench_7.5'\n",
                "label_path = f'{full_path}/data/labels.json'\n",
                "state_dict_path = f\"{exp_path}/checkpoints/last.ckpt\"\n",
                "#\n",
                "k_predictions = 101\n",
                "\n",
                "#val_df = pd.read_csv(f\"{full_path}/data/metadata.csv\")\n",
                "#val_df = val_df[val_df['subset']=='validation']\n",
                "#val_df['path'] = val_df['path'].apply(lambda x: f'{full_path}/{x}')\n",
                "\n",
                "test_df = pd.read_csv(f\"{full_path}/data/test/metadata.csv\")\n",
                "test_df['path'] = test_df['file_name'].apply(lambda x: f'{full_path}/data/test/{x}')\n",
                "\n",
                "for data in [(test_df, 'test')]:\n",
                "    df, dset = data\n",
                "    print(f'Predict {dset}')\n",
                "    pred_ds = AudioDataset(df, mode='test', cfg=cfg)\n",
                "    pred_dl = DataLoader(pred_ds, shuffle=False, batch_size=cfg.batch_size, num_workers=cfg.num_workers)\n",
                "    pred_df = inference_k_random(SimpleCNN(cfg), state_dict_path, pred_dl, df, \n",
                "                                 loss_fn, label_path, k=k_predictions)\n",
                "    #pred_df.to_csv(f'{exp_path_Lukas}/{dset}_predictions.csv', index=False) \n",
                "    if dset == 'test':\n",
                "        pred_df[['file_name', 'predicted_class_id']].to_csv(f'{exp_path_Lukas}/submission_predictions_normalize_max.csv', index=False)\n",
                "    elif dset == 'val':\n",
                "        error_analysis(exp_path)"
            ]
        },
        {
            "cell_type": "code",
            "execution_count": null,
            "id": "b0712b57-d97e-4df2-80e5-2ba77053073e",
            "metadata": {},
            "outputs": [],
            "source": []
        }
    ],
    "metadata": {
        "availableInstances": [
            {
                "_defaultOrder": 0,
                "_isFastLaunch": true,
                "category": "General purpose",
                "gpuNum": 0,
                "hideHardwareSpecs": false,
                "memoryGiB": 4,
                "name": "ml.t3.medium",
                "vcpuNum": 2
            },
            {
                "_defaultOrder": 1,
                "_isFastLaunch": false,
                "category": "General purpose",
                "gpuNum": 0,
                "hideHardwareSpecs": false,
                "memoryGiB": 8,
                "name": "ml.t3.large",
                "vcpuNum": 2
            },
            {
                "_defaultOrder": 2,
                "_isFastLaunch": false,
                "category": "General purpose",
                "gpuNum": 0,
                "hideHardwareSpecs": false,
                "memoryGiB": 16,
                "name": "ml.t3.xlarge",
                "vcpuNum": 4
            },
            {
                "_defaultOrder": 3,
                "_isFastLaunch": false,
                "category": "General purpose",
                "gpuNum": 0,
                "hideHardwareSpecs": false,
                "memoryGiB": 32,
                "name": "ml.t3.2xlarge",
                "vcpuNum": 8
            },
            {
                "_defaultOrder": 4,
                "_isFastLaunch": true,
                "category": "General purpose",
                "gpuNum": 0,
                "hideHardwareSpecs": false,
                "memoryGiB": 8,
                "name": "ml.m5.large",
                "vcpuNum": 2
            },
            {
                "_defaultOrder": 5,
                "_isFastLaunch": false,
                "category": "General purpose",
                "gpuNum": 0,
                "hideHardwareSpecs": false,
                "memoryGiB": 16,
                "name": "ml.m5.xlarge",
                "vcpuNum": 4
            },
            {
                "_defaultOrder": 6,
                "_isFastLaunch": false,
                "category": "General purpose",
                "gpuNum": 0,
                "hideHardwareSpecs": false,
                "memoryGiB": 32,
                "name": "ml.m5.2xlarge",
                "vcpuNum": 8
            },
            {
                "_defaultOrder": 7,
                "_isFastLaunch": false,
                "category": "General purpose",
                "gpuNum": 0,
                "hideHardwareSpecs": false,
                "memoryGiB": 64,
                "name": "ml.m5.4xlarge",
                "vcpuNum": 16
            },
            {
                "_defaultOrder": 8,
                "_isFastLaunch": false,
                "category": "General purpose",
                "gpuNum": 0,
                "hideHardwareSpecs": false,
                "memoryGiB": 128,
                "name": "ml.m5.8xlarge",
                "vcpuNum": 32
            },
            {
                "_defaultOrder": 9,
                "_isFastLaunch": false,
                "category": "General purpose",
                "gpuNum": 0,
                "hideHardwareSpecs": false,
                "memoryGiB": 192,
                "name": "ml.m5.12xlarge",
                "vcpuNum": 48
            },
            {
                "_defaultOrder": 10,
                "_isFastLaunch": false,
                "category": "General purpose",
                "gpuNum": 0,
                "hideHardwareSpecs": false,
                "memoryGiB": 256,
                "name": "ml.m5.16xlarge",
                "vcpuNum": 64
            },
            {
                "_defaultOrder": 11,
                "_isFastLaunch": false,
                "category": "General purpose",
                "gpuNum": 0,
                "hideHardwareSpecs": false,
                "memoryGiB": 384,
                "name": "ml.m5.24xlarge",
                "vcpuNum": 96
            },
            {
                "_defaultOrder": 12,
                "_isFastLaunch": false,
                "category": "General purpose",
                "gpuNum": 0,
                "hideHardwareSpecs": false,
                "memoryGiB": 8,
                "name": "ml.m5d.large",
                "vcpuNum": 2
            },
            {
                "_defaultOrder": 13,
                "_isFastLaunch": false,
                "category": "General purpose",
                "gpuNum": 0,
                "hideHardwareSpecs": false,
                "memoryGiB": 16,
                "name": "ml.m5d.xlarge",
                "vcpuNum": 4
            },
            {
                "_defaultOrder": 14,
                "_isFastLaunch": false,
                "category": "General purpose",
                "gpuNum": 0,
                "hideHardwareSpecs": false,
                "memoryGiB": 32,
                "name": "ml.m5d.2xlarge",
                "vcpuNum": 8
            },
            {
                "_defaultOrder": 15,
                "_isFastLaunch": false,
                "category": "General purpose",
                "gpuNum": 0,
                "hideHardwareSpecs": false,
                "memoryGiB": 64,
                "name": "ml.m5d.4xlarge",
                "vcpuNum": 16
            },
            {
                "_defaultOrder": 16,
                "_isFastLaunch": false,
                "category": "General purpose",
                "gpuNum": 0,
                "hideHardwareSpecs": false,
                "memoryGiB": 128,
                "name": "ml.m5d.8xlarge",
                "vcpuNum": 32
            },
            {
                "_defaultOrder": 17,
                "_isFastLaunch": false,
                "category": "General purpose",
                "gpuNum": 0,
                "hideHardwareSpecs": false,
                "memoryGiB": 192,
                "name": "ml.m5d.12xlarge",
                "vcpuNum": 48
            },
            {
                "_defaultOrder": 18,
                "_isFastLaunch": false,
                "category": "General purpose",
                "gpuNum": 0,
                "hideHardwareSpecs": false,
                "memoryGiB": 256,
                "name": "ml.m5d.16xlarge",
                "vcpuNum": 64
            },
            {
                "_defaultOrder": 19,
                "_isFastLaunch": false,
                "category": "General purpose",
                "gpuNum": 0,
                "hideHardwareSpecs": false,
                "memoryGiB": 384,
                "name": "ml.m5d.24xlarge",
                "vcpuNum": 96
            },
            {
                "_defaultOrder": 20,
                "_isFastLaunch": false,
                "category": "General purpose",
                "gpuNum": 0,
                "hideHardwareSpecs": true,
                "memoryGiB": 0,
                "name": "ml.geospatial.interactive",
                "supportedImageNames": [
                    "sagemaker-geospatial-v1-0"
                ],
                "vcpuNum": 0
            },
            {
                "_defaultOrder": 21,
                "_isFastLaunch": true,
                "category": "Compute optimized",
                "gpuNum": 0,
                "hideHardwareSpecs": false,
                "memoryGiB": 4,
                "name": "ml.c5.large",
                "vcpuNum": 2
            },
            {
                "_defaultOrder": 22,
                "_isFastLaunch": false,
                "category": "Compute optimized",
                "gpuNum": 0,
                "hideHardwareSpecs": false,
                "memoryGiB": 8,
                "name": "ml.c5.xlarge",
                "vcpuNum": 4
            },
            {
                "_defaultOrder": 23,
                "_isFastLaunch": false,
                "category": "Compute optimized",
                "gpuNum": 0,
                "hideHardwareSpecs": false,
                "memoryGiB": 16,
                "name": "ml.c5.2xlarge",
                "vcpuNum": 8
            },
            {
                "_defaultOrder": 24,
                "_isFastLaunch": false,
                "category": "Compute optimized",
                "gpuNum": 0,
                "hideHardwareSpecs": false,
                "memoryGiB": 32,
                "name": "ml.c5.4xlarge",
                "vcpuNum": 16
            },
            {
                "_defaultOrder": 25,
                "_isFastLaunch": false,
                "category": "Compute optimized",
                "gpuNum": 0,
                "hideHardwareSpecs": false,
                "memoryGiB": 72,
                "name": "ml.c5.9xlarge",
                "vcpuNum": 36
            },
            {
                "_defaultOrder": 26,
                "_isFastLaunch": false,
                "category": "Compute optimized",
                "gpuNum": 0,
                "hideHardwareSpecs": false,
                "memoryGiB": 96,
                "name": "ml.c5.12xlarge",
                "vcpuNum": 48
            },
            {
                "_defaultOrder": 27,
                "_isFastLaunch": false,
                "category": "Compute optimized",
                "gpuNum": 0,
                "hideHardwareSpecs": false,
                "memoryGiB": 144,
                "name": "ml.c5.18xlarge",
                "vcpuNum": 72
            },
            {
                "_defaultOrder": 28,
                "_isFastLaunch": false,
                "category": "Compute optimized",
                "gpuNum": 0,
                "hideHardwareSpecs": false,
                "memoryGiB": 192,
                "name": "ml.c5.24xlarge",
                "vcpuNum": 96
            },
            {
                "_defaultOrder": 29,
                "_isFastLaunch": true,
                "category": "Accelerated computing",
                "gpuNum": 1,
                "hideHardwareSpecs": false,
                "memoryGiB": 16,
                "name": "ml.g4dn.xlarge",
                "vcpuNum": 4
            },
            {
                "_defaultOrder": 30,
                "_isFastLaunch": false,
                "category": "Accelerated computing",
                "gpuNum": 1,
                "hideHardwareSpecs": false,
                "memoryGiB": 32,
                "name": "ml.g4dn.2xlarge",
                "vcpuNum": 8
            },
            {
                "_defaultOrder": 31,
                "_isFastLaunch": false,
                "category": "Accelerated computing",
                "gpuNum": 1,
                "hideHardwareSpecs": false,
                "memoryGiB": 64,
                "name": "ml.g4dn.4xlarge",
                "vcpuNum": 16
            },
            {
                "_defaultOrder": 32,
                "_isFastLaunch": false,
                "category": "Accelerated computing",
                "gpuNum": 1,
                "hideHardwareSpecs": false,
                "memoryGiB": 128,
                "name": "ml.g4dn.8xlarge",
                "vcpuNum": 32
            },
            {
                "_defaultOrder": 33,
                "_isFastLaunch": false,
                "category": "Accelerated computing",
                "gpuNum": 4,
                "hideHardwareSpecs": false,
                "memoryGiB": 192,
                "name": "ml.g4dn.12xlarge",
                "vcpuNum": 48
            },
            {
                "_defaultOrder": 34,
                "_isFastLaunch": false,
                "category": "Accelerated computing",
                "gpuNum": 1,
                "hideHardwareSpecs": false,
                "memoryGiB": 256,
                "name": "ml.g4dn.16xlarge",
                "vcpuNum": 64
            },
            {
                "_defaultOrder": 35,
                "_isFastLaunch": false,
                "category": "Accelerated computing",
                "gpuNum": 1,
                "hideHardwareSpecs": false,
                "memoryGiB": 61,
                "name": "ml.p3.2xlarge",
                "vcpuNum": 8
            },
            {
                "_defaultOrder": 36,
                "_isFastLaunch": false,
                "category": "Accelerated computing",
                "gpuNum": 4,
                "hideHardwareSpecs": false,
                "memoryGiB": 244,
                "name": "ml.p3.8xlarge",
                "vcpuNum": 32
            },
            {
                "_defaultOrder": 37,
                "_isFastLaunch": false,
                "category": "Accelerated computing",
                "gpuNum": 8,
                "hideHardwareSpecs": false,
                "memoryGiB": 488,
                "name": "ml.p3.16xlarge",
                "vcpuNum": 64
            },
            {
                "_defaultOrder": 38,
                "_isFastLaunch": false,
                "category": "Accelerated computing",
                "gpuNum": 8,
                "hideHardwareSpecs": false,
                "memoryGiB": 768,
                "name": "ml.p3dn.24xlarge",
                "vcpuNum": 96
            },
            {
                "_defaultOrder": 39,
                "_isFastLaunch": false,
                "category": "Memory Optimized",
                "gpuNum": 0,
                "hideHardwareSpecs": false,
                "memoryGiB": 16,
                "name": "ml.r5.large",
                "vcpuNum": 2
            },
            {
                "_defaultOrder": 40,
                "_isFastLaunch": false,
                "category": "Memory Optimized",
                "gpuNum": 0,
                "hideHardwareSpecs": false,
                "memoryGiB": 32,
                "name": "ml.r5.xlarge",
                "vcpuNum": 4
            },
            {
                "_defaultOrder": 41,
                "_isFastLaunch": false,
                "category": "Memory Optimized",
                "gpuNum": 0,
                "hideHardwareSpecs": false,
                "memoryGiB": 64,
                "name": "ml.r5.2xlarge",
                "vcpuNum": 8
            },
            {
                "_defaultOrder": 42,
                "_isFastLaunch": false,
                "category": "Memory Optimized",
                "gpuNum": 0,
                "hideHardwareSpecs": false,
                "memoryGiB": 128,
                "name": "ml.r5.4xlarge",
                "vcpuNum": 16
            },
            {
                "_defaultOrder": 43,
                "_isFastLaunch": false,
                "category": "Memory Optimized",
                "gpuNum": 0,
                "hideHardwareSpecs": false,
                "memoryGiB": 256,
                "name": "ml.r5.8xlarge",
                "vcpuNum": 32
            },
            {
                "_defaultOrder": 44,
                "_isFastLaunch": false,
                "category": "Memory Optimized",
                "gpuNum": 0,
                "hideHardwareSpecs": false,
                "memoryGiB": 384,
                "name": "ml.r5.12xlarge",
                "vcpuNum": 48
            },
            {
                "_defaultOrder": 45,
                "_isFastLaunch": false,
                "category": "Memory Optimized",
                "gpuNum": 0,
                "hideHardwareSpecs": false,
                "memoryGiB": 512,
                "name": "ml.r5.16xlarge",
                "vcpuNum": 64
            },
            {
                "_defaultOrder": 46,
                "_isFastLaunch": false,
                "category": "Memory Optimized",
                "gpuNum": 0,
                "hideHardwareSpecs": false,
                "memoryGiB": 768,
                "name": "ml.r5.24xlarge",
                "vcpuNum": 96
            },
            {
                "_defaultOrder": 47,
                "_isFastLaunch": false,
                "category": "Accelerated computing",
                "gpuNum": 1,
                "hideHardwareSpecs": false,
                "memoryGiB": 16,
                "name": "ml.g5.xlarge",
                "vcpuNum": 4
            },
            {
                "_defaultOrder": 48,
                "_isFastLaunch": false,
                "category": "Accelerated computing",
                "gpuNum": 1,
                "hideHardwareSpecs": false,
                "memoryGiB": 32,
                "name": "ml.g5.2xlarge",
                "vcpuNum": 8
            },
            {
                "_defaultOrder": 49,
                "_isFastLaunch": false,
                "category": "Accelerated computing",
                "gpuNum": 1,
                "hideHardwareSpecs": false,
                "memoryGiB": 64,
                "name": "ml.g5.4xlarge",
                "vcpuNum": 16
            },
            {
                "_defaultOrder": 50,
                "_isFastLaunch": false,
                "category": "Accelerated computing",
                "gpuNum": 1,
                "hideHardwareSpecs": false,
                "memoryGiB": 128,
                "name": "ml.g5.8xlarge",
                "vcpuNum": 32
            },
            {
                "_defaultOrder": 51,
                "_isFastLaunch": false,
                "category": "Accelerated computing",
                "gpuNum": 1,
                "hideHardwareSpecs": false,
                "memoryGiB": 256,
                "name": "ml.g5.16xlarge",
                "vcpuNum": 64
            },
            {
                "_defaultOrder": 52,
                "_isFastLaunch": false,
                "category": "Accelerated computing",
                "gpuNum": 4,
                "hideHardwareSpecs": false,
                "memoryGiB": 192,
                "name": "ml.g5.12xlarge",
                "vcpuNum": 48
            },
            {
                "_defaultOrder": 53,
                "_isFastLaunch": false,
                "category": "Accelerated computing",
                "gpuNum": 4,
                "hideHardwareSpecs": false,
                "memoryGiB": 384,
                "name": "ml.g5.24xlarge",
                "vcpuNum": 96
            },
            {
                "_defaultOrder": 54,
                "_isFastLaunch": false,
                "category": "Accelerated computing",
                "gpuNum": 8,
                "hideHardwareSpecs": false,
                "memoryGiB": 768,
                "name": "ml.g5.48xlarge",
                "vcpuNum": 192
            },
            {
                "_defaultOrder": 55,
                "_isFastLaunch": false,
                "category": "Accelerated computing",
                "gpuNum": 8,
                "hideHardwareSpecs": false,
                "memoryGiB": 1152,
                "name": "ml.p4d.24xlarge",
                "vcpuNum": 96
            },
            {
                "_defaultOrder": 56,
                "_isFastLaunch": false,
                "category": "Accelerated computing",
                "gpuNum": 8,
                "hideHardwareSpecs": false,
                "memoryGiB": 1152,
                "name": "ml.p4de.24xlarge",
                "vcpuNum": 96
            }
        ],
        "instance_type": "ml.t3.medium",
        "kernelspec": {
            "display_name": "GDSC (custom-gdsc/1)",
            "language": "python",
            "name": "python3__SAGEMAKER_INTERNAL__arn:aws:sagemaker:us-east-1:821562550650:image-version/custom-gdsc/1"
        },
        "language_info": {
            "codemirror_mode": {
                "name": "ipython",
                "version": 3
            },
            "file_extension": ".py",
            "mimetype": "text/x-python",
            "name": "python",
            "nbconvert_exporter": "python",
            "pygments_lexer": "ipython3",
            "version": "3.10.8"
        },
        "lcc_arn": "arn:aws:sagemaker:us-east-1:821562550650:studio-lifecycle-config/clean-trash"
    },
    "nbformat": 4,
    "nbformat_minor": 5
}