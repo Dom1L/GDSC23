{
    "cells": [
        {
            "cell_type": "markdown",
            "id": "aa071d68-cd45-4aeb-8462-d3c415d207b7",
            "metadata": {},
            "source": [
                "# Data Exploration"
            ],
            "outputs": []
        },
        {
            "cell_type": "code",
            "execution_count": 2,
            "id": "de4754b0-5422-4263-9ba6-06e2e0e529d4",
            "metadata": {
                "tags": []
            },
            "outputs": [],
            "source": [
                "import sys # Python system library needed to load custom functions\n",
                "import math # module with access to mathematical functions\n",
                "import os # for changing the directory\n",
                "\n",
                "import numpy as np  # for performing calculations on numerical arrays\n",
                "import pandas as pd  # home of the DataFrame construct, _the_ most important object for Data Science\n",
                "\n",
                "from IPython.display import Audio # for listening to our insects\n",
                "import IPython\n",
                "from scipy.fft import fft # function to calculate Fast Fourier Transform\n",
                "\n",
                "import matplotlib.pyplot as plt  # allows creation of insightful plots\n",
                "import seaborn as sns # another library to make even more beautiful plots\n",
                "\n",
                "sys.path.append('../../src') # add the source directory to the PYTHONPATH. This allows to import local functions and modules.\n",
                "# enable rendering plots under the code cell that created it\n",
                "%matplotlib inline\n",
                "\n",
                "from eda_utils import show_sampling, signal_generator, plot_random_spec, plot_spec, plot_waveform # functions to create plots for and from audio data\n",
                "from gdsc_utils import download_directory, PROJECT_DIR # function to download GDSC data from S3 bucket and our root directory\n",
                "from config import DEFAULT_BUCKET  # S3 bucket with the GDSC data\n",
                "\n",
                "os.chdir(PROJECT_DIR) # changing our directory to root"
            ]
        },
        {
            "cell_type": "code",
            "execution_count": 3,
            "id": "065ec168-c5cb-4e5f-ae9d-3f263cf24eff",
            "metadata": {
                "tags": []
            },
            "outputs": [],
            "source": [
                "download_directory('data/', None, DEFAULT_BUCKET)"
            ]
        },
        {
            "cell_type": "code",
            "execution_count": 4,
            "id": "d21c4d6b-d1fe-46c3-bb7e-61d4320afe9f",
            "metadata": {
                "tags": []
            },
            "outputs": [],
            "source": [
                "metadata = pd.read_csv('data/metadata.csv')\n",
                "metadata['species and label'] = metadata.apply(lambda x: f\"{x['species']} ({str(x['label'])})\", axis = 1)\n",
                "metadata.head()"
            ]
        },
        {
            "cell_type": "code",
            "execution_count": 5,
            "id": "87c80db9-ee34-4042-8041-646e5d50073d",
            "metadata": {
                "tags": []
            },
            "outputs": [],
            "source": [
                "len(metadata)"
            ]
        },
        {
            "cell_type": "markdown",
            "id": "cc101b76-befd-4f7b-aee2-3c3f48d32a84",
            "metadata": {},
            "source": [
                "### Split for Training and Validation Subset and sort by length and label"
            ],
            "outputs": []
        },
        {
            "cell_type": "code",
            "execution_count": 6,
            "id": "43a41bb9-f2aa-4f44-a839-8a08a5ac0cb6",
            "metadata": {
                "tags": []
            },
            "outputs": [],
            "source": [
                "train_metadata = metadata[metadata[\"subset\"] == \"train\"].sort_values('length', ascending=False)\n",
                "train_metadata"
            ]
        },
        {
            "cell_type": "code",
            "execution_count": 7,
            "id": "a6ccaf8b-1c20-420d-b065-8e3c49b5d1e6",
            "metadata": {
                "tags": []
            },
            "outputs": [],
            "source": [
                "val_metadata = metadata[metadata[\"subset\"] == \"validation\"].sort_values('length', ascending=False)\n",
                "val_metadata"
            ]
        },
        {
            "cell_type": "markdown",
            "id": "8603ea4e-7b76-4196-a89b-2edae785c170",
            "metadata": {},
            "source": [
                "### Only get files that are > 40s and sort by label"
            ],
            "outputs": []
        },
        {
            "cell_type": "code",
            "execution_count": 8,
            "id": "ca796eed-604a-4d1d-aa4a-807d7c04ad1c",
            "metadata": {
                "tags": []
            },
            "outputs": [],
            "source": [
                "train_metadata_gr_20 = train_metadata[train_metadata[\"length\"] > 40].sort_values('label')\n",
                "train_metadata_gr_20"
            ]
        },
        {
            "cell_type": "code",
            "execution_count": 9,
            "id": "6f1780e2-d65b-4357-bbc5-6da5eb6828e7",
            "metadata": {
                "tags": []
            },
            "outputs": [],
            "source": [
                "# Calculating stats per label/species - total length of recording per class and the total number of class occurences in the dataset\n",
                "train_metadata_gr_20_stats = train_metadata_gr_20.groupby(['label','species and label']).agg(count = ('species', 'count')).reset_index()\n",
                "\n",
                "# Calculating average length of an audio sample\n",
                "train_metadata_gr_20_stats.head()"
            ]
        },
        {
            "cell_type": "code",
            "execution_count": 10,
            "id": "d4dc503f-91ea-466c-8c8b-53e239dd3bd4",
            "metadata": {
                "tags": []
            },
            "outputs": [],
            "source": [
                "train_metadata_gr_20_stats = train_metadata_gr_20_stats.sort_values('label')\n",
                "\n",
                "plt.figure(figsize = (20,6))\n",
                "sns.barplot(x = train_metadata_gr_20_stats['species and label'], y = train_metadata_gr_20_stats['count'], color = 'royalblue')\n",
                "plt.title('Number of files per species', fontsize = 20)\n",
                "plt.xticks(rotation = 90)\n",
                "plt.show()"
            ]
        },
        {
            "cell_type": "code",
            "execution_count": 11,
            "id": "0b2b9add-759f-4bf4-8e50-28e6a990fd14",
            "metadata": {
                "tags": []
            },
            "outputs": [],
            "source": [
                "val_metadata_gr_20 = val_metadata[val_metadata[\"length\"] < 10].sort_values('label')\n",
                "val_metadata_gr_20"
            ]
        },
        {
            "cell_type": "code",
            "execution_count": 12,
            "id": "8d61cfb8-dc38-4e2a-9749-ead0d97b32d2",
            "metadata": {
                "tags": []
            },
            "outputs": [],
            "source": [
                "# Calculating stats per label/species - total length of recording per class and the total number of class occurences in the dataset\n",
                "val_metadata_gr_20_stats = val_metadata_gr_20.groupby(['label','species and label']).agg(count = ('species', 'count')).reset_index()\n",
                "\n",
                "# Calculating average length of an audio sample\n",
                "val_metadata_gr_20_stats.head()"
            ]
        },
        {
            "cell_type": "code",
            "execution_count": 13,
            "id": "ffc64163-f424-4c04-8df9-a758ec3aa164",
            "metadata": {
                "tags": []
            },
            "outputs": [],
            "source": [
                "val_metadata_gr_20_stats = val_metadata_gr_20_stats.sort_values('label')\n",
                "\n",
                "plt.figure(figsize = (20,6))\n",
                "sns.barplot(x = val_metadata_gr_20_stats['species and label'], y = val_metadata_gr_20_stats['count'], color = 'royalblue')\n",
                "plt.title('Number of files per species', fontsize = 20)\n",
                "plt.xticks(rotation = 90)\n",
                "plt.show()"
            ]
        },
        {
            "cell_type": "markdown",
            "id": "ca00e606-1701-4313-9160-dbb9a2208c7c",
            "metadata": {},
            "source": [
                "### Do a few plots"
            ],
            "outputs": []
        },
        {
            "cell_type": "code",
            "execution_count": 14,
            "id": "f4ec0746-0e6e-4f41-8673-bc9a34f23e19",
            "metadata": {
                "tags": []
            },
            "outputs": [],
            "source": [
                "train_paths = train_metadata_gr_20['file_name']#.to_dict()\n",
                "len(train_paths)\n",
                "labels_explore_train = train_metadata_gr_20['species and label']\n",
                "#example_path = 'data/train/Chorthippusbiguttulus_XC751834-dat031-007_edit3.wav'\n",
                "#plot_waveform(example_path)"
            ]
        },
        {
            "cell_type": "code",
            "execution_count": 14,
            "id": "4b6847c5-b008-4311-bdb3-9873223a4d05",
            "metadata": {
                "tags": []
            },
            "outputs": [],
            "source": [
                "val_paths = val_metadata_gr_20['file_name']#.to_dict()\n",
                "len(val_paths)\n",
                "labels_explore_val = val_metadata_gr_20['species and label']"
            ]
        },
        {
            "cell_type": "code",
            "execution_count": 16,
            "id": "9a5370df-d928-43d1-a321-adfb09750a43",
            "metadata": {
                "tags": []
            },
            "outputs": [],
            "source": [
                "#train_paths=train_paths.set_index('file_name').to_dict()['species and label']"
            ]
        },
        {
            "cell_type": "code",
            "execution_count": 17,
            "id": "4f8bc2b9-05fc-4b02-aab4-ba61c3a32430",
            "metadata": {
                "tags": []
            },
            "outputs": [],
            "source": [
                "labels_explore_val"
            ]
        },
        {
            "cell_type": "code",
            "execution_count": 16,
            "id": "56505d51-f9fe-4d33-bb42-5c62681a967e",
            "metadata": {
                "tags": []
            },
            "outputs": [],
            "source": [
                "train_paths[0]\n",
                "plot_waveform(f'data/train/{train_paths[0]}')\n",
                "plt.close()"
            ]
        },
        {
            "cell_type": "code",
            "execution_count": null,
            "id": "d97c382d-2070-41dc-b38d-3dd8693f742d",
            "metadata": {
                "tags": []
            },
            "outputs": [],
            "source": [
                "#for i in train_paths[:2]:\n",
                "    #plot_waveform(f'data/train/{i}')"
            ]
        },
        {
            "cell_type": "code",
            "execution_count": 18,
            "id": "5e4f306d-e6e8-4aa5-b2d3-dd155dcba95e",
            "metadata": {
                "tags": []
            },
            "outputs": [],
            "source": [
                "def explorations_train(path):\n",
                "    #plot_waveform(f'data/train/{path}')\n",
                "    for i, path in enumerate(path):\n",
                "        print(labels_explore_train[i])\n",
                "        #plot_waveform(f'data/train/{path}')\n",
                "        plot_spec([f'data/train/{path}'])\n",
                "    #plt.close()\n",
                "        IPython.display.display(Audio(f'data/train/{path}'))"
            ]
        },
        {
            "cell_type": "code",
            "execution_count": null,
            "id": "a27b5858-e182-43af-bb2a-b0abac51c081",
            "metadata": {
                "tags": []
            },
            "outputs": [],
            "source": [
                "train_paths"
            ]
        },
        {
            "cell_type": "code",
            "execution_count": null,
            "id": "97f5f39d-2be3-4934-83bf-6af97e14f017",
            "metadata": {
                "tags": []
            },
            "outputs": [],
            "source": [
                "explorations(train_paths[0:10])"
            ]
        },
        {
            "cell_type": "code",
            "execution_count": 22,
            "id": "647a5914-6070-4e75-9eba-3548f795135b",
            "metadata": {
                "tags": []
            },
            "outputs": [],
            "source": [
                "val_paths = val_metadata_gr_20['file_name'].to_list()\n",
                "len(val_paths)"
            ]
        },
        {
            "cell_type": "code",
            "execution_count": 17,
            "id": "fb53fb39-2b10-4c5e-8333-084c7996dfb4",
            "metadata": {
                "tags": []
            },
            "outputs": [],
            "source": [
                "val_paths"
            ]
        },
        {
            "cell_type": "code",
            "execution_count": 18,
            "id": "91159af4-e372-4119-bcab-ee10f5e0bac7",
            "metadata": {},
            "outputs": [],
            "source": [
                "def explorations_val(path):\n",
                "    #plot_waveform(f'data/train/{path}')\n",
                "    for i, path in enumerate(path):\n",
                "        print(labels_explore_val.to_list()[i])\n",
                "        plot_waveform(f'data/val/{path}')\n",
                "        plot_spec([f'data/val/{path}'])\n",
                "    #plt.close()\n",
                "        IPython.display.display(Audio(f'data/val/{path}'))"
            ]
        },
        {
            "cell_type": "code",
            "execution_count": 19,
            "id": "559b9915-9964-44b0-b31d-59c6d08fae80",
            "metadata": {},
            "outputs": [],
            "source": [
                "explorations_val(val_paths[0:2])"
            ]
        },
        {
            "cell_type": "code",
            "execution_count": null,
            "id": "ed52bf33-0218-4589-9ed6-72ccf441837d",
            "metadata": {},
            "outputs": [],
            "source": [
                "explorations_val(val_paths)#[0:2])"
            ]
        },
        {
            "cell_type": "code",
            "execution_count": null,
            "id": "56121787-10b3-4c77-a022-3174c10a1d28",
            "metadata": {},
            "outputs": [],
            "source": []
        }
    ],
    "metadata": {
        "availableInstances": [
            {
                "_defaultOrder": 0,
                "_isFastLaunch": true,
                "category": "General purpose",
                "gpuNum": 0,
                "hideHardwareSpecs": false,
                "memoryGiB": 4,
                "name": "ml.t3.medium",
                "vcpuNum": 2
            },
            {
                "_defaultOrder": 1,
                "_isFastLaunch": false,
                "category": "General purpose",
                "gpuNum": 0,
                "hideHardwareSpecs": false,
                "memoryGiB": 8,
                "name": "ml.t3.large",
                "vcpuNum": 2
            },
            {
                "_defaultOrder": 2,
                "_isFastLaunch": false,
                "category": "General purpose",
                "gpuNum": 0,
                "hideHardwareSpecs": false,
                "memoryGiB": 16,
                "name": "ml.t3.xlarge",
                "vcpuNum": 4
            },
            {
                "_defaultOrder": 3,
                "_isFastLaunch": false,
                "category": "General purpose",
                "gpuNum": 0,
                "hideHardwareSpecs": false,
                "memoryGiB": 32,
                "name": "ml.t3.2xlarge",
                "vcpuNum": 8
            },
            {
                "_defaultOrder": 4,
                "_isFastLaunch": true,
                "category": "General purpose",
                "gpuNum": 0,
                "hideHardwareSpecs": false,
                "memoryGiB": 8,
                "name": "ml.m5.large",
                "vcpuNum": 2
            },
            {
                "_defaultOrder": 5,
                "_isFastLaunch": false,
                "category": "General purpose",
                "gpuNum": 0,
                "hideHardwareSpecs": false,
                "memoryGiB": 16,
                "name": "ml.m5.xlarge",
                "vcpuNum": 4
            },
            {
                "_defaultOrder": 6,
                "_isFastLaunch": false,
                "category": "General purpose",
                "gpuNum": 0,
                "hideHardwareSpecs": false,
                "memoryGiB": 32,
                "name": "ml.m5.2xlarge",
                "vcpuNum": 8
            },
            {
                "_defaultOrder": 7,
                "_isFastLaunch": false,
                "category": "General purpose",
                "gpuNum": 0,
                "hideHardwareSpecs": false,
                "memoryGiB": 64,
                "name": "ml.m5.4xlarge",
                "vcpuNum": 16
            },
            {
                "_defaultOrder": 8,
                "_isFastLaunch": false,
                "category": "General purpose",
                "gpuNum": 0,
                "hideHardwareSpecs": false,
                "memoryGiB": 128,
                "name": "ml.m5.8xlarge",
                "vcpuNum": 32
            },
            {
                "_defaultOrder": 9,
                "_isFastLaunch": false,
                "category": "General purpose",
                "gpuNum": 0,
                "hideHardwareSpecs": false,
                "memoryGiB": 192,
                "name": "ml.m5.12xlarge",
                "vcpuNum": 48
            },
            {
                "_defaultOrder": 10,
                "_isFastLaunch": false,
                "category": "General purpose",
                "gpuNum": 0,
                "hideHardwareSpecs": false,
                "memoryGiB": 256,
                "name": "ml.m5.16xlarge",
                "vcpuNum": 64
            },
            {
                "_defaultOrder": 11,
                "_isFastLaunch": false,
                "category": "General purpose",
                "gpuNum": 0,
                "hideHardwareSpecs": false,
                "memoryGiB": 384,
                "name": "ml.m5.24xlarge",
                "vcpuNum": 96
            },
            {
                "_defaultOrder": 12,
                "_isFastLaunch": false,
                "category": "General purpose",
                "gpuNum": 0,
                "hideHardwareSpecs": false,
                "memoryGiB": 8,
                "name": "ml.m5d.large",
                "vcpuNum": 2
            },
            {
                "_defaultOrder": 13,
                "_isFastLaunch": false,
                "category": "General purpose",
                "gpuNum": 0,
                "hideHardwareSpecs": false,
                "memoryGiB": 16,
                "name": "ml.m5d.xlarge",
                "vcpuNum": 4
            },
            {
                "_defaultOrder": 14,
                "_isFastLaunch": false,
                "category": "General purpose",
                "gpuNum": 0,
                "hideHardwareSpecs": false,
                "memoryGiB": 32,
                "name": "ml.m5d.2xlarge",
                "vcpuNum": 8
            },
            {
                "_defaultOrder": 15,
                "_isFastLaunch": false,
                "category": "General purpose",
                "gpuNum": 0,
                "hideHardwareSpecs": false,
                "memoryGiB": 64,
                "name": "ml.m5d.4xlarge",
                "vcpuNum": 16
            },
            {
                "_defaultOrder": 16,
                "_isFastLaunch": false,
                "category": "General purpose",
                "gpuNum": 0,
                "hideHardwareSpecs": false,
                "memoryGiB": 128,
                "name": "ml.m5d.8xlarge",
                "vcpuNum": 32
            },
            {
                "_defaultOrder": 17,
                "_isFastLaunch": false,
                "category": "General purpose",
                "gpuNum": 0,
                "hideHardwareSpecs": false,
                "memoryGiB": 192,
                "name": "ml.m5d.12xlarge",
                "vcpuNum": 48
            },
            {
                "_defaultOrder": 18,
                "_isFastLaunch": false,
                "category": "General purpose",
                "gpuNum": 0,
                "hideHardwareSpecs": false,
                "memoryGiB": 256,
                "name": "ml.m5d.16xlarge",
                "vcpuNum": 64
            },
            {
                "_defaultOrder": 19,
                "_isFastLaunch": false,
                "category": "General purpose",
                "gpuNum": 0,
                "hideHardwareSpecs": false,
                "memoryGiB": 384,
                "name": "ml.m5d.24xlarge",
                "vcpuNum": 96
            },
            {
                "_defaultOrder": 20,
                "_isFastLaunch": false,
                "category": "General purpose",
                "gpuNum": 0,
                "hideHardwareSpecs": true,
                "memoryGiB": 0,
                "name": "ml.geospatial.interactive",
                "supportedImageNames": [
                    "sagemaker-geospatial-v1-0"
                ],
                "vcpuNum": 0
            },
            {
                "_defaultOrder": 21,
                "_isFastLaunch": true,
                "category": "Compute optimized",
                "gpuNum": 0,
                "hideHardwareSpecs": false,
                "memoryGiB": 4,
                "name": "ml.c5.large",
                "vcpuNum": 2
            },
            {
                "_defaultOrder": 22,
                "_isFastLaunch": false,
                "category": "Compute optimized",
                "gpuNum": 0,
                "hideHardwareSpecs": false,
                "memoryGiB": 8,
                "name": "ml.c5.xlarge",
                "vcpuNum": 4
            },
            {
                "_defaultOrder": 23,
                "_isFastLaunch": false,
                "category": "Compute optimized",
                "gpuNum": 0,
                "hideHardwareSpecs": false,
                "memoryGiB": 16,
                "name": "ml.c5.2xlarge",
                "vcpuNum": 8
            },
            {
                "_defaultOrder": 24,
                "_isFastLaunch": false,
                "category": "Compute optimized",
                "gpuNum": 0,
                "hideHardwareSpecs": false,
                "memoryGiB": 32,
                "name": "ml.c5.4xlarge",
                "vcpuNum": 16
            },
            {
                "_defaultOrder": 25,
                "_isFastLaunch": false,
                "category": "Compute optimized",
                "gpuNum": 0,
                "hideHardwareSpecs": false,
                "memoryGiB": 72,
                "name": "ml.c5.9xlarge",
                "vcpuNum": 36
            },
            {
                "_defaultOrder": 26,
                "_isFastLaunch": false,
                "category": "Compute optimized",
                "gpuNum": 0,
                "hideHardwareSpecs": false,
                "memoryGiB": 96,
                "name": "ml.c5.12xlarge",
                "vcpuNum": 48
            },
            {
                "_defaultOrder": 27,
                "_isFastLaunch": false,
                "category": "Compute optimized",
                "gpuNum": 0,
                "hideHardwareSpecs": false,
                "memoryGiB": 144,
                "name": "ml.c5.18xlarge",
                "vcpuNum": 72
            },
            {
                "_defaultOrder": 28,
                "_isFastLaunch": false,
                "category": "Compute optimized",
                "gpuNum": 0,
                "hideHardwareSpecs": false,
                "memoryGiB": 192,
                "name": "ml.c5.24xlarge",
                "vcpuNum": 96
            },
            {
                "_defaultOrder": 29,
                "_isFastLaunch": true,
                "category": "Accelerated computing",
                "gpuNum": 1,
                "hideHardwareSpecs": false,
                "memoryGiB": 16,
                "name": "ml.g4dn.xlarge",
                "vcpuNum": 4
            },
            {
                "_defaultOrder": 30,
                "_isFastLaunch": false,
                "category": "Accelerated computing",
                "gpuNum": 1,
                "hideHardwareSpecs": false,
                "memoryGiB": 32,
                "name": "ml.g4dn.2xlarge",
                "vcpuNum": 8
            },
            {
                "_defaultOrder": 31,
                "_isFastLaunch": false,
                "category": "Accelerated computing",
                "gpuNum": 1,
                "hideHardwareSpecs": false,
                "memoryGiB": 64,
                "name": "ml.g4dn.4xlarge",
                "vcpuNum": 16
            },
            {
                "_defaultOrder": 32,
                "_isFastLaunch": false,
                "category": "Accelerated computing",
                "gpuNum": 1,
                "hideHardwareSpecs": false,
                "memoryGiB": 128,
                "name": "ml.g4dn.8xlarge",
                "vcpuNum": 32
            },
            {
                "_defaultOrder": 33,
                "_isFastLaunch": false,
                "category": "Accelerated computing",
                "gpuNum": 4,
                "hideHardwareSpecs": false,
                "memoryGiB": 192,
                "name": "ml.g4dn.12xlarge",
                "vcpuNum": 48
            },
            {
                "_defaultOrder": 34,
                "_isFastLaunch": false,
                "category": "Accelerated computing",
                "gpuNum": 1,
                "hideHardwareSpecs": false,
                "memoryGiB": 256,
                "name": "ml.g4dn.16xlarge",
                "vcpuNum": 64
            },
            {
                "_defaultOrder": 35,
                "_isFastLaunch": false,
                "category": "Accelerated computing",
                "gpuNum": 1,
                "hideHardwareSpecs": false,
                "memoryGiB": 61,
                "name": "ml.p3.2xlarge",
                "vcpuNum": 8
            },
            {
                "_defaultOrder": 36,
                "_isFastLaunch": false,
                "category": "Accelerated computing",
                "gpuNum": 4,
                "hideHardwareSpecs": false,
                "memoryGiB": 244,
                "name": "ml.p3.8xlarge",
                "vcpuNum": 32
            },
            {
                "_defaultOrder": 37,
                "_isFastLaunch": false,
                "category": "Accelerated computing",
                "gpuNum": 8,
                "hideHardwareSpecs": false,
                "memoryGiB": 488,
                "name": "ml.p3.16xlarge",
                "vcpuNum": 64
            },
            {
                "_defaultOrder": 38,
                "_isFastLaunch": false,
                "category": "Accelerated computing",
                "gpuNum": 8,
                "hideHardwareSpecs": false,
                "memoryGiB": 768,
                "name": "ml.p3dn.24xlarge",
                "vcpuNum": 96
            },
            {
                "_defaultOrder": 39,
                "_isFastLaunch": false,
                "category": "Memory Optimized",
                "gpuNum": 0,
                "hideHardwareSpecs": false,
                "memoryGiB": 16,
                "name": "ml.r5.large",
                "vcpuNum": 2
            },
            {
                "_defaultOrder": 40,
                "_isFastLaunch": false,
                "category": "Memory Optimized",
                "gpuNum": 0,
                "hideHardwareSpecs": false,
                "memoryGiB": 32,
                "name": "ml.r5.xlarge",
                "vcpuNum": 4
            },
            {
                "_defaultOrder": 41,
                "_isFastLaunch": false,
                "category": "Memory Optimized",
                "gpuNum": 0,
                "hideHardwareSpecs": false,
                "memoryGiB": 64,
                "name": "ml.r5.2xlarge",
                "vcpuNum": 8
            },
            {
                "_defaultOrder": 42,
                "_isFastLaunch": false,
                "category": "Memory Optimized",
                "gpuNum": 0,
                "hideHardwareSpecs": false,
                "memoryGiB": 128,
                "name": "ml.r5.4xlarge",
                "vcpuNum": 16
            },
            {
                "_defaultOrder": 43,
                "_isFastLaunch": false,
                "category": "Memory Optimized",
                "gpuNum": 0,
                "hideHardwareSpecs": false,
                "memoryGiB": 256,
                "name": "ml.r5.8xlarge",
                "vcpuNum": 32
            },
            {
                "_defaultOrder": 44,
                "_isFastLaunch": false,
                "category": "Memory Optimized",
                "gpuNum": 0,
                "hideHardwareSpecs": false,
                "memoryGiB": 384,
                "name": "ml.r5.12xlarge",
                "vcpuNum": 48
            },
            {
                "_defaultOrder": 45,
                "_isFastLaunch": false,
                "category": "Memory Optimized",
                "gpuNum": 0,
                "hideHardwareSpecs": false,
                "memoryGiB": 512,
                "name": "ml.r5.16xlarge",
                "vcpuNum": 64
            },
            {
                "_defaultOrder": 46,
                "_isFastLaunch": false,
                "category": "Memory Optimized",
                "gpuNum": 0,
                "hideHardwareSpecs": false,
                "memoryGiB": 768,
                "name": "ml.r5.24xlarge",
                "vcpuNum": 96
            },
            {
                "_defaultOrder": 47,
                "_isFastLaunch": false,
                "category": "Accelerated computing",
                "gpuNum": 1,
                "hideHardwareSpecs": false,
                "memoryGiB": 16,
                "name": "ml.g5.xlarge",
                "vcpuNum": 4
            },
            {
                "_defaultOrder": 48,
                "_isFastLaunch": false,
                "category": "Accelerated computing",
                "gpuNum": 1,
                "hideHardwareSpecs": false,
                "memoryGiB": 32,
                "name": "ml.g5.2xlarge",
                "vcpuNum": 8
            },
            {
                "_defaultOrder": 49,
                "_isFastLaunch": false,
                "category": "Accelerated computing",
                "gpuNum": 1,
                "hideHardwareSpecs": false,
                "memoryGiB": 64,
                "name": "ml.g5.4xlarge",
                "vcpuNum": 16
            },
            {
                "_defaultOrder": 50,
                "_isFastLaunch": false,
                "category": "Accelerated computing",
                "gpuNum": 1,
                "hideHardwareSpecs": false,
                "memoryGiB": 128,
                "name": "ml.g5.8xlarge",
                "vcpuNum": 32
            },
            {
                "_defaultOrder": 51,
                "_isFastLaunch": false,
                "category": "Accelerated computing",
                "gpuNum": 1,
                "hideHardwareSpecs": false,
                "memoryGiB": 256,
                "name": "ml.g5.16xlarge",
                "vcpuNum": 64
            },
            {
                "_defaultOrder": 52,
                "_isFastLaunch": false,
                "category": "Accelerated computing",
                "gpuNum": 4,
                "hideHardwareSpecs": false,
                "memoryGiB": 192,
                "name": "ml.g5.12xlarge",
                "vcpuNum": 48
            },
            {
                "_defaultOrder": 53,
                "_isFastLaunch": false,
                "category": "Accelerated computing",
                "gpuNum": 4,
                "hideHardwareSpecs": false,
                "memoryGiB": 384,
                "name": "ml.g5.24xlarge",
                "vcpuNum": 96
            },
            {
                "_defaultOrder": 54,
                "_isFastLaunch": false,
                "category": "Accelerated computing",
                "gpuNum": 8,
                "hideHardwareSpecs": false,
                "memoryGiB": 768,
                "name": "ml.g5.48xlarge",
                "vcpuNum": 192
            },
            {
                "_defaultOrder": 55,
                "_isFastLaunch": false,
                "category": "Accelerated computing",
                "gpuNum": 8,
                "hideHardwareSpecs": false,
                "memoryGiB": 1152,
                "name": "ml.p4d.24xlarge",
                "vcpuNum": 96
            },
            {
                "_defaultOrder": 56,
                "_isFastLaunch": false,
                "category": "Accelerated computing",
                "gpuNum": 8,
                "hideHardwareSpecs": false,
                "memoryGiB": 1152,
                "name": "ml.p4de.24xlarge",
                "vcpuNum": 96
            }
        ],
        "instance_type": "ml.m5.large",
        "kernelspec": {
            "display_name": "GDSC (custom-gdsc/1)",
            "language": "python",
            "name": "python3__SAGEMAKER_INTERNAL__arn:aws:sagemaker:us-east-1:821562550650:image-version/custom-gdsc/1"
        },
        "language_info": {
            "codemirror_mode": {
                "name": "ipython",
                "version": 3
            },
            "file_extension": ".py",
            "mimetype": "text/x-python",
            "name": "python",
            "nbconvert_exporter": "python",
            "pygments_lexer": "ipython3",
            "version": "3.10.8"
        },
        "lcc_arn": "arn:aws:sagemaker:us-east-1:821562550650:studio-lifecycle-config/clean-trash"
    },
    "nbformat": 4,
    "nbformat_minor": 5
}